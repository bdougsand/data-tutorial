{
 "cells": [
  {
   "attachments": {},
   "cell_type": "markdown",
   "metadata": {
    "colab_type": "text",
    "id": "s6XlPI2Q548R"
   },
   "source": [
    "# MBTA Vehicle Updates\n",
    "I've been archiving the output of the MBTA's realtime vehicle updates API and making it available for download from http://mbta-history.apptic.xyz. This notebook illustrates how to retrieve and use the data programmatically with Python 3 and Pandas.\n",
    "\n",
    "Ultimately, we'll create a visualization of actual arrival time vs. scheduled arrival time that looks something like this:\n",
    "\n",
    "![Red Line delays](https://www.dropbox.com/s/px7u6oriz7dqv1j/Unknown.png?dl=1)"
   ]
  },
  {
   "cell_type": "code",
   "execution_count": 1,
   "metadata": {
    "colab": {
     "autoexec": {
      "startup": false,
      "wait_interval": 0
     }
    },
    "colab_type": "code",
    "collapsed": true,
    "id": "tJ0X7LrU548T"
   },
   "outputs": [],
   "source": [
    "from datetime import datetime, timedelta\n",
    "from io import BytesIO, TextIOWrapper\n",
    "import os\n",
    "import tarfile\n",
    "from urllib.error import HTTPError\n",
    "from urllib.request import urlopen, urlretrieve\n",
    "\n",
    "import numpy as np\n",
    "import pandas as pd\n",
    "import pytz"
   ]
  },
  {
   "cell_type": "code",
   "execution_count": 119,
   "metadata": {
    "collapsed": true
   },
   "outputs": [],
   "source": [
    "try:\n",
    "  from ipywidgets import IntProgress, HBox, HTML\n",
    "  from IPython.display import display\n",
    "\n",
    "  def retrieve(*args, reporthook=None, **kwargs):\n",
    "      \"Wrapper around urlretrieve that displays a progress bar.\"\n",
    "      bar = IntProgress(min=0, max=1, value=0)\n",
    "      display(bar)\n",
    "      def do_report(block, read, total):\n",
    "          if total > bar.min:\n",
    "              bar.max = total\n",
    "              bar.value = (block+1)*read\n",
    "          if reporthook:\n",
    "              reporthook(block, read, total)\n",
    "\n",
    "      return urlretrieve(*args, reporthook=do_report, **kwargs)\n",
    "except ImportError:\n",
    "  retrieve = urlretrieve"
   ]
  },
  {
   "cell_type": "markdown",
   "metadata": {
    "colab_type": "text",
    "id": "q-ouOZ1E548W"
   },
   "source": [
    "We'll define a function `get_updates` that takes a `datetime` argument and returns a pandas DataFrame containing all reported vehicle updates for that day (assuming they're available). You can also visit http://mbta-history.apptic.xyz directly, download the data for a particular day, then use `pandas.read_csv(path_to_csv_file)` to construct a dataframe."
   ]
  },
  {
   "cell_type": "code",
   "execution_count": 9,
   "metadata": {
    "colab": {
     "autoexec": {
      "startup": false,
      "wait_interval": 0
     }
    },
    "colab_type": "code",
    "collapsed": true,
    "id": "rTq5YqIa548X"
   },
   "outputs": [],
   "source": [
    "def archive_url(dt):\n",
    "    csv_filename = dt.strftime(\"%Y-%m-%d\")\n",
    "    return dt.strftime(f\"http://mbta-history.apptic.xyz/%Y/%m/{csv_filename}.csv.gz\")\n",
    "\n",
    "def get_updates(dt):\n",
    "    \"\"\"Retrieves the vehicle updates for the given date from\n",
    "    the archive site and read them into a pandas DataFrame.\n",
    "    \n",
    "    :param dt: a date-like object\n",
    "    \"\"\"\n",
    "    # This reads the gzipped tarfile into memory, extracts the file,\n",
    "    # and reads it directly into a dataframe.\n",
    "    \n",
    "    # Pandas can also read directly from URLs and file paths\n",
    "    return pd.read_csv(archive_url(dt), dtype=\"unicode\")\n",
    "\n",
    "def download_updates(dt, verbose=True):\n",
    "    \"\"\"A convenience function that downloads and creates a DataFrame\n",
    "    for data from the given datetime `dt`, with visual feedback for\n",
    "    download progress and local caching.\n",
    "    \n",
    "    Creates a local directory called 'data' for storing downloaded data\n",
    "    files. Checks there first for data before attempting to download.\n",
    "    \n",
    "    \"\"\"\n",
    "    os.makedirs(\"data\", exist_ok=True)\n",
    "    url = archive_url(dt)\n",
    "    basename = os.path.basename(url)\n",
    "    outfile = os.path.join(\"data\", basename)\n",
    "    log = lambda *m: verbose and print(*m)\n",
    "    if not os.path.exists(outfile):\n",
    "        log(f\"Downloading {basename}...\")\n",
    "        retrieve(url, outfile)\n",
    "        log(\"Download complete\")\n",
    "    else:\n",
    "        log(f\"{basename} exists\")\n",
    "    log(\"Reading file...\")\n",
    "        \n",
    "    return pd.read_csv(outfile, dtype=\"unicode\")"
   ]
  },
  {
   "cell_type": "markdown",
   "metadata": {
    "colab_type": "text",
    "id": "Z_MGg6lO548b"
   },
   "source": [
    "And let's retrieve the updates for February 9th:"
   ]
  },
  {
   "cell_type": "code",
   "execution_count": 8,
   "metadata": {
    "colab": {
     "autoexec": {
      "startup": false,
      "wait_interval": 0
     },
     "base_uri": "https://localhost:8080/",
     "height": 204
    },
    "colab_type": "code",
    "executionInfo": {
     "elapsed": 12517,
     "status": "ok",
     "timestamp": 1527794934085,
     "user": {
      "displayName": "Brian Sanders",
      "photoUrl": "https://lh3.googleusercontent.com/a/default-user=s128",
      "userId": "117372068364006546394"
     },
     "user_tz": 240
    },
    "id": "7kVY977J548c",
    "outputId": "51f0fbcf-04fc-471f-ee40-3a29d1cf7f4d"
   },
   "outputs": [
    {
     "name": "stdout",
     "output_type": "stream",
     "text": [
      "2018-02-09.csv.gz exists\n",
      "Reading file...\n"
     ]
    },
    {
     "data": {
      "text/html": [
       "<div>\n",
       "<style>\n",
       "    .dataframe thead tr:only-child th {\n",
       "        text-align: right;\n",
       "    }\n",
       "\n",
       "    .dataframe thead th {\n",
       "        text-align: left;\n",
       "    }\n",
       "\n",
       "    .dataframe tbody tr th {\n",
       "        vertical-align: top;\n",
       "    }\n",
       "</style>\n",
       "<table border=\"1\" class=\"dataframe\">\n",
       "  <thead>\n",
       "    <tr style=\"text-align: right;\">\n",
       "      <th></th>\n",
       "      <th>trip_id</th>\n",
       "      <th>trip_start</th>\n",
       "      <th>stop_id</th>\n",
       "      <th>stop_sequence</th>\n",
       "      <th>vehicle_id</th>\n",
       "      <th>status</th>\n",
       "      <th>timestamp</th>\n",
       "      <th>lat</th>\n",
       "      <th>lon</th>\n",
       "    </tr>\n",
       "  </thead>\n",
       "  <tbody>\n",
       "    <tr>\n",
       "      <th>0</th>\n",
       "      <td>983FD4A9</td>\n",
       "      <td>2018-02-09</td>\n",
       "      <td>70087</td>\n",
       "      <td>140</td>\n",
       "      <td>54539A74</td>\n",
       "      <td>IN_TRANSIT_TO</td>\n",
       "      <td>2018-02-09 07:02:03</td>\n",
       "      <td>42.31827163696289</td>\n",
       "      <td>-71.05227661132812</td>\n",
       "    </tr>\n",
       "    <tr>\n",
       "      <th>1</th>\n",
       "      <td>983FD4A9</td>\n",
       "      <td>2018-02-09</td>\n",
       "      <td>70087</td>\n",
       "      <td>140</td>\n",
       "      <td>54539A74</td>\n",
       "      <td>IN_TRANSIT_TO</td>\n",
       "      <td>2018-02-09 07:02:32</td>\n",
       "      <td>42.31679916381836</td>\n",
       "      <td>-71.05238342285156</td>\n",
       "    </tr>\n",
       "    <tr>\n",
       "      <th>2</th>\n",
       "      <td>983FD4A9</td>\n",
       "      <td>2018-02-09</td>\n",
       "      <td>70087</td>\n",
       "      <td>140</td>\n",
       "      <td>54539A74</td>\n",
       "      <td>INCOMING_AT</td>\n",
       "      <td>2018-02-09 07:02:56</td>\n",
       "      <td>42.31446075439453</td>\n",
       "      <td>-71.05227661132812</td>\n",
       "    </tr>\n",
       "    <tr>\n",
       "      <th>3</th>\n",
       "      <td>983FD4A9</td>\n",
       "      <td>2018-02-09</td>\n",
       "      <td>70087</td>\n",
       "      <td>140</td>\n",
       "      <td>54539A74</td>\n",
       "      <td>STOPPED_AT</td>\n",
       "      <td>2018-02-09 07:03:45</td>\n",
       "      <td>42.3105583190918</td>\n",
       "      <td>-71.05372619628906</td>\n",
       "    </tr>\n",
       "    <tr>\n",
       "      <th>4</th>\n",
       "      <td>983FD4A9</td>\n",
       "      <td>2018-02-09</td>\n",
       "      <td>70089</td>\n",
       "      <td>150</td>\n",
       "      <td>54539A74</td>\n",
       "      <td>IN_TRANSIT_TO</td>\n",
       "      <td>2018-02-09 07:04:11</td>\n",
       "      <td>42.308780670166016</td>\n",
       "      <td>-71.05441284179688</td>\n",
       "    </tr>\n",
       "  </tbody>\n",
       "</table>\n",
       "</div>"
      ],
      "text/plain": [
       "    trip_id  trip_start stop_id stop_sequence vehicle_id         status  \\\n",
       "0  983FD4A9  2018-02-09   70087           140   54539A74  IN_TRANSIT_TO   \n",
       "1  983FD4A9  2018-02-09   70087           140   54539A74  IN_TRANSIT_TO   \n",
       "2  983FD4A9  2018-02-09   70087           140   54539A74    INCOMING_AT   \n",
       "3  983FD4A9  2018-02-09   70087           140   54539A74     STOPPED_AT   \n",
       "4  983FD4A9  2018-02-09   70089           150   54539A74  IN_TRANSIT_TO   \n",
       "\n",
       "             timestamp                 lat                 lon  \n",
       "0  2018-02-09 07:02:03   42.31827163696289  -71.05227661132812  \n",
       "1  2018-02-09 07:02:32   42.31679916381836  -71.05238342285156  \n",
       "2  2018-02-09 07:02:56   42.31446075439453  -71.05227661132812  \n",
       "3  2018-02-09 07:03:45    42.3105583190918  -71.05372619628906  \n",
       "4  2018-02-09 07:04:11  42.308780670166016  -71.05441284179688  "
      ]
     },
     "execution_count": 8,
     "metadata": {},
     "output_type": "execute_result"
    }
   ],
   "source": [
    "# now_utc = pytz.utc.localize(datetime.utcnow())\n",
    "# yesterday = now_utc.astimezone(pytz.timezone(\"US/Eastern\")) - timedelta(days=3)\n",
    "\n",
    "day = pytz.utc.localize(datetime(2018, 2, 9))\n",
    "\n",
    "df = download_updates(day)\n",
    "df.drop_duplicates(inplace=True)\n",
    "df.head()"
   ]
  },
  {
   "cell_type": "markdown",
   "metadata": {
    "colab_type": "text",
    "id": "2X8XOeFCls8y"
   },
   "source": [
    "We can use the `DataFrame`'s `describe()` method to show summary statistics for each column."
   ]
  },
  {
   "cell_type": "code",
   "execution_count": 10,
   "metadata": {
    "colab": {
     "autoexec": {
      "startup": false,
      "wait_interval": 0
     },
     "base_uri": "https://localhost:8080/",
     "height": 173
    },
    "colab_type": "code",
    "executionInfo": {
     "elapsed": 3068,
     "status": "ok",
     "timestamp": 1527794937175,
     "user": {
      "displayName": "Brian Sanders",
      "photoUrl": "https://lh3.googleusercontent.com/a/default-user=s128",
      "userId": "117372068364006546394"
     },
     "user_tz": 240
    },
    "id": "anvV3hIyd_xS",
    "outputId": "10da4761-45f3-4850-8d64-236208b589c8"
   },
   "outputs": [
    {
     "data": {
      "text/html": [
       "<div>\n",
       "<style>\n",
       "    .dataframe thead tr:only-child th {\n",
       "        text-align: right;\n",
       "    }\n",
       "\n",
       "    .dataframe thead th {\n",
       "        text-align: left;\n",
       "    }\n",
       "\n",
       "    .dataframe tbody tr th {\n",
       "        vertical-align: top;\n",
       "    }\n",
       "</style>\n",
       "<table border=\"1\" class=\"dataframe\">\n",
       "  <thead>\n",
       "    <tr style=\"text-align: right;\">\n",
       "      <th></th>\n",
       "      <th>trip_id</th>\n",
       "      <th>trip_start</th>\n",
       "      <th>stop_id</th>\n",
       "      <th>stop_sequence</th>\n",
       "      <th>vehicle_id</th>\n",
       "      <th>status</th>\n",
       "      <th>timestamp</th>\n",
       "      <th>lat</th>\n",
       "      <th>lon</th>\n",
       "    </tr>\n",
       "  </thead>\n",
       "  <tbody>\n",
       "    <tr>\n",
       "      <th>count</th>\n",
       "      <td>748507</td>\n",
       "      <td>748507</td>\n",
       "      <td>735753</td>\n",
       "      <td>748507</td>\n",
       "      <td>748507</td>\n",
       "      <td>748507</td>\n",
       "      <td>748507</td>\n",
       "      <td>748507</td>\n",
       "      <td>748507</td>\n",
       "    </tr>\n",
       "    <tr>\n",
       "      <th>unique</th>\n",
       "      <td>16938</td>\n",
       "      <td>1</td>\n",
       "      <td>7940</td>\n",
       "      <td>153</td>\n",
       "      <td>1229</td>\n",
       "      <td>3</td>\n",
       "      <td>75080</td>\n",
       "      <td>80936</td>\n",
       "      <td>49705</td>\n",
       "    </tr>\n",
       "    <tr>\n",
       "      <th>top</th>\n",
       "      <td>1</td>\n",
       "      <td>2018-02-09</td>\n",
       "      <td>64000</td>\n",
       "      <td>1</td>\n",
       "      <td>3003</td>\n",
       "      <td>STOPPED_AT</td>\n",
       "      <td>2018-02-09 22:44:20</td>\n",
       "      <td>42.349971771240234</td>\n",
       "      <td>-71.06482696533203</td>\n",
       "    </tr>\n",
       "    <tr>\n",
       "      <th>freq</th>\n",
       "      <td>1619</td>\n",
       "      <td>748507</td>\n",
       "      <td>4473</td>\n",
       "      <td>100031</td>\n",
       "      <td>1948</td>\n",
       "      <td>309929</td>\n",
       "      <td>43</td>\n",
       "      <td>755</td>\n",
       "      <td>766</td>\n",
       "    </tr>\n",
       "  </tbody>\n",
       "</table>\n",
       "</div>"
      ],
      "text/plain": [
       "       trip_id  trip_start stop_id stop_sequence vehicle_id      status  \\\n",
       "count   748507      748507  735753        748507     748507      748507   \n",
       "unique   16938           1    7940           153       1229           3   \n",
       "top          1  2018-02-09   64000             1       3003  STOPPED_AT   \n",
       "freq      1619      748507    4473        100031       1948      309929   \n",
       "\n",
       "                  timestamp                 lat                 lon  \n",
       "count                748507              748507              748507  \n",
       "unique                75080               80936               49705  \n",
       "top     2018-02-09 22:44:20  42.349971771240234  -71.06482696533203  \n",
       "freq                     43                 755                 766  "
      ]
     },
     "execution_count": 10,
     "metadata": {},
     "output_type": "execute_result"
    }
   ],
   "source": [
    "desc = df.describe()\n",
    "desc"
   ]
  },
  {
   "cell_type": "markdown",
   "metadata": {
    "colab_type": "text",
    "id": "9bjO1lL3l3vK"
   },
   "source": [
    "Note that pandas is treating all the columns as categorical columns. Instead of getting the median, mean, max (&c) that we might expect, we see the count of non-empty values (`count`); the number of unique values in each column; the most frequent value for each column (`top`); and the number of times the top column occurs (`freq`).\n",
    "\n",
    "The reason is that when we imported the CVS file, we specified a dtype of `\"unicode\"`, which prevents pandas from inferring the type of every column. On this dataset, certain columns can look numeric (`vehicle_id`, `stop_id`) when they ought—according to the GTFS spec—to be treated as strings. \n",
    "\n",
    "(Note: if we knew the column types in advance, we could save a lot of memory by providing converters or types at import time. I prefer `\"unicode\"` for exploration, since it behaves predictably)"
   ]
  },
  {
   "cell_type": "markdown",
   "metadata": {},
   "source": [
    "## DataFrame\n",
    "\n",
    "Briefly, a `DataFrame` consists of a number of `Series` with a shared index. You can think of a `Series` as a column of data with some extra metadata attached--a name and an index, for example--and lots of helper methods.\n",
    "\n",
    "In our data, the `stop_sequence` column is an example of a `Series`.\n",
    "\n",
    "We can pick out a single `Series` by name:"
   ]
  },
  {
   "cell_type": "code",
   "execution_count": 11,
   "metadata": {},
   "outputs": [
    {
     "data": {
      "text/plain": [
       "0    140\n",
       "1    140\n",
       "2    140\n",
       "3    140\n",
       "4    150\n",
       "Name: stop_sequence, dtype: object"
      ]
     },
     "execution_count": 11,
     "metadata": {},
     "output_type": "execute_result"
    }
   ],
   "source": [
    "df[\"stop_sequence\"].head()"
   ]
  },
  {
   "cell_type": "markdown",
   "metadata": {},
   "source": [
    "And we can summarize it, if we'd like:"
   ]
  },
  {
   "cell_type": "code",
   "execution_count": 13,
   "metadata": {},
   "outputs": [
    {
     "data": {
      "text/plain": [
       "count     748507\n",
       "unique       153\n",
       "top            1\n",
       "freq      100031\n",
       "Name: stop_sequence, dtype: object"
      ]
     },
     "execution_count": 13,
     "metadata": {},
     "output_type": "execute_result"
    }
   ],
   "source": [
    "df[\"stop_sequence\"].describe()"
   ]
  },
  {
   "cell_type": "markdown",
   "metadata": {},
   "source": [
    "Note that when we run `describe()` on a `Series`, we get another `Series` back, with an index that should look familiar. Indexes can take many forms; among other things, they can be numeric, categorical, or hierarchical. In the case of the summary `Series`, it's a named index containing \"count\", \"unique\", \"top\", and \"freq\". \n",
    "\n",
    "So when we ran `describe()` on the DataFrame earlier and got another `DataFrame` back, pandas effectively ran `describe()` on each column (that is, each `Series`), then bundled all the summary `Series` together, using their shared index for the row names in the summary `DataFrame` we got back."
   ]
  },
  {
   "cell_type": "markdown",
   "metadata": {
    "colab_type": "text",
    "id": "PH-BO9ReUiwy"
   },
   "source": [
    "# Interlude: Vectorization\n",
    "Operations on core pandas data structures like `DataFrame` and `Series` are **vectorized**. That means, in general, that when you perform an operation on a structure, it is applied across that structure's elements. What that looks like concretely depends on the operator (or method) and the operands.\n",
    "\n",
    "Let's see a few quick examples using randomly generated dummy data:"
   ]
  },
  {
   "cell_type": "code",
   "execution_count": 28,
   "metadata": {
    "colab": {
     "autoexec": {
      "startup": false,
      "wait_interval": 0
     },
     "base_uri": "https://localhost:8080/",
     "height": 204
    },
    "colab_type": "code",
    "executionInfo": {
     "elapsed": 367,
     "status": "ok",
     "timestamp": 1527828812170,
     "user": {
      "displayName": "Brian Sanders",
      "photoUrl": "https://lh3.googleusercontent.com/a/default-user=s128",
      "userId": "117372068364006546394"
     },
     "user_tz": 240
    },
    "id": "645cPukfW5Fn",
    "outputId": "d5efbcd2-0365-4fe0-9ccb-a798aaa90ab1"
   },
   "outputs": [
    {
     "data": {
      "text/html": [
       "<div>\n",
       "<style>\n",
       "    .dataframe thead tr:only-child th {\n",
       "        text-align: right;\n",
       "    }\n",
       "\n",
       "    .dataframe thead th {\n",
       "        text-align: left;\n",
       "    }\n",
       "\n",
       "    .dataframe tbody tr th {\n",
       "        vertical-align: top;\n",
       "    }\n",
       "</style>\n",
       "<table border=\"1\" class=\"dataframe\">\n",
       "  <thead>\n",
       "    <tr style=\"text-align: right;\">\n",
       "      <th></th>\n",
       "      <th>a</th>\n",
       "      <th>b</th>\n",
       "      <th>c</th>\n",
       "      <th>d</th>\n",
       "      <th>e</th>\n",
       "    </tr>\n",
       "  </thead>\n",
       "  <tbody>\n",
       "    <tr>\n",
       "      <th>0</th>\n",
       "      <td>25</td>\n",
       "      <td>54</td>\n",
       "      <td>25</td>\n",
       "      <td>21</td>\n",
       "      <td>45</td>\n",
       "    </tr>\n",
       "    <tr>\n",
       "      <th>1</th>\n",
       "      <td>18</td>\n",
       "      <td>59</td>\n",
       "      <td>56</td>\n",
       "      <td>81</td>\n",
       "      <td>95</td>\n",
       "    </tr>\n",
       "    <tr>\n",
       "      <th>2</th>\n",
       "      <td>98</td>\n",
       "      <td>11</td>\n",
       "      <td>14</td>\n",
       "      <td>31</td>\n",
       "      <td>46</td>\n",
       "    </tr>\n",
       "    <tr>\n",
       "      <th>3</th>\n",
       "      <td>76</td>\n",
       "      <td>62</td>\n",
       "      <td>67</td>\n",
       "      <td>24</td>\n",
       "      <td>34</td>\n",
       "    </tr>\n",
       "    <tr>\n",
       "      <th>4</th>\n",
       "      <td>85</td>\n",
       "      <td>24</td>\n",
       "      <td>89</td>\n",
       "      <td>59</td>\n",
       "      <td>63</td>\n",
       "    </tr>\n",
       "  </tbody>\n",
       "</table>\n",
       "</div>"
      ],
      "text/plain": [
       "    a   b   c   d   e\n",
       "0  25  54  25  21  45\n",
       "1  18  59  56  81  95\n",
       "2  98  11  14  31  46\n",
       "3  76  62  67  24  34\n",
       "4  85  24  89  59  63"
      ]
     },
     "metadata": {},
     "output_type": "display_data"
    },
    {
     "data": {
      "text/html": [
       "<div>\n",
       "<style>\n",
       "    .dataframe thead tr:only-child th {\n",
       "        text-align: right;\n",
       "    }\n",
       "\n",
       "    .dataframe thead th {\n",
       "        text-align: left;\n",
       "    }\n",
       "\n",
       "    .dataframe tbody tr th {\n",
       "        vertical-align: top;\n",
       "    }\n",
       "</style>\n",
       "<table border=\"1\" class=\"dataframe\">\n",
       "  <thead>\n",
       "    <tr style=\"text-align: right;\">\n",
       "      <th></th>\n",
       "      <th>a</th>\n",
       "      <th>b</th>\n",
       "      <th>c</th>\n",
       "      <th>d</th>\n",
       "      <th>e</th>\n",
       "    </tr>\n",
       "  </thead>\n",
       "  <tbody>\n",
       "    <tr>\n",
       "      <th>0</th>\n",
       "      <td>79</td>\n",
       "      <td>72</td>\n",
       "      <td>58</td>\n",
       "      <td>67</td>\n",
       "      <td>59</td>\n",
       "    </tr>\n",
       "    <tr>\n",
       "      <th>1</th>\n",
       "      <td>82</td>\n",
       "      <td>14</td>\n",
       "      <td>98</td>\n",
       "      <td>27</td>\n",
       "      <td>17</td>\n",
       "    </tr>\n",
       "    <tr>\n",
       "      <th>2</th>\n",
       "      <td>72</td>\n",
       "      <td>8</td>\n",
       "      <td>49</td>\n",
       "      <td>89</td>\n",
       "      <td>90</td>\n",
       "    </tr>\n",
       "    <tr>\n",
       "      <th>3</th>\n",
       "      <td>44</td>\n",
       "      <td>35</td>\n",
       "      <td>73</td>\n",
       "      <td>47</td>\n",
       "      <td>40</td>\n",
       "    </tr>\n",
       "    <tr>\n",
       "      <th>4</th>\n",
       "      <td>34</td>\n",
       "      <td>83</td>\n",
       "      <td>72</td>\n",
       "      <td>31</td>\n",
       "      <td>27</td>\n",
       "    </tr>\n",
       "  </tbody>\n",
       "</table>\n",
       "</div>"
      ],
      "text/plain": [
       "    a   b   c   d   e\n",
       "0  79  72  58  67  59\n",
       "1  82  14  98  27  17\n",
       "2  72   8  49  89  90\n",
       "3  44  35  73  47  40\n",
       "4  34  83  72  31  27"
      ]
     },
     "metadata": {},
     "output_type": "display_data"
    }
   ],
   "source": [
    "# 5 x 5 DataFrame of pseudorandom integers between 1-99\n",
    "from ipywidgets import HTML\n",
    "n_df = pd.DataFrame(np.random.randint(1, 100, size=(5, 5)), columns=list(\"abcde\"))\n",
    "n_df2 = pd.DataFrame(np.random.randint(1, 100, size=(5, 5)), columns=list(\"abcde\"))\n",
    "display(n_df, n_df2)"
   ]
  },
  {
   "cell_type": "markdown",
   "metadata": {
    "colab_type": "text",
    "id": "yflaCOQlX_Kl"
   },
   "source": [
    "Adding two dataframes: element-wise addition **by index**."
   ]
  },
  {
   "cell_type": "code",
   "execution_count": 31,
   "metadata": {
    "colab": {
     "autoexec": {
      "startup": false,
      "wait_interval": 0
     },
     "base_uri": "https://localhost:8080/",
     "height": 204
    },
    "colab_type": "code",
    "executionInfo": {
     "elapsed": 391,
     "status": "ok",
     "timestamp": 1527828816473,
     "user": {
      "displayName": "Brian Sanders",
      "photoUrl": "https://lh3.googleusercontent.com/a/default-user=s128",
      "userId": "117372068364006546394"
     },
     "user_tz": 240
    },
    "id": "uicxVf_OXN1J",
    "outputId": "8212d6c6-9ead-4a41-b301-f571eaf75833"
   },
   "outputs": [
    {
     "data": {
      "text/html": [
       "<div>\n",
       "<style>\n",
       "    .dataframe thead tr:only-child th {\n",
       "        text-align: right;\n",
       "    }\n",
       "\n",
       "    .dataframe thead th {\n",
       "        text-align: left;\n",
       "    }\n",
       "\n",
       "    .dataframe tbody tr th {\n",
       "        vertical-align: top;\n",
       "    }\n",
       "</style>\n",
       "<table border=\"1\" class=\"dataframe\">\n",
       "  <thead>\n",
       "    <tr style=\"text-align: right;\">\n",
       "      <th></th>\n",
       "      <th>a</th>\n",
       "      <th>b</th>\n",
       "      <th>c</th>\n",
       "      <th>d</th>\n",
       "      <th>e</th>\n",
       "    </tr>\n",
       "  </thead>\n",
       "  <tbody>\n",
       "    <tr>\n",
       "      <th>0</th>\n",
       "      <td>104</td>\n",
       "      <td>126</td>\n",
       "      <td>83</td>\n",
       "      <td>88</td>\n",
       "      <td>104</td>\n",
       "    </tr>\n",
       "    <tr>\n",
       "      <th>1</th>\n",
       "      <td>100</td>\n",
       "      <td>73</td>\n",
       "      <td>154</td>\n",
       "      <td>108</td>\n",
       "      <td>112</td>\n",
       "    </tr>\n",
       "    <tr>\n",
       "      <th>2</th>\n",
       "      <td>170</td>\n",
       "      <td>19</td>\n",
       "      <td>63</td>\n",
       "      <td>120</td>\n",
       "      <td>136</td>\n",
       "    </tr>\n",
       "    <tr>\n",
       "      <th>3</th>\n",
       "      <td>120</td>\n",
       "      <td>97</td>\n",
       "      <td>140</td>\n",
       "      <td>71</td>\n",
       "      <td>74</td>\n",
       "    </tr>\n",
       "    <tr>\n",
       "      <th>4</th>\n",
       "      <td>119</td>\n",
       "      <td>107</td>\n",
       "      <td>161</td>\n",
       "      <td>90</td>\n",
       "      <td>90</td>\n",
       "    </tr>\n",
       "  </tbody>\n",
       "</table>\n",
       "</div>"
      ],
      "text/plain": [
       "     a    b    c    d    e\n",
       "0  104  126   83   88  104\n",
       "1  100   73  154  108  112\n",
       "2  170   19   63  120  136\n",
       "3  120   97  140   71   74\n",
       "4  119  107  161   90   90"
      ]
     },
     "execution_count": 31,
     "metadata": {},
     "output_type": "execute_result"
    }
   ],
   "source": [
    "n_df + n_df2"
   ]
  },
  {
   "cell_type": "markdown",
   "metadata": {
    "colab_type": "text",
    "id": "N8ql58PEYsP-"
   },
   "source": [
    "Multiplying by a scalar:"
   ]
  },
  {
   "cell_type": "code",
   "execution_count": 32,
   "metadata": {
    "colab": {
     "autoexec": {
      "startup": false,
      "wait_interval": 0
     },
     "base_uri": "https://localhost:8080/",
     "height": 204
    },
    "colab_type": "code",
    "executionInfo": {
     "elapsed": 379,
     "status": "ok",
     "timestamp": 1527828820970,
     "user": {
      "displayName": "Brian Sanders",
      "photoUrl": "https://lh3.googleusercontent.com/a/default-user=s128",
      "userId": "117372068364006546394"
     },
     "user_tz": 240
    },
    "id": "7Aexsv6pXLL6",
    "outputId": "b4a2acc7-bc65-41d7-8292-1ad79cd61fe3"
   },
   "outputs": [
    {
     "data": {
      "text/html": [
       "<div>\n",
       "<style>\n",
       "    .dataframe thead tr:only-child th {\n",
       "        text-align: right;\n",
       "    }\n",
       "\n",
       "    .dataframe thead th {\n",
       "        text-align: left;\n",
       "    }\n",
       "\n",
       "    .dataframe tbody tr th {\n",
       "        vertical-align: top;\n",
       "    }\n",
       "</style>\n",
       "<table border=\"1\" class=\"dataframe\">\n",
       "  <thead>\n",
       "    <tr style=\"text-align: right;\">\n",
       "      <th></th>\n",
       "      <th>a</th>\n",
       "      <th>b</th>\n",
       "      <th>c</th>\n",
       "      <th>d</th>\n",
       "      <th>e</th>\n",
       "    </tr>\n",
       "  </thead>\n",
       "  <tbody>\n",
       "    <tr>\n",
       "      <th>0</th>\n",
       "      <td>125</td>\n",
       "      <td>270</td>\n",
       "      <td>125</td>\n",
       "      <td>105</td>\n",
       "      <td>225</td>\n",
       "    </tr>\n",
       "    <tr>\n",
       "      <th>1</th>\n",
       "      <td>90</td>\n",
       "      <td>295</td>\n",
       "      <td>280</td>\n",
       "      <td>405</td>\n",
       "      <td>475</td>\n",
       "    </tr>\n",
       "    <tr>\n",
       "      <th>2</th>\n",
       "      <td>490</td>\n",
       "      <td>55</td>\n",
       "      <td>70</td>\n",
       "      <td>155</td>\n",
       "      <td>230</td>\n",
       "    </tr>\n",
       "    <tr>\n",
       "      <th>3</th>\n",
       "      <td>380</td>\n",
       "      <td>310</td>\n",
       "      <td>335</td>\n",
       "      <td>120</td>\n",
       "      <td>170</td>\n",
       "    </tr>\n",
       "    <tr>\n",
       "      <th>4</th>\n",
       "      <td>425</td>\n",
       "      <td>120</td>\n",
       "      <td>445</td>\n",
       "      <td>295</td>\n",
       "      <td>315</td>\n",
       "    </tr>\n",
       "  </tbody>\n",
       "</table>\n",
       "</div>"
      ],
      "text/plain": [
       "     a    b    c    d    e\n",
       "0  125  270  125  105  225\n",
       "1   90  295  280  405  475\n",
       "2  490   55   70  155  230\n",
       "3  380  310  335  120  170\n",
       "4  425  120  445  295  315"
      ]
     },
     "execution_count": 32,
     "metadata": {},
     "output_type": "execute_result"
    }
   ],
   "source": [
    "5 * n_df"
   ]
  },
  {
   "cell_type": "markdown",
   "metadata": {
    "colab_type": "text",
    "id": "UPBKrVMLsmxa"
   },
   "source": [
    "Element-wise comparison with a scalar:"
   ]
  },
  {
   "cell_type": "code",
   "execution_count": 12,
   "metadata": {
    "colab": {
     "autoexec": {
      "startup": false,
      "wait_interval": 0
     },
     "base_uri": "https://localhost:8080/",
     "height": 204
    },
    "colab_type": "code",
    "executionInfo": {
     "elapsed": 525,
     "status": "ok",
     "timestamp": 1527828855267,
     "user": {
      "displayName": "Brian Sanders",
      "photoUrl": "https://lh3.googleusercontent.com/a/default-user=s128",
      "userId": "117372068364006546394"
     },
     "user_tz": 240
    },
    "id": "YUsp0zXCsfTv",
    "outputId": "dacd37c3-cea2-4868-b08f-8f202502dfed"
   },
   "outputs": [
    {
     "data": {
      "text/html": [
       "<div>\n",
       "<style scoped>\n",
       "    .dataframe tbody tr th:only-of-type {\n",
       "        vertical-align: middle;\n",
       "    }\n",
       "\n",
       "    .dataframe tbody tr th {\n",
       "        vertical-align: top;\n",
       "    }\n",
       "\n",
       "    .dataframe thead th {\n",
       "        text-align: right;\n",
       "    }\n",
       "</style>\n",
       "<table border=\"1\" class=\"dataframe\">\n",
       "  <thead>\n",
       "    <tr style=\"text-align: right;\">\n",
       "      <th></th>\n",
       "      <th>a</th>\n",
       "      <th>b</th>\n",
       "      <th>c</th>\n",
       "      <th>d</th>\n",
       "      <th>e</th>\n",
       "    </tr>\n",
       "  </thead>\n",
       "  <tbody>\n",
       "    <tr>\n",
       "      <th>0</th>\n",
       "      <td>True</td>\n",
       "      <td>True</td>\n",
       "      <td>True</td>\n",
       "      <td>True</td>\n",
       "      <td>True</td>\n",
       "    </tr>\n",
       "    <tr>\n",
       "      <th>1</th>\n",
       "      <td>False</td>\n",
       "      <td>False</td>\n",
       "      <td>False</td>\n",
       "      <td>True</td>\n",
       "      <td>False</td>\n",
       "    </tr>\n",
       "    <tr>\n",
       "      <th>2</th>\n",
       "      <td>False</td>\n",
       "      <td>False</td>\n",
       "      <td>False</td>\n",
       "      <td>True</td>\n",
       "      <td>False</td>\n",
       "    </tr>\n",
       "    <tr>\n",
       "      <th>3</th>\n",
       "      <td>False</td>\n",
       "      <td>False</td>\n",
       "      <td>True</td>\n",
       "      <td>True</td>\n",
       "      <td>True</td>\n",
       "    </tr>\n",
       "    <tr>\n",
       "      <th>4</th>\n",
       "      <td>False</td>\n",
       "      <td>False</td>\n",
       "      <td>False</td>\n",
       "      <td>False</td>\n",
       "      <td>True</td>\n",
       "    </tr>\n",
       "  </tbody>\n",
       "</table>\n",
       "</div>"
      ],
      "text/plain": [
       "       a      b      c      d      e\n",
       "0   True   True   True   True   True\n",
       "1  False  False  False   True  False\n",
       "2  False  False  False   True  False\n",
       "3  False  False   True   True   True\n",
       "4  False  False  False  False   True"
      ]
     },
     "execution_count": 12,
     "metadata": {},
     "output_type": "execute_result"
    }
   ],
   "source": [
    "n_df > 50"
   ]
  },
  {
   "cell_type": "code",
   "execution_count": 13,
   "metadata": {
    "colab": {
     "autoexec": {
      "startup": false,
      "wait_interval": 0
     },
     "base_uri": "https://localhost:8080/",
     "height": 221
    },
    "colab_type": "code",
    "executionInfo": {
     "elapsed": 285,
     "status": "ok",
     "timestamp": 1527794938925,
     "user": {
      "displayName": "Brian Sanders",
      "photoUrl": "https://lh3.googleusercontent.com/a/default-user=s128",
      "userId": "117372068364006546394"
     },
     "user_tz": 240
    },
    "id": "CirMH0PlY6BZ",
    "outputId": "7619b11b-b5bd-42fd-829e-e9dd1b28cdb8"
   },
   "outputs": [
    {
     "name": "stdout",
     "output_type": "stream",
     "text": [
      "[57 46 50 31 34]\n"
     ]
    },
    {
     "data": {
      "text/html": [
       "<div>\n",
       "<style scoped>\n",
       "    .dataframe tbody tr th:only-of-type {\n",
       "        vertical-align: middle;\n",
       "    }\n",
       "\n",
       "    .dataframe tbody tr th {\n",
       "        vertical-align: top;\n",
       "    }\n",
       "\n",
       "    .dataframe thead th {\n",
       "        text-align: right;\n",
       "    }\n",
       "</style>\n",
       "<table border=\"1\" class=\"dataframe\">\n",
       "  <thead>\n",
       "    <tr style=\"text-align: right;\">\n",
       "      <th></th>\n",
       "      <th>a</th>\n",
       "      <th>b</th>\n",
       "      <th>c</th>\n",
       "      <th>d</th>\n",
       "      <th>e</th>\n",
       "    </tr>\n",
       "  </thead>\n",
       "  <tbody>\n",
       "    <tr>\n",
       "      <th>0</th>\n",
       "      <td>3933</td>\n",
       "      <td>3634</td>\n",
       "      <td>4150</td>\n",
       "      <td>1581</td>\n",
       "      <td>2040</td>\n",
       "    </tr>\n",
       "    <tr>\n",
       "      <th>1</th>\n",
       "      <td>2565</td>\n",
       "      <td>230</td>\n",
       "      <td>1300</td>\n",
       "      <td>2201</td>\n",
       "      <td>1462</td>\n",
       "    </tr>\n",
       "    <tr>\n",
       "      <th>2</th>\n",
       "      <td>2451</td>\n",
       "      <td>2070</td>\n",
       "      <td>2150</td>\n",
       "      <td>3038</td>\n",
       "      <td>340</td>\n",
       "    </tr>\n",
       "    <tr>\n",
       "      <th>3</th>\n",
       "      <td>969</td>\n",
       "      <td>552</td>\n",
       "      <td>4800</td>\n",
       "      <td>2325</td>\n",
       "      <td>3026</td>\n",
       "    </tr>\n",
       "    <tr>\n",
       "      <th>4</th>\n",
       "      <td>2280</td>\n",
       "      <td>92</td>\n",
       "      <td>2150</td>\n",
       "      <td>1147</td>\n",
       "      <td>3230</td>\n",
       "    </tr>\n",
       "  </tbody>\n",
       "</table>\n",
       "</div>"
      ],
      "text/plain": [
       "      a     b     c     d     e\n",
       "0  3933  3634  4150  1581  2040\n",
       "1  2565   230  1300  2201  1462\n",
       "2  2451  2070  2150  3038   340\n",
       "3   969   552  4800  2325  3026\n",
       "4  2280    92  2150  1147  3230"
      ]
     },
     "execution_count": 13,
     "metadata": {},
     "output_type": "execute_result"
    }
   ],
   "source": [
    "# Element-wise multiplication on each row\n",
    "rvec = np.random.randint(1, 100, size=5)\n",
    "print(rvec)\n",
    "n_df * rvec"
   ]
  },
  {
   "cell_type": "markdown",
   "metadata": {
    "colab_type": "text",
    "id": "zNN2Jqb3aaDS"
   },
   "source": [
    "We can also apply aggregation operations. Often, these will reduce the dimensions. For instance, summing a vector will result in a scalar. Summing a `DataFrame` will produce a `Series`.\n",
    "\n",
    "By default, a dataframe applies functions across columns. You can change the axis using the `axis` parameter. `0` means columns, and `1` means rows. (You can also specify `\"index\"` for `0` or `\"columns\"` for `1`. That's not a typo. It's specifying the axis _along which_ the aggregate is calculated. For example, `axis=0` for `sum` means that we go *across* the columns and calculate the sum *along* the rows of that column. Frankly, this is why I prefer `0` and `1`; you can map those to your preferred way of thinking about it.)"
   ]
  },
  {
   "cell_type": "code",
   "execution_count": 34,
   "metadata": {
    "colab": {
     "autoexec": {
      "startup": false,
      "wait_interval": 0
     },
     "base_uri": "https://localhost:8080/",
     "height": 119
    },
    "colab_type": "code",
    "executionInfo": {
     "elapsed": 297,
     "status": "ok",
     "timestamp": 1527794939318,
     "user": {
      "displayName": "Brian Sanders",
      "photoUrl": "https://lh3.googleusercontent.com/a/default-user=s128",
      "userId": "117372068364006546394"
     },
     "user_tz": 240
    },
    "id": "zoHnY5xwaiC7",
    "outputId": "3257bfb2-94ec-4c7e-b568-9391eef124d6"
   },
   "outputs": [
    {
     "data": {
      "text/plain": [
       "a    302\n",
       "b    210\n",
       "c    251\n",
       "d    216\n",
       "e    283\n",
       "dtype: int64"
      ]
     },
     "execution_count": 34,
     "metadata": {},
     "output_type": "execute_result"
    }
   ],
   "source": [
    "n_df.sum()"
   ]
  },
  {
   "cell_type": "code",
   "execution_count": 21,
   "metadata": {
    "colab": {
     "autoexec": {
      "startup": false,
      "wait_interval": 0
     },
     "base_uri": "https://localhost:8080/",
     "height": 119
    },
    "colab_type": "code",
    "executionInfo": {
     "elapsed": 510,
     "status": "ok",
     "timestamp": 1527794939921,
     "user": {
      "displayName": "Brian Sanders",
      "photoUrl": "https://lh3.googleusercontent.com/a/default-user=s128",
      "userId": "117372068364006546394"
     },
     "user_tz": 240
    },
    "id": "Z69Tcl_fbsZ_",
    "outputId": "5f121389-155f-449b-a34c-92fc19acbe1a"
   },
   "outputs": [
    {
     "data": {
      "text/plain": [
       "0    342\n",
       "1    190\n",
       "2    239\n",
       "3    289\n",
       "4    217\n",
       "dtype: int64"
      ]
     },
     "execution_count": 21,
     "metadata": {},
     "output_type": "execute_result"
    }
   ],
   "source": [
    "n_df.sum(axis=1)"
   ]
  },
  {
   "cell_type": "markdown",
   "metadata": {
    "colab_type": "text",
    "id": "TogTBAdTbAMr"
   },
   "source": [
    "The generalization of applying an operation along an axis is the `apply` method."
   ]
  },
  {
   "cell_type": "code",
   "execution_count": 12,
   "metadata": {},
   "outputs": [
    {
     "data": {
      "text/plain": [
       "a    415\n",
       "b    287\n",
       "c    276\n",
       "d    333\n",
       "e    287\n",
       "dtype: int64"
      ]
     },
     "execution_count": 12,
     "metadata": {},
     "output_type": "execute_result"
    }
   ],
   "source": [
    "n_df.apply(lambda column: column.sum())"
   ]
  },
  {
   "cell_type": "markdown",
   "metadata": {},
   "source": [
    "The generalization of applying an element-wise operation is `applymap`."
   ]
  },
  {
   "cell_type": "code",
   "execution_count": 35,
   "metadata": {
    "colab": {
     "autoexec": {
      "startup": false,
      "wait_interval": 0
     },
     "base_uri": "https://localhost:8080/",
     "height": 204
    },
    "colab_type": "code",
    "executionInfo": {
     "elapsed": 333,
     "status": "ok",
     "timestamp": 1527794940343,
     "user": {
      "displayName": "Brian Sanders",
      "photoUrl": "https://lh3.googleusercontent.com/a/default-user=s128",
      "userId": "117372068364006546394"
     },
     "user_tz": 240
    },
    "id": "C7iWOzO-aDiK",
    "outputId": "747265ce-2767-4c30-b3a6-a7f4b84afce9"
   },
   "outputs": [
    {
     "data": {
      "text/html": [
       "<div>\n",
       "<style>\n",
       "    .dataframe thead tr:only-child th {\n",
       "        text-align: right;\n",
       "    }\n",
       "\n",
       "    .dataframe thead th {\n",
       "        text-align: left;\n",
       "    }\n",
       "\n",
       "    .dataframe tbody tr th {\n",
       "        vertical-align: top;\n",
       "    }\n",
       "</style>\n",
       "<table border=\"1\" class=\"dataframe\">\n",
       "  <thead>\n",
       "    <tr style=\"text-align: right;\">\n",
       "      <th></th>\n",
       "      <th>a</th>\n",
       "      <th>b</th>\n",
       "      <th>c</th>\n",
       "      <th>d</th>\n",
       "      <th>e</th>\n",
       "    </tr>\n",
       "  </thead>\n",
       "  <tbody>\n",
       "    <tr>\n",
       "      <th>0</th>\n",
       "      <td>1025</td>\n",
       "      <td>1054</td>\n",
       "      <td>1025</td>\n",
       "      <td>1021</td>\n",
       "      <td>1045</td>\n",
       "    </tr>\n",
       "    <tr>\n",
       "      <th>1</th>\n",
       "      <td>1018</td>\n",
       "      <td>1059</td>\n",
       "      <td>1056</td>\n",
       "      <td>1081</td>\n",
       "      <td>1095</td>\n",
       "    </tr>\n",
       "    <tr>\n",
       "      <th>2</th>\n",
       "      <td>1098</td>\n",
       "      <td>1011</td>\n",
       "      <td>1014</td>\n",
       "      <td>1031</td>\n",
       "      <td>1046</td>\n",
       "    </tr>\n",
       "    <tr>\n",
       "      <th>3</th>\n",
       "      <td>1076</td>\n",
       "      <td>1062</td>\n",
       "      <td>1067</td>\n",
       "      <td>1024</td>\n",
       "      <td>1034</td>\n",
       "    </tr>\n",
       "    <tr>\n",
       "      <th>4</th>\n",
       "      <td>1085</td>\n",
       "      <td>1024</td>\n",
       "      <td>1089</td>\n",
       "      <td>1059</td>\n",
       "      <td>1063</td>\n",
       "    </tr>\n",
       "  </tbody>\n",
       "</table>\n",
       "</div>"
      ],
      "text/plain": [
       "      a     b     c     d     e\n",
       "0  1025  1054  1025  1021  1045\n",
       "1  1018  1059  1056  1081  1095\n",
       "2  1098  1011  1014  1031  1046\n",
       "3  1076  1062  1067  1024  1034\n",
       "4  1085  1024  1089  1059  1063"
      ]
     },
     "execution_count": 35,
     "metadata": {},
     "output_type": "execute_result"
    }
   ],
   "source": [
    "n_df.applymap(lambda n: 1000+n)\n",
    "# Or: n_df.applymap((1000).__add__)"
   ]
  },
  {
   "cell_type": "markdown",
   "metadata": {
    "colab_type": "text",
    "id": "IxGth1hcb_1d"
   },
   "source": [
    "`Series` objects behave similarly."
   ]
  },
  {
   "cell_type": "code",
   "execution_count": 36,
   "metadata": {
    "colab": {
     "autoexec": {
      "startup": false,
      "wait_interval": 0
     },
     "base_uri": "https://localhost:8080/",
     "height": 34
    },
    "colab_type": "code",
    "executionInfo": {
     "elapsed": 348,
     "status": "ok",
     "timestamp": 1527794940816,
     "user": {
      "displayName": "Brian Sanders",
      "photoUrl": "https://lh3.googleusercontent.com/a/default-user=s128",
      "userId": "117372068364006546394"
     },
     "user_tz": 240
    },
    "id": "0XZRhODmcJ_S",
    "outputId": "2d7db4a5-529b-46d6-f2f0-f314abe233eb"
   },
   "outputs": [
    {
     "data": {
      "text/plain": [
       "0    25\n",
       "1    18\n",
       "2    98\n",
       "3    76\n",
       "4    85\n",
       "Name: a, dtype: int64"
      ]
     },
     "metadata": {},
     "output_type": "display_data"
    },
    {
     "data": {
      "text/plain": [
       "302"
      ]
     },
     "execution_count": 36,
     "metadata": {},
     "output_type": "execute_result"
    }
   ],
   "source": [
    "a_column = n_df[\"a\"]\n",
    "display(a_column)\n",
    "a_column.sum()"
   ]
  },
  {
   "cell_type": "code",
   "execution_count": 13,
   "metadata": {
    "colab": {
     "autoexec": {
      "startup": false,
      "wait_interval": 0
     },
     "base_uri": "https://localhost:8080/",
     "height": 119
    },
    "colab_type": "code",
    "executionInfo": {
     "elapsed": 328,
     "status": "ok",
     "timestamp": 1527794941254,
     "user": {
      "displayName": "Brian Sanders",
      "photoUrl": "https://lh3.googleusercontent.com/a/default-user=s128",
      "userId": "117372068364006546394"
     },
     "user_tz": 240
    },
    "id": "Dcd5gmGacPXI",
    "outputId": "98741ddc-4c82-471a-9637-68f254b18c1c"
   },
   "outputs": [
    {
     "data": {
      "text/plain": [
       "0    110\n",
       "1     74\n",
       "2     83\n",
       "3    142\n",
       "4     36\n",
       "dtype: int64"
      ]
     },
     "execution_count": 13,
     "metadata": {
      "tags": []
     },
     "output_type": "execute_result"
    }
   ],
   "source": [
    "# Adding two columns (Series with a shared index)\n",
    "n_df[\"a\"] + n_df[\"b\"]"
   ]
  },
  {
   "cell_type": "code",
   "execution_count": 14,
   "metadata": {
    "colab": {
     "autoexec": {
      "startup": false,
      "wait_interval": 0
     },
     "base_uri": "https://localhost:8080/",
     "height": 119
    },
    "colab_type": "code",
    "executionInfo": {
     "elapsed": 310,
     "status": "ok",
     "timestamp": 1527794941658,
     "user": {
      "displayName": "Brian Sanders",
      "photoUrl": "https://lh3.googleusercontent.com/a/default-user=s128",
      "userId": "117372068364006546394"
     },
     "user_tz": 240
    },
    "id": "En6zVB5rceQ0",
    "outputId": "d0f43d02-48b1-4d68-8e6e-3016cdd548cf"
   },
   "outputs": [
    {
     "data": {
      "text/plain": [
       "a    106\n",
       "b     78\n",
       "c    127\n",
       "d     86\n",
       "e    123\n",
       "dtype: int64"
      ]
     },
     "execution_count": 14,
     "metadata": {
      "tags": []
     },
     "output_type": "execute_result"
    }
   ],
   "source": [
    "# Or two rows (note that the index corresponds to the column names in the DataFrame)\n",
    "n_df.loc[0] + n_df.loc[1]"
   ]
  },
  {
   "cell_type": "markdown",
   "metadata": {
    "colab_type": "text",
    "id": "DXwtuk7YBHUE"
   },
   "source": [
    "# Cleaning up\n",
    "As we saw above, we can access an individual column as a `Series`:"
   ]
  },
  {
   "cell_type": "code",
   "execution_count": 34,
   "metadata": {
    "colab": {
     "autoexec": {
      "startup": false,
      "wait_interval": 0
     },
     "base_uri": "https://localhost:8080/",
     "height": 119
    },
    "colab_type": "code",
    "executionInfo": {
     "elapsed": 504,
     "status": "ok",
     "timestamp": 1527794942258,
     "user": {
      "displayName": "Brian Sanders",
      "photoUrl": "https://lh3.googleusercontent.com/a/default-user=s128",
      "userId": "117372068364006546394"
     },
     "user_tz": 240
    },
    "id": "xt3PagwQBZiw",
    "outputId": "cb7fb7d8-b838-4b14-e2fe-9b1d81ca3e9e"
   },
   "outputs": [
    {
     "data": {
      "text/plain": [
       "0    110\n",
       "1     20\n",
       "2    140\n",
       "3    120\n",
       "4    630\n",
       "Name: stop_sequence, dtype: object"
      ]
     },
     "execution_count": 34,
     "metadata": {},
     "output_type": "execute_result"
    }
   ],
   "source": [
    "df[\"stop_sequence\"].head()"
   ]
  },
  {
   "cell_type": "markdown",
   "metadata": {
    "colab_type": "text",
    "id": "rQ1XiR4fc8Mt"
   },
   "source": [
    "And we can get descriptive statistics for the column:"
   ]
  },
  {
   "cell_type": "code",
   "execution_count": 35,
   "metadata": {
    "colab": {
     "autoexec": {
      "startup": false,
      "wait_interval": 0
     },
     "base_uri": "https://localhost:8080/",
     "height": 102
    },
    "colab_type": "code",
    "executionInfo": {
     "elapsed": 462,
     "status": "ok",
     "timestamp": 1527794942816,
     "user": {
      "displayName": "Brian Sanders",
      "photoUrl": "https://lh3.googleusercontent.com/a/default-user=s128",
      "userId": "117372068364006546394"
     },
     "user_tz": 240
    },
    "id": "y5yGKQlyBfRG",
    "outputId": "f4e2ca39-123d-4b76-a5d4-625df3eb0290"
   },
   "outputs": [
    {
     "data": {
      "text/plain": [
       "count     1004224\n",
       "unique        154\n",
       "top             1\n",
       "freq       127387\n",
       "Name: stop_sequence, dtype: object"
      ]
     },
     "execution_count": 35,
     "metadata": {},
     "output_type": "execute_result"
    }
   ],
   "source": [
    "df[\"stop_sequence\"].describe()"
   ]
  },
  {
   "cell_type": "markdown",
   "metadata": {
    "colab_type": "text",
    "id": "aITvMi0SR7h0"
   },
   "source": [
    "We can also select a subset of the columns as a DataFrame:"
   ]
  },
  {
   "cell_type": "code",
   "execution_count": 36,
   "metadata": {
    "colab": {
     "autoexec": {
      "startup": false,
      "wait_interval": 0
     },
     "base_uri": "https://localhost:8080/",
     "height": 204
    },
    "colab_type": "code",
    "executionInfo": {
     "elapsed": 273,
     "status": "ok",
     "timestamp": 1527794943178,
     "user": {
      "displayName": "Brian Sanders",
      "photoUrl": "https://lh3.googleusercontent.com/a/default-user=s128",
      "userId": "117372068364006546394"
     },
     "user_tz": 240
    },
    "id": "l--j6kjaSBV1",
    "outputId": "90cfb3cd-27fa-495d-c8ad-122e945ab437"
   },
   "outputs": [
    {
     "data": {
      "text/html": [
       "<div>\n",
       "<style>\n",
       "    .dataframe thead tr:only-child th {\n",
       "        text-align: right;\n",
       "    }\n",
       "\n",
       "    .dataframe thead th {\n",
       "        text-align: left;\n",
       "    }\n",
       "\n",
       "    .dataframe tbody tr th {\n",
       "        vertical-align: top;\n",
       "    }\n",
       "</style>\n",
       "<table border=\"1\" class=\"dataframe\">\n",
       "  <thead>\n",
       "    <tr style=\"text-align: right;\">\n",
       "      <th></th>\n",
       "      <th>stop_sequence</th>\n",
       "      <th>stop_id</th>\n",
       "    </tr>\n",
       "  </thead>\n",
       "  <tbody>\n",
       "    <tr>\n",
       "      <th>0</th>\n",
       "      <td>110</td>\n",
       "      <td>70083</td>\n",
       "    </tr>\n",
       "    <tr>\n",
       "      <th>1</th>\n",
       "      <td>20</td>\n",
       "      <td>70206</td>\n",
       "    </tr>\n",
       "    <tr>\n",
       "      <th>2</th>\n",
       "      <td>140</td>\n",
       "      <td>70029</td>\n",
       "    </tr>\n",
       "    <tr>\n",
       "      <th>3</th>\n",
       "      <td>120</td>\n",
       "      <td>70153</td>\n",
       "    </tr>\n",
       "    <tr>\n",
       "      <th>4</th>\n",
       "      <td>630</td>\n",
       "      <td>70205</td>\n",
       "    </tr>\n",
       "  </tbody>\n",
       "</table>\n",
       "</div>"
      ],
      "text/plain": [
       "  stop_sequence stop_id\n",
       "0           110   70083\n",
       "1            20   70206\n",
       "2           140   70029\n",
       "3           120   70153\n",
       "4           630   70205"
      ]
     },
     "execution_count": 36,
     "metadata": {},
     "output_type": "execute_result"
    }
   ],
   "source": [
    "df[[\"stop_sequence\", \"stop_id\"]].head()"
   ]
  },
  {
   "cell_type": "markdown",
   "metadata": {
    "colab_type": "text",
    "id": "xMXOjv3lCWRI"
   },
   "source": [
    "Or we can _replace_ a column in a DataFrame. \n",
    "\n",
    "For instance, we can convert the `stop_sequence` column, which is currently a string, to an integer column. ([spec](https://developers.google.com/transit/gtfs/reference/#stop_timestxt))"
   ]
  },
  {
   "cell_type": "code",
   "execution_count": 37,
   "metadata": {
    "colab": {
     "autoexec": {
      "startup": false,
      "wait_interval": 0
     }
    },
    "colab_type": "code",
    "collapsed": true,
    "id": "oXdBMAKpeqfi"
   },
   "outputs": [],
   "source": [
    "df[\"stop_sequence\"] = df.stop_sequence.astype(int)"
   ]
  },
  {
   "cell_type": "markdown",
   "metadata": {},
   "source": [
    "And we can convert the coordinates to floats:"
   ]
  },
  {
   "cell_type": "code",
   "execution_count": 38,
   "metadata": {
    "collapsed": true
   },
   "outputs": [],
   "source": [
    "df[[\"lat\", \"lon\"]] = df[[\"lat\", \"lon\"]].astype(float)"
   ]
  },
  {
   "cell_type": "markdown",
   "metadata": {
    "colab_type": "text",
    "id": "m42T1T-gKAPK"
   },
   "source": [
    "If we then run `describe` again..."
   ]
  },
  {
   "cell_type": "code",
   "execution_count": 39,
   "metadata": {
    "colab": {
     "autoexec": {
      "startup": false,
      "wait_interval": 0
     },
     "base_uri": "https://localhost:8080/",
     "height": 297
    },
    "colab_type": "code",
    "executionInfo": {
     "elapsed": 387,
     "status": "ok",
     "timestamp": 1527794944097,
     "user": {
      "displayName": "Brian Sanders",
      "photoUrl": "https://lh3.googleusercontent.com/a/default-user=s128",
      "userId": "117372068364006546394"
     },
     "user_tz": 240
    },
    "id": "P92KHoDyKE0N",
    "outputId": "f4e1a886-02e3-4616-ed9c-076c4ebaee44"
   },
   "outputs": [
    {
     "data": {
      "text/html": [
       "<div>\n",
       "<style>\n",
       "    .dataframe thead tr:only-child th {\n",
       "        text-align: right;\n",
       "    }\n",
       "\n",
       "    .dataframe thead th {\n",
       "        text-align: left;\n",
       "    }\n",
       "\n",
       "    .dataframe tbody tr th {\n",
       "        vertical-align: top;\n",
       "    }\n",
       "</style>\n",
       "<table border=\"1\" class=\"dataframe\">\n",
       "  <thead>\n",
       "    <tr style=\"text-align: right;\">\n",
       "      <th></th>\n",
       "      <th>stop_sequence</th>\n",
       "      <th>lat</th>\n",
       "      <th>lon</th>\n",
       "    </tr>\n",
       "  </thead>\n",
       "  <tbody>\n",
       "    <tr>\n",
       "      <th>count</th>\n",
       "      <td>748507.000000</td>\n",
       "      <td>748507.000000</td>\n",
       "      <td>748507.000000</td>\n",
       "    </tr>\n",
       "    <tr>\n",
       "      <th>mean</th>\n",
       "      <td>54.969825</td>\n",
       "      <td>42.349516</td>\n",
       "      <td>-71.086609</td>\n",
       "    </tr>\n",
       "    <tr>\n",
       "      <th>std</th>\n",
       "      <td>122.560079</td>\n",
       "      <td>0.067252</td>\n",
       "      <td>0.071314</td>\n",
       "    </tr>\n",
       "    <tr>\n",
       "      <th>min</th>\n",
       "      <td>0.000000</td>\n",
       "      <td>41.581810</td>\n",
       "      <td>-71.849197</td>\n",
       "    </tr>\n",
       "    <tr>\n",
       "      <th>25%</th>\n",
       "      <td>4.000000</td>\n",
       "      <td>42.319828</td>\n",
       "      <td>-71.119545</td>\n",
       "    </tr>\n",
       "    <tr>\n",
       "      <th>50%</th>\n",
       "      <td>14.000000</td>\n",
       "      <td>42.348961</td>\n",
       "      <td>-71.084785</td>\n",
       "    </tr>\n",
       "    <tr>\n",
       "      <th>75%</th>\n",
       "      <td>31.000000</td>\n",
       "      <td>42.383499</td>\n",
       "      <td>-71.057243</td>\n",
       "    </tr>\n",
       "    <tr>\n",
       "      <th>max</th>\n",
       "      <td>680.000000</td>\n",
       "      <td>42.797241</td>\n",
       "      <td>-70.627136</td>\n",
       "    </tr>\n",
       "  </tbody>\n",
       "</table>\n",
       "</div>"
      ],
      "text/plain": [
       "       stop_sequence            lat            lon\n",
       "count  748507.000000  748507.000000  748507.000000\n",
       "mean       54.969825      42.349516     -71.086609\n",
       "std       122.560079       0.067252       0.071314\n",
       "min         0.000000      41.581810     -71.849197\n",
       "25%         4.000000      42.319828     -71.119545\n",
       "50%        14.000000      42.348961     -71.084785\n",
       "75%        31.000000      42.383499     -71.057243\n",
       "max       680.000000      42.797241     -70.627136"
      ]
     },
     "execution_count": 39,
     "metadata": {},
     "output_type": "execute_result"
    }
   ],
   "source": [
    "df.describe()"
   ]
  },
  {
   "cell_type": "markdown",
   "metadata": {
    "colab_type": "text",
    "id": "BQlLl9mIKHxj"
   },
   "source": [
    "... we **only** see a summary of the columns we've just cleaned up.\n",
    "\n",
    "Pandas will, by default, summarize just the numerical columns of the DataFrame. Only if there are no numerical columns will it fall back to the behavior we saw previously.\n"
   ]
  },
  {
   "cell_type": "markdown",
   "metadata": {
    "colab_type": "text",
    "id": "pePkMqP2548h"
   },
   "source": [
    "## Timestamp Cleanup\n",
    "Now let's clean up the `timestamp` column.\n",
    "\n",
    "We imported the data from CSV, which doesn't have any standard representation for dates. We need to convert the string timestamps to datetimes that can be used in comparisons.\n",
    "\n",
    "The recorded timestamps are in UTC. UTC doesn't observe DST, so a UTC timestamp unambiguously identifies a moment in time. But we're interested in Eastern time, EDT or EST, so we'll need to first turn the strings into UTC datetimes, then convert them into Eastern.\n",
    "\n",
    "We'll put the resulting Series in a new column of the Dataframe.\n",
    "\n",
    "(If you wanted to generalize this process to other systems that are not on Eastern time, you can use the `agency_timezone` field from `agencies.txt` in the [GTFS static feed](https://developers.google.com/transit/gtfs/reference/#agencytxt). More on this in a bit.)"
   ]
  },
  {
   "cell_type": "code",
   "execution_count": 48,
   "metadata": {
    "colab": {
     "autoexec": {
      "startup": false,
      "wait_interval": 0
     },
     "base_uri": "https://localhost:8080/",
     "height": 204
    },
    "colab_type": "code",
    "executionInfo": {
     "elapsed": 482,
     "status": "ok",
     "timestamp": 1527794944635,
     "user": {
      "displayName": "Brian Sanders",
      "photoUrl": "https://lh3.googleusercontent.com/a/default-user=s128",
      "userId": "117372068364006546394"
     },
     "user_tz": 240
    },
    "id": "LuU2uVW6548i",
    "outputId": "a7f7c165-3060-4cbc-a58f-d988c950105f"
   },
   "outputs": [
    {
     "data": {
      "text/html": [
       "<div>\n",
       "<style>\n",
       "    .dataframe thead tr:only-child th {\n",
       "        text-align: right;\n",
       "    }\n",
       "\n",
       "    .dataframe thead th {\n",
       "        text-align: left;\n",
       "    }\n",
       "\n",
       "    .dataframe tbody tr th {\n",
       "        vertical-align: top;\n",
       "    }\n",
       "</style>\n",
       "<table border=\"1\" class=\"dataframe\">\n",
       "  <thead>\n",
       "    <tr style=\"text-align: right;\">\n",
       "      <th></th>\n",
       "      <th>trip_id</th>\n",
       "      <th>trip_start</th>\n",
       "      <th>stop_id</th>\n",
       "      <th>stop_sequence</th>\n",
       "      <th>vehicle_id</th>\n",
       "      <th>status</th>\n",
       "      <th>timestamp</th>\n",
       "      <th>lat</th>\n",
       "      <th>lon</th>\n",
       "      <th>local_timestamp</th>\n",
       "    </tr>\n",
       "  </thead>\n",
       "  <tbody>\n",
       "    <tr>\n",
       "      <th>0</th>\n",
       "      <td>983FD4A9</td>\n",
       "      <td>2018-02-09</td>\n",
       "      <td>70087</td>\n",
       "      <td>140</td>\n",
       "      <td>54539A74</td>\n",
       "      <td>IN_TRANSIT_TO</td>\n",
       "      <td>2018-02-09 07:02:03</td>\n",
       "      <td>42.318272</td>\n",
       "      <td>-71.052277</td>\n",
       "      <td>2018-02-09 02:02:03-05:00</td>\n",
       "    </tr>\n",
       "    <tr>\n",
       "      <th>1</th>\n",
       "      <td>983FD4A9</td>\n",
       "      <td>2018-02-09</td>\n",
       "      <td>70087</td>\n",
       "      <td>140</td>\n",
       "      <td>54539A74</td>\n",
       "      <td>IN_TRANSIT_TO</td>\n",
       "      <td>2018-02-09 07:02:32</td>\n",
       "      <td>42.316799</td>\n",
       "      <td>-71.052383</td>\n",
       "      <td>2018-02-09 02:02:32-05:00</td>\n",
       "    </tr>\n",
       "    <tr>\n",
       "      <th>2</th>\n",
       "      <td>983FD4A9</td>\n",
       "      <td>2018-02-09</td>\n",
       "      <td>70087</td>\n",
       "      <td>140</td>\n",
       "      <td>54539A74</td>\n",
       "      <td>INCOMING_AT</td>\n",
       "      <td>2018-02-09 07:02:56</td>\n",
       "      <td>42.314461</td>\n",
       "      <td>-71.052277</td>\n",
       "      <td>2018-02-09 02:02:56-05:00</td>\n",
       "    </tr>\n",
       "    <tr>\n",
       "      <th>3</th>\n",
       "      <td>983FD4A9</td>\n",
       "      <td>2018-02-09</td>\n",
       "      <td>70087</td>\n",
       "      <td>140</td>\n",
       "      <td>54539A74</td>\n",
       "      <td>STOPPED_AT</td>\n",
       "      <td>2018-02-09 07:03:45</td>\n",
       "      <td>42.310558</td>\n",
       "      <td>-71.053726</td>\n",
       "      <td>2018-02-09 02:03:45-05:00</td>\n",
       "    </tr>\n",
       "    <tr>\n",
       "      <th>4</th>\n",
       "      <td>983FD4A9</td>\n",
       "      <td>2018-02-09</td>\n",
       "      <td>70089</td>\n",
       "      <td>150</td>\n",
       "      <td>54539A74</td>\n",
       "      <td>IN_TRANSIT_TO</td>\n",
       "      <td>2018-02-09 07:04:11</td>\n",
       "      <td>42.308781</td>\n",
       "      <td>-71.054413</td>\n",
       "      <td>2018-02-09 02:04:11-05:00</td>\n",
       "    </tr>\n",
       "  </tbody>\n",
       "</table>\n",
       "</div>"
      ],
      "text/plain": [
       "    trip_id  trip_start stop_id  stop_sequence vehicle_id         status  \\\n",
       "0  983FD4A9  2018-02-09   70087            140   54539A74  IN_TRANSIT_TO   \n",
       "1  983FD4A9  2018-02-09   70087            140   54539A74  IN_TRANSIT_TO   \n",
       "2  983FD4A9  2018-02-09   70087            140   54539A74    INCOMING_AT   \n",
       "3  983FD4A9  2018-02-09   70087            140   54539A74     STOPPED_AT   \n",
       "4  983FD4A9  2018-02-09   70089            150   54539A74  IN_TRANSIT_TO   \n",
       "\n",
       "             timestamp        lat        lon           local_timestamp  \n",
       "0  2018-02-09 07:02:03  42.318272 -71.052277 2018-02-09 02:02:03-05:00  \n",
       "1  2018-02-09 07:02:32  42.316799 -71.052383 2018-02-09 02:02:32-05:00  \n",
       "2  2018-02-09 07:02:56  42.314461 -71.052277 2018-02-09 02:02:56-05:00  \n",
       "3  2018-02-09 07:03:45  42.310558 -71.053726 2018-02-09 02:03:45-05:00  \n",
       "4  2018-02-09 07:04:11  42.308781 -71.054413 2018-02-09 02:04:11-05:00  "
      ]
     },
     "execution_count": 48,
     "metadata": {},
     "output_type": "execute_result"
    }
   ],
   "source": [
    "df[\"local_timestamp\"] = pd.to_datetime(df.timestamp).dt.tz_localize(\"UTC\").dt.tz_convert(\"US/Eastern\")\n",
    "df.head()"
   ]
  },
  {
   "cell_type": "markdown",
   "metadata": {
    "colab_type": "text",
    "id": "TU8jThBTe957"
   },
   "source": [
    "# Filtering\n",
    "\n",
    "The MBTA's feed may publish more than one update for each trip and stop, because the position (lat/lng) and status may vary.\n",
    "\n",
    "We can pick out just the updates that represent vehicle stops in a couple ways.\n",
    "\n",
    "We can use a mask, or we can use the `.query()` method."
   ]
  },
  {
   "cell_type": "code",
   "execution_count": 26,
   "metadata": {
    "colab": {
     "autoexec": {
      "startup": false,
      "wait_interval": 0
     },
     "base_uri": "https://localhost:8080/",
     "height": 204
    },
    "colab_type": "code",
    "executionInfo": {
     "elapsed": 469,
     "status": "ok",
     "timestamp": 1527794945201,
     "user": {
      "displayName": "Brian Sanders",
      "photoUrl": "https://lh3.googleusercontent.com/a/default-user=s128",
      "userId": "117372068364006546394"
     },
     "user_tz": 240
    },
    "id": "Pgtm3he7MnZ7",
    "outputId": "f692cda1-2c5d-455e-d7b7-c30251adee51"
   },
   "outputs": [
    {
     "data": {
      "text/html": [
       "<div>\n",
       "<style scoped>\n",
       "    .dataframe tbody tr th:only-of-type {\n",
       "        vertical-align: middle;\n",
       "    }\n",
       "\n",
       "    .dataframe tbody tr th {\n",
       "        vertical-align: top;\n",
       "    }\n",
       "\n",
       "    .dataframe thead th {\n",
       "        text-align: right;\n",
       "    }\n",
       "</style>\n",
       "<table border=\"1\" class=\"dataframe\">\n",
       "  <thead>\n",
       "    <tr style=\"text-align: right;\">\n",
       "      <th></th>\n",
       "      <th>trip_id</th>\n",
       "      <th>trip_start</th>\n",
       "      <th>stop_id</th>\n",
       "      <th>stop_sequence</th>\n",
       "      <th>vehicle_id</th>\n",
       "      <th>status</th>\n",
       "      <th>timestamp</th>\n",
       "      <th>lat</th>\n",
       "      <th>lon</th>\n",
       "      <th>local_timestamp</th>\n",
       "    </tr>\n",
       "  </thead>\n",
       "  <tbody>\n",
       "    <tr>\n",
       "      <th>1</th>\n",
       "      <td>ADDED-1527664934</td>\n",
       "      <td>2018-05-31</td>\n",
       "      <td>70199</td>\n",
       "      <td>80</td>\n",
       "      <td>G-10378</td>\n",
       "      <td>STOPPED_AT</td>\n",
       "      <td>2018-05-31 01:59:43</td>\n",
       "      <td>42.356312</td>\n",
       "      <td>-71.062767</td>\n",
       "      <td>2018-05-30 21:59:43-04:00</td>\n",
       "    </tr>\n",
       "    <tr>\n",
       "      <th>3</th>\n",
       "      <td>ADDED-1527664804</td>\n",
       "      <td>2018-05-31</td>\n",
       "      <td>70007</td>\n",
       "      <td>30</td>\n",
       "      <td>O-5455EB84</td>\n",
       "      <td>STOPPED_AT</td>\n",
       "      <td>2018-05-31 01:59:55</td>\n",
       "      <td>42.323189</td>\n",
       "      <td>-71.099823</td>\n",
       "      <td>2018-05-30 21:59:55-04:00</td>\n",
       "    </tr>\n",
       "    <tr>\n",
       "      <th>5</th>\n",
       "      <td>ADDED-1527664897</td>\n",
       "      <td>2018-05-31</td>\n",
       "      <td>70059</td>\n",
       "      <td>1</td>\n",
       "      <td>B-5455EBA6</td>\n",
       "      <td>STOPPED_AT</td>\n",
       "      <td>2018-05-31 01:56:23</td>\n",
       "      <td>42.413521</td>\n",
       "      <td>-70.991669</td>\n",
       "      <td>2018-05-30 21:56:23-04:00</td>\n",
       "    </tr>\n",
       "    <tr>\n",
       "      <th>8</th>\n",
       "      <td>ADDED-1527664892</td>\n",
       "      <td>2018-05-31</td>\n",
       "      <td>70117</td>\n",
       "      <td>270</td>\n",
       "      <td>G-10139</td>\n",
       "      <td>STOPPED_AT</td>\n",
       "      <td>2018-05-31 01:59:41</td>\n",
       "      <td>42.341591</td>\n",
       "      <td>-71.146378</td>\n",
       "      <td>2018-05-30 21:59:41-04:00</td>\n",
       "    </tr>\n",
       "    <tr>\n",
       "      <th>9</th>\n",
       "      <td>ADDED-1527664748</td>\n",
       "      <td>2018-05-31</td>\n",
       "      <td>70071</td>\n",
       "      <td>50</td>\n",
       "      <td>R-5455F00A</td>\n",
       "      <td>STOPPED_AT</td>\n",
       "      <td>2018-05-31 01:59:43</td>\n",
       "      <td>42.362431</td>\n",
       "      <td>-71.085808</td>\n",
       "      <td>2018-05-30 21:59:43-04:00</td>\n",
       "    </tr>\n",
       "  </tbody>\n",
       "</table>\n",
       "</div>"
      ],
      "text/plain": [
       "            trip_id  trip_start stop_id  stop_sequence  vehicle_id  \\\n",
       "1  ADDED-1527664934  2018-05-31   70199             80     G-10378   \n",
       "3  ADDED-1527664804  2018-05-31   70007             30  O-5455EB84   \n",
       "5  ADDED-1527664897  2018-05-31   70059              1  B-5455EBA6   \n",
       "8  ADDED-1527664892  2018-05-31   70117            270     G-10139   \n",
       "9  ADDED-1527664748  2018-05-31   70071             50  R-5455F00A   \n",
       "\n",
       "       status            timestamp        lat        lon  \\\n",
       "1  STOPPED_AT  2018-05-31 01:59:43  42.356312 -71.062767   \n",
       "3  STOPPED_AT  2018-05-31 01:59:55  42.323189 -71.099823   \n",
       "5  STOPPED_AT  2018-05-31 01:56:23  42.413521 -70.991669   \n",
       "8  STOPPED_AT  2018-05-31 01:59:41  42.341591 -71.146378   \n",
       "9  STOPPED_AT  2018-05-31 01:59:43  42.362431 -71.085808   \n",
       "\n",
       "            local_timestamp  \n",
       "1 2018-05-30 21:59:43-04:00  \n",
       "3 2018-05-30 21:59:55-04:00  \n",
       "5 2018-05-30 21:56:23-04:00  \n",
       "8 2018-05-30 21:59:41-04:00  \n",
       "9 2018-05-30 21:59:43-04:00  "
      ]
     },
     "execution_count": 26,
     "metadata": {},
     "output_type": "execute_result"
    }
   ],
   "source": [
    "stops = df[df.status == \"STOPPED_AT\"] # mask\n",
    "stops.head()"
   ]
  },
  {
   "cell_type": "markdown",
   "metadata": {},
   "source": [
    "What's going on here?\n",
    "\n",
    "Well, the equality comparison with `\"STOPPED_AT\"` is vectorized, so `df.status == \"STOPPED_AT\"` gives us back a `Series` containing `True` or `False` at each index. When you pass that Series inside square brackets to a dataframe, it acts as a filter."
   ]
  },
  {
   "cell_type": "code",
   "execution_count": 49,
   "metadata": {},
   "outputs": [
    {
     "data": {
      "text/html": [
       "<div>\n",
       "<style>\n",
       "    .dataframe thead tr:only-child th {\n",
       "        text-align: right;\n",
       "    }\n",
       "\n",
       "    .dataframe thead th {\n",
       "        text-align: left;\n",
       "    }\n",
       "\n",
       "    .dataframe tbody tr th {\n",
       "        vertical-align: top;\n",
       "    }\n",
       "</style>\n",
       "<table border=\"1\" class=\"dataframe\">\n",
       "  <thead>\n",
       "    <tr style=\"text-align: right;\">\n",
       "      <th></th>\n",
       "      <th>trip_id</th>\n",
       "      <th>trip_start</th>\n",
       "      <th>stop_id</th>\n",
       "      <th>stop_sequence</th>\n",
       "      <th>vehicle_id</th>\n",
       "      <th>status</th>\n",
       "      <th>timestamp</th>\n",
       "      <th>lat</th>\n",
       "      <th>lon</th>\n",
       "      <th>local_timestamp</th>\n",
       "    </tr>\n",
       "  </thead>\n",
       "  <tbody>\n",
       "    <tr>\n",
       "      <th>3</th>\n",
       "      <td>983FD4A9</td>\n",
       "      <td>2018-02-09</td>\n",
       "      <td>70087</td>\n",
       "      <td>140</td>\n",
       "      <td>54539A74</td>\n",
       "      <td>STOPPED_AT</td>\n",
       "      <td>2018-02-09 07:03:45</td>\n",
       "      <td>42.310558</td>\n",
       "      <td>-71.053726</td>\n",
       "      <td>2018-02-09 02:03:45-05:00</td>\n",
       "    </tr>\n",
       "    <tr>\n",
       "      <th>7</th>\n",
       "      <td>983FD4A9</td>\n",
       "      <td>2018-02-09</td>\n",
       "      <td>70089</td>\n",
       "      <td>150</td>\n",
       "      <td>54539A74</td>\n",
       "      <td>STOPPED_AT</td>\n",
       "      <td>2018-02-09 07:06:35</td>\n",
       "      <td>42.300018</td>\n",
       "      <td>-71.061829</td>\n",
       "      <td>2018-02-09 02:06:35-05:00</td>\n",
       "    </tr>\n",
       "    <tr>\n",
       "      <th>18</th>\n",
       "      <td>35793583</td>\n",
       "      <td>2018-02-09</td>\n",
       "      <td>387</td>\n",
       "      <td>22</td>\n",
       "      <td>y1812</td>\n",
       "      <td>STOPPED_AT</td>\n",
       "      <td>2018-02-09 08:29:32</td>\n",
       "      <td>42.311474</td>\n",
       "      <td>-71.083008</td>\n",
       "      <td>2018-02-09 03:29:32-05:00</td>\n",
       "    </tr>\n",
       "    <tr>\n",
       "      <th>107</th>\n",
       "      <td>35793582</td>\n",
       "      <td>2018-02-09</td>\n",
       "      <td>1471</td>\n",
       "      <td>22</td>\n",
       "      <td>y1868</td>\n",
       "      <td>STOPPED_AT</td>\n",
       "      <td>2018-02-09 08:32:55</td>\n",
       "      <td>42.306648</td>\n",
       "      <td>-71.066864</td>\n",
       "      <td>2018-02-09 03:32:55-05:00</td>\n",
       "    </tr>\n",
       "    <tr>\n",
       "      <th>141</th>\n",
       "      <td>35793582</td>\n",
       "      <td>2018-02-09</td>\n",
       "      <td>1475</td>\n",
       "      <td>27</td>\n",
       "      <td>y1868</td>\n",
       "      <td>STOPPED_AT</td>\n",
       "      <td>2018-02-09 08:35:18</td>\n",
       "      <td>42.311798</td>\n",
       "      <td>-71.063194</td>\n",
       "      <td>2018-02-09 03:35:18-05:00</td>\n",
       "    </tr>\n",
       "  </tbody>\n",
       "</table>\n",
       "</div>"
      ],
      "text/plain": [
       "      trip_id  trip_start stop_id  stop_sequence vehicle_id      status  \\\n",
       "3    983FD4A9  2018-02-09   70087            140   54539A74  STOPPED_AT   \n",
       "7    983FD4A9  2018-02-09   70089            150   54539A74  STOPPED_AT   \n",
       "18   35793583  2018-02-09     387             22      y1812  STOPPED_AT   \n",
       "107  35793582  2018-02-09    1471             22      y1868  STOPPED_AT   \n",
       "141  35793582  2018-02-09    1475             27      y1868  STOPPED_AT   \n",
       "\n",
       "               timestamp        lat        lon           local_timestamp  \n",
       "3    2018-02-09 07:03:45  42.310558 -71.053726 2018-02-09 02:03:45-05:00  \n",
       "7    2018-02-09 07:06:35  42.300018 -71.061829 2018-02-09 02:06:35-05:00  \n",
       "18   2018-02-09 08:29:32  42.311474 -71.083008 2018-02-09 03:29:32-05:00  \n",
       "107  2018-02-09 08:32:55  42.306648 -71.066864 2018-02-09 03:32:55-05:00  \n",
       "141  2018-02-09 08:35:18  42.311798 -71.063194 2018-02-09 03:35:18-05:00  "
      ]
     },
     "execution_count": 49,
     "metadata": {},
     "output_type": "execute_result"
    }
   ],
   "source": [
    "stops = df.query(\"status == 'STOPPED_AT'\") # query\n",
    "stops.head()"
   ]
  },
  {
   "cell_type": "markdown",
   "metadata": {
    "colab_type": "text",
    "id": "GH8p5FJD5486"
   },
   "source": [
    "# Merging\n",
    "We have a `trip_id` column, but what we're often interested in is **routes**, not **trips**. The terminology is explained thoroughly in the [GTFS Reference](https://developers.google.com/transit/gtfs/reference/), but briefly, a trip is a collection of stops and times associated with a schedule and a route, and ordered by stop sequence.\n",
    "\n",
    "So, the Red Line train to Ashmont leaving Alewife on non-holiday weekdays at 6:00 AM is a trip.\n",
    "\n",
    "As you may have noted, the trip updates currently omit route_ids. In order to connect our trip_ids to route_ids, we have to join our vehicle update data to the static data provided by the MBTA.\n",
    "\n",
    "To access the static data, we'll need to first define some additional functions."
   ]
  },
  {
   "cell_type": "markdown",
   "metadata": {
    "colab_type": "text",
    "id": "LSJCLTCV548-"
   },
   "source": [
    "The MBTA publishes the static schedule information in the form of a zipped directory of CSV files. (The files also include some other things we won't be using today, like fares). If you're curious about the full contents of the manifest, you can download the current one [here](http://www.mbta.com/uploadedfiles/MBTA_GTFS.zip) or read the [docs](https://developers.google.com/transit/gtfs/). For the purposes of this tutorial, we'll manipulate the zipfile in memory.\n",
    "\n",
    "The MBTA updates the file several times a year, so you should be careful when analyzing historical data to retrieve the feed corresponding to the date(s) whose data you're viewing. We'll define a function `mbta_feed_url_for` that takes a datetime and returns the URL of the feed that was active on that date, based on the [list of archived feeds](https://www.mbta.com/gtfs_archive/archived_feeds.txt)."
   ]
  },
  {
   "cell_type": "markdown",
   "metadata": {
    "colab_type": "text",
    "id": "yQVwgZUV548_"
   },
   "source": [
    "Below, we'll define `get_zip`, which we'll use to load a GTFS zip file from a URL into memory and `get_zip_item`, which will take a  zip and the name of an entry (`\"agency\"`, `\"stops\"`, etc.) and return a dataframe from the contents of the corresponding CSV file.\n",
    "\n",
    "*There are also some functions here for finding the appropriate feed URL for a specific day. For the purposes of this tutorial, you can safely ignore them. The reason they're here is that the MBTA frequently updates the static feed to account for scheduled station closures, detours, new trips, and other changes. Fortunately, they also publish a [CSV file](https://www.mbta.com/gtfs_archive/archived_feeds.txt) documenting all the historical feed URLs and the date range for which each is valid. `mbta_feed_urls_for` and `mbta_feed_url_for` return the appropriate URLs or URL for a date range or single date, respectively.*"
   ]
  },
  {
   "cell_type": "code",
   "execution_count": 50,
   "metadata": {
    "colab": {
     "autoexec": {
      "startup": false,
      "wait_interval": 0
     }
    },
    "colab_type": "code",
    "collapsed": true,
    "id": "Md7fFuzw5487"
   },
   "outputs": [],
   "source": [
    "import csv\n",
    "import zipfile\n",
    "\n",
    "def mbta_feed_urls():\n",
    "    \"\"\"Returns a generator of (feed_start_date, feed_end_date, archive_url)\n",
    "    tuples from the MBTA's archived feeds site.\n",
    "    \"\"\"\n",
    "    u = urlopen(\"https://www.mbta.com/gtfs_archive/archived_feeds.txt\")\n",
    "    for l in csv.DictReader(TextIOWrapper(BytesIO(u.read()))):\n",
    "        yield (datetime.strptime(l[\"feed_start_date\"], \"%Y%m%d\"),\n",
    "               datetime.strptime(l[\"feed_end_date\"], \"%Y%m%d\"),\n",
    "               l[\"archive_url\"])\n",
    "\n",
    "def mbta_feed_urls_for(range_start=None, range_end=None):\n",
    "    eastern = pytz.timezone(\"US/Eastern\")\n",
    "    range_start = range_start or datetime.now()\n",
    "    range_end = range_end or range_start\n",
    "    for start, end, url in mbta_feed_urls():\n",
    "        if range_start.tzinfo:\n",
    "            start = start.astimezone(eastern)\n",
    "            end = end.astimezone(eastern)\n",
    "        if start <= range_end:\n",
    "            if end < range_start:\n",
    "                continue\n",
    "            yield url\n",
    "            \n",
    "def mbta_feed_url_for(when):\n",
    "    \"\"\"Get the URL for the MBTA's GTFS feed active at the \n",
    "    datetime `when`.\"\"\"\n",
    "    return next(mbta_feed_urls_for(when, when), None)\n",
    "\n",
    "def get_zip(url=\"http://www.mbta.com/uploadedfiles/MBTA_GTFS.zip\"):\n",
    "    with urlopen(url) as u:\n",
    "        return zipfile.ZipFile(BytesIO(u.read()))\n",
    "    \n",
    "def get_zip_item(feed, name):\n",
    "    data = TextIOWrapper(BytesIO(feed.read(name + \".txt\")), \n",
    "                         encoding=\"utf-8\", line_buffering=True)\n",
    "    # Specify 'unicode' as the datatype so that Pandas\n",
    "    # doesn't try to infer cell types. It will get it\n",
    "    # wrong anyway.\n",
    "    return pd.read_csv(data, dtype=\"unicode\")"
   ]
  },
  {
   "cell_type": "code",
   "execution_count": 51,
   "metadata": {
    "colab": {
     "autoexec": {
      "startup": false,
      "wait_interval": 0
     }
    },
    "colab_type": "code",
    "collapsed": true,
    "id": "vvpENSLf5488"
   },
   "outputs": [],
   "source": [
    "static_feed = get_zip(mbta_feed_url_for(day))"
   ]
  },
  {
   "cell_type": "markdown",
   "metadata": {
    "colab_type": "text",
    "id": "ZqpePlkkOAVz"
   },
   "source": [
    "Let's check out `trips.txt` first."
   ]
  },
  {
   "cell_type": "code",
   "execution_count": 53,
   "metadata": {
    "colab": {
     "autoexec": {
      "startup": false,
      "wait_interval": 0
     },
     "base_uri": "https://localhost:8080/",
     "height": 204
    },
    "colab_type": "code",
    "executionInfo": {
     "elapsed": 1965,
     "status": "ok",
     "timestamp": 1527794951649,
     "user": {
      "displayName": "Brian Sanders",
      "photoUrl": "https://lh3.googleusercontent.com/a/default-user=s128",
      "userId": "117372068364006546394"
     },
     "user_tz": 240
    },
    "id": "t9zU-8On549D",
    "outputId": "1a760e11-b527-4e2e-d765-9cfb4a0a4e87"
   },
   "outputs": [
    {
     "data": {
      "text/html": [
       "<div>\n",
       "<style>\n",
       "    .dataframe thead tr:only-child th {\n",
       "        text-align: right;\n",
       "    }\n",
       "\n",
       "    .dataframe thead th {\n",
       "        text-align: left;\n",
       "    }\n",
       "\n",
       "    .dataframe tbody tr th {\n",
       "        vertical-align: top;\n",
       "    }\n",
       "</style>\n",
       "<table border=\"1\" class=\"dataframe\">\n",
       "  <thead>\n",
       "    <tr style=\"text-align: right;\">\n",
       "      <th></th>\n",
       "      <th>route_id</th>\n",
       "      <th>service_id</th>\n",
       "      <th>trip_id</th>\n",
       "      <th>trip_headsign</th>\n",
       "      <th>trip_short_name</th>\n",
       "      <th>direction_id</th>\n",
       "      <th>block_id</th>\n",
       "      <th>shape_id</th>\n",
       "      <th>wheelchair_accessible</th>\n",
       "      <th>trip_route_type</th>\n",
       "    </tr>\n",
       "  </thead>\n",
       "  <tbody>\n",
       "    <tr>\n",
       "      <th>0</th>\n",
       "      <td>Logan-22</td>\n",
       "      <td>Logan-Weekday</td>\n",
       "      <td>Logan-22-Weekday-trip</td>\n",
       "      <td>Loop</td>\n",
       "      <td>NaN</td>\n",
       "      <td>0</td>\n",
       "      <td>NaN</td>\n",
       "      <td>NaN</td>\n",
       "      <td>1</td>\n",
       "      <td>NaN</td>\n",
       "    </tr>\n",
       "    <tr>\n",
       "      <th>1</th>\n",
       "      <td>Logan-22</td>\n",
       "      <td>Logan-Weekend</td>\n",
       "      <td>Logan-22-Weekend-trip</td>\n",
       "      <td>Loop</td>\n",
       "      <td>NaN</td>\n",
       "      <td>0</td>\n",
       "      <td>NaN</td>\n",
       "      <td>NaN</td>\n",
       "      <td>1</td>\n",
       "      <td>NaN</td>\n",
       "    </tr>\n",
       "    <tr>\n",
       "      <th>2</th>\n",
       "      <td>Logan-33</td>\n",
       "      <td>Logan-Weekday</td>\n",
       "      <td>Logan-33-Weekday-trip</td>\n",
       "      <td>Loop</td>\n",
       "      <td>NaN</td>\n",
       "      <td>0</td>\n",
       "      <td>NaN</td>\n",
       "      <td>NaN</td>\n",
       "      <td>1</td>\n",
       "      <td>NaN</td>\n",
       "    </tr>\n",
       "    <tr>\n",
       "      <th>3</th>\n",
       "      <td>Logan-33</td>\n",
       "      <td>Logan-Weekend</td>\n",
       "      <td>Logan-33-Weekend-trip</td>\n",
       "      <td>Loop</td>\n",
       "      <td>NaN</td>\n",
       "      <td>0</td>\n",
       "      <td>NaN</td>\n",
       "      <td>NaN</td>\n",
       "      <td>1</td>\n",
       "      <td>NaN</td>\n",
       "    </tr>\n",
       "    <tr>\n",
       "      <th>4</th>\n",
       "      <td>Logan-55</td>\n",
       "      <td>Logan-Weekday</td>\n",
       "      <td>Logan-55-Weekday-trip</td>\n",
       "      <td>Loop</td>\n",
       "      <td>NaN</td>\n",
       "      <td>0</td>\n",
       "      <td>NaN</td>\n",
       "      <td>NaN</td>\n",
       "      <td>1</td>\n",
       "      <td>NaN</td>\n",
       "    </tr>\n",
       "  </tbody>\n",
       "</table>\n",
       "</div>"
      ],
      "text/plain": [
       "   route_id     service_id                trip_id trip_headsign  \\\n",
       "0  Logan-22  Logan-Weekday  Logan-22-Weekday-trip          Loop   \n",
       "1  Logan-22  Logan-Weekend  Logan-22-Weekend-trip          Loop   \n",
       "2  Logan-33  Logan-Weekday  Logan-33-Weekday-trip          Loop   \n",
       "3  Logan-33  Logan-Weekend  Logan-33-Weekend-trip          Loop   \n",
       "4  Logan-55  Logan-Weekday  Logan-55-Weekday-trip          Loop   \n",
       "\n",
       "  trip_short_name direction_id block_id shape_id wheelchair_accessible  \\\n",
       "0             NaN            0      NaN      NaN                     1   \n",
       "1             NaN            0      NaN      NaN                     1   \n",
       "2             NaN            0      NaN      NaN                     1   \n",
       "3             NaN            0      NaN      NaN                     1   \n",
       "4             NaN            0      NaN      NaN                     1   \n",
       "\n",
       "  trip_route_type  \n",
       "0             NaN  \n",
       "1             NaN  \n",
       "2             NaN  \n",
       "3             NaN  \n",
       "4             NaN  "
      ]
     },
     "execution_count": 53,
     "metadata": {},
     "output_type": "execute_result"
    }
   ],
   "source": [
    "trips = get_zip_item(static_feed, \"trips\")\n",
    "trips.head()"
   ]
  },
  {
   "cell_type": "markdown",
   "metadata": {
    "colab_type": "text",
    "id": "ITQqew9KOL5z"
   },
   "source": [
    "We want to match up the `trip_id` from each row in our `stops` DataFrame with a row in the `trips.txt` that has the same `trip_id` and add columns back into our data.\n",
    "\n",
    "In Pandas, we do this with `pd.merge`. It's a lot like a **join** in SQL, and as with joins, there are a few different ways to do it, depending on how you want to handle rows for which there is no match.\n",
    "\n",
    "We'll be using the default join method, namely `\"inner\"`, which will omit rows in both `stops` (our left-hand DataFrame) and `trips` (right-hand) for which there is no match.\n",
    "\n",
    "Briefly, the other types of merge are:\n",
    "\n",
    "`\"left\"`  preserves all rows in our left-hand DataFrame, and insert nulls for the new, right-hand columns when there is no match. We'll usually find a few unknown trip_ids in `stops`, if there's a detour, for instance, or track work.\n",
    "\n",
    "`\"right\"`, predictably, preserves all the rows in our right-hand DataFrame. Because we're looking at data for one day, there will be more trips in `trips.txt` that we won't see in `stops`. Some trips run only on weekdays, or holidays, or Fridays, and so on.\n",
    "\n",
    "And `\"outer\"` just preserves all rows from the left-hand and right-hand frames, inserting nulls in right-hand columns where the left join column has no match, and vice versa."
   ]
  },
  {
   "cell_type": "code",
   "execution_count": 54,
   "metadata": {
    "colab": {
     "autoexec": {
      "startup": false,
      "wait_interval": 0
     },
     "base_uri": "https://localhost:8080/",
     "height": 204
    },
    "colab_type": "code",
    "executionInfo": {
     "elapsed": 648,
     "status": "ok",
     "timestamp": 1527794952389,
     "user": {
      "displayName": "Brian Sanders",
      "photoUrl": "https://lh3.googleusercontent.com/a/default-user=s128",
      "userId": "117372068364006546394"
     },
     "user_tz": 240
    },
    "id": "glovaNrURZAI",
    "outputId": "48667b3f-7bf1-4caa-88b0-696fb0e3e104"
   },
   "outputs": [
    {
     "data": {
      "text/html": [
       "<div>\n",
       "<style>\n",
       "    .dataframe thead tr:only-child th {\n",
       "        text-align: right;\n",
       "    }\n",
       "\n",
       "    .dataframe thead th {\n",
       "        text-align: left;\n",
       "    }\n",
       "\n",
       "    .dataframe tbody tr th {\n",
       "        vertical-align: top;\n",
       "    }\n",
       "</style>\n",
       "<table border=\"1\" class=\"dataframe\">\n",
       "  <thead>\n",
       "    <tr style=\"text-align: right;\">\n",
       "      <th></th>\n",
       "      <th>trip_id</th>\n",
       "      <th>trip_start</th>\n",
       "      <th>stop_id</th>\n",
       "      <th>stop_sequence</th>\n",
       "      <th>vehicle_id</th>\n",
       "      <th>status</th>\n",
       "      <th>timestamp</th>\n",
       "      <th>lat</th>\n",
       "      <th>lon</th>\n",
       "      <th>local_timestamp</th>\n",
       "      <th>route_id</th>\n",
       "      <th>direction_id</th>\n",
       "    </tr>\n",
       "  </thead>\n",
       "  <tbody>\n",
       "    <tr>\n",
       "      <th>0</th>\n",
       "      <td>35793583</td>\n",
       "      <td>2018-02-09</td>\n",
       "      <td>387</td>\n",
       "      <td>22</td>\n",
       "      <td>y1812</td>\n",
       "      <td>STOPPED_AT</td>\n",
       "      <td>2018-02-09 08:29:32</td>\n",
       "      <td>42.311474</td>\n",
       "      <td>-71.083008</td>\n",
       "      <td>2018-02-09 03:29:32-05:00</td>\n",
       "      <td>28</td>\n",
       "      <td>1</td>\n",
       "    </tr>\n",
       "    <tr>\n",
       "      <th>1</th>\n",
       "      <td>35793582</td>\n",
       "      <td>2018-02-09</td>\n",
       "      <td>1471</td>\n",
       "      <td>22</td>\n",
       "      <td>y1868</td>\n",
       "      <td>STOPPED_AT</td>\n",
       "      <td>2018-02-09 08:32:55</td>\n",
       "      <td>42.306648</td>\n",
       "      <td>-71.066864</td>\n",
       "      <td>2018-02-09 03:32:55-05:00</td>\n",
       "      <td>15</td>\n",
       "      <td>1</td>\n",
       "    </tr>\n",
       "    <tr>\n",
       "      <th>2</th>\n",
       "      <td>35793582</td>\n",
       "      <td>2018-02-09</td>\n",
       "      <td>1475</td>\n",
       "      <td>27</td>\n",
       "      <td>y1868</td>\n",
       "      <td>STOPPED_AT</td>\n",
       "      <td>2018-02-09 08:35:18</td>\n",
       "      <td>42.311798</td>\n",
       "      <td>-71.063194</td>\n",
       "      <td>2018-02-09 03:35:18-05:00</td>\n",
       "      <td>15</td>\n",
       "      <td>1</td>\n",
       "    </tr>\n",
       "    <tr>\n",
       "      <th>3</th>\n",
       "      <td>35793582</td>\n",
       "      <td>2018-02-09</td>\n",
       "      <td>1479</td>\n",
       "      <td>29</td>\n",
       "      <td>y1868</td>\n",
       "      <td>STOPPED_AT</td>\n",
       "      <td>2018-02-09 08:36:19</td>\n",
       "      <td>42.314732</td>\n",
       "      <td>-71.065880</td>\n",
       "      <td>2018-02-09 03:36:19-05:00</td>\n",
       "      <td>15</td>\n",
       "      <td>1</td>\n",
       "    </tr>\n",
       "    <tr>\n",
       "      <th>4</th>\n",
       "      <td>35793582</td>\n",
       "      <td>2018-02-09</td>\n",
       "      <td>11482</td>\n",
       "      <td>32</td>\n",
       "      <td>y1868</td>\n",
       "      <td>STOPPED_AT</td>\n",
       "      <td>2018-02-09 08:38:16</td>\n",
       "      <td>42.318920</td>\n",
       "      <td>-71.069351</td>\n",
       "      <td>2018-02-09 03:38:16-05:00</td>\n",
       "      <td>15</td>\n",
       "      <td>1</td>\n",
       "    </tr>\n",
       "  </tbody>\n",
       "</table>\n",
       "</div>"
      ],
      "text/plain": [
       "    trip_id  trip_start stop_id  stop_sequence vehicle_id      status  \\\n",
       "0  35793583  2018-02-09     387             22      y1812  STOPPED_AT   \n",
       "1  35793582  2018-02-09    1471             22      y1868  STOPPED_AT   \n",
       "2  35793582  2018-02-09    1475             27      y1868  STOPPED_AT   \n",
       "3  35793582  2018-02-09    1479             29      y1868  STOPPED_AT   \n",
       "4  35793582  2018-02-09   11482             32      y1868  STOPPED_AT   \n",
       "\n",
       "             timestamp        lat        lon           local_timestamp  \\\n",
       "0  2018-02-09 08:29:32  42.311474 -71.083008 2018-02-09 03:29:32-05:00   \n",
       "1  2018-02-09 08:32:55  42.306648 -71.066864 2018-02-09 03:32:55-05:00   \n",
       "2  2018-02-09 08:35:18  42.311798 -71.063194 2018-02-09 03:35:18-05:00   \n",
       "3  2018-02-09 08:36:19  42.314732 -71.065880 2018-02-09 03:36:19-05:00   \n",
       "4  2018-02-09 08:38:16  42.318920 -71.069351 2018-02-09 03:38:16-05:00   \n",
       "\n",
       "  route_id direction_id  \n",
       "0       28            1  \n",
       "1       15            1  \n",
       "2       15            1  \n",
       "3       15            1  \n",
       "4       15            1  "
      ]
     },
     "execution_count": 54,
     "metadata": {},
     "output_type": "execute_result"
    }
   ],
   "source": [
    "stops_with_routes = pd.merge(stops, trips[[\"trip_id\", \"route_id\", \"direction_id\"]], on=\"trip_id\")\n",
    "stops_with_routes.head()"
   ]
  },
  {
   "cell_type": "markdown",
   "metadata": {},
   "source": [
    "We can get stop names by merging in data from `stops.txt` in the static feed.\n",
    "\n",
    "Here's a peek at the structure of `stops`:"
   ]
  },
  {
   "cell_type": "code",
   "execution_count": 56,
   "metadata": {},
   "outputs": [
    {
     "data": {
      "text/html": [
       "<div>\n",
       "<style>\n",
       "    .dataframe thead tr:only-child th {\n",
       "        text-align: right;\n",
       "    }\n",
       "\n",
       "    .dataframe thead th {\n",
       "        text-align: left;\n",
       "    }\n",
       "\n",
       "    .dataframe tbody tr th {\n",
       "        vertical-align: top;\n",
       "    }\n",
       "</style>\n",
       "<table border=\"1\" class=\"dataframe\">\n",
       "  <thead>\n",
       "    <tr style=\"text-align: right;\">\n",
       "      <th></th>\n",
       "      <th>stop_id</th>\n",
       "      <th>stop_code</th>\n",
       "      <th>stop_name</th>\n",
       "      <th>stop_desc</th>\n",
       "      <th>stop_lat</th>\n",
       "      <th>stop_lon</th>\n",
       "      <th>zone_id</th>\n",
       "      <th>stop_url</th>\n",
       "      <th>location_type</th>\n",
       "      <th>parent_station</th>\n",
       "      <th>wheelchair_boarding</th>\n",
       "    </tr>\n",
       "  </thead>\n",
       "  <tbody>\n",
       "    <tr>\n",
       "      <th>0</th>\n",
       "      <td>Wareham Village</td>\n",
       "      <td>NaN</td>\n",
       "      <td>Wareham Village</td>\n",
       "      <td>NaN</td>\n",
       "      <td>41.758333</td>\n",
       "      <td>-70.714722</td>\n",
       "      <td>NaN</td>\n",
       "      <td>NaN</td>\n",
       "      <td>0</td>\n",
       "      <td>NaN</td>\n",
       "      <td>1</td>\n",
       "    </tr>\n",
       "    <tr>\n",
       "      <th>1</th>\n",
       "      <td>Buzzards Bay</td>\n",
       "      <td>NaN</td>\n",
       "      <td>Buzzards Bay</td>\n",
       "      <td>NaN</td>\n",
       "      <td>41.744805</td>\n",
       "      <td>-70.616226</td>\n",
       "      <td>NaN</td>\n",
       "      <td>NaN</td>\n",
       "      <td>0</td>\n",
       "      <td>NaN</td>\n",
       "      <td>1</td>\n",
       "    </tr>\n",
       "    <tr>\n",
       "      <th>2</th>\n",
       "      <td>Hyannis</td>\n",
       "      <td>NaN</td>\n",
       "      <td>Hyannis</td>\n",
       "      <td>NaN</td>\n",
       "      <td>41.660225</td>\n",
       "      <td>-70.276583</td>\n",
       "      <td>NaN</td>\n",
       "      <td>NaN</td>\n",
       "      <td>0</td>\n",
       "      <td>NaN</td>\n",
       "      <td>1</td>\n",
       "    </tr>\n",
       "    <tr>\n",
       "      <th>3</th>\n",
       "      <td>Logan-E</td>\n",
       "      <td>NaN</td>\n",
       "      <td>Logan Airport Terminal E</td>\n",
       "      <td>NaN</td>\n",
       "      <td>42.370022</td>\n",
       "      <td>-71.020754</td>\n",
       "      <td>NaN</td>\n",
       "      <td>NaN</td>\n",
       "      <td>0</td>\n",
       "      <td>NaN</td>\n",
       "      <td>1</td>\n",
       "    </tr>\n",
       "    <tr>\n",
       "      <th>4</th>\n",
       "      <td>Logan-Subway</td>\n",
       "      <td>NaN</td>\n",
       "      <td>Airport Subway Station</td>\n",
       "      <td>NaN</td>\n",
       "      <td>42.374699</td>\n",
       "      <td>-71.029831</td>\n",
       "      <td>NaN</td>\n",
       "      <td>NaN</td>\n",
       "      <td>0</td>\n",
       "      <td>NaN</td>\n",
       "      <td>1</td>\n",
       "    </tr>\n",
       "  </tbody>\n",
       "</table>\n",
       "</div>"
      ],
      "text/plain": [
       "           stop_id stop_code                 stop_name stop_desc   stop_lat  \\\n",
       "0  Wareham Village       NaN           Wareham Village       NaN  41.758333   \n",
       "1     Buzzards Bay       NaN              Buzzards Bay       NaN  41.744805   \n",
       "2          Hyannis       NaN                   Hyannis       NaN  41.660225   \n",
       "3          Logan-E       NaN  Logan Airport Terminal E       NaN  42.370022   \n",
       "4     Logan-Subway       NaN    Airport Subway Station       NaN  42.374699   \n",
       "\n",
       "     stop_lon zone_id stop_url location_type parent_station  \\\n",
       "0  -70.714722     NaN      NaN             0            NaN   \n",
       "1  -70.616226     NaN      NaN             0            NaN   \n",
       "2  -70.276583     NaN      NaN             0            NaN   \n",
       "3  -71.020754     NaN      NaN             0            NaN   \n",
       "4  -71.029831     NaN      NaN             0            NaN   \n",
       "\n",
       "  wheelchair_boarding  \n",
       "0                   1  \n",
       "1                   1  \n",
       "2                   1  \n",
       "3                   1  \n",
       "4                   1  "
      ]
     },
     "execution_count": 56,
     "metadata": {},
     "output_type": "execute_result"
    }
   ],
   "source": [
    "stops_info = get_zip_item(static_feed, \"stops\")\n",
    "stops_info.head()"
   ]
  },
  {
   "cell_type": "markdown",
   "metadata": {},
   "source": [
    "Let's perform the merge.  (We're also going to drop a few columns now, since I don't plan to use them. Obviously, this may not always be a good idea.)"
   ]
  },
  {
   "cell_type": "code",
   "execution_count": 61,
   "metadata": {},
   "outputs": [
    {
     "data": {
      "text/html": [
       "<div>\n",
       "<style>\n",
       "    .dataframe thead tr:only-child th {\n",
       "        text-align: right;\n",
       "    }\n",
       "\n",
       "    .dataframe thead th {\n",
       "        text-align: left;\n",
       "    }\n",
       "\n",
       "    .dataframe tbody tr th {\n",
       "        vertical-align: top;\n",
       "    }\n",
       "</style>\n",
       "<table border=\"1\" class=\"dataframe\">\n",
       "  <thead>\n",
       "    <tr style=\"text-align: right;\">\n",
       "      <th></th>\n",
       "      <th>trip_id</th>\n",
       "      <th>trip_start</th>\n",
       "      <th>stop_id</th>\n",
       "      <th>stop_sequence</th>\n",
       "      <th>local_timestamp</th>\n",
       "      <th>route_id</th>\n",
       "      <th>direction_id</th>\n",
       "      <th>stop_name</th>\n",
       "    </tr>\n",
       "  </thead>\n",
       "  <tbody>\n",
       "    <tr>\n",
       "      <th>0</th>\n",
       "      <td>35793583</td>\n",
       "      <td>2018-02-09</td>\n",
       "      <td>387</td>\n",
       "      <td>22</td>\n",
       "      <td>2018-02-09 03:29:32-05:00</td>\n",
       "      <td>28</td>\n",
       "      <td>1</td>\n",
       "      <td>Warren St @ Intervale St</td>\n",
       "    </tr>\n",
       "    <tr>\n",
       "      <th>1</th>\n",
       "      <td>35793580</td>\n",
       "      <td>2018-02-09</td>\n",
       "      <td>387</td>\n",
       "      <td>22</td>\n",
       "      <td>2018-02-09 04:11:37-05:00</td>\n",
       "      <td>28</td>\n",
       "      <td>1</td>\n",
       "      <td>Warren St @ Intervale St</td>\n",
       "    </tr>\n",
       "    <tr>\n",
       "      <th>2</th>\n",
       "      <td>35793581</td>\n",
       "      <td>2018-02-09</td>\n",
       "      <td>387</td>\n",
       "      <td>22</td>\n",
       "      <td>2018-02-09 04:54:49-05:00</td>\n",
       "      <td>28</td>\n",
       "      <td>1</td>\n",
       "      <td>Warren St @ Intervale St</td>\n",
       "    </tr>\n",
       "    <tr>\n",
       "      <th>3</th>\n",
       "      <td>35793579</td>\n",
       "      <td>2018-02-09</td>\n",
       "      <td>387</td>\n",
       "      <td>16</td>\n",
       "      <td>2018-02-09 05:21:41-05:00</td>\n",
       "      <td>23</td>\n",
       "      <td>1</td>\n",
       "      <td>Warren St @ Intervale St</td>\n",
       "    </tr>\n",
       "    <tr>\n",
       "      <th>4</th>\n",
       "      <td>35793858</td>\n",
       "      <td>2018-02-09</td>\n",
       "      <td>387</td>\n",
       "      <td>16</td>\n",
       "      <td>2018-02-09 05:45:54-05:00</td>\n",
       "      <td>23</td>\n",
       "      <td>1</td>\n",
       "      <td>Warren St @ Intervale St</td>\n",
       "    </tr>\n",
       "  </tbody>\n",
       "</table>\n",
       "</div>"
      ],
      "text/plain": [
       "    trip_id  trip_start stop_id  stop_sequence           local_timestamp  \\\n",
       "0  35793583  2018-02-09     387             22 2018-02-09 03:29:32-05:00   \n",
       "1  35793580  2018-02-09     387             22 2018-02-09 04:11:37-05:00   \n",
       "2  35793581  2018-02-09     387             22 2018-02-09 04:54:49-05:00   \n",
       "3  35793579  2018-02-09     387             16 2018-02-09 05:21:41-05:00   \n",
       "4  35793858  2018-02-09     387             16 2018-02-09 05:45:54-05:00   \n",
       "\n",
       "  route_id direction_id                 stop_name  \n",
       "0       28            1  Warren St @ Intervale St  \n",
       "1       28            1  Warren St @ Intervale St  \n",
       "2       28            1  Warren St @ Intervale St  \n",
       "3       23            1  Warren St @ Intervale St  \n",
       "4       23            1  Warren St @ Intervale St  "
      ]
     },
     "execution_count": 61,
     "metadata": {},
     "output_type": "execute_result"
    }
   ],
   "source": [
    "named_stops = pd.merge(stops_with_routes.drop([\"lat\", \"lon\", \"timestamp\", \"status\", \"vehicle_id\"], axis=1), \n",
    "                       stops_info[[\"stop_id\", \"stop_name\"]], on=\"stop_id\")\n",
    "named_stops.head()"
   ]
  },
  {
   "cell_type": "markdown",
   "metadata": {},
   "source": [
    "We're going to compare the actual arrival times to the scheduled arrival times.\n",
    "\n",
    "To accomplish that, we'll first need to merge in the `\"stop_times.txt\"`."
   ]
  },
  {
   "cell_type": "code",
   "execution_count": 62,
   "metadata": {
    "colab": {
     "autoexec": {
      "startup": false,
      "wait_interval": 0
     }
    },
    "colab_type": "code",
    "id": "KtAQEe_jskdA"
   },
   "outputs": [
    {
     "data": {
      "text/html": [
       "<div>\n",
       "<style>\n",
       "    .dataframe thead tr:only-child th {\n",
       "        text-align: right;\n",
       "    }\n",
       "\n",
       "    .dataframe thead th {\n",
       "        text-align: left;\n",
       "    }\n",
       "\n",
       "    .dataframe tbody tr th {\n",
       "        vertical-align: top;\n",
       "    }\n",
       "</style>\n",
       "<table border=\"1\" class=\"dataframe\">\n",
       "  <thead>\n",
       "    <tr style=\"text-align: right;\">\n",
       "      <th></th>\n",
       "      <th>trip_id</th>\n",
       "      <th>arrival_time</th>\n",
       "      <th>departure_time</th>\n",
       "      <th>stop_id</th>\n",
       "      <th>stop_sequence</th>\n",
       "      <th>stop_headsign</th>\n",
       "      <th>pickup_type</th>\n",
       "      <th>drop_off_type</th>\n",
       "      <th>timepoint</th>\n",
       "      <th>checkpoint_id</th>\n",
       "    </tr>\n",
       "  </thead>\n",
       "  <tbody>\n",
       "    <tr>\n",
       "      <th>0</th>\n",
       "      <td>Logan-22-Weekday-trip</td>\n",
       "      <td>08:00:00</td>\n",
       "      <td>08:00:00</td>\n",
       "      <td>Logan-Subway</td>\n",
       "      <td>1</td>\n",
       "      <td>NaN</td>\n",
       "      <td>0</td>\n",
       "      <td>1</td>\n",
       "      <td>0</td>\n",
       "      <td>NaN</td>\n",
       "    </tr>\n",
       "    <tr>\n",
       "      <th>1</th>\n",
       "      <td>Logan-22-Weekday-trip</td>\n",
       "      <td>08:04:00</td>\n",
       "      <td>08:04:00</td>\n",
       "      <td>Logan-RentalCarCenter</td>\n",
       "      <td>2</td>\n",
       "      <td>NaN</td>\n",
       "      <td>0</td>\n",
       "      <td>0</td>\n",
       "      <td>0</td>\n",
       "      <td>NaN</td>\n",
       "    </tr>\n",
       "    <tr>\n",
       "      <th>2</th>\n",
       "      <td>Logan-22-Weekday-trip</td>\n",
       "      <td>08:09:00</td>\n",
       "      <td>08:09:00</td>\n",
       "      <td>Logan-A</td>\n",
       "      <td>3</td>\n",
       "      <td>NaN</td>\n",
       "      <td>0</td>\n",
       "      <td>0</td>\n",
       "      <td>0</td>\n",
       "      <td>NaN</td>\n",
       "    </tr>\n",
       "    <tr>\n",
       "      <th>3</th>\n",
       "      <td>Logan-22-Weekday-trip</td>\n",
       "      <td>08:12:00</td>\n",
       "      <td>08:12:00</td>\n",
       "      <td>Logan-B</td>\n",
       "      <td>4</td>\n",
       "      <td>NaN</td>\n",
       "      <td>0</td>\n",
       "      <td>0</td>\n",
       "      <td>0</td>\n",
       "      <td>NaN</td>\n",
       "    </tr>\n",
       "    <tr>\n",
       "      <th>4</th>\n",
       "      <td>Logan-22-Weekday-trip</td>\n",
       "      <td>08:17:00</td>\n",
       "      <td>08:17:00</td>\n",
       "      <td>Logan-Subway</td>\n",
       "      <td>5</td>\n",
       "      <td>NaN</td>\n",
       "      <td>1</td>\n",
       "      <td>0</td>\n",
       "      <td>0</td>\n",
       "      <td>NaN</td>\n",
       "    </tr>\n",
       "  </tbody>\n",
       "</table>\n",
       "</div>"
      ],
      "text/plain": [
       "                 trip_id arrival_time departure_time                stop_id  \\\n",
       "0  Logan-22-Weekday-trip     08:00:00       08:00:00           Logan-Subway   \n",
       "1  Logan-22-Weekday-trip     08:04:00       08:04:00  Logan-RentalCarCenter   \n",
       "2  Logan-22-Weekday-trip     08:09:00       08:09:00                Logan-A   \n",
       "3  Logan-22-Weekday-trip     08:12:00       08:12:00                Logan-B   \n",
       "4  Logan-22-Weekday-trip     08:17:00       08:17:00           Logan-Subway   \n",
       "\n",
       "  stop_sequence stop_headsign pickup_type drop_off_type timepoint  \\\n",
       "0             1           NaN           0             1         0   \n",
       "1             2           NaN           0             0         0   \n",
       "2             3           NaN           0             0         0   \n",
       "3             4           NaN           0             0         0   \n",
       "4             5           NaN           1             0         0   \n",
       "\n",
       "  checkpoint_id  \n",
       "0           NaN  \n",
       "1           NaN  \n",
       "2           NaN  \n",
       "3           NaN  \n",
       "4           NaN  "
      ]
     },
     "execution_count": 62,
     "metadata": {},
     "output_type": "execute_result"
    }
   ],
   "source": [
    "stop_times = get_zip_item(static_feed, \"stop_times\")\n",
    "stop_times.head()"
   ]
  },
  {
   "cell_type": "markdown",
   "metadata": {
    "colab_type": "text",
    "id": "4Em59cxd549G"
   },
   "source": [
    "We'll merge on `trip_id` and `stop_sequence` and add the `arrival_time` column."
   ]
  },
  {
   "cell_type": "code",
   "execution_count": 93,
   "metadata": {
    "colab": {
     "autoexec": {
      "startup": false,
      "wait_interval": 0
     },
     "base_uri": "https://localhost:8080/",
     "height": 308
    },
    "colab_type": "code",
    "executionInfo": {
     "elapsed": 1895,
     "status": "ok",
     "timestamp": 1527642294522,
     "user": {
      "displayName": "Brian Sanders",
      "photoUrl": "https://lh3.googleusercontent.com/a/default-user=s128",
      "userId": "117372068364006546394"
     },
     "user_tz": 240
    },
    "id": "v54K-m_c549G",
    "outputId": "c9f790e9-22f7-4a30-b06f-397cc61bfb5e"
   },
   "outputs": [
    {
     "data": {
      "text/html": [
       "<div>\n",
       "<style>\n",
       "    .dataframe thead tr:only-child th {\n",
       "        text-align: right;\n",
       "    }\n",
       "\n",
       "    .dataframe thead th {\n",
       "        text-align: left;\n",
       "    }\n",
       "\n",
       "    .dataframe tbody tr th {\n",
       "        vertical-align: top;\n",
       "    }\n",
       "</style>\n",
       "<table border=\"1\" class=\"dataframe\">\n",
       "  <thead>\n",
       "    <tr style=\"text-align: right;\">\n",
       "      <th></th>\n",
       "      <th>trip_id</th>\n",
       "      <th>trip_start</th>\n",
       "      <th>stop_id</th>\n",
       "      <th>stop_sequence</th>\n",
       "      <th>local_timestamp</th>\n",
       "      <th>route_id</th>\n",
       "      <th>direction_id</th>\n",
       "      <th>stop_name</th>\n",
       "      <th>arrival_time</th>\n",
       "    </tr>\n",
       "  </thead>\n",
       "  <tbody>\n",
       "    <tr>\n",
       "      <th>0</th>\n",
       "      <td>35793583</td>\n",
       "      <td>2018-02-09</td>\n",
       "      <td>387</td>\n",
       "      <td>22</td>\n",
       "      <td>2018-02-09 03:29:32-05:00</td>\n",
       "      <td>28</td>\n",
       "      <td>1</td>\n",
       "      <td>Warren St @ Intervale St</td>\n",
       "      <td>03:27:00</td>\n",
       "    </tr>\n",
       "    <tr>\n",
       "      <th>1</th>\n",
       "      <td>35793580</td>\n",
       "      <td>2018-02-09</td>\n",
       "      <td>387</td>\n",
       "      <td>22</td>\n",
       "      <td>2018-02-09 04:11:37-05:00</td>\n",
       "      <td>28</td>\n",
       "      <td>1</td>\n",
       "      <td>Warren St @ Intervale St</td>\n",
       "      <td>04:08:00</td>\n",
       "    </tr>\n",
       "    <tr>\n",
       "      <th>2</th>\n",
       "      <td>35793581</td>\n",
       "      <td>2018-02-09</td>\n",
       "      <td>387</td>\n",
       "      <td>22</td>\n",
       "      <td>2018-02-09 04:54:49-05:00</td>\n",
       "      <td>28</td>\n",
       "      <td>1</td>\n",
       "      <td>Warren St @ Intervale St</td>\n",
       "      <td>04:52:00</td>\n",
       "    </tr>\n",
       "    <tr>\n",
       "      <th>3</th>\n",
       "      <td>35793579</td>\n",
       "      <td>2018-02-09</td>\n",
       "      <td>387</td>\n",
       "      <td>16</td>\n",
       "      <td>2018-02-09 05:21:41-05:00</td>\n",
       "      <td>23</td>\n",
       "      <td>1</td>\n",
       "      <td>Warren St @ Intervale St</td>\n",
       "      <td>05:19:00</td>\n",
       "    </tr>\n",
       "    <tr>\n",
       "      <th>4</th>\n",
       "      <td>35793858</td>\n",
       "      <td>2018-02-09</td>\n",
       "      <td>387</td>\n",
       "      <td>16</td>\n",
       "      <td>2018-02-09 05:45:54-05:00</td>\n",
       "      <td>23</td>\n",
       "      <td>1</td>\n",
       "      <td>Warren St @ Intervale St</td>\n",
       "      <td>05:42:00</td>\n",
       "    </tr>\n",
       "  </tbody>\n",
       "</table>\n",
       "</div>"
      ],
      "text/plain": [
       "    trip_id  trip_start stop_id  stop_sequence           local_timestamp  \\\n",
       "0  35793583  2018-02-09     387             22 2018-02-09 03:29:32-05:00   \n",
       "1  35793580  2018-02-09     387             22 2018-02-09 04:11:37-05:00   \n",
       "2  35793581  2018-02-09     387             22 2018-02-09 04:54:49-05:00   \n",
       "3  35793579  2018-02-09     387             16 2018-02-09 05:21:41-05:00   \n",
       "4  35793858  2018-02-09     387             16 2018-02-09 05:45:54-05:00   \n",
       "\n",
       "  route_id direction_id                 stop_name arrival_time  \n",
       "0       28            1  Warren St @ Intervale St     03:27:00  \n",
       "1       28            1  Warren St @ Intervale St     04:08:00  \n",
       "2       28            1  Warren St @ Intervale St     04:52:00  \n",
       "3       23            1  Warren St @ Intervale St     05:19:00  \n",
       "4       23            1  Warren St @ Intervale St     05:42:00  "
      ]
     },
     "execution_count": 93,
     "metadata": {},
     "output_type": "execute_result"
    }
   ],
   "source": [
    "stop_times[\"stop_sequence\"] = pd.to_numeric(stop_times[\"stop_sequence\"])\n",
    "stops_with_times = pd.merge(named_stops, stop_times[[\"trip_id\", \"stop_sequence\", \"arrival_time\"]], on=[\"trip_id\", \"stop_sequence\"])\n",
    "stops_with_times.head()"
   ]
  },
  {
   "cell_type": "markdown",
   "metadata": {
    "colab_type": "text",
    "id": "jk8Em0T-549J"
   },
   "source": [
    "Let's merge the schedule information with the observed data. Join the rows together wherever the `trip_id` and `stop_sequence` are the same."
   ]
  },
  {
   "cell_type": "markdown",
   "metadata": {
    "colab_type": "text",
    "id": "GXb4CTj4549M"
   },
   "source": [
    "If everything always went according to plan, we would have the same number of stops after the join as we did before. That's usually not the case. Temporary service disruptions mean that some of the trip ids present in our original `stops` dataframe won't correspond to trips in the static feed. The MBTA provides another API, the [realtime API](http://realtime.mbta.com/Portal/Home/Documents), where you can retrieve information about those missing trips. Implementing that here would be a distraction, so we'll make do with what we have."
   ]
  },
  {
   "cell_type": "markdown",
   "metadata": {
    "colab_type": "text",
    "id": "CLEfoVdS549M"
   },
   "source": [
    "## More Cleanup\n",
    "Maybe you noticed that the values in the  `arrival_time` column are recorded as wall-clock times in the format `hh:mm:ss`. For instance, `03:27:00` for 3:27 am.\n",
    "\n",
    "That makes sense; the schedule doesn't give us exact timestamps, because trips typically recur. Some run every weekday. Some run every Sunday. And so forth.\n",
    "\n",
    "But it does mean we have to convert them to timestamps if we want to calculate delays. Per the spec, the times are relative to noon - 12 hours on the service day, in order to account for days when DST begins or ends."
   ]
  },
  {
   "cell_type": "code",
   "execution_count": 86,
   "metadata": {
    "colab": {
     "autoexec": {
      "startup": false,
      "wait_interval": 0
     }
    },
    "colab_type": "code",
    "collapsed": true,
    "id": "5Bcf-jj5549N"
   },
   "outputs": [],
   "source": [
    "from datetime import datetime, timedelta\n",
    "import pytz\n",
    "\n",
    "timezone = pytz.timezone(\"US/Eastern\")\n",
    "\n",
    "def get_date(trip_start):\n",
    "    y, M, d = map(int, trip_start.split(\"-\"))\n",
    "    return timezone.localize(datetime(y, M, d).replace(hour=12)) - timedelta(hours=12)\n",
    "\n",
    "def convert_clock_time(row, start):\n",
    "    h, m, s = map(int, row.arrival_time.split(\":\", 2))\n",
    "    return timezone.normalize(\n",
    "        start + timedelta(hours=h, minutes=m, seconds=s)\n",
    "    )"
   ]
  },
  {
   "cell_type": "markdown",
   "metadata": {
    "colab_type": "text",
    "id": "uGwKBWYW549O"
   },
   "source": [
    "Now let's use the function to convert the scheduled arrival time to a timestamp, using the trip start date. It may take a few moments."
   ]
  },
  {
   "cell_type": "code",
   "execution_count": 95,
   "metadata": {
    "colab": {
     "autoexec": {
      "startup": false,
      "wait_interval": 0
     },
     "base_uri": "https://localhost:8080/",
     "height": 308
    },
    "colab_type": "code",
    "executionInfo": {
     "elapsed": 42181,
     "status": "ok",
     "timestamp": 1527642886828,
     "user": {
      "displayName": "Brian Sanders",
      "photoUrl": "https://lh3.googleusercontent.com/a/default-user=s128",
      "userId": "117372068364006546394"
     },
     "user_tz": 240
    },
    "id": "CXICiPHp549P",
    "outputId": "28d1d04e-6560-4059-defa-8df6bb8ff312"
   },
   "outputs": [
    {
     "data": {
      "text/html": [
       "<div>\n",
       "<style>\n",
       "    .dataframe thead tr:only-child th {\n",
       "        text-align: right;\n",
       "    }\n",
       "\n",
       "    .dataframe thead th {\n",
       "        text-align: left;\n",
       "    }\n",
       "\n",
       "    .dataframe tbody tr th {\n",
       "        vertical-align: top;\n",
       "    }\n",
       "</style>\n",
       "<table border=\"1\" class=\"dataframe\">\n",
       "  <thead>\n",
       "    <tr style=\"text-align: right;\">\n",
       "      <th></th>\n",
       "      <th>trip_id</th>\n",
       "      <th>trip_start</th>\n",
       "      <th>stop_id</th>\n",
       "      <th>stop_sequence</th>\n",
       "      <th>local_timestamp</th>\n",
       "      <th>route_id</th>\n",
       "      <th>direction_id</th>\n",
       "      <th>stop_name</th>\n",
       "      <th>arrival_time</th>\n",
       "      <th>scheduled_arrival_time</th>\n",
       "    </tr>\n",
       "  </thead>\n",
       "  <tbody>\n",
       "    <tr>\n",
       "      <th>0</th>\n",
       "      <td>35793583</td>\n",
       "      <td>2018-02-09</td>\n",
       "      <td>387</td>\n",
       "      <td>22</td>\n",
       "      <td>2018-02-09 03:29:32-05:00</td>\n",
       "      <td>28</td>\n",
       "      <td>1</td>\n",
       "      <td>Warren St @ Intervale St</td>\n",
       "      <td>03:27:00</td>\n",
       "      <td>2018-02-09 03:27:00-05:00</td>\n",
       "    </tr>\n",
       "    <tr>\n",
       "      <th>1</th>\n",
       "      <td>35793580</td>\n",
       "      <td>2018-02-09</td>\n",
       "      <td>387</td>\n",
       "      <td>22</td>\n",
       "      <td>2018-02-09 04:11:37-05:00</td>\n",
       "      <td>28</td>\n",
       "      <td>1</td>\n",
       "      <td>Warren St @ Intervale St</td>\n",
       "      <td>04:08:00</td>\n",
       "      <td>2018-02-09 04:08:00-05:00</td>\n",
       "    </tr>\n",
       "    <tr>\n",
       "      <th>2</th>\n",
       "      <td>35793581</td>\n",
       "      <td>2018-02-09</td>\n",
       "      <td>387</td>\n",
       "      <td>22</td>\n",
       "      <td>2018-02-09 04:54:49-05:00</td>\n",
       "      <td>28</td>\n",
       "      <td>1</td>\n",
       "      <td>Warren St @ Intervale St</td>\n",
       "      <td>04:52:00</td>\n",
       "      <td>2018-02-09 04:52:00-05:00</td>\n",
       "    </tr>\n",
       "    <tr>\n",
       "      <th>3</th>\n",
       "      <td>35793579</td>\n",
       "      <td>2018-02-09</td>\n",
       "      <td>387</td>\n",
       "      <td>16</td>\n",
       "      <td>2018-02-09 05:21:41-05:00</td>\n",
       "      <td>23</td>\n",
       "      <td>1</td>\n",
       "      <td>Warren St @ Intervale St</td>\n",
       "      <td>05:19:00</td>\n",
       "      <td>2018-02-09 05:19:00-05:00</td>\n",
       "    </tr>\n",
       "    <tr>\n",
       "      <th>4</th>\n",
       "      <td>35793858</td>\n",
       "      <td>2018-02-09</td>\n",
       "      <td>387</td>\n",
       "      <td>16</td>\n",
       "      <td>2018-02-09 05:45:54-05:00</td>\n",
       "      <td>23</td>\n",
       "      <td>1</td>\n",
       "      <td>Warren St @ Intervale St</td>\n",
       "      <td>05:42:00</td>\n",
       "      <td>2018-02-09 05:42:00-05:00</td>\n",
       "    </tr>\n",
       "  </tbody>\n",
       "</table>\n",
       "</div>"
      ],
      "text/plain": [
       "    trip_id  trip_start stop_id  stop_sequence           local_timestamp  \\\n",
       "0  35793583  2018-02-09     387             22 2018-02-09 03:29:32-05:00   \n",
       "1  35793580  2018-02-09     387             22 2018-02-09 04:11:37-05:00   \n",
       "2  35793581  2018-02-09     387             22 2018-02-09 04:54:49-05:00   \n",
       "3  35793579  2018-02-09     387             16 2018-02-09 05:21:41-05:00   \n",
       "4  35793858  2018-02-09     387             16 2018-02-09 05:45:54-05:00   \n",
       "\n",
       "  route_id direction_id                 stop_name arrival_time  \\\n",
       "0       28            1  Warren St @ Intervale St     03:27:00   \n",
       "1       28            1  Warren St @ Intervale St     04:08:00   \n",
       "2       28            1  Warren St @ Intervale St     04:52:00   \n",
       "3       23            1  Warren St @ Intervale St     05:19:00   \n",
       "4       23            1  Warren St @ Intervale St     05:42:00   \n",
       "\n",
       "     scheduled_arrival_time  \n",
       "0 2018-02-09 03:27:00-05:00  \n",
       "1 2018-02-09 04:08:00-05:00  \n",
       "2 2018-02-09 04:52:00-05:00  \n",
       "3 2018-02-09 05:19:00-05:00  \n",
       "4 2018-02-09 05:42:00-05:00  "
      ]
     },
     "execution_count": 95,
     "metadata": {},
     "output_type": "execute_result"
    }
   ],
   "source": [
    "trip_start = stops_with_times.trip_start.unique()[0]\n",
    "scheduled_times = stops_with_times.apply(convert_clock_time, axis=1, start=get_date(trip_start))\n",
    "stops_with_schedule = stops_with_times.assign(scheduled_arrival_time=scheduled_times)\n",
    "stops_with_schedule.head()"
   ]
  },
  {
   "cell_type": "markdown",
   "metadata": {},
   "source": [
    "We can calculate the delay now simply by subtracting the scheduled arrival time from the local timestamp:"
   ]
  },
  {
   "cell_type": "code",
   "execution_count": 97,
   "metadata": {
    "colab": {
     "autoexec": {
      "startup": false,
      "wait_interval": 0
     },
     "base_uri": "https://localhost:8080/",
     "height": 123
    },
    "colab_type": "code",
    "executionInfo": {
     "elapsed": 331,
     "status": "ok",
     "timestamp": 1527643053959,
     "user": {
      "displayName": "Brian Sanders",
      "photoUrl": "https://lh3.googleusercontent.com/a/default-user=s128",
      "userId": "117372068364006546394"
     },
     "user_tz": 240
    },
    "id": "ZssgVDYMKjY7",
    "outputId": "e6ae0058-91d6-4f2c-8760-39a770a8c219"
   },
   "outputs": [
    {
     "data": {
      "text/plain": [
       "0    152.0\n",
       "1    217.0\n",
       "2    169.0\n",
       "3    161.0\n",
       "4    234.0\n",
       "Name: local_timestamp, dtype: float64"
      ]
     },
     "execution_count": 97,
     "metadata": {},
     "output_type": "execute_result"
    }
   ],
   "source": [
    "delay = (stops_with_schedule.local_timestamp - stops_with_schedule.scheduled_arrival_time).dt.total_seconds()\n",
    "# The .dt accessor on the Series provides access to vectorized datetime methods.\n",
    "delay.head()"
   ]
  },
  {
   "cell_type": "code",
   "execution_count": 98,
   "metadata": {
    "colab": {
     "autoexec": {
      "startup": false,
      "wait_interval": 0
     },
     "base_uri": "https://localhost:8080/",
     "height": 176
    },
    "colab_type": "code",
    "executionInfo": {
     "elapsed": 287,
     "status": "ok",
     "timestamp": 1527643161424,
     "user": {
      "displayName": "Brian Sanders",
      "photoUrl": "https://lh3.googleusercontent.com/a/default-user=s128",
      "userId": "117372068364006546394"
     },
     "user_tz": 240
    },
    "id": "3QRLlSfqnx2-",
    "outputId": "19183f4d-434c-4990-b549-e87167c3a61b"
   },
   "outputs": [
    {
     "data": {
      "text/plain": [
       "count    303830.000000\n",
       "mean        150.726488\n",
       "std         436.045831\n",
       "min       -3716.000000\n",
       "25%         -60.000000\n",
       "50%         106.000000\n",
       "75%         330.000000\n",
       "max        5392.000000\n",
       "Name: local_timestamp, dtype: float64"
      ]
     },
     "execution_count": 98,
     "metadata": {},
     "output_type": "execute_result"
    }
   ],
   "source": [
    "delay.describe()"
   ]
  },
  {
   "cell_type": "code",
   "execution_count": 110,
   "metadata": {
    "colab": {
     "autoexec": {
      "startup": false,
      "wait_interval": 0
     }
    },
    "colab_type": "code",
    "id": "TDk8OvLNoMHE"
   },
   "outputs": [
    {
     "data": {
      "text/plain": [
       "route_id\n",
       "1                   219.0\n",
       "10                  115.0\n",
       "100                  40.5\n",
       "101                 225.0\n",
       "104                 253.0\n",
       "105                 285.0\n",
       "106                   2.5\n",
       "108                 100.0\n",
       "109                 218.0\n",
       "11                  120.0\n",
       "110                 186.0\n",
       "111                 137.5\n",
       "112                 298.0\n",
       "114                  67.0\n",
       "116                 103.0\n",
       "116117              303.0\n",
       "117                 103.0\n",
       "119                 171.0\n",
       "120                 271.0\n",
       "121                  26.0\n",
       "131                 141.0\n",
       "132                  70.0\n",
       "134                  52.0\n",
       "136                 108.0\n",
       "137                 229.5\n",
       "14                  -15.0\n",
       "15                  230.0\n",
       "16                  152.0\n",
       "17                  157.0\n",
       "170                 224.0\n",
       "                    ...  \n",
       "9                    83.0\n",
       "90                   16.0\n",
       "91                  154.0\n",
       "92                  118.0\n",
       "93                  105.0\n",
       "94                  129.0\n",
       "95                  140.0\n",
       "96                   85.0\n",
       "97                   51.0\n",
       "99                   69.0\n",
       "Blue                -23.0\n",
       "CR-Fairmount        -42.0\n",
       "CR-Fitchburg         33.0\n",
       "CR-Franklin         -13.0\n",
       "CR-Greenbush        -20.0\n",
       "CR-Haverhill         23.0\n",
       "CR-Kingston          -7.0\n",
       "CR-Lowell            -3.0\n",
       "CR-Middleborough    -29.5\n",
       "CR-Needham           -1.0\n",
       "CR-Newburyport       16.0\n",
       "CR-Providence       -28.0\n",
       "CR-Worcester         15.5\n",
       "Green-B             259.0\n",
       "Green-C             186.0\n",
       "Green-D            -219.0\n",
       "Green-E            -145.0\n",
       "Mattapan            305.5\n",
       "Orange              134.0\n",
       "Red                 536.5\n",
       "Name: delay, Length: 196, dtype: float64"
      ]
     },
     "execution_count": 110,
     "metadata": {},
     "output_type": "execute_result"
    }
   ],
   "source": [
    "stops_with_schedule[\"delay\"] = delay\n",
    "routes = stops_with_schedule.groupby(\"route_id\")\n",
    "# We could also use `.describe()` for full descriptive statistics\n",
    "routes[\"delay\"].median()"
   ]
  },
  {
   "cell_type": "code",
   "execution_count": 111,
   "metadata": {
    "colab": {
     "autoexec": {
      "startup": false,
      "wait_interval": 0
     },
     "base_uri": "https://localhost:8080/",
     "height": 308
    },
    "colab_type": "code",
    "executionInfo": {
     "elapsed": 289,
     "status": "ok",
     "timestamp": 1527643632039,
     "user": {
      "displayName": "Brian Sanders",
      "photoUrl": "https://lh3.googleusercontent.com/a/default-user=s128",
      "userId": "117372068364006546394"
     },
     "user_tz": 240
    },
    "id": "y7IRbVZKpQkD",
    "outputId": "16bce55c-1bf2-4e19-e9a1-b32c8923dd98"
   },
   "outputs": [
    {
     "data": {
      "text/html": [
       "<div>\n",
       "<style>\n",
       "    .dataframe thead tr:only-child th {\n",
       "        text-align: right;\n",
       "    }\n",
       "\n",
       "    .dataframe thead th {\n",
       "        text-align: left;\n",
       "    }\n",
       "\n",
       "    .dataframe tbody tr th {\n",
       "        vertical-align: top;\n",
       "    }\n",
       "</style>\n",
       "<table border=\"1\" class=\"dataframe\">\n",
       "  <thead>\n",
       "    <tr style=\"text-align: right;\">\n",
       "      <th></th>\n",
       "      <th>trip_id</th>\n",
       "      <th>trip_start</th>\n",
       "      <th>stop_id</th>\n",
       "      <th>stop_sequence</th>\n",
       "      <th>local_timestamp</th>\n",
       "      <th>route_id</th>\n",
       "      <th>direction_id</th>\n",
       "      <th>stop_name</th>\n",
       "      <th>arrival_time</th>\n",
       "      <th>scheduled_arrival_time</th>\n",
       "      <th>delay</th>\n",
       "    </tr>\n",
       "  </thead>\n",
       "  <tbody>\n",
       "    <tr>\n",
       "      <th>67578</th>\n",
       "      <td>35448569-L</td>\n",
       "      <td>2018-02-09</td>\n",
       "      <td>70105</td>\n",
       "      <td>1</td>\n",
       "      <td>2018-02-09 04:53:22-05:00</td>\n",
       "      <td>Red</td>\n",
       "      <td>1</td>\n",
       "      <td>Braintree</td>\n",
       "      <td>05:15:00</td>\n",
       "      <td>2018-02-09 05:15:00-05:00</td>\n",
       "      <td>-1298.0</td>\n",
       "    </tr>\n",
       "    <tr>\n",
       "      <th>67579</th>\n",
       "      <td>35448571-L</td>\n",
       "      <td>2018-02-09</td>\n",
       "      <td>70105</td>\n",
       "      <td>1</td>\n",
       "      <td>2018-02-09 05:11:40-05:00</td>\n",
       "      <td>Red</td>\n",
       "      <td>1</td>\n",
       "      <td>Braintree</td>\n",
       "      <td>05:22:00</td>\n",
       "      <td>2018-02-09 05:22:00-05:00</td>\n",
       "      <td>-620.0</td>\n",
       "    </tr>\n",
       "    <tr>\n",
       "      <th>67580</th>\n",
       "      <td>35448573-L</td>\n",
       "      <td>2018-02-09</td>\n",
       "      <td>70105</td>\n",
       "      <td>1</td>\n",
       "      <td>2018-02-09 05:24:03-05:00</td>\n",
       "      <td>Red</td>\n",
       "      <td>1</td>\n",
       "      <td>Braintree</td>\n",
       "      <td>05:32:00</td>\n",
       "      <td>2018-02-09 05:32:00-05:00</td>\n",
       "      <td>-477.0</td>\n",
       "    </tr>\n",
       "    <tr>\n",
       "      <th>67581</th>\n",
       "      <td>35448575-L</td>\n",
       "      <td>2018-02-09</td>\n",
       "      <td>70105</td>\n",
       "      <td>1</td>\n",
       "      <td>2018-02-09 05:28:15-05:00</td>\n",
       "      <td>Red</td>\n",
       "      <td>1</td>\n",
       "      <td>Braintree</td>\n",
       "      <td>05:43:00</td>\n",
       "      <td>2018-02-09 05:43:00-05:00</td>\n",
       "      <td>-885.0</td>\n",
       "    </tr>\n",
       "    <tr>\n",
       "      <th>67582</th>\n",
       "      <td>35448582-L</td>\n",
       "      <td>2018-02-09</td>\n",
       "      <td>70105</td>\n",
       "      <td>1</td>\n",
       "      <td>2018-02-09 05:46:41-05:00</td>\n",
       "      <td>Red</td>\n",
       "      <td>1</td>\n",
       "      <td>Braintree</td>\n",
       "      <td>05:53:00</td>\n",
       "      <td>2018-02-09 05:53:00-05:00</td>\n",
       "      <td>-379.0</td>\n",
       "    </tr>\n",
       "  </tbody>\n",
       "</table>\n",
       "</div>"
      ],
      "text/plain": [
       "          trip_id  trip_start stop_id  stop_sequence  \\\n",
       "67578  35448569-L  2018-02-09   70105              1   \n",
       "67579  35448571-L  2018-02-09   70105              1   \n",
       "67580  35448573-L  2018-02-09   70105              1   \n",
       "67581  35448575-L  2018-02-09   70105              1   \n",
       "67582  35448582-L  2018-02-09   70105              1   \n",
       "\n",
       "                local_timestamp route_id direction_id  stop_name arrival_time  \\\n",
       "67578 2018-02-09 04:53:22-05:00      Red            1  Braintree     05:15:00   \n",
       "67579 2018-02-09 05:11:40-05:00      Red            1  Braintree     05:22:00   \n",
       "67580 2018-02-09 05:24:03-05:00      Red            1  Braintree     05:32:00   \n",
       "67581 2018-02-09 05:28:15-05:00      Red            1  Braintree     05:43:00   \n",
       "67582 2018-02-09 05:46:41-05:00      Red            1  Braintree     05:53:00   \n",
       "\n",
       "         scheduled_arrival_time   delay  \n",
       "67578 2018-02-09 05:15:00-05:00 -1298.0  \n",
       "67579 2018-02-09 05:22:00-05:00  -620.0  \n",
       "67580 2018-02-09 05:32:00-05:00  -477.0  \n",
       "67581 2018-02-09 05:43:00-05:00  -885.0  \n",
       "67582 2018-02-09 05:53:00-05:00  -379.0  "
      ]
     },
     "execution_count": 111,
     "metadata": {},
     "output_type": "execute_result"
    }
   ],
   "source": [
    "red_line = stops_with_schedule.query(\"route_id == 'Red'\")\n",
    "red_line.head()"
   ]
  },
  {
   "cell_type": "markdown",
   "metadata": {},
   "source": [
    "We got a brief glimpse of `GroupBy` above. We can use `apply` on them as well. If we think of `Series.apply` apply a function down the length of a Series and calling it on each member; and we think of `DataFrame.groupby` as traversing the columns or rows of the frame; `GroupBy.apply` applies a function across each group. So `Series.apply` takes a function that receives a scalar input; `DataFrame.apply` takes a function that receives a `Series`; and `GroupBy.apply` takes a function that receives a `DataFrame` (technically, it depends what you're grouping).\n",
    "\n",
    "Let's create an 'hour_start' column for our red line data. This will represent the hour during which each trip began. To do that, we'll have to group by `trip_id`."
   ]
  },
  {
   "cell_type": "code",
   "execution_count": 112,
   "metadata": {
    "colab": {
     "autoexec": {
      "startup": false,
      "wait_interval": 0
     },
     "base_uri": "https://localhost:8080/",
     "height": 548
    },
    "colab_type": "code",
    "executionInfo": {
     "elapsed": 1554,
     "status": "ok",
     "timestamp": 1527644097109,
     "user": {
      "displayName": "Brian Sanders",
      "photoUrl": "https://lh3.googleusercontent.com/a/default-user=s128",
      "userId": "117372068364006546394"
     },
     "user_tz": 240
    },
    "id": "8Ss3OFbqqkBo",
    "outputId": "d8614c2d-85a5-49e4-d9c5-b8592b0d33e0"
   },
   "outputs": [
    {
     "data": {
      "text/html": [
       "<div>\n",
       "<style>\n",
       "    .dataframe thead tr:only-child th {\n",
       "        text-align: right;\n",
       "    }\n",
       "\n",
       "    .dataframe thead th {\n",
       "        text-align: left;\n",
       "    }\n",
       "\n",
       "    .dataframe tbody tr th {\n",
       "        vertical-align: top;\n",
       "    }\n",
       "</style>\n",
       "<table border=\"1\" class=\"dataframe\">\n",
       "  <thead>\n",
       "    <tr style=\"text-align: right;\">\n",
       "      <th></th>\n",
       "      <th>trip_id</th>\n",
       "      <th>trip_start</th>\n",
       "      <th>stop_id</th>\n",
       "      <th>stop_sequence</th>\n",
       "      <th>local_timestamp</th>\n",
       "      <th>route_id</th>\n",
       "      <th>direction_id</th>\n",
       "      <th>stop_name</th>\n",
       "      <th>arrival_time</th>\n",
       "      <th>scheduled_arrival_time</th>\n",
       "      <th>delay</th>\n",
       "      <th>hour_start</th>\n",
       "      <th>schedule_offset</th>\n",
       "    </tr>\n",
       "  </thead>\n",
       "  <tbody>\n",
       "    <tr>\n",
       "      <th>67578</th>\n",
       "      <td>35448569-L</td>\n",
       "      <td>2018-02-09</td>\n",
       "      <td>70105</td>\n",
       "      <td>1</td>\n",
       "      <td>2018-02-09 04:53:22-05:00</td>\n",
       "      <td>Red</td>\n",
       "      <td>1</td>\n",
       "      <td>Braintree</td>\n",
       "      <td>05:15:00</td>\n",
       "      <td>2018-02-09 05:15:00-05:00</td>\n",
       "      <td>-1298.0</td>\n",
       "      <td>5</td>\n",
       "      <td>0.0</td>\n",
       "    </tr>\n",
       "    <tr>\n",
       "      <th>67579</th>\n",
       "      <td>35448571-L</td>\n",
       "      <td>2018-02-09</td>\n",
       "      <td>70105</td>\n",
       "      <td>1</td>\n",
       "      <td>2018-02-09 05:11:40-05:00</td>\n",
       "      <td>Red</td>\n",
       "      <td>1</td>\n",
       "      <td>Braintree</td>\n",
       "      <td>05:22:00</td>\n",
       "      <td>2018-02-09 05:22:00-05:00</td>\n",
       "      <td>-620.0</td>\n",
       "      <td>5</td>\n",
       "      <td>0.0</td>\n",
       "    </tr>\n",
       "    <tr>\n",
       "      <th>67580</th>\n",
       "      <td>35448573-L</td>\n",
       "      <td>2018-02-09</td>\n",
       "      <td>70105</td>\n",
       "      <td>1</td>\n",
       "      <td>2018-02-09 05:24:03-05:00</td>\n",
       "      <td>Red</td>\n",
       "      <td>1</td>\n",
       "      <td>Braintree</td>\n",
       "      <td>05:32:00</td>\n",
       "      <td>2018-02-09 05:32:00-05:00</td>\n",
       "      <td>-477.0</td>\n",
       "      <td>5</td>\n",
       "      <td>0.0</td>\n",
       "    </tr>\n",
       "    <tr>\n",
       "      <th>67581</th>\n",
       "      <td>35448575-L</td>\n",
       "      <td>2018-02-09</td>\n",
       "      <td>70105</td>\n",
       "      <td>1</td>\n",
       "      <td>2018-02-09 05:28:15-05:00</td>\n",
       "      <td>Red</td>\n",
       "      <td>1</td>\n",
       "      <td>Braintree</td>\n",
       "      <td>05:43:00</td>\n",
       "      <td>2018-02-09 05:43:00-05:00</td>\n",
       "      <td>-885.0</td>\n",
       "      <td>5</td>\n",
       "      <td>0.0</td>\n",
       "    </tr>\n",
       "    <tr>\n",
       "      <th>67582</th>\n",
       "      <td>35448582-L</td>\n",
       "      <td>2018-02-09</td>\n",
       "      <td>70105</td>\n",
       "      <td>1</td>\n",
       "      <td>2018-02-09 05:46:41-05:00</td>\n",
       "      <td>Red</td>\n",
       "      <td>1</td>\n",
       "      <td>Braintree</td>\n",
       "      <td>05:53:00</td>\n",
       "      <td>2018-02-09 05:53:00-05:00</td>\n",
       "      <td>-379.0</td>\n",
       "      <td>5</td>\n",
       "      <td>0.0</td>\n",
       "    </tr>\n",
       "  </tbody>\n",
       "</table>\n",
       "</div>"
      ],
      "text/plain": [
       "          trip_id  trip_start stop_id  stop_sequence  \\\n",
       "67578  35448569-L  2018-02-09   70105              1   \n",
       "67579  35448571-L  2018-02-09   70105              1   \n",
       "67580  35448573-L  2018-02-09   70105              1   \n",
       "67581  35448575-L  2018-02-09   70105              1   \n",
       "67582  35448582-L  2018-02-09   70105              1   \n",
       "\n",
       "                local_timestamp route_id direction_id  stop_name arrival_time  \\\n",
       "67578 2018-02-09 04:53:22-05:00      Red            1  Braintree     05:15:00   \n",
       "67579 2018-02-09 05:11:40-05:00      Red            1  Braintree     05:22:00   \n",
       "67580 2018-02-09 05:24:03-05:00      Red            1  Braintree     05:32:00   \n",
       "67581 2018-02-09 05:28:15-05:00      Red            1  Braintree     05:43:00   \n",
       "67582 2018-02-09 05:46:41-05:00      Red            1  Braintree     05:53:00   \n",
       "\n",
       "         scheduled_arrival_time   delay  hour_start  schedule_offset  \n",
       "67578 2018-02-09 05:15:00-05:00 -1298.0           5              0.0  \n",
       "67579 2018-02-09 05:22:00-05:00  -620.0           5              0.0  \n",
       "67580 2018-02-09 05:32:00-05:00  -477.0           5              0.0  \n",
       "67581 2018-02-09 05:43:00-05:00  -885.0           5              0.0  \n",
       "67582 2018-02-09 05:53:00-05:00  -379.0           5              0.0  "
      ]
     },
     "execution_count": 112,
     "metadata": {},
     "output_type": "execute_result"
    }
   ],
   "source": [
    "def add_hour_start(group):\n",
    "    start_time = group.scheduled_arrival_time.min()\n",
    "    group[\"hour_start\"] = start_time.hour\n",
    "    group[\"schedule_offset\"] = (group.scheduled_arrival_time - start_time).dt.total_seconds()\n",
    "    return group\n",
    "\n",
    "red_line = red_line.groupby(\"trip_id\").apply(add_hour_start)\n",
    "red_line.head()"
   ]
  },
  {
   "cell_type": "code",
   "execution_count": 113,
   "metadata": {
    "colab": {
     "autoexec": {
      "startup": false,
      "wait_interval": 0
     }
    },
    "colab_type": "code",
    "collapsed": true,
    "id": "fW8ZpW_t549c"
   },
   "outputs": [],
   "source": [
    "orange_line = stops_with_schedule.query(\"route_id == 'Orange'\").groupby(\"trip_id\").apply(add_hour_start)\n",
    "blue_line = stops_with_schedule.query(\"route_id == 'Blue'\").groupby(\"trip_id\").apply(add_hour_start)"
   ]
  },
  {
   "cell_type": "markdown",
   "metadata": {
    "colab_type": "text",
    "id": "Gg3hhW9w549h"
   },
   "source": [
    "Let's take a look at how many trips start during each hour. We'll be using [matplotlib](http://matplotlib.org), a high-level charting API, and [Seaborn](http://seaborn.pydata.org), which adds styles and additional chart types to matplotlib."
   ]
  },
  {
   "cell_type": "code",
   "execution_count": 114,
   "metadata": {
    "colab": {
     "autoexec": {
      "startup": false,
      "wait_interval": 0
     },
     "base_uri": "https://localhost:8080/",
     "height": 300
    },
    "colab_type": "code",
    "executionInfo": {
     "elapsed": 466,
     "status": "ok",
     "timestamp": 1527644173288,
     "user": {
      "displayName": "Brian Sanders",
      "photoUrl": "https://lh3.googleusercontent.com/a/default-user=s128",
      "userId": "117372068364006546394"
     },
     "user_tz": 240
    },
    "id": "eMNr0aW_549i",
    "outputId": "2dea4f18-6281-4241-d414-acb237153a74"
   },
   "outputs": [
    {
     "data": {
      "text/plain": [
       "<matplotlib.axes._subplots.AxesSubplot at 0x11a5dcfd0>"
      ]
     },
     "execution_count": 114,
     "metadata": {},
     "output_type": "execute_result"
    },
    {
     "data": {
      "image/png": "[encoded data removed]",
      "text/plain": [
       "<Figure size 432x288 with 1 Axes>"
      ]
     },
     "metadata": {},
     "output_type": "display_data"
    }
   ],
   "source": [
    "%matplotlib inline\n",
    "import matplotlib as mpl\n",
    "import matplotlib.pyplot as plt\n",
    "import seaborn as sns\n",
    "\n",
    "red_line.groupby(\"hour_start\").trip_id.nunique().plot(color=\"red\")\n",
    "orange_line.groupby(\"hour_start\").trip_id.nunique().plot(color=\"orange\")\n",
    "blue_line.groupby(\"hour_start\").trip_id.nunique().plot(color=\"blue\")"
   ]
  },
  {
   "cell_type": "markdown",
   "metadata": {
    "colab_type": "text",
    "id": "WJlg48No549k"
   },
   "source": [
    "Now let's visualize the trip delays."
   ]
  },
  {
   "cell_type": "code",
   "execution_count": 115,
   "metadata": {
    "colab": {
     "autoexec": {
      "startup": false,
      "wait_interval": 0
     },
     "base_uri": "https://localhost:8080/",
     "height": 297
    },
    "colab_type": "code",
    "executionInfo": {
     "elapsed": 645,
     "status": "ok",
     "timestamp": 1527644204452,
     "user": {
      "displayName": "Brian Sanders",
      "photoUrl": "https://lh3.googleusercontent.com/a/default-user=s128",
      "userId": "117372068364006546394"
     },
     "user_tz": 240
    },
    "id": "wWsF-MOw549l",
    "outputId": "aad1df6a-8018-42f6-aa1c-c31afcc691dd"
   },
   "outputs": [
    {
     "data": {
      "text/plain": [
       "<matplotlib.axes._subplots.AxesSubplot at 0x11c467898>"
      ]
     },
     "execution_count": 115,
     "metadata": {},
     "output_type": "execute_result"
    },
    {
     "data": {
      "image/png": "[encoded data removed]",
      "text/plain": [
       "<Figure size 432x288 with 1 Axes>"
      ]
     },
     "metadata": {},
     "output_type": "display_data"
    }
   ],
   "source": [
    "sns.stripplot(x=\"hour_start\", y=\"delay\", data=red_line)"
   ]
  },
  {
   "cell_type": "markdown",
   "metadata": {
    "colab_type": "text",
    "id": "hdWqkoRH549n"
   },
   "source": [
    "Note that we're collapsing all the stops a trip makes into a line, so we can't distinguish between a train that leaves the first station late from a train that starts on time and gets progressively later the further it gets from its origin.\n",
    "\n",
    "We can address this in a few ways.\n",
    "\n",
    "We could take the mean delay of each trip:"
   ]
  },
  {
   "cell_type": "code",
   "execution_count": 116,
   "metadata": {
    "colab": {
     "autoexec": {
      "startup": false,
      "wait_interval": 0
     },
     "base_uri": "https://localhost:8080/",
     "height": 297
    },
    "colab_type": "code",
    "executionInfo": {
     "elapsed": 432,
     "status": "ok",
     "timestamp": 1527644281855,
     "user": {
      "displayName": "Brian Sanders",
      "photoUrl": "https://lh3.googleusercontent.com/a/default-user=s128",
      "userId": "117372068364006546394"
     },
     "user_tz": 240
    },
    "id": "CJuX1Fn0549n",
    "outputId": "a166b48c-c151-41ae-ae5a-f218ec04a806"
   },
   "outputs": [
    {
     "data": {
      "text/plain": [
       "<matplotlib.axes._subplots.AxesSubplot at 0x11b16c7f0>"
      ]
     },
     "execution_count": 116,
     "metadata": {},
     "output_type": "execute_result"
    },
    {
     "data": {
      "image/png": "[encoded data removed]",
      "text/plain": [
       "<Figure size 432x288 with 1 Axes>"
      ]
     },
     "metadata": {},
     "output_type": "display_data"
    }
   ],
   "source": [
    "red_line_trips = red_line.groupby(\"trip_id\")\n",
    "red_line_trip_delays = pd.DataFrame({\n",
    "    \"delay\": red_line_trips.delay.mean(), \n",
    "    \"hour_start\": red_line_trips.hour_start.first()})\n",
    "sns.stripplot(x=\"hour_start\", y=\"delay\", data=red_line_trip_delays)"
   ]
  },
  {
   "cell_type": "markdown",
   "metadata": {
    "colab_type": "text",
    "id": "wmRCTDqB549q"
   },
   "source": [
    "This gives an overall impression of how early or late entire trips are, but we can do better. We can use a heatmap to show the average lateness at each stop for each hour:"
   ]
  },
  {
   "cell_type": "code",
   "execution_count": 118,
   "metadata": {
    "colab": {
     "autoexec": {
      "startup": false,
      "wait_interval": 0
     },
     "base_uri": "https://localhost:8080/",
     "height": 406
    },
    "colab_type": "code",
    "executionInfo": {
     "elapsed": 599,
     "status": "ok",
     "timestamp": 1527644346524,
     "user": {
      "displayName": "Brian Sanders",
      "photoUrl": "https://lh3.googleusercontent.com/a/default-user=s128",
      "userId": "117372068364006546394"
     },
     "user_tz": 240
    },
    "id": "EP80ck5M549q",
    "outputId": "eb6bc736-01d8-4ab0-88ae-dd4d2518cad7"
   },
   "outputs": [
    {
     "data": {
      "text/plain": [
       "<matplotlib.axes._subplots.AxesSubplot at 0x11c3f5668>"
      ]
     },
     "execution_count": 118,
     "metadata": {},
     "output_type": "execute_result"
    },
    {
     "data": {
      "image/png": "[encoded data removed]",
      "text/plain": [
       "<Figure size 648x432 with 2 Axes>"
      ]
     },
     "metadata": {},
     "output_type": "display_data"
    }
   ],
   "source": [
    "def reshape(stops):\n",
    "    return stops.groupby(\"stop_sequence\").delay.mean()\n",
    "\n",
    "f, ax = plt.subplots(figsize=(9, 6))\n",
    "plt.title(day.strftime(\"%a %b %-d, %Y\"))\n",
    "sns.heatmap(red_line.groupby(\"hour_start\").apply(reshape), \n",
    "            ax=ax)\n",
    "# orange_line.groupby(\"hour_start\").apply(reshape)"
   ]
  },
  {
   "cell_type": "markdown",
   "metadata": {
    "colab_type": "text",
    "id": "kHFwfbwv549s"
   },
   "source": [
    "We could also take a closer look at the trips for a particular hour. In particular, let's look at delays plotted against `stop_sequence`."
   ]
  },
  {
   "cell_type": "code",
   "execution_count": 61,
   "metadata": {
    "colab": {
     "autoexec": {
      "startup": false,
      "wait_interval": 0
     },
     "base_uri": "https://localhost:8080/",
     "height": 298
    },
    "colab_type": "code",
    "executionInfo": {
     "elapsed": 613,
     "status": "ok",
     "timestamp": 1520387978357,
     "user": {
      "displayName": "Brian Sanders",
      "photoUrl": "https://lh3.googleusercontent.com/a/default-user=s128",
      "userId": "117372068364006546394"
     },
     "user_tz": 300
    },
    "id": "koeBwSj7549s",
    "outputId": "9898af08-9b46-4a1a-892d-2f47569eaa70"
   },
   "outputs": [
    {
     "data": {
      "text/plain": [
       "<matplotlib.axes._subplots.AxesSubplot at 0x7f9fbf46fdd8>"
      ]
     },
     "execution_count": 61,
     "metadata": {
      "tags": []
     },
     "output_type": "execute_result"
    },
    {
     "data": {
      "image/png": "[encoded data removed]",
      "text/plain": [
       "<matplotlib.figure.Figure at 0x7f9fbf46feb8>"
      ]
     },
     "metadata": {
      "tags": []
     },
     "output_type": "display_data"
    }
   ],
   "source": [
    "red_line_7 = red_line.query(\"hour_start == 7\")\n",
    "sns.stripplot(x=\"stop_sequence\", \n",
    "              y=\"delay\", \n",
    "              data=red_line_7)"
   ]
  },
  {
   "cell_type": "code",
   "execution_count": 62,
   "metadata": {
    "colab": {
     "autoexec": {
      "startup": false,
      "wait_interval": 0
     },
     "base_uri": "https://localhost:8080/",
     "height": 266
    },
    "colab_type": "code",
    "executionInfo": {
     "elapsed": 633,
     "status": "ok",
     "timestamp": 1520388001380,
     "user": {
      "displayName": "Brian Sanders",
      "photoUrl": "https://lh3.googleusercontent.com/a/default-user=s128",
      "userId": "117372068364006546394"
     },
     "user_tz": 300
    },
    "id": "foxNg_Nw549u",
    "outputId": "56eb14b9-2697-40e0-c736-0d573ceab990"
   },
   "outputs": [
    {
     "data": {
      "image/png": "[encoded data removed]",
      "text/plain": [
       "<matplotlib.figure.Figure at 0x7f9fbfbea518>"
      ]
     },
     "metadata": {
      "tags": []
     },
     "output_type": "display_data"
    }
   ],
   "source": [
    "plt.figure(1)\n",
    "\n",
    "for trip_id, stops in red_line_7.groupby(\"trip_id\"):\n",
    "    plt.plot(stops.schedule_offset/60, stops.delay, label=trip_id)\n",
    "\n",
    "plt.show()"
   ]
  },
  {
   "cell_type": "code",
   "execution_count": 63,
   "metadata": {
    "colab": {
     "autoexec": {
      "startup": false,
      "wait_interval": 0
     },
     "base_uri": "https://localhost:8080/",
     "height": 235
    },
    "colab_type": "code",
    "executionInfo": {
     "elapsed": 250,
     "status": "ok",
     "timestamp": 1520388024948,
     "user": {
      "displayName": "Brian Sanders",
      "photoUrl": "https://lh3.googleusercontent.com/a/default-user=s128",
      "userId": "117372068364006546394"
     },
     "user_tz": 300
    },
    "id": "KREKKBCB549w",
    "outputId": "c28e804b-d1ab-454b-9bcc-410a698fd49f"
   },
   "outputs": [
    {
     "data": {
      "text/html": [
       "<div>\n",
       "<style scoped>\n",
       "    .dataframe tbody tr th:only-of-type {\n",
       "        vertical-align: middle;\n",
       "    }\n",
       "\n",
       "    .dataframe tbody tr th {\n",
       "        vertical-align: top;\n",
       "    }\n",
       "\n",
       "    .dataframe thead th {\n",
       "        text-align: right;\n",
       "    }\n",
       "</style>\n",
       "<table border=\"1\" class=\"dataframe\">\n",
       "  <thead>\n",
       "    <tr style=\"text-align: right;\">\n",
       "      <th></th>\n",
       "      <th>count</th>\n",
       "      <th>mean</th>\n",
       "      <th>std</th>\n",
       "      <th>min</th>\n",
       "      <th>25%</th>\n",
       "      <th>50%</th>\n",
       "      <th>75%</th>\n",
       "      <th>max</th>\n",
       "    </tr>\n",
       "    <tr>\n",
       "      <th>stop_sequence</th>\n",
       "      <th></th>\n",
       "      <th></th>\n",
       "      <th></th>\n",
       "      <th></th>\n",
       "      <th></th>\n",
       "      <th></th>\n",
       "      <th></th>\n",
       "      <th></th>\n",
       "    </tr>\n",
       "  </thead>\n",
       "  <tbody>\n",
       "    <tr>\n",
       "      <th>1</th>\n",
       "      <td>528.0</td>\n",
       "      <td>10.024811</td>\n",
       "      <td>24.003073</td>\n",
       "      <td>-5.7</td>\n",
       "      <td>2.80</td>\n",
       "      <td>4.15</td>\n",
       "      <td>8.0</td>\n",
       "      <td>101.5</td>\n",
       "    </tr>\n",
       "    <tr>\n",
       "      <th>10</th>\n",
       "      <td>122.0</td>\n",
       "      <td>12.698361</td>\n",
       "      <td>16.250482</td>\n",
       "      <td>3.3</td>\n",
       "      <td>5.35</td>\n",
       "      <td>12.00</td>\n",
       "      <td>14.6</td>\n",
       "      <td>110.5</td>\n",
       "    </tr>\n",
       "    <tr>\n",
       "      <th>20</th>\n",
       "      <td>136.0</td>\n",
       "      <td>13.423529</td>\n",
       "      <td>15.373519</td>\n",
       "      <td>4.1</td>\n",
       "      <td>6.50</td>\n",
       "      <td>11.80</td>\n",
       "      <td>15.4</td>\n",
       "      <td>110.8</td>\n",
       "    </tr>\n",
       "    <tr>\n",
       "      <th>30</th>\n",
       "      <td>47.0</td>\n",
       "      <td>25.940426</td>\n",
       "      <td>29.805753</td>\n",
       "      <td>10.2</td>\n",
       "      <td>15.20</td>\n",
       "      <td>16.50</td>\n",
       "      <td>18.6</td>\n",
       "      <td>111.0</td>\n",
       "    </tr>\n",
       "    <tr>\n",
       "      <th>40</th>\n",
       "      <td>127.0</td>\n",
       "      <td>15.122047</td>\n",
       "      <td>17.949585</td>\n",
       "      <td>5.3</td>\n",
       "      <td>7.90</td>\n",
       "      <td>10.60</td>\n",
       "      <td>16.7</td>\n",
       "      <td>110.8</td>\n",
       "    </tr>\n",
       "  </tbody>\n",
       "</table>\n",
       "</div>"
      ],
      "text/plain": [
       "               count       mean        std   min    25%    50%   75%    max\n",
       "stop_sequence                                                              \n",
       "1              528.0  10.024811  24.003073  -5.7   2.80   4.15   8.0  101.5\n",
       "10             122.0  12.698361  16.250482   3.3   5.35  12.00  14.6  110.5\n",
       "20             136.0  13.423529  15.373519   4.1   6.50  11.80  15.4  110.8\n",
       "30              47.0  25.940426  29.805753  10.2  15.20  16.50  18.6  111.0\n",
       "40             127.0  15.122047  17.949585   5.3   7.90  10.60  16.7  110.8"
      ]
     },
     "execution_count": 63,
     "metadata": {
      "tags": []
     },
     "output_type": "execute_result"
    }
   ],
   "source": [
    "red_line_7_stops = red_line_7.groupby(\"stop_sequence\").delay.describe()\n",
    "red_line_7_stops.head()"
   ]
  },
  {
   "cell_type": "code",
   "execution_count": 64,
   "metadata": {
    "colab": {
     "autoexec": {
      "startup": false,
      "wait_interval": 0
     },
     "base_uri": "https://localhost:8080/",
     "height": 266
    },
    "colab_type": "code",
    "executionInfo": {
     "elapsed": 554,
     "status": "ok",
     "timestamp": 1520388029029,
     "user": {
      "displayName": "Brian Sanders",
      "photoUrl": "https://lh3.googleusercontent.com/a/default-user=s128",
      "userId": "117372068364006546394"
     },
     "user_tz": 300
    },
    "id": "QjuAToy0549y",
    "outputId": "9c28850c-820b-4e8a-8826-1db2dcfe3528"
   },
   "outputs": [
    {
     "data": {
      "image/png": "[encoded data removed]",
      "text/plain": [
       "<matplotlib.figure.Figure at 0x7f9fc0425358>"
      ]
     },
     "metadata": {
      "tags": []
     },
     "output_type": "display_data"
    }
   ],
   "source": [
    "plt.figure(1)\n",
    "plt.plot(red_line_7_stops[\"50%\"], color=\"red\")\n",
    "plt.plot(red_line_7_stops[\"25%\"], color=\"pink\")\n",
    "plt.plot(red_line_7_stops[\"75%\"], color=\"pink\")\n",
    "plt.show()"
   ]
  },
  {
   "cell_type": "markdown",
   "metadata": {
    "colab_type": "text",
    "id": "O4XyiFGf5490"
   },
   "source": [
    "This shows us the bounds of the middle 50 of the delays on red line trains starting between 7 and 8 am.\n",
    "\n",
    "We can show the "
   ]
  },
  {
   "cell_type": "code",
   "execution_count": 65,
   "metadata": {
    "colab": {
     "autoexec": {
      "startup": false,
      "wait_interval": 0
     },
     "base_uri": "https://localhost:8080/",
     "height": 968
    },
    "colab_type": "code",
    "executionInfo": {
     "elapsed": 479,
     "status": "error",
     "timestamp": 1520388035288,
     "user": {
      "displayName": "Brian Sanders",
      "photoUrl": "https://lh3.googleusercontent.com/a/default-user=s128",
      "userId": "117372068364006546394"
     },
     "user_tz": 300
    },
    "id": "J_q7spqO5490",
    "outputId": "13168ab1-7723-4d91-b5b8-f448db184d66"
   },
   "outputs": [
    {
     "ename": "IndexError",
     "evalue": "ignored",
     "output_type": "error",
     "traceback": [
      "\u001b[0;31m---------------------------------------------------------------------------\u001b[0m",
      "\u001b[0;31mIndexError\u001b[0m                                Traceback (most recent call last)",
      "\u001b[0;32m<ipython-input-65-caec0c1db65b>\u001b[0m in \u001b[0;36m<module>\u001b[0;34m()\u001b[0m\n\u001b[1;32m      4\u001b[0m \u001b[0mf\u001b[0m\u001b[0;34m,\u001b[0m \u001b[0max\u001b[0m \u001b[0;34m=\u001b[0m \u001b[0mplt\u001b[0m\u001b[0;34m.\u001b[0m\u001b[0msubplots\u001b[0m\u001b[0;34m(\u001b[0m\u001b[0mfigsize\u001b[0m\u001b[0;34m=\u001b[0m\u001b[0;34m(\u001b[0m\u001b[0;36m9\u001b[0m\u001b[0;34m,\u001b[0m \u001b[0;36m6\u001b[0m\u001b[0;34m)\u001b[0m\u001b[0;34m)\u001b[0m\u001b[0;34m\u001b[0m\u001b[0m\n\u001b[1;32m      5\u001b[0m sns.heatmap(red_line.groupby(\"hour_start\").apply(reshape), \n\u001b[0;32m----> 6\u001b[0;31m             ax=ax)\n\u001b[0m",
      "\u001b[0;32m/usr/local/lib/python3.6/dist-packages/seaborn/matrix.py\u001b[0m in \u001b[0;36mheatmap\u001b[0;34m(data, vmin, vmax, cmap, center, robust, annot, fmt, annot_kws, linewidths, linecolor, cbar, cbar_kws, cbar_ax, square, ax, xticklabels, yticklabels, mask, **kwargs)\u001b[0m\n\u001b[1;32m    483\u001b[0m     plotter = _HeatMapper(data, vmin, vmax, cmap, center, robust, annot, fmt,\n\u001b[1;32m    484\u001b[0m                           \u001b[0mannot_kws\u001b[0m\u001b[0;34m,\u001b[0m \u001b[0mcbar\u001b[0m\u001b[0;34m,\u001b[0m \u001b[0mcbar_kws\u001b[0m\u001b[0;34m,\u001b[0m \u001b[0mxticklabels\u001b[0m\u001b[0;34m,\u001b[0m\u001b[0;34m\u001b[0m\u001b[0m\n\u001b[0;32m--> 485\u001b[0;31m                           yticklabels, mask)\n\u001b[0m\u001b[1;32m    486\u001b[0m \u001b[0;34m\u001b[0m\u001b[0m\n\u001b[1;32m    487\u001b[0m     \u001b[0;31m# Add the pcolormesh kwargs here\u001b[0m\u001b[0;34m\u001b[0m\u001b[0;34m\u001b[0m\u001b[0m\n",
      "\u001b[0;32m/usr/local/lib/python3.6/dist-packages/seaborn/matrix.py\u001b[0m in \u001b[0;36m__init__\u001b[0;34m(self, data, vmin, vmax, cmap, center, robust, annot, fmt, annot_kws, cbar, cbar_kws, xticklabels, yticklabels, mask)\u001b[0m\n\u001b[1;32m    115\u001b[0m         \u001b[0mmask\u001b[0m \u001b[0;34m=\u001b[0m \u001b[0mmask\u001b[0m\u001b[0;34m.\u001b[0m\u001b[0miloc\u001b[0m\u001b[0;34m[\u001b[0m\u001b[0;34m:\u001b[0m\u001b[0;34m:\u001b[0m\u001b[0;34m-\u001b[0m\u001b[0;36m1\u001b[0m\u001b[0;34m]\u001b[0m\u001b[0;34m\u001b[0m\u001b[0m\n\u001b[1;32m    116\u001b[0m \u001b[0;34m\u001b[0m\u001b[0m\n\u001b[0;32m--> 117\u001b[0;31m         \u001b[0mplot_data\u001b[0m \u001b[0;34m=\u001b[0m \u001b[0mnp\u001b[0m\u001b[0;34m.\u001b[0m\u001b[0mma\u001b[0m\u001b[0;34m.\u001b[0m\u001b[0mmasked_where\u001b[0m\u001b[0;34m(\u001b[0m\u001b[0mnp\u001b[0m\u001b[0;34m.\u001b[0m\u001b[0masarray\u001b[0m\u001b[0;34m(\u001b[0m\u001b[0mmask\u001b[0m\u001b[0;34m)\u001b[0m\u001b[0;34m,\u001b[0m \u001b[0mplot_data\u001b[0m\u001b[0;34m)\u001b[0m\u001b[0;34m\u001b[0m\u001b[0m\n\u001b[0m\u001b[1;32m    118\u001b[0m \u001b[0;34m\u001b[0m\u001b[0m\n\u001b[1;32m    119\u001b[0m         \u001b[0;31m# Get good names for the rows and columns\u001b[0m\u001b[0;34m\u001b[0m\u001b[0;34m\u001b[0m\u001b[0m\n",
      "\u001b[0;32m/usr/local/lib/python3.6/dist-packages/numpy/ma/core.py\u001b[0m in \u001b[0;36mmasked_where\u001b[0;34m(condition, a, copy)\u001b[0m\n\u001b[1;32m   1928\u001b[0m     \u001b[0;32mif\u001b[0m \u001b[0mcshape\u001b[0m \u001b[0;32mand\u001b[0m \u001b[0mcshape\u001b[0m \u001b[0;34m!=\u001b[0m \u001b[0mashape\u001b[0m\u001b[0;34m:\u001b[0m\u001b[0;34m\u001b[0m\u001b[0m\n\u001b[1;32m   1929\u001b[0m         raise IndexError(\"Inconsistent shape between the condition and the input\"\n\u001b[0;32m-> 1930\u001b[0;31m                          \" (got %s and %s)\" % (cshape, ashape))\n\u001b[0m\u001b[1;32m   1931\u001b[0m     \u001b[0;32mif\u001b[0m \u001b[0mhasattr\u001b[0m\u001b[0;34m(\u001b[0m\u001b[0ma\u001b[0m\u001b[0;34m,\u001b[0m \u001b[0;34m'_mask'\u001b[0m\u001b[0;34m)\u001b[0m\u001b[0;34m:\u001b[0m\u001b[0;34m\u001b[0m\u001b[0m\n\u001b[1;32m   1932\u001b[0m         \u001b[0mcond\u001b[0m \u001b[0;34m=\u001b[0m \u001b[0mmask_or\u001b[0m\u001b[0;34m(\u001b[0m\u001b[0mcond\u001b[0m\u001b[0;34m,\u001b[0m \u001b[0ma\u001b[0m\u001b[0;34m.\u001b[0m\u001b[0m_mask\u001b[0m\u001b[0;34m)\u001b[0m\u001b[0;34m\u001b[0m\u001b[0m\n",
      "\u001b[0;31mIndexError\u001b[0m: Inconsistent shape between the condition and the input (got (436, 1) and (436,))"
     ]
    },
    {
     "data": {
      "image/png": "[encoded data removed]",
      "text/plain": [
       "<matplotlib.figure.Figure at 0x7f9fc0425be0>"
      ]
     },
     "metadata": {
      "tags": []
     },
     "output_type": "display_data"
    }
   ],
   "source": [
    "def reshape(stops):\n",
    "    return stops.groupby(\"stop_sequence\").delay.mean()\n",
    "\n",
    "f, ax = plt.subplots(figsize=(9, 6))\n",
    "sns.heatmap(red_line.groupby(\"hour_start\").apply(reshape), \n",
    "            ax=ax)"
   ]
  },
  {
   "cell_type": "code",
   "execution_count": 69,
   "metadata": {
    "colab": {
     "autoexec": {
      "startup": false,
      "wait_interval": 0
     },
     "base_uri": "https://localhost:8080/",
     "height": 394
    },
    "colab_type": "code",
    "executionInfo": {
     "elapsed": 244,
     "status": "ok",
     "timestamp": 1520388107385,
     "user": {
      "displayName": "Brian Sanders",
      "photoUrl": "https://lh3.googleusercontent.com/a/default-user=s128",
      "userId": "117372068364006546394"
     },
     "user_tz": 300
    },
    "id": "o_jWsX7_JrFx",
    "outputId": "dd6ff598-6c9a-499f-cba4-35103d767b7f"
   },
   "outputs": [
    {
     "data": {
      "text/html": [
       "<div>\n",
       "<style scoped>\n",
       "    .dataframe tbody tr th:only-of-type {\n",
       "        vertical-align: middle;\n",
       "    }\n",
       "\n",
       "    .dataframe tbody tr th {\n",
       "        vertical-align: top;\n",
       "    }\n",
       "\n",
       "    .dataframe thead th {\n",
       "        text-align: right;\n",
       "    }\n",
       "</style>\n",
       "<table border=\"1\" class=\"dataframe\">\n",
       "  <thead>\n",
       "    <tr style=\"text-align: right;\">\n",
       "      <th></th>\n",
       "      <th>trip_id</th>\n",
       "      <th>trip_start</th>\n",
       "      <th>stop_id</th>\n",
       "      <th>stop_sequence</th>\n",
       "      <th>vehicle_id</th>\n",
       "      <th>status</th>\n",
       "      <th>timestamp</th>\n",
       "      <th>lat</th>\n",
       "      <th>lon</th>\n",
       "      <th>arrival_time</th>\n",
       "      <th>route_id</th>\n",
       "      <th>direction_id</th>\n",
       "      <th>scheduled_arrival_time</th>\n",
       "      <th>delay</th>\n",
       "      <th>hour_start</th>\n",
       "      <th>schedule_offset</th>\n",
       "    </tr>\n",
       "  </thead>\n",
       "  <tbody>\n",
       "    <tr>\n",
       "      <th>127636</th>\n",
       "      <td>35448339-L</td>\n",
       "      <td>2018-03-05</td>\n",
       "      <td>70094</td>\n",
       "      <td>50</td>\n",
       "      <td>54541867</td>\n",
       "      <td>STOPPED_AT</td>\n",
       "      <td>2018-03-05 07:05:38-05:00</td>\n",
       "      <td>42.28458</td>\n",
       "      <td>-71.063766</td>\n",
       "      <td>07:05:00</td>\n",
       "      <td>Red</td>\n",
       "      <td>1</td>\n",
       "      <td>2018-03-05 07:05:00-05:00</td>\n",
       "      <td>0.6</td>\n",
       "      <td>7</td>\n",
       "      <td>0.0</td>\n",
       "    </tr>\n",
       "    <tr>\n",
       "      <th>127637</th>\n",
       "      <td>35448339-L</td>\n",
       "      <td>2018-03-05</td>\n",
       "      <td>70094</td>\n",
       "      <td>50</td>\n",
       "      <td>54541867</td>\n",
       "      <td>STOPPED_AT</td>\n",
       "      <td>2018-03-05 07:05:38-05:00</td>\n",
       "      <td>42.28458</td>\n",
       "      <td>-71.063766</td>\n",
       "      <td>07:05:00</td>\n",
       "      <td>Red</td>\n",
       "      <td>1</td>\n",
       "      <td>2018-03-05 07:05:00-05:00</td>\n",
       "      <td>0.6</td>\n",
       "      <td>7</td>\n",
       "      <td>0.0</td>\n",
       "    </tr>\n",
       "    <tr>\n",
       "      <th>127638</th>\n",
       "      <td>35448339-L</td>\n",
       "      <td>2018-03-05</td>\n",
       "      <td>70094</td>\n",
       "      <td>50</td>\n",
       "      <td>54541867</td>\n",
       "      <td>STOPPED_AT</td>\n",
       "      <td>2018-03-05 07:05:38-05:00</td>\n",
       "      <td>42.28458</td>\n",
       "      <td>-71.063766</td>\n",
       "      <td>07:05:00</td>\n",
       "      <td>Red</td>\n",
       "      <td>1</td>\n",
       "      <td>2018-03-05 07:05:00-05:00</td>\n",
       "      <td>0.6</td>\n",
       "      <td>7</td>\n",
       "      <td>0.0</td>\n",
       "    </tr>\n",
       "    <tr>\n",
       "      <th>127639</th>\n",
       "      <td>35448339-L</td>\n",
       "      <td>2018-03-05</td>\n",
       "      <td>70094</td>\n",
       "      <td>50</td>\n",
       "      <td>54541867</td>\n",
       "      <td>STOPPED_AT</td>\n",
       "      <td>2018-03-05 07:05:38-05:00</td>\n",
       "      <td>42.28458</td>\n",
       "      <td>-71.063766</td>\n",
       "      <td>07:05:00</td>\n",
       "      <td>Red</td>\n",
       "      <td>1</td>\n",
       "      <td>2018-03-05 07:05:00-05:00</td>\n",
       "      <td>0.6</td>\n",
       "      <td>7</td>\n",
       "      <td>0.0</td>\n",
       "    </tr>\n",
       "    <tr>\n",
       "      <th>127640</th>\n",
       "      <td>35448339-L</td>\n",
       "      <td>2018-03-05</td>\n",
       "      <td>70094</td>\n",
       "      <td>50</td>\n",
       "      <td>54541867</td>\n",
       "      <td>STOPPED_AT</td>\n",
       "      <td>2018-03-05 07:05:38-05:00</td>\n",
       "      <td>42.28458</td>\n",
       "      <td>-71.063766</td>\n",
       "      <td>07:05:00</td>\n",
       "      <td>Red</td>\n",
       "      <td>1</td>\n",
       "      <td>2018-03-05 07:05:00-05:00</td>\n",
       "      <td>0.6</td>\n",
       "      <td>7</td>\n",
       "      <td>0.0</td>\n",
       "    </tr>\n",
       "  </tbody>\n",
       "</table>\n",
       "</div>"
      ],
      "text/plain": [
       "           trip_id  trip_start stop_id  stop_sequence vehicle_id      status  \\\n",
       "127636  35448339-L  2018-03-05   70094             50   54541867  STOPPED_AT   \n",
       "127637  35448339-L  2018-03-05   70094             50   54541867  STOPPED_AT   \n",
       "127638  35448339-L  2018-03-05   70094             50   54541867  STOPPED_AT   \n",
       "127639  35448339-L  2018-03-05   70094             50   54541867  STOPPED_AT   \n",
       "127640  35448339-L  2018-03-05   70094             50   54541867  STOPPED_AT   \n",
       "\n",
       "                       timestamp       lat        lon arrival_time route_id  \\\n",
       "127636 2018-03-05 07:05:38-05:00  42.28458 -71.063766     07:05:00      Red   \n",
       "127637 2018-03-05 07:05:38-05:00  42.28458 -71.063766     07:05:00      Red   \n",
       "127638 2018-03-05 07:05:38-05:00  42.28458 -71.063766     07:05:00      Red   \n",
       "127639 2018-03-05 07:05:38-05:00  42.28458 -71.063766     07:05:00      Red   \n",
       "127640 2018-03-05 07:05:38-05:00  42.28458 -71.063766     07:05:00      Red   \n",
       "\n",
       "       direction_id    scheduled_arrival_time  delay  hour_start  \\\n",
       "127636            1 2018-03-05 07:05:00-05:00    0.6           7   \n",
       "127637            1 2018-03-05 07:05:00-05:00    0.6           7   \n",
       "127638            1 2018-03-05 07:05:00-05:00    0.6           7   \n",
       "127639            1 2018-03-05 07:05:00-05:00    0.6           7   \n",
       "127640            1 2018-03-05 07:05:00-05:00    0.6           7   \n",
       "\n",
       "        schedule_offset  \n",
       "127636              0.0  \n",
       "127637              0.0  \n",
       "127638              0.0  \n",
       "127639              0.0  \n",
       "127640              0.0  "
      ]
     },
     "execution_count": 69,
     "metadata": {
      "tags": []
     },
     "output_type": "execute_result"
    }
   ],
   "source": [
    "red_line_7.head()"
   ]
  },
  {
   "cell_type": "code",
   "execution_count": 0,
   "metadata": {
    "colab": {
     "autoexec": {
      "startup": false,
      "wait_interval": 0
     }
    },
    "colab_type": "code",
    "collapsed": true,
    "id": "kw-C49r-NJrM"
   },
   "outputs": [],
   "source": []
  },
  {
   "cell_type": "markdown",
   "metadata": {
    "colab_type": "text",
    "id": "JKszJyQW5492"
   },
   "source": [
    "How about some readable stop names?"
   ]
  },
  {
   "cell_type": "code",
   "execution_count": 66,
   "metadata": {
    "colab": {
     "autoexec": {
      "startup": false,
      "wait_interval": 0
     },
     "base_uri": "https://localhost:8080/",
     "height": 326
    },
    "colab_type": "code",
    "executionInfo": {
     "elapsed": 279,
     "status": "ok",
     "timestamp": 1520388061089,
     "user": {
      "displayName": "Brian Sanders",
      "photoUrl": "https://lh3.googleusercontent.com/a/default-user=s128",
      "userId": "117372068364006546394"
     },
     "user_tz": 300
    },
    "id": "lmGdoPkG5492",
    "outputId": "071505b6-aa63-4bb7-aac1-079426f69be8"
   },
   "outputs": [
    {
     "data": {
      "text/html": [
       "<div>\n",
       "<style scoped>\n",
       "    .dataframe tbody tr th:only-of-type {\n",
       "        vertical-align: middle;\n",
       "    }\n",
       "\n",
       "    .dataframe tbody tr th {\n",
       "        vertical-align: top;\n",
       "    }\n",
       "\n",
       "    .dataframe thead th {\n",
       "        text-align: right;\n",
       "    }\n",
       "</style>\n",
       "<table border=\"1\" class=\"dataframe\">\n",
       "  <thead>\n",
       "    <tr style=\"text-align: right;\">\n",
       "      <th></th>\n",
       "      <th>stop_id</th>\n",
       "      <th>stop_code</th>\n",
       "      <th>stop_name</th>\n",
       "      <th>stop_desc</th>\n",
       "      <th>stop_lat</th>\n",
       "      <th>stop_lon</th>\n",
       "      <th>zone_id</th>\n",
       "      <th>stop_url</th>\n",
       "      <th>location_type</th>\n",
       "      <th>parent_station</th>\n",
       "      <th>wheelchair_boarding</th>\n",
       "    </tr>\n",
       "  </thead>\n",
       "  <tbody>\n",
       "    <tr>\n",
       "      <th>0</th>\n",
       "      <td>Wareham Village</td>\n",
       "      <td>NaN</td>\n",
       "      <td>Wareham Village</td>\n",
       "      <td>NaN</td>\n",
       "      <td>41.758333</td>\n",
       "      <td>-70.714722</td>\n",
       "      <td>NaN</td>\n",
       "      <td>NaN</td>\n",
       "      <td>0</td>\n",
       "      <td>NaN</td>\n",
       "      <td>1</td>\n",
       "    </tr>\n",
       "    <tr>\n",
       "      <th>1</th>\n",
       "      <td>Buzzards Bay</td>\n",
       "      <td>NaN</td>\n",
       "      <td>Buzzards Bay</td>\n",
       "      <td>NaN</td>\n",
       "      <td>41.744805</td>\n",
       "      <td>-70.616226</td>\n",
       "      <td>NaN</td>\n",
       "      <td>NaN</td>\n",
       "      <td>0</td>\n",
       "      <td>NaN</td>\n",
       "      <td>1</td>\n",
       "    </tr>\n",
       "    <tr>\n",
       "      <th>2</th>\n",
       "      <td>Hyannis</td>\n",
       "      <td>NaN</td>\n",
       "      <td>Hyannis</td>\n",
       "      <td>NaN</td>\n",
       "      <td>41.660225</td>\n",
       "      <td>-70.276583</td>\n",
       "      <td>NaN</td>\n",
       "      <td>NaN</td>\n",
       "      <td>0</td>\n",
       "      <td>NaN</td>\n",
       "      <td>1</td>\n",
       "    </tr>\n",
       "    <tr>\n",
       "      <th>3</th>\n",
       "      <td>Logan-E</td>\n",
       "      <td>NaN</td>\n",
       "      <td>Logan Airport Terminal E</td>\n",
       "      <td>NaN</td>\n",
       "      <td>42.370022</td>\n",
       "      <td>-71.020754</td>\n",
       "      <td>NaN</td>\n",
       "      <td>NaN</td>\n",
       "      <td>0</td>\n",
       "      <td>NaN</td>\n",
       "      <td>1</td>\n",
       "    </tr>\n",
       "    <tr>\n",
       "      <th>4</th>\n",
       "      <td>Logan-Subway</td>\n",
       "      <td>NaN</td>\n",
       "      <td>Airport Subway Station</td>\n",
       "      <td>NaN</td>\n",
       "      <td>42.374699</td>\n",
       "      <td>-71.029831</td>\n",
       "      <td>NaN</td>\n",
       "      <td>NaN</td>\n",
       "      <td>0</td>\n",
       "      <td>NaN</td>\n",
       "      <td>1</td>\n",
       "    </tr>\n",
       "  </tbody>\n",
       "</table>\n",
       "</div>"
      ],
      "text/plain": [
       "           stop_id stop_code                 stop_name stop_desc   stop_lat  \\\n",
       "0  Wareham Village       NaN           Wareham Village       NaN  41.758333   \n",
       "1     Buzzards Bay       NaN              Buzzards Bay       NaN  41.744805   \n",
       "2          Hyannis       NaN                   Hyannis       NaN  41.660225   \n",
       "3          Logan-E       NaN  Logan Airport Terminal E       NaN  42.370022   \n",
       "4     Logan-Subway       NaN    Airport Subway Station       NaN  42.374699   \n",
       "\n",
       "     stop_lon zone_id stop_url location_type parent_station  \\\n",
       "0  -70.714722     NaN      NaN             0            NaN   \n",
       "1  -70.616226     NaN      NaN             0            NaN   \n",
       "2  -70.276583     NaN      NaN             0            NaN   \n",
       "3  -71.020754     NaN      NaN             0            NaN   \n",
       "4  -71.029831     NaN      NaN             0            NaN   \n",
       "\n",
       "  wheelchair_boarding  \n",
       "0                   1  \n",
       "1                   1  \n",
       "2                   1  \n",
       "3                   1  \n",
       "4                   1  "
      ]
     },
     "execution_count": 66,
     "metadata": {
      "tags": []
     },
     "output_type": "execute_result"
    }
   ],
   "source": [
    "stop_info = get_zip_item(static_feed, \"stops\")\n",
    "stop_info.head()"
   ]
  },
  {
   "cell_type": "code",
   "execution_count": 77,
   "metadata": {
    "colab": {
     "autoexec": {
      "startup": false,
      "wait_interval": 0
     },
     "base_uri": "https://localhost:8080/",
     "height": 394
    },
    "colab_type": "code",
    "executionInfo": {
     "elapsed": 250,
     "status": "ok",
     "timestamp": 1520388890805,
     "user": {
      "displayName": "Brian Sanders",
      "photoUrl": "https://lh3.googleusercontent.com/a/default-user=s128",
      "userId": "117372068364006546394"
     },
     "user_tz": 300
    },
    "id": "d_d0b2to5494",
    "outputId": "9b18e94c-4ef9-4303-ed0f-4f1c7e09078f"
   },
   "outputs": [
    {
     "data": {
      "text/html": [
       "<div>\n",
       "<style scoped>\n",
       "    .dataframe tbody tr th:only-of-type {\n",
       "        vertical-align: middle;\n",
       "    }\n",
       "\n",
       "    .dataframe tbody tr th {\n",
       "        vertical-align: top;\n",
       "    }\n",
       "\n",
       "    .dataframe thead th {\n",
       "        text-align: right;\n",
       "    }\n",
       "</style>\n",
       "<table border=\"1\" class=\"dataframe\">\n",
       "  <thead>\n",
       "    <tr style=\"text-align: right;\">\n",
       "      <th></th>\n",
       "      <th>trip_id</th>\n",
       "      <th>trip_start</th>\n",
       "      <th>stop_id</th>\n",
       "      <th>stop_sequence</th>\n",
       "      <th>vehicle_id</th>\n",
       "      <th>status</th>\n",
       "      <th>timestamp</th>\n",
       "      <th>lat</th>\n",
       "      <th>lon</th>\n",
       "      <th>arrival_time</th>\n",
       "      <th>route_id</th>\n",
       "      <th>direction_id</th>\n",
       "      <th>scheduled_arrival_time</th>\n",
       "      <th>delay</th>\n",
       "      <th>hour_start</th>\n",
       "      <th>schedule_offset</th>\n",
       "      <th>stop_name</th>\n",
       "    </tr>\n",
       "  </thead>\n",
       "  <tbody>\n",
       "    <tr>\n",
       "      <th>0</th>\n",
       "      <td>35448339-L</td>\n",
       "      <td>2018-03-05</td>\n",
       "      <td>70094</td>\n",
       "      <td>50</td>\n",
       "      <td>54541867</td>\n",
       "      <td>STOPPED_AT</td>\n",
       "      <td>2018-03-05 07:05:38-05:00</td>\n",
       "      <td>42.28458</td>\n",
       "      <td>-71.063766</td>\n",
       "      <td>07:05:00</td>\n",
       "      <td>Red</td>\n",
       "      <td>1</td>\n",
       "      <td>2018-03-05 07:05:00-05:00</td>\n",
       "      <td>0.6</td>\n",
       "      <td>7</td>\n",
       "      <td>0.0</td>\n",
       "      <td>Ashmont - Inbound</td>\n",
       "    </tr>\n",
       "    <tr>\n",
       "      <th>1</th>\n",
       "      <td>35448339-L</td>\n",
       "      <td>2018-03-05</td>\n",
       "      <td>70094</td>\n",
       "      <td>50</td>\n",
       "      <td>54541867</td>\n",
       "      <td>STOPPED_AT</td>\n",
       "      <td>2018-03-05 07:05:38-05:00</td>\n",
       "      <td>42.28458</td>\n",
       "      <td>-71.063766</td>\n",
       "      <td>07:05:00</td>\n",
       "      <td>Red</td>\n",
       "      <td>1</td>\n",
       "      <td>2018-03-05 07:05:00-05:00</td>\n",
       "      <td>0.6</td>\n",
       "      <td>7</td>\n",
       "      <td>0.0</td>\n",
       "      <td>Ashmont - Inbound</td>\n",
       "    </tr>\n",
       "    <tr>\n",
       "      <th>2</th>\n",
       "      <td>35448339-L</td>\n",
       "      <td>2018-03-05</td>\n",
       "      <td>70094</td>\n",
       "      <td>50</td>\n",
       "      <td>54541867</td>\n",
       "      <td>STOPPED_AT</td>\n",
       "      <td>2018-03-05 07:05:38-05:00</td>\n",
       "      <td>42.28458</td>\n",
       "      <td>-71.063766</td>\n",
       "      <td>07:05:00</td>\n",
       "      <td>Red</td>\n",
       "      <td>1</td>\n",
       "      <td>2018-03-05 07:05:00-05:00</td>\n",
       "      <td>0.6</td>\n",
       "      <td>7</td>\n",
       "      <td>0.0</td>\n",
       "      <td>Ashmont - Inbound</td>\n",
       "    </tr>\n",
       "    <tr>\n",
       "      <th>3</th>\n",
       "      <td>35448339-L</td>\n",
       "      <td>2018-03-05</td>\n",
       "      <td>70094</td>\n",
       "      <td>50</td>\n",
       "      <td>54541867</td>\n",
       "      <td>STOPPED_AT</td>\n",
       "      <td>2018-03-05 07:05:38-05:00</td>\n",
       "      <td>42.28458</td>\n",
       "      <td>-71.063766</td>\n",
       "      <td>07:05:00</td>\n",
       "      <td>Red</td>\n",
       "      <td>1</td>\n",
       "      <td>2018-03-05 07:05:00-05:00</td>\n",
       "      <td>0.6</td>\n",
       "      <td>7</td>\n",
       "      <td>0.0</td>\n",
       "      <td>Ashmont - Inbound</td>\n",
       "    </tr>\n",
       "    <tr>\n",
       "      <th>4</th>\n",
       "      <td>35448339-L</td>\n",
       "      <td>2018-03-05</td>\n",
       "      <td>70094</td>\n",
       "      <td>50</td>\n",
       "      <td>54541867</td>\n",
       "      <td>STOPPED_AT</td>\n",
       "      <td>2018-03-05 07:05:38-05:00</td>\n",
       "      <td>42.28458</td>\n",
       "      <td>-71.063766</td>\n",
       "      <td>07:05:00</td>\n",
       "      <td>Red</td>\n",
       "      <td>1</td>\n",
       "      <td>2018-03-05 07:05:00-05:00</td>\n",
       "      <td>0.6</td>\n",
       "      <td>7</td>\n",
       "      <td>0.0</td>\n",
       "      <td>Ashmont - Inbound</td>\n",
       "    </tr>\n",
       "  </tbody>\n",
       "</table>\n",
       "</div>"
      ],
      "text/plain": [
       "      trip_id  trip_start stop_id  stop_sequence vehicle_id      status  \\\n",
       "0  35448339-L  2018-03-05   70094             50   54541867  STOPPED_AT   \n",
       "1  35448339-L  2018-03-05   70094             50   54541867  STOPPED_AT   \n",
       "2  35448339-L  2018-03-05   70094             50   54541867  STOPPED_AT   \n",
       "3  35448339-L  2018-03-05   70094             50   54541867  STOPPED_AT   \n",
       "4  35448339-L  2018-03-05   70094             50   54541867  STOPPED_AT   \n",
       "\n",
       "                  timestamp       lat        lon arrival_time route_id  \\\n",
       "0 2018-03-05 07:05:38-05:00  42.28458 -71.063766     07:05:00      Red   \n",
       "1 2018-03-05 07:05:38-05:00  42.28458 -71.063766     07:05:00      Red   \n",
       "2 2018-03-05 07:05:38-05:00  42.28458 -71.063766     07:05:00      Red   \n",
       "3 2018-03-05 07:05:38-05:00  42.28458 -71.063766     07:05:00      Red   \n",
       "4 2018-03-05 07:05:38-05:00  42.28458 -71.063766     07:05:00      Red   \n",
       "\n",
       "  direction_id    scheduled_arrival_time  delay  hour_start  schedule_offset  \\\n",
       "0            1 2018-03-05 07:05:00-05:00    0.6           7              0.0   \n",
       "1            1 2018-03-05 07:05:00-05:00    0.6           7              0.0   \n",
       "2            1 2018-03-05 07:05:00-05:00    0.6           7              0.0   \n",
       "3            1 2018-03-05 07:05:00-05:00    0.6           7              0.0   \n",
       "4            1 2018-03-05 07:05:00-05:00    0.6           7              0.0   \n",
       "\n",
       "           stop_name  \n",
       "0  Ashmont - Inbound  \n",
       "1  Ashmont - Inbound  \n",
       "2  Ashmont - Inbound  \n",
       "3  Ashmont - Inbound  \n",
       "4  Ashmont - Inbound  "
      ]
     },
     "execution_count": 77,
     "metadata": {
      "tags": []
     },
     "output_type": "execute_result"
    }
   ],
   "source": [
    "red_line_stops_named = pd.merge(red_line_7, stop_info[[\"stop_id\", \"stop_name\"]], on=[\"stop_id\"])\n",
    "red_line_stops_named.head()"
   ]
  },
  {
   "cell_type": "code",
   "execution_count": 79,
   "metadata": {
    "colab": {
     "autoexec": {
      "startup": false,
      "wait_interval": 0
     },
     "base_uri": "https://localhost:8080/",
     "height": 696
    },
    "colab_type": "code",
    "executionInfo": {
     "elapsed": 398,
     "status": "error",
     "timestamp": 1520389079039,
     "user": {
      "displayName": "Brian Sanders",
      "photoUrl": "https://lh3.googleusercontent.com/a/default-user=s128",
      "userId": "117372068364006546394"
     },
     "user_tz": 300
    },
    "id": "BMpW6FGPPWud",
    "outputId": "aa670ce6-2689-4eb2-fd2b-7ca7c3b96d2e"
   },
   "outputs": [
    {
     "ename": "AttributeError",
     "evalue": "ignored",
     "output_type": "error",
     "traceback": [
      "\u001b[0;31m---------------------------------------------------------------------------\u001b[0m",
      "\u001b[0;31mAttributeError\u001b[0m                            Traceback (most recent call last)",
      "\u001b[0;32m<ipython-input-79-8c5bc0506591>\u001b[0m in \u001b[0;36m<module>\u001b[0;34m()\u001b[0m\n\u001b[1;32m      6\u001b[0m \u001b[0;31m# sns.heatmap(reshaped_red_line_stops_named, xticklabels=red_line\u001b[0m\u001b[0;34m\u001b[0m\u001b[0;34m\u001b[0m\u001b[0m\n\u001b[1;32m      7\u001b[0m \u001b[0;31m#             ax=ax\u001b[0m\u001b[0;34m\u001b[0m\u001b[0;34m\u001b[0m\u001b[0m\n\u001b[0;32m----> 8\u001b[0;31m \u001b[0mreshaped_red_line_stops_named\u001b[0m\u001b[0;34m.\u001b[0m\u001b[0mstop_name\u001b[0m\u001b[0;34m\u001b[0m\u001b[0m\n\u001b[0m",
      "\u001b[0;32m/usr/local/lib/python3.6/dist-packages/pandas/core/generic.py\u001b[0m in \u001b[0;36m__getattr__\u001b[0;34m(self, name)\u001b[0m\n\u001b[1;32m   3612\u001b[0m             \u001b[0;32mif\u001b[0m \u001b[0mname\u001b[0m \u001b[0;32min\u001b[0m \u001b[0mself\u001b[0m\u001b[0;34m.\u001b[0m\u001b[0m_info_axis\u001b[0m\u001b[0;34m:\u001b[0m\u001b[0;34m\u001b[0m\u001b[0m\n\u001b[1;32m   3613\u001b[0m                 \u001b[0;32mreturn\u001b[0m \u001b[0mself\u001b[0m\u001b[0;34m[\u001b[0m\u001b[0mname\u001b[0m\u001b[0;34m]\u001b[0m\u001b[0;34m\u001b[0m\u001b[0m\n\u001b[0;32m-> 3614\u001b[0;31m             \u001b[0;32mreturn\u001b[0m \u001b[0mobject\u001b[0m\u001b[0;34m.\u001b[0m\u001b[0m__getattribute__\u001b[0m\u001b[0;34m(\u001b[0m\u001b[0mself\u001b[0m\u001b[0;34m,\u001b[0m \u001b[0mname\u001b[0m\u001b[0;34m)\u001b[0m\u001b[0;34m\u001b[0m\u001b[0m\n\u001b[0m\u001b[1;32m   3615\u001b[0m \u001b[0;34m\u001b[0m\u001b[0m\n\u001b[1;32m   3616\u001b[0m     \u001b[0;32mdef\u001b[0m \u001b[0m__setattr__\u001b[0m\u001b[0;34m(\u001b[0m\u001b[0mself\u001b[0m\u001b[0;34m,\u001b[0m \u001b[0mname\u001b[0m\u001b[0;34m,\u001b[0m \u001b[0mvalue\u001b[0m\u001b[0;34m)\u001b[0m\u001b[0;34m:\u001b[0m\u001b[0;34m\u001b[0m\u001b[0m\n",
      "\u001b[0;31mAttributeError\u001b[0m: 'DataFrame' object has no attribute 'stop_name'"
     ]
    },
    {
     "data": {
      "image/png": "[encoded data removed]",
      "text/plain": [
       "<matplotlib.figure.Figure at 0x7f9fbf8214a8>"
      ]
     },
     "metadata": {
      "tags": []
     },
     "output_type": "display_data"
    }
   ],
   "source": [
    "def reshape(stops):\n",
    "    return stops.groupby(\"stop_sequence\").delay.mean()\n",
    "\n",
    "f, ax = plt.subplots(figsize=(9, 6))\n",
    "reshaped_red_line_stops_named = red_line_stops_named.groupby(\"hour_start\").apply(reshape)\n",
    "# sns.heatmap(reshaped_red_line_stops_named, xticklabels=red_line\n",
    "#             ax=ax\n",
    "reshaped_red_line_stops_named.stop_name"
   ]
  },
  {
   "cell_type": "code",
   "execution_count": 73,
   "metadata": {
    "colab": {
     "autoexec": {
      "startup": false,
      "wait_interval": 0
     },
     "base_uri": "https://localhost:8080/",
     "height": 272
    },
    "colab_type": "code",
    "executionInfo": {
     "elapsed": 297,
     "status": "ok",
     "timestamp": 1520388223602,
     "user": {
      "displayName": "Brian Sanders",
      "photoUrl": "https://lh3.googleusercontent.com/a/default-user=s128",
      "userId": "117372068364006546394"
     },
     "user_tz": 300
    },
    "id": "xBU1UlTG5496",
    "outputId": "c6eadbbd-3d22-4ad0-f872-55ffb272391b"
   },
   "outputs": [
    {
     "data": {
      "text/html": [
       "<div>\n",
       "<style scoped>\n",
       "    .dataframe tbody tr th:only-of-type {\n",
       "        vertical-align: middle;\n",
       "    }\n",
       "\n",
       "    .dataframe tbody tr th {\n",
       "        vertical-align: top;\n",
       "    }\n",
       "\n",
       "    .dataframe thead th {\n",
       "        text-align: right;\n",
       "    }\n",
       "</style>\n",
       "<table border=\"1\" class=\"dataframe\">\n",
       "  <thead>\n",
       "    <tr style=\"text-align: right;\">\n",
       "      <th></th>\n",
       "      <th>route_id</th>\n",
       "      <th>agency_id</th>\n",
       "      <th>route_short_name</th>\n",
       "      <th>route_long_name</th>\n",
       "      <th>route_desc</th>\n",
       "      <th>route_type</th>\n",
       "      <th>route_url</th>\n",
       "      <th>route_color</th>\n",
       "      <th>route_text_color</th>\n",
       "      <th>route_sort_order</th>\n",
       "    </tr>\n",
       "  </thead>\n",
       "  <tbody>\n",
       "    <tr>\n",
       "      <th>0</th>\n",
       "      <td>CapeFlyer</td>\n",
       "      <td>3</td>\n",
       "      <td>NaN</td>\n",
       "      <td>CapeFLYER</td>\n",
       "      <td>NaN</td>\n",
       "      <td>2</td>\n",
       "      <td>http://capeflyer.com/</td>\n",
       "      <td>006595</td>\n",
       "      <td>FFFFFF</td>\n",
       "      <td>100</td>\n",
       "    </tr>\n",
       "    <tr>\n",
       "      <th>1</th>\n",
       "      <td>Logan-22</td>\n",
       "      <td>2</td>\n",
       "      <td>Shuttle</td>\n",
       "      <td>Massport Subway Shuttle (22)</td>\n",
       "      <td>Airport Shuttle</td>\n",
       "      <td>3</td>\n",
       "      <td>NaN</td>\n",
       "      <td>NaN</td>\n",
       "      <td>NaN</td>\n",
       "      <td>2000022</td>\n",
       "    </tr>\n",
       "    <tr>\n",
       "      <th>2</th>\n",
       "      <td>Logan-33</td>\n",
       "      <td>2</td>\n",
       "      <td>Shuttle</td>\n",
       "      <td>Massport Subway Shuttle (33)</td>\n",
       "      <td>Airport Shuttle</td>\n",
       "      <td>3</td>\n",
       "      <td>NaN</td>\n",
       "      <td>NaN</td>\n",
       "      <td>NaN</td>\n",
       "      <td>2000033</td>\n",
       "    </tr>\n",
       "    <tr>\n",
       "      <th>3</th>\n",
       "      <td>Logan-55</td>\n",
       "      <td>2</td>\n",
       "      <td>Shuttle</td>\n",
       "      <td>Massport Subway Shuttle (55)</td>\n",
       "      <td>Airport Shuttle</td>\n",
       "      <td>3</td>\n",
       "      <td>NaN</td>\n",
       "      <td>NaN</td>\n",
       "      <td>NaN</td>\n",
       "      <td>2000055</td>\n",
       "    </tr>\n",
       "    <tr>\n",
       "      <th>4</th>\n",
       "      <td>Logan-66</td>\n",
       "      <td>2</td>\n",
       "      <td>Shuttle</td>\n",
       "      <td>Massport Subway / Ferry Terminal Shuttle (66)</td>\n",
       "      <td>Airport Shuttle</td>\n",
       "      <td>3</td>\n",
       "      <td>NaN</td>\n",
       "      <td>NaN</td>\n",
       "      <td>NaN</td>\n",
       "      <td>2000066</td>\n",
       "    </tr>\n",
       "  </tbody>\n",
       "</table>\n",
       "</div>"
      ],
      "text/plain": [
       "    route_id agency_id route_short_name  \\\n",
       "0  CapeFlyer         3              NaN   \n",
       "1   Logan-22         2          Shuttle   \n",
       "2   Logan-33         2          Shuttle   \n",
       "3   Logan-55         2          Shuttle   \n",
       "4   Logan-66         2          Shuttle   \n",
       "\n",
       "                                 route_long_name       route_desc route_type  \\\n",
       "0                                      CapeFLYER              NaN          2   \n",
       "1                   Massport Subway Shuttle (22)  Airport Shuttle          3   \n",
       "2                   Massport Subway Shuttle (33)  Airport Shuttle          3   \n",
       "3                   Massport Subway Shuttle (55)  Airport Shuttle          3   \n",
       "4  Massport Subway / Ferry Terminal Shuttle (66)  Airport Shuttle          3   \n",
       "\n",
       "               route_url route_color route_text_color route_sort_order  \n",
       "0  http://capeflyer.com/      006595           FFFFFF              100  \n",
       "1                    NaN         NaN              NaN          2000022  \n",
       "2                    NaN         NaN              NaN          2000033  \n",
       "3                    NaN         NaN              NaN          2000055  \n",
       "4                    NaN         NaN              NaN          2000066  "
      ]
     },
     "execution_count": 73,
     "metadata": {
      "tags": []
     },
     "output_type": "execute_result"
    }
   ],
   "source": [
    "routes = get_zip_item(static_feed, \"routes\")\n",
    "routes.head()"
   ]
  },
  {
   "cell_type": "code",
   "execution_count": 0,
   "metadata": {
    "colab": {
     "autoexec": {
      "startup": false,
      "wait_interval": 0
     }
    },
    "colab_type": "code",
    "id": "E5Xa1E6L5498",
    "outputId": "fa62a356-5b4c-4e99-8c1d-b521094e8c60"
   },
   "outputs": [
    {
     "data": {
      "text/html": [
       "<div>\n",
       "<table border=\"1\" class=\"dataframe\">\n",
       "  <thead>\n",
       "    <tr style=\"text-align: right;\">\n",
       "      <th></th>\n",
       "      <th>route_id</th>\n",
       "      <th>agency_id</th>\n",
       "      <th>route_short_name</th>\n",
       "      <th>route_long_name</th>\n",
       "      <th>route_desc</th>\n",
       "      <th>route_type</th>\n",
       "      <th>route_url</th>\n",
       "      <th>route_color</th>\n",
       "      <th>route_text_color</th>\n",
       "      <th>route_sort_order</th>\n",
       "    </tr>\n",
       "  </thead>\n",
       "  <tbody>\n",
       "    <tr>\n",
       "      <th>1</th>\n",
       "      <td>Logan-22</td>\n",
       "      <td>2</td>\n",
       "      <td>Shuttle</td>\n",
       "      <td>Massport Subway Shuttle (22)</td>\n",
       "      <td>Airport Shuttle</td>\n",
       "      <td>3</td>\n",
       "      <td>NaN</td>\n",
       "      <td>NaN</td>\n",
       "      <td>NaN</td>\n",
       "      <td>2000022</td>\n",
       "    </tr>\n",
       "    <tr>\n",
       "      <th>2</th>\n",
       "      <td>Logan-33</td>\n",
       "      <td>2</td>\n",
       "      <td>Shuttle</td>\n",
       "      <td>Massport Subway Shuttle (33)</td>\n",
       "      <td>Airport Shuttle</td>\n",
       "      <td>3</td>\n",
       "      <td>NaN</td>\n",
       "      <td>NaN</td>\n",
       "      <td>NaN</td>\n",
       "      <td>2000033</td>\n",
       "    </tr>\n",
       "    <tr>\n",
       "      <th>3</th>\n",
       "      <td>Logan-55</td>\n",
       "      <td>2</td>\n",
       "      <td>Shuttle</td>\n",
       "      <td>Massport Subway Shuttle (55)</td>\n",
       "      <td>Airport Shuttle</td>\n",
       "      <td>3</td>\n",
       "      <td>NaN</td>\n",
       "      <td>NaN</td>\n",
       "      <td>NaN</td>\n",
       "      <td>2000055</td>\n",
       "    </tr>\n",
       "    <tr>\n",
       "      <th>4</th>\n",
       "      <td>Logan-66</td>\n",
       "      <td>2</td>\n",
       "      <td>Shuttle</td>\n",
       "      <td>Massport Subway / Ferry Terminal Shuttle (66)</td>\n",
       "      <td>Airport Shuttle</td>\n",
       "      <td>3</td>\n",
       "      <td>NaN</td>\n",
       "      <td>NaN</td>\n",
       "      <td>NaN</td>\n",
       "      <td>2000066</td>\n",
       "    </tr>\n",
       "  </tbody>\n",
       "</table>\n",
       "</div>"
      ],
      "text/plain": [
       "   route_id  agency_id route_short_name  \\\n",
       "1  Logan-22          2          Shuttle   \n",
       "2  Logan-33          2          Shuttle   \n",
       "3  Logan-55          2          Shuttle   \n",
       "4  Logan-66          2          Shuttle   \n",
       "\n",
       "                                 route_long_name       route_desc  route_type  \\\n",
       "1                   Massport Subway Shuttle (22)  Airport Shuttle           3   \n",
       "2                   Massport Subway Shuttle (33)  Airport Shuttle           3   \n",
       "3                   Massport Subway Shuttle (55)  Airport Shuttle           3   \n",
       "4  Massport Subway / Ferry Terminal Shuttle (66)  Airport Shuttle           3   \n",
       "\n",
       "  route_url route_color route_text_color  route_sort_order  \n",
       "1       NaN         NaN              NaN           2000022  \n",
       "2       NaN         NaN              NaN           2000033  \n",
       "3       NaN         NaN              NaN           2000055  \n",
       "4       NaN         NaN              NaN           2000066  "
      ]
     },
     "execution_count": 33,
     "metadata": {
      "tags": []
     },
     "output_type": "execute_result"
    }
   ],
   "source": [
    "routes[routes.agency_id == 2]"
   ]
  },
  {
   "cell_type": "code",
   "execution_count": 0,
   "metadata": {
    "colab": {
     "autoexec": {
      "startup": false,
      "wait_interval": 0
     }
    },
    "colab_type": "code",
    "collapsed": true,
    "id": "-yCS-ggT549-"
   },
   "outputs": [],
   "source": [
    "# \n",
    "# recent_updates.head()\n",
    "# trips\n",
    "# recent_updates.trip_id = recent_updates.trip_id.str.strip()\n",
    "# pd.merge(recent_updates, trips, on=\"trip_id\")\n",
    "recent_updates = get_updates(datetime.now() - timedelta(days=1))\n",
    "recent_updates = pd.merge(recent_updates, trips, on=\"trip_id\")"
   ]
  },
  {
   "cell_type": "code",
   "execution_count": 0,
   "metadata": {
    "colab": {
     "autoexec": {
      "startup": false,
      "wait_interval": 0
     }
    },
    "colab_type": "code",
    "id": "cbCR-1NX549_",
    "outputId": "ad72ffad-46c0-40cd-f740-b553e1eedfa9"
   },
   "outputs": [
    {
     "data": {
      "text/plain": [
       "194"
      ]
     },
     "execution_count": 71,
     "metadata": {
      "tags": []
     },
     "output_type": "execute_result"
    }
   ],
   "source": [
    "recent_updates.route_id.nunique()"
   ]
  },
  {
   "cell_type": "code",
   "execution_count": 0,
   "metadata": {
    "colab": {
     "autoexec": {
      "startup": false,
      "wait_interval": 0
     }
    },
    "colab_type": "code",
    "collapsed": true,
    "id": "E4JJPDQf54-B"
   },
   "outputs": [],
   "source": [
    "grouped_routes = recent_updates.groupby(\"route_id\")\n",
    "distinct_trips = grouped_routes.trip_id.nunique()\n",
    "distinct_updates = grouped_routes.count().trip_id"
   ]
  },
  {
   "cell_type": "code",
   "execution_count": 0,
   "metadata": {
    "colab": {
     "autoexec": {
      "startup": false,
      "wait_interval": 0
     }
    },
    "colab_type": "code",
    "id": "P-cWfhpu54-C",
    "outputId": "cd715797-b6a8-4f6e-fda4-c417e0f5db4e"
   },
   "outputs": [
    {
     "ename": "NameError",
     "evalue": "name 'pd' is not defined",
     "output_type": "error",
     "traceback": [
      "\u001b[0;31m---------------------------------------------------------------------------\u001b[0m",
      "\u001b[0;31mNameError\u001b[0m                                 Traceback (most recent call last)",
      "\u001b[0;32m<ipython-input-1-5225b6714e94>\u001b[0m in \u001b[0;36m<module>\u001b[0;34m()\u001b[0m\n\u001b[0;32m----> 1\u001b[0;31m \u001b[0mroute_stats\u001b[0m \u001b[0;34m=\u001b[0m \u001b[0mpd\u001b[0m\u001b[0;34m.\u001b[0m\u001b[0mconcat\u001b[0m\u001b[0;34m(\u001b[0m\u001b[0;34m{\u001b[0m\u001b[0;34m\"trips\"\u001b[0m\u001b[0;34m:\u001b[0m \u001b[0mdistinct_trips\u001b[0m\u001b[0;34m,\u001b[0m \u001b[0;34m\"updates\"\u001b[0m\u001b[0;34m:\u001b[0m \u001b[0mdistinct_updates\u001b[0m\u001b[0;34m}\u001b[0m\u001b[0;34m,\u001b[0m \u001b[0maxis\u001b[0m\u001b[0;34m=\u001b[0m\u001b[0;36m1\u001b[0m\u001b[0;34m)\u001b[0m\u001b[0;34m\u001b[0m\u001b[0m\n\u001b[0m\u001b[1;32m      2\u001b[0m \u001b[0mroute_stats\u001b[0m\u001b[0;34m[\u001b[0m\u001b[0;34m\"updates per trip\"\u001b[0m\u001b[0;34m]\u001b[0m \u001b[0;34m=\u001b[0m \u001b[0mroute_stats\u001b[0m\u001b[0;34m[\u001b[0m\u001b[0;34m\"updates\"\u001b[0m\u001b[0;34m]\u001b[0m\u001b[0;34m/\u001b[0m\u001b[0mroute_stats\u001b[0m\u001b[0;34m[\u001b[0m\u001b[0;34m\"trips\"\u001b[0m\u001b[0;34m]\u001b[0m\u001b[0;34m\u001b[0m\u001b[0m\n\u001b[1;32m      3\u001b[0m \u001b[0mroute_stats\u001b[0m\u001b[0;34m.\u001b[0m\u001b[0msort_values\u001b[0m\u001b[0;34m(\u001b[0m\u001b[0;34m\"updates\"\u001b[0m\u001b[0;34m,\u001b[0m \u001b[0mascending\u001b[0m\u001b[0;34m=\u001b[0m\u001b[0;32mFalse\u001b[0m\u001b[0;34m)\u001b[0m\u001b[0;34m\u001b[0m\u001b[0m\n",
      "\u001b[0;31mNameError\u001b[0m: name 'pd' is not defined"
     ]
    }
   ],
   "source": [
    "route_stats = pd.concat({\"trips\": distinct_trips, \"updates\": distinct_updates}, axis=1)\n",
    "route_stats[\"updates per trip\"] = route_stats[\"updates\"]/route_stats[\"trips\"]\n",
    "route_stats.sort_values(\"updates\", ascending=False)"
   ]
  },
  {
   "cell_type": "code",
   "execution_count": 0,
   "metadata": {
    "colab": {
     "autoexec": {
      "startup": false,
      "wait_interval": 0
     }
    },
    "colab_type": "code",
    "collapsed": true,
    "id": "fW8ZpW_t549c"
   },
   "outputs": [],
   "source": [
    "orange_line = stops_with_schedule.query(\"route_id == 'Orange'\").groupby(\"trip_id\").apply(add_hour_start)\n",
    "blue_line = stops_with_schedule.query(\"route_id == 'Blue'\").groupby(\"trip_id\").apply(add_hour_start)"
   ]
  },
  {
   "cell_type": "markdown",
   "metadata": {
    "colab_type": "text",
    "id": "oYcYbzqFgPlT"
   },
   "source": [
    "# Vehicle Clusters"
   ]
  },
  {
   "cell_type": "code",
   "execution_count": 48,
   "metadata": {
    "colab": {
     "autoexec": {
      "startup": false,
      "wait_interval": 0
     }
    },
    "colab_type": "code",
    "collapsed": true,
    "id": "15BWTCytRNSm"
   },
   "outputs": [],
   "source": [
    "named_stops.sort_values(\"local_timestamp\", inplace=True)\n",
    "red_line = named_stops.query(\"route_id == 'Red'\")\n",
    "orange_line = named_stops.query(\"route_id == 'Orange'\")\n",
    "blue_line = named_stops.query(\"route_id == 'Blue'\")"
   ]
  },
  {
   "cell_type": "code",
   "execution_count": 49,
   "metadata": {
    "colab": {
     "autoexec": {
      "startup": false,
      "wait_interval": 0
     },
     "base_uri": "https://localhost:8080/",
     "height": 204
    },
    "colab_type": "code",
    "executionInfo": {
     "elapsed": 283,
     "status": "ok",
     "timestamp": 1527794953109,
     "user": {
      "displayName": "Brian Sanders",
      "photoUrl": "https://lh3.googleusercontent.com/a/default-user=s128",
      "userId": "117372068364006546394"
     },
     "user_tz": 240
    },
    "id": "9IPEZ5q6W9WK",
    "outputId": "7c8c80c1-32ac-4036-842f-bbc6da73f53d"
   },
   "outputs": [
    {
     "data": {
      "text/html": [
       "<div>\n",
       "<style scoped>\n",
       "    .dataframe tbody tr th:only-of-type {\n",
       "        vertical-align: middle;\n",
       "    }\n",
       "\n",
       "    .dataframe tbody tr th {\n",
       "        vertical-align: top;\n",
       "    }\n",
       "\n",
       "    .dataframe thead th {\n",
       "        text-align: right;\n",
       "    }\n",
       "</style>\n",
       "<table border=\"1\" class=\"dataframe\">\n",
       "  <thead>\n",
       "    <tr style=\"text-align: right;\">\n",
       "      <th></th>\n",
       "      <th>trip_id</th>\n",
       "      <th>trip_start</th>\n",
       "      <th>stop_id</th>\n",
       "      <th>stop_sequence</th>\n",
       "      <th>vehicle_id</th>\n",
       "      <th>local_timestamp</th>\n",
       "      <th>route_id</th>\n",
       "      <th>direction_id</th>\n",
       "      <th>stop_name</th>\n",
       "      <th>headway</th>\n",
       "    </tr>\n",
       "  </thead>\n",
       "  <tbody>\n",
       "    <tr>\n",
       "      <th>271905</th>\n",
       "      <td>36491786-L</td>\n",
       "      <td>2018-05-31</td>\n",
       "      <td>70093</td>\n",
       "      <td>170</td>\n",
       "      <td>R-5455F2F5</td>\n",
       "      <td>2018-05-31 21:59:03-04:00</td>\n",
       "      <td>Red</td>\n",
       "      <td>0</td>\n",
       "      <td>Ashmont - Outbound</td>\n",
       "      <td>556.0</td>\n",
       "    </tr>\n",
       "    <tr>\n",
       "      <th>262505</th>\n",
       "      <td>36491860-L</td>\n",
       "      <td>2018-05-31</td>\n",
       "      <td>70105</td>\n",
       "      <td>220</td>\n",
       "      <td>R-5455E8B5</td>\n",
       "      <td>2018-05-31 21:59:10-04:00</td>\n",
       "      <td>Red</td>\n",
       "      <td>0</td>\n",
       "      <td>Braintree</td>\n",
       "      <td>764.0</td>\n",
       "    </tr>\n",
       "    <tr>\n",
       "      <th>244404</th>\n",
       "      <td>36491795-L</td>\n",
       "      <td>2018-05-31</td>\n",
       "      <td>70073</td>\n",
       "      <td>60</td>\n",
       "      <td>R-5455F415</td>\n",
       "      <td>2018-05-31 21:59:14-04:00</td>\n",
       "      <td>Red</td>\n",
       "      <td>0</td>\n",
       "      <td>Charles/MGH - Inbound</td>\n",
       "      <td>255.0</td>\n",
       "    </tr>\n",
       "    <tr>\n",
       "      <th>281942</th>\n",
       "      <td>36491777-L</td>\n",
       "      <td>2018-05-31</td>\n",
       "      <td>70090</td>\n",
       "      <td>70</td>\n",
       "      <td>R-5455F127</td>\n",
       "      <td>2018-05-31 21:59:20-04:00</td>\n",
       "      <td>Red</td>\n",
       "      <td>1</td>\n",
       "      <td>Fields Corner - Inbound</td>\n",
       "      <td>1028.0</td>\n",
       "    </tr>\n",
       "    <tr>\n",
       "      <th>264076</th>\n",
       "      <td>36491843-L</td>\n",
       "      <td>2018-05-31</td>\n",
       "      <td>70068</td>\n",
       "      <td>190</td>\n",
       "      <td>R-5455F449</td>\n",
       "      <td>2018-05-31 21:59:51-04:00</td>\n",
       "      <td>Red</td>\n",
       "      <td>1</td>\n",
       "      <td>Harvard - Outbound</td>\n",
       "      <td>505.0</td>\n",
       "    </tr>\n",
       "  </tbody>\n",
       "</table>\n",
       "</div>"
      ],
      "text/plain": [
       "           trip_id  trip_start stop_id  stop_sequence  vehicle_id  \\\n",
       "271905  36491786-L  2018-05-31   70093            170  R-5455F2F5   \n",
       "262505  36491860-L  2018-05-31   70105            220  R-5455E8B5   \n",
       "244404  36491795-L  2018-05-31   70073             60  R-5455F415   \n",
       "281942  36491777-L  2018-05-31   70090             70  R-5455F127   \n",
       "264076  36491843-L  2018-05-31   70068            190  R-5455F449   \n",
       "\n",
       "                 local_timestamp route_id direction_id  \\\n",
       "271905 2018-05-31 21:59:03-04:00      Red            0   \n",
       "262505 2018-05-31 21:59:10-04:00      Red            0   \n",
       "244404 2018-05-31 21:59:14-04:00      Red            0   \n",
       "281942 2018-05-31 21:59:20-04:00      Red            1   \n",
       "264076 2018-05-31 21:59:51-04:00      Red            1   \n",
       "\n",
       "                      stop_name  headway  \n",
       "271905       Ashmont - Outbound    556.0  \n",
       "262505                Braintree    764.0  \n",
       "244404    Charles/MGH - Inbound    255.0  \n",
       "281942  Fields Corner - Inbound   1028.0  \n",
       "264076       Harvard - Outbound    505.0  "
      ]
     },
     "execution_count": 49,
     "metadata": {},
     "output_type": "execute_result"
    }
   ],
   "source": [
    "# Group by stop_id and direction_id?\n",
    "\n",
    "rl_grouped = red_line.groupby([\"stop_id\", \"direction_id\"])\n",
    "\n",
    "def add_headway(df):\n",
    "  df[\"headway\"] = (df.local_timestamp.diff(1)).dt.total_seconds()\n",
    "  return df\n",
    "\n",
    "rl_with_headway = rl_grouped.apply(add_headway)\n",
    "rl_with_headway.tail()"
   ]
  },
  {
   "cell_type": "code",
   "execution_count": 56,
   "metadata": {
    "colab": {
     "autoexec": {
      "startup": false,
      "wait_interval": 0
     },
     "base_uri": "https://localhost:8080/",
     "height": 359
    },
    "colab_type": "code",
    "executionInfo": {
     "elapsed": 302,
     "status": "ok",
     "timestamp": 1527794953454,
     "user": {
      "displayName": "Brian Sanders",
      "photoUrl": "https://lh3.googleusercontent.com/a/default-user=s128",
      "userId": "117372068364006546394"
     },
     "user_tz": 240
    },
    "id": "Q4soRWTEdDaj",
    "outputId": "40c1d020-9421-4178-d1e7-91b62e69446c"
   },
   "outputs": [
    {
     "data": {
      "text/html": [
       "<div>\n",
       "<style scoped>\n",
       "    .dataframe tbody tr th:only-of-type {\n",
       "        vertical-align: middle;\n",
       "    }\n",
       "\n",
       "    .dataframe tbody tr th {\n",
       "        vertical-align: top;\n",
       "    }\n",
       "\n",
       "    .dataframe thead th {\n",
       "        text-align: right;\n",
       "    }\n",
       "</style>\n",
       "<table border=\"1\" class=\"dataframe\">\n",
       "  <thead>\n",
       "    <tr style=\"text-align: right;\">\n",
       "      <th></th>\n",
       "      <th>trip_id</th>\n",
       "      <th>trip_start</th>\n",
       "      <th>stop_id</th>\n",
       "      <th>stop_sequence</th>\n",
       "      <th>vehicle_id</th>\n",
       "      <th>local_timestamp</th>\n",
       "      <th>route_id</th>\n",
       "      <th>direction_id</th>\n",
       "      <th>stop_name</th>\n",
       "      <th>headway</th>\n",
       "    </tr>\n",
       "  </thead>\n",
       "  <tbody>\n",
       "    <tr>\n",
       "      <th>249018</th>\n",
       "      <td>36491711-L</td>\n",
       "      <td>2018-05-31</td>\n",
       "      <td>70096</td>\n",
       "      <td>100</td>\n",
       "      <td>R-5455DD44</td>\n",
       "      <td>2018-05-31 05:39:02-04:00</td>\n",
       "      <td>Red</td>\n",
       "      <td>1</td>\n",
       "      <td>JFK/UMASS Braintree - Inbound</td>\n",
       "      <td>NaN</td>\n",
       "    </tr>\n",
       "    <tr>\n",
       "      <th>249019</th>\n",
       "      <td>36491715-L</td>\n",
       "      <td>2018-05-31</td>\n",
       "      <td>70096</td>\n",
       "      <td>100</td>\n",
       "      <td>R-5455E5E4</td>\n",
       "      <td>2018-05-31 05:47:02-04:00</td>\n",
       "      <td>Red</td>\n",
       "      <td>1</td>\n",
       "      <td>JFK/UMASS Braintree - Inbound</td>\n",
       "      <td>480.0</td>\n",
       "    </tr>\n",
       "    <tr>\n",
       "      <th>249020</th>\n",
       "      <td>36491713-L</td>\n",
       "      <td>2018-05-31</td>\n",
       "      <td>70096</td>\n",
       "      <td>100</td>\n",
       "      <td>R-5455E1C8</td>\n",
       "      <td>2018-05-31 05:55:26-04:00</td>\n",
       "      <td>Red</td>\n",
       "      <td>1</td>\n",
       "      <td>JFK/UMASS Braintree - Inbound</td>\n",
       "      <td>504.0</td>\n",
       "    </tr>\n",
       "    <tr>\n",
       "      <th>249021</th>\n",
       "      <td>36491717-L</td>\n",
       "      <td>2018-05-31</td>\n",
       "      <td>70096</td>\n",
       "      <td>100</td>\n",
       "      <td>R-5455F126</td>\n",
       "      <td>2018-05-31 06:16:48-04:00</td>\n",
       "      <td>Red</td>\n",
       "      <td>1</td>\n",
       "      <td>JFK/UMASS Braintree - Inbound</td>\n",
       "      <td>1282.0</td>\n",
       "    </tr>\n",
       "    <tr>\n",
       "      <th>249022</th>\n",
       "      <td>36491724-L</td>\n",
       "      <td>2018-05-31</td>\n",
       "      <td>70096</td>\n",
       "      <td>100</td>\n",
       "      <td>R-5455EB92</td>\n",
       "      <td>2018-05-31 06:23:38-04:00</td>\n",
       "      <td>Red</td>\n",
       "      <td>1</td>\n",
       "      <td>JFK/UMASS Braintree - Inbound</td>\n",
       "      <td>410.0</td>\n",
       "    </tr>\n",
       "    <tr>\n",
       "      <th>249023</th>\n",
       "      <td>36491880-L</td>\n",
       "      <td>2018-05-31</td>\n",
       "      <td>70096</td>\n",
       "      <td>100</td>\n",
       "      <td>R-5455F12E</td>\n",
       "      <td>2018-05-31 06:30:55-04:00</td>\n",
       "      <td>Red</td>\n",
       "      <td>1</td>\n",
       "      <td>JFK/UMASS Braintree - Inbound</td>\n",
       "      <td>437.0</td>\n",
       "    </tr>\n",
       "    <tr>\n",
       "      <th>249024</th>\n",
       "      <td>36491738-L</td>\n",
       "      <td>2018-05-31</td>\n",
       "      <td>70096</td>\n",
       "      <td>100</td>\n",
       "      <td>R-5455F135</td>\n",
       "      <td>2018-05-31 06:39:26-04:00</td>\n",
       "      <td>Red</td>\n",
       "      <td>1</td>\n",
       "      <td>JFK/UMASS Braintree - Inbound</td>\n",
       "      <td>511.0</td>\n",
       "    </tr>\n",
       "    <tr>\n",
       "      <th>249025</th>\n",
       "      <td>36491720-L</td>\n",
       "      <td>2018-05-31</td>\n",
       "      <td>70096</td>\n",
       "      <td>100</td>\n",
       "      <td>R-5455F103</td>\n",
       "      <td>2018-05-31 06:47:10-04:00</td>\n",
       "      <td>Red</td>\n",
       "      <td>1</td>\n",
       "      <td>JFK/UMASS Braintree - Inbound</td>\n",
       "      <td>464.0</td>\n",
       "    </tr>\n",
       "    <tr>\n",
       "      <th>249026</th>\n",
       "      <td>36491722-L</td>\n",
       "      <td>2018-05-31</td>\n",
       "      <td>70096</td>\n",
       "      <td>100</td>\n",
       "      <td>R-5455E8B5</td>\n",
       "      <td>2018-05-31 06:50:42-04:00</td>\n",
       "      <td>Red</td>\n",
       "      <td>1</td>\n",
       "      <td>JFK/UMASS Braintree - Inbound</td>\n",
       "      <td>212.0</td>\n",
       "    </tr>\n",
       "    <tr>\n",
       "      <th>249027</th>\n",
       "      <td>36754130-L</td>\n",
       "      <td>2018-05-31</td>\n",
       "      <td>70096</td>\n",
       "      <td>100</td>\n",
       "      <td>R-5455EB15</td>\n",
       "      <td>2018-05-31 06:57:30-04:00</td>\n",
       "      <td>Red</td>\n",
       "      <td>1</td>\n",
       "      <td>JFK/UMASS Braintree - Inbound</td>\n",
       "      <td>408.0</td>\n",
       "    </tr>\n",
       "  </tbody>\n",
       "</table>\n",
       "</div>"
      ],
      "text/plain": [
       "           trip_id  trip_start stop_id  stop_sequence  vehicle_id  \\\n",
       "249018  36491711-L  2018-05-31   70096            100  R-5455DD44   \n",
       "249019  36491715-L  2018-05-31   70096            100  R-5455E5E4   \n",
       "249020  36491713-L  2018-05-31   70096            100  R-5455E1C8   \n",
       "249021  36491717-L  2018-05-31   70096            100  R-5455F126   \n",
       "249022  36491724-L  2018-05-31   70096            100  R-5455EB92   \n",
       "249023  36491880-L  2018-05-31   70096            100  R-5455F12E   \n",
       "249024  36491738-L  2018-05-31   70096            100  R-5455F135   \n",
       "249025  36491720-L  2018-05-31   70096            100  R-5455F103   \n",
       "249026  36491722-L  2018-05-31   70096            100  R-5455E8B5   \n",
       "249027  36754130-L  2018-05-31   70096            100  R-5455EB15   \n",
       "\n",
       "                 local_timestamp route_id direction_id  \\\n",
       "249018 2018-05-31 05:39:02-04:00      Red            1   \n",
       "249019 2018-05-31 05:47:02-04:00      Red            1   \n",
       "249020 2018-05-31 05:55:26-04:00      Red            1   \n",
       "249021 2018-05-31 06:16:48-04:00      Red            1   \n",
       "249022 2018-05-31 06:23:38-04:00      Red            1   \n",
       "249023 2018-05-31 06:30:55-04:00      Red            1   \n",
       "249024 2018-05-31 06:39:26-04:00      Red            1   \n",
       "249025 2018-05-31 06:47:10-04:00      Red            1   \n",
       "249026 2018-05-31 06:50:42-04:00      Red            1   \n",
       "249027 2018-05-31 06:57:30-04:00      Red            1   \n",
       "\n",
       "                            stop_name  headway  \n",
       "249018  JFK/UMASS Braintree - Inbound      NaN  \n",
       "249019  JFK/UMASS Braintree - Inbound    480.0  \n",
       "249020  JFK/UMASS Braintree - Inbound    504.0  \n",
       "249021  JFK/UMASS Braintree - Inbound   1282.0  \n",
       "249022  JFK/UMASS Braintree - Inbound    410.0  \n",
       "249023  JFK/UMASS Braintree - Inbound    437.0  \n",
       "249024  JFK/UMASS Braintree - Inbound    511.0  \n",
       "249025  JFK/UMASS Braintree - Inbound    464.0  \n",
       "249026  JFK/UMASS Braintree - Inbound    212.0  \n",
       "249027  JFK/UMASS Braintree - Inbound    408.0  "
      ]
     },
     "execution_count": 56,
     "metadata": {},
     "output_type": "execute_result"
    }
   ],
   "source": [
    "one_stop = rl_with_headway.query(\"stop_sequence == 100 and direction_id == '1'\")\n",
    "one_stop.head(10)"
   ]
  },
  {
   "cell_type": "markdown",
   "metadata": {
    "colab_type": "text",
    "id": "NRQdxLBQdx4Y"
   },
   "source": [
    "Let's see if we can find clusters at this stop.\n",
    "\n",
    "We'll define a cluster as one or more vehicles that have less than a 300 second (five minute) interval between arrivals at a given stop. We'll give each cluster a unique number, starting at 0.\n",
    "\n",
    "We'll take advantage of the fact that `False` = 0 and `True` = 1, and we'll use the `cumsum()` Series method to get the cumulative sum of a boolean column. The intuition is that each time we exceed the cluster threshold for time between vehicles, we increment `cluster`."
   ]
  },
  {
   "cell_type": "code",
   "execution_count": 57,
   "metadata": {
    "colab": {
     "autoexec": {
      "startup": false,
      "wait_interval": 0
     },
     "base_uri": "https://localhost:8080/",
     "height": 802
    },
    "colab_type": "code",
    "executionInfo": {
     "elapsed": 428,
     "status": "ok",
     "timestamp": 1527794986261,
     "user": {
      "displayName": "Brian Sanders",
      "photoUrl": "https://lh3.googleusercontent.com/a/default-user=s128",
      "userId": "117372068364006546394"
     },
     "user_tz": 240
    },
    "id": "1QPIfI1uaNmz",
    "outputId": "ccce753b-45f9-41d8-f835-ad543b0edded"
   },
   "outputs": [
    {
     "name": "stderr",
     "output_type": "stream",
     "text": [
      "/opt/conda/lib/python3.6/site-packages/ipykernel_launcher.py:1: SettingWithCopyWarning: \n",
      "A value is trying to be set on a copy of a slice from a DataFrame.\n",
      "Try using .loc[row_indexer,col_indexer] = value instead\n",
      "\n",
      "See the caveats in the documentation: http://pandas.pydata.org/pandas-docs/stable/indexing.html#indexing-view-versus-copy\n",
      "  \"\"\"Entry point for launching an IPython kernel.\n"
     ]
    },
    {
     "data": {
      "text/html": [
       "<div>\n",
       "<style scoped>\n",
       "    .dataframe tbody tr th:only-of-type {\n",
       "        vertical-align: middle;\n",
       "    }\n",
       "\n",
       "    .dataframe tbody tr th {\n",
       "        vertical-align: top;\n",
       "    }\n",
       "\n",
       "    .dataframe thead th {\n",
       "        text-align: right;\n",
       "    }\n",
       "</style>\n",
       "<table border=\"1\" class=\"dataframe\">\n",
       "  <thead>\n",
       "    <tr style=\"text-align: right;\">\n",
       "      <th></th>\n",
       "      <th>trip_id</th>\n",
       "      <th>trip_start</th>\n",
       "      <th>stop_id</th>\n",
       "      <th>stop_sequence</th>\n",
       "      <th>vehicle_id</th>\n",
       "      <th>local_timestamp</th>\n",
       "      <th>route_id</th>\n",
       "      <th>direction_id</th>\n",
       "      <th>stop_name</th>\n",
       "      <th>headway</th>\n",
       "      <th>cluster</th>\n",
       "    </tr>\n",
       "  </thead>\n",
       "  <tbody>\n",
       "    <tr>\n",
       "      <th>249018</th>\n",
       "      <td>36491711-L</td>\n",
       "      <td>2018-05-31</td>\n",
       "      <td>70096</td>\n",
       "      <td>100</td>\n",
       "      <td>R-5455DD44</td>\n",
       "      <td>2018-05-31 05:39:02-04:00</td>\n",
       "      <td>Red</td>\n",
       "      <td>1</td>\n",
       "      <td>JFK/UMASS Braintree - Inbound</td>\n",
       "      <td>NaN</td>\n",
       "      <td>0</td>\n",
       "    </tr>\n",
       "    <tr>\n",
       "      <th>249019</th>\n",
       "      <td>36491715-L</td>\n",
       "      <td>2018-05-31</td>\n",
       "      <td>70096</td>\n",
       "      <td>100</td>\n",
       "      <td>R-5455E5E4</td>\n",
       "      <td>2018-05-31 05:47:02-04:00</td>\n",
       "      <td>Red</td>\n",
       "      <td>1</td>\n",
       "      <td>JFK/UMASS Braintree - Inbound</td>\n",
       "      <td>480.0</td>\n",
       "      <td>1</td>\n",
       "    </tr>\n",
       "    <tr>\n",
       "      <th>249020</th>\n",
       "      <td>36491713-L</td>\n",
       "      <td>2018-05-31</td>\n",
       "      <td>70096</td>\n",
       "      <td>100</td>\n",
       "      <td>R-5455E1C8</td>\n",
       "      <td>2018-05-31 05:55:26-04:00</td>\n",
       "      <td>Red</td>\n",
       "      <td>1</td>\n",
       "      <td>JFK/UMASS Braintree - Inbound</td>\n",
       "      <td>504.0</td>\n",
       "      <td>2</td>\n",
       "    </tr>\n",
       "    <tr>\n",
       "      <th>249021</th>\n",
       "      <td>36491717-L</td>\n",
       "      <td>2018-05-31</td>\n",
       "      <td>70096</td>\n",
       "      <td>100</td>\n",
       "      <td>R-5455F126</td>\n",
       "      <td>2018-05-31 06:16:48-04:00</td>\n",
       "      <td>Red</td>\n",
       "      <td>1</td>\n",
       "      <td>JFK/UMASS Braintree - Inbound</td>\n",
       "      <td>1282.0</td>\n",
       "      <td>3</td>\n",
       "    </tr>\n",
       "    <tr>\n",
       "      <th>249022</th>\n",
       "      <td>36491724-L</td>\n",
       "      <td>2018-05-31</td>\n",
       "      <td>70096</td>\n",
       "      <td>100</td>\n",
       "      <td>R-5455EB92</td>\n",
       "      <td>2018-05-31 06:23:38-04:00</td>\n",
       "      <td>Red</td>\n",
       "      <td>1</td>\n",
       "      <td>JFK/UMASS Braintree - Inbound</td>\n",
       "      <td>410.0</td>\n",
       "      <td>4</td>\n",
       "    </tr>\n",
       "    <tr>\n",
       "      <th>249023</th>\n",
       "      <td>36491880-L</td>\n",
       "      <td>2018-05-31</td>\n",
       "      <td>70096</td>\n",
       "      <td>100</td>\n",
       "      <td>R-5455F12E</td>\n",
       "      <td>2018-05-31 06:30:55-04:00</td>\n",
       "      <td>Red</td>\n",
       "      <td>1</td>\n",
       "      <td>JFK/UMASS Braintree - Inbound</td>\n",
       "      <td>437.0</td>\n",
       "      <td>5</td>\n",
       "    </tr>\n",
       "    <tr>\n",
       "      <th>249024</th>\n",
       "      <td>36491738-L</td>\n",
       "      <td>2018-05-31</td>\n",
       "      <td>70096</td>\n",
       "      <td>100</td>\n",
       "      <td>R-5455F135</td>\n",
       "      <td>2018-05-31 06:39:26-04:00</td>\n",
       "      <td>Red</td>\n",
       "      <td>1</td>\n",
       "      <td>JFK/UMASS Braintree - Inbound</td>\n",
       "      <td>511.0</td>\n",
       "      <td>6</td>\n",
       "    </tr>\n",
       "    <tr>\n",
       "      <th>249025</th>\n",
       "      <td>36491720-L</td>\n",
       "      <td>2018-05-31</td>\n",
       "      <td>70096</td>\n",
       "      <td>100</td>\n",
       "      <td>R-5455F103</td>\n",
       "      <td>2018-05-31 06:47:10-04:00</td>\n",
       "      <td>Red</td>\n",
       "      <td>1</td>\n",
       "      <td>JFK/UMASS Braintree - Inbound</td>\n",
       "      <td>464.0</td>\n",
       "      <td>7</td>\n",
       "    </tr>\n",
       "    <tr>\n",
       "      <th>249026</th>\n",
       "      <td>36491722-L</td>\n",
       "      <td>2018-05-31</td>\n",
       "      <td>70096</td>\n",
       "      <td>100</td>\n",
       "      <td>R-5455E8B5</td>\n",
       "      <td>2018-05-31 06:50:42-04:00</td>\n",
       "      <td>Red</td>\n",
       "      <td>1</td>\n",
       "      <td>JFK/UMASS Braintree - Inbound</td>\n",
       "      <td>212.0</td>\n",
       "      <td>7</td>\n",
       "    </tr>\n",
       "    <tr>\n",
       "      <th>249027</th>\n",
       "      <td>36754130-L</td>\n",
       "      <td>2018-05-31</td>\n",
       "      <td>70096</td>\n",
       "      <td>100</td>\n",
       "      <td>R-5455EB15</td>\n",
       "      <td>2018-05-31 06:57:30-04:00</td>\n",
       "      <td>Red</td>\n",
       "      <td>1</td>\n",
       "      <td>JFK/UMASS Braintree - Inbound</td>\n",
       "      <td>408.0</td>\n",
       "      <td>8</td>\n",
       "    </tr>\n",
       "    <tr>\n",
       "      <th>249028</th>\n",
       "      <td>36491660-L</td>\n",
       "      <td>2018-05-31</td>\n",
       "      <td>70096</td>\n",
       "      <td>100</td>\n",
       "      <td>R-5455E5CA</td>\n",
       "      <td>2018-05-31 07:06:54-04:00</td>\n",
       "      <td>Red</td>\n",
       "      <td>1</td>\n",
       "      <td>JFK/UMASS Braintree - Inbound</td>\n",
       "      <td>564.0</td>\n",
       "      <td>9</td>\n",
       "    </tr>\n",
       "    <tr>\n",
       "      <th>249029</th>\n",
       "      <td>36491661-L</td>\n",
       "      <td>2018-05-31</td>\n",
       "      <td>70096</td>\n",
       "      <td>100</td>\n",
       "      <td>R-5455E7F3</td>\n",
       "      <td>2018-05-31 07:13:17-04:00</td>\n",
       "      <td>Red</td>\n",
       "      <td>1</td>\n",
       "      <td>JFK/UMASS Braintree - Inbound</td>\n",
       "      <td>383.0</td>\n",
       "      <td>10</td>\n",
       "    </tr>\n",
       "    <tr>\n",
       "      <th>249030</th>\n",
       "      <td>36491663-L</td>\n",
       "      <td>2018-05-31</td>\n",
       "      <td>70096</td>\n",
       "      <td>100</td>\n",
       "      <td>R-5455F00A</td>\n",
       "      <td>2018-05-31 07:23:50-04:00</td>\n",
       "      <td>Red</td>\n",
       "      <td>1</td>\n",
       "      <td>JFK/UMASS Braintree - Inbound</td>\n",
       "      <td>633.0</td>\n",
       "      <td>11</td>\n",
       "    </tr>\n",
       "    <tr>\n",
       "      <th>249031</th>\n",
       "      <td>36491664-L</td>\n",
       "      <td>2018-05-31</td>\n",
       "      <td>70096</td>\n",
       "      <td>100</td>\n",
       "      <td>R-5455F125</td>\n",
       "      <td>2018-05-31 07:30:57-04:00</td>\n",
       "      <td>Red</td>\n",
       "      <td>1</td>\n",
       "      <td>JFK/UMASS Braintree - Inbound</td>\n",
       "      <td>427.0</td>\n",
       "      <td>12</td>\n",
       "    </tr>\n",
       "    <tr>\n",
       "      <th>249032</th>\n",
       "      <td>36491665-L</td>\n",
       "      <td>2018-05-31</td>\n",
       "      <td>70096</td>\n",
       "      <td>100</td>\n",
       "      <td>R-5455DD44</td>\n",
       "      <td>2018-05-31 07:40:07-04:00</td>\n",
       "      <td>Red</td>\n",
       "      <td>1</td>\n",
       "      <td>JFK/UMASS Braintree - Inbound</td>\n",
       "      <td>550.0</td>\n",
       "      <td>13</td>\n",
       "    </tr>\n",
       "    <tr>\n",
       "      <th>249033</th>\n",
       "      <td>36491666-L</td>\n",
       "      <td>2018-05-31</td>\n",
       "      <td>70096</td>\n",
       "      <td>100</td>\n",
       "      <td>R-5455E5E4</td>\n",
       "      <td>2018-05-31 07:51:43-04:00</td>\n",
       "      <td>Red</td>\n",
       "      <td>1</td>\n",
       "      <td>JFK/UMASS Braintree - Inbound</td>\n",
       "      <td>696.0</td>\n",
       "      <td>14</td>\n",
       "    </tr>\n",
       "    <tr>\n",
       "      <th>249034</th>\n",
       "      <td>36491667-L</td>\n",
       "      <td>2018-05-31</td>\n",
       "      <td>70096</td>\n",
       "      <td>100</td>\n",
       "      <td>R-5455E1C8</td>\n",
       "      <td>2018-05-31 08:01:30-04:00</td>\n",
       "      <td>Red</td>\n",
       "      <td>1</td>\n",
       "      <td>JFK/UMASS Braintree - Inbound</td>\n",
       "      <td>587.0</td>\n",
       "      <td>15</td>\n",
       "    </tr>\n",
       "    <tr>\n",
       "      <th>249035</th>\n",
       "      <td>36492011-L</td>\n",
       "      <td>2018-05-31</td>\n",
       "      <td>70096</td>\n",
       "      <td>100</td>\n",
       "      <td>R-5455F1D3</td>\n",
       "      <td>2018-05-31 08:08:01-04:00</td>\n",
       "      <td>Red</td>\n",
       "      <td>1</td>\n",
       "      <td>JFK/UMASS Braintree - Inbound</td>\n",
       "      <td>391.0</td>\n",
       "      <td>16</td>\n",
       "    </tr>\n",
       "    <tr>\n",
       "      <th>249036</th>\n",
       "      <td>36491668-L</td>\n",
       "      <td>2018-05-31</td>\n",
       "      <td>70096</td>\n",
       "      <td>100</td>\n",
       "      <td>R-5455F126</td>\n",
       "      <td>2018-05-31 08:22:44-04:00</td>\n",
       "      <td>Red</td>\n",
       "      <td>1</td>\n",
       "      <td>JFK/UMASS Braintree - Inbound</td>\n",
       "      <td>883.0</td>\n",
       "      <td>17</td>\n",
       "    </tr>\n",
       "    <tr>\n",
       "      <th>249037</th>\n",
       "      <td>36491669-L</td>\n",
       "      <td>2018-05-31</td>\n",
       "      <td>70096</td>\n",
       "      <td>100</td>\n",
       "      <td>R-5455EB92</td>\n",
       "      <td>2018-05-31 08:30:40-04:00</td>\n",
       "      <td>Red</td>\n",
       "      <td>1</td>\n",
       "      <td>JFK/UMASS Braintree - Inbound</td>\n",
       "      <td>476.0</td>\n",
       "      <td>18</td>\n",
       "    </tr>\n",
       "    <tr>\n",
       "      <th>249038</th>\n",
       "      <td>36491670-L</td>\n",
       "      <td>2018-05-31</td>\n",
       "      <td>70096</td>\n",
       "      <td>100</td>\n",
       "      <td>R-5455F12E</td>\n",
       "      <td>2018-05-31 08:43:22-04:00</td>\n",
       "      <td>Red</td>\n",
       "      <td>1</td>\n",
       "      <td>JFK/UMASS Braintree - Inbound</td>\n",
       "      <td>762.0</td>\n",
       "      <td>19</td>\n",
       "    </tr>\n",
       "    <tr>\n",
       "      <th>249039</th>\n",
       "      <td>36491671-L</td>\n",
       "      <td>2018-05-31</td>\n",
       "      <td>70096</td>\n",
       "      <td>100</td>\n",
       "      <td>R-5455F135</td>\n",
       "      <td>2018-05-31 08:47:33-04:00</td>\n",
       "      <td>Red</td>\n",
       "      <td>1</td>\n",
       "      <td>JFK/UMASS Braintree - Inbound</td>\n",
       "      <td>251.0</td>\n",
       "      <td>19</td>\n",
       "    </tr>\n",
       "    <tr>\n",
       "      <th>249040</th>\n",
       "      <td>36491672-L</td>\n",
       "      <td>2018-05-31</td>\n",
       "      <td>70096</td>\n",
       "      <td>100</td>\n",
       "      <td>R-5455F103</td>\n",
       "      <td>2018-05-31 08:58:32-04:00</td>\n",
       "      <td>Red</td>\n",
       "      <td>1</td>\n",
       "      <td>JFK/UMASS Braintree - Inbound</td>\n",
       "      <td>659.0</td>\n",
       "      <td>20</td>\n",
       "    </tr>\n",
       "    <tr>\n",
       "      <th>249041</th>\n",
       "      <td>36491673-L</td>\n",
       "      <td>2018-05-31</td>\n",
       "      <td>70096</td>\n",
       "      <td>100</td>\n",
       "      <td>R-5455E8B5</td>\n",
       "      <td>2018-05-31 09:06:35-04:00</td>\n",
       "      <td>Red</td>\n",
       "      <td>1</td>\n",
       "      <td>JFK/UMASS Braintree - Inbound</td>\n",
       "      <td>483.0</td>\n",
       "      <td>21</td>\n",
       "    </tr>\n",
       "    <tr>\n",
       "      <th>249042</th>\n",
       "      <td>36754131-L</td>\n",
       "      <td>2018-05-31</td>\n",
       "      <td>70096</td>\n",
       "      <td>100</td>\n",
       "      <td>R-5455EB15</td>\n",
       "      <td>2018-05-31 09:14:46-04:00</td>\n",
       "      <td>Red</td>\n",
       "      <td>1</td>\n",
       "      <td>JFK/UMASS Braintree - Inbound</td>\n",
       "      <td>491.0</td>\n",
       "      <td>22</td>\n",
       "    </tr>\n",
       "    <tr>\n",
       "      <th>249043</th>\n",
       "      <td>36491675-L</td>\n",
       "      <td>2018-05-31</td>\n",
       "      <td>70096</td>\n",
       "      <td>100</td>\n",
       "      <td>R-5455E5CA</td>\n",
       "      <td>2018-05-31 09:23:43-04:00</td>\n",
       "      <td>Red</td>\n",
       "      <td>1</td>\n",
       "      <td>JFK/UMASS Braintree - Inbound</td>\n",
       "      <td>537.0</td>\n",
       "      <td>23</td>\n",
       "    </tr>\n",
       "    <tr>\n",
       "      <th>249044</th>\n",
       "      <td>36491677-L</td>\n",
       "      <td>2018-05-31</td>\n",
       "      <td>70096</td>\n",
       "      <td>100</td>\n",
       "      <td>R-5455F00A</td>\n",
       "      <td>2018-05-31 09:34:14-04:00</td>\n",
       "      <td>Red</td>\n",
       "      <td>1</td>\n",
       "      <td>JFK/UMASS Braintree - Inbound</td>\n",
       "      <td>631.0</td>\n",
       "      <td>24</td>\n",
       "    </tr>\n",
       "    <tr>\n",
       "      <th>249045</th>\n",
       "      <td>36491678-L</td>\n",
       "      <td>2018-05-31</td>\n",
       "      <td>70096</td>\n",
       "      <td>100</td>\n",
       "      <td>R-5455F125</td>\n",
       "      <td>2018-05-31 09:42:48-04:00</td>\n",
       "      <td>Red</td>\n",
       "      <td>1</td>\n",
       "      <td>JFK/UMASS Braintree - Inbound</td>\n",
       "      <td>514.0</td>\n",
       "      <td>25</td>\n",
       "    </tr>\n",
       "    <tr>\n",
       "      <th>249046</th>\n",
       "      <td>36491679-L</td>\n",
       "      <td>2018-05-31</td>\n",
       "      <td>70096</td>\n",
       "      <td>100</td>\n",
       "      <td>R-5455DD44</td>\n",
       "      <td>2018-05-31 09:56:56-04:00</td>\n",
       "      <td>Red</td>\n",
       "      <td>1</td>\n",
       "      <td>JFK/UMASS Braintree - Inbound</td>\n",
       "      <td>848.0</td>\n",
       "      <td>26</td>\n",
       "    </tr>\n",
       "    <tr>\n",
       "      <th>249047</th>\n",
       "      <td>36491681-L</td>\n",
       "      <td>2018-05-31</td>\n",
       "      <td>70096</td>\n",
       "      <td>100</td>\n",
       "      <td>R-5455E1C8</td>\n",
       "      <td>2018-05-31 10:12:18-04:00</td>\n",
       "      <td>Red</td>\n",
       "      <td>1</td>\n",
       "      <td>JFK/UMASS Braintree - Inbound</td>\n",
       "      <td>922.0</td>\n",
       "      <td>27</td>\n",
       "    </tr>\n",
       "    <tr>\n",
       "      <th>...</th>\n",
       "      <td>...</td>\n",
       "      <td>...</td>\n",
       "      <td>...</td>\n",
       "      <td>...</td>\n",
       "      <td>...</td>\n",
       "      <td>...</td>\n",
       "      <td>...</td>\n",
       "      <td>...</td>\n",
       "      <td>...</td>\n",
       "      <td>...</td>\n",
       "      <td>...</td>\n",
       "    </tr>\n",
       "    <tr>\n",
       "      <th>249070</th>\n",
       "      <td>36491692-L</td>\n",
       "      <td>2018-05-31</td>\n",
       "      <td>70096</td>\n",
       "      <td>100</td>\n",
       "      <td>R-5455F135</td>\n",
       "      <td>2018-05-31 16:28:14-04:00</td>\n",
       "      <td>Red</td>\n",
       "      <td>1</td>\n",
       "      <td>JFK/UMASS Braintree - Inbound</td>\n",
       "      <td>453.0</td>\n",
       "      <td>50</td>\n",
       "    </tr>\n",
       "    <tr>\n",
       "      <th>249071</th>\n",
       "      <td>36491694-L</td>\n",
       "      <td>2018-05-31</td>\n",
       "      <td>70096</td>\n",
       "      <td>100</td>\n",
       "      <td>R-5455E8B5</td>\n",
       "      <td>2018-05-31 16:36:21-04:00</td>\n",
       "      <td>Red</td>\n",
       "      <td>1</td>\n",
       "      <td>JFK/UMASS Braintree - Inbound</td>\n",
       "      <td>487.0</td>\n",
       "      <td>51</td>\n",
       "    </tr>\n",
       "    <tr>\n",
       "      <th>249072</th>\n",
       "      <td>36491693-L</td>\n",
       "      <td>2018-05-31</td>\n",
       "      <td>70096</td>\n",
       "      <td>100</td>\n",
       "      <td>R-5455F2AD</td>\n",
       "      <td>2018-05-31 16:44:13-04:00</td>\n",
       "      <td>Red</td>\n",
       "      <td>1</td>\n",
       "      <td>JFK/UMASS Braintree - Inbound</td>\n",
       "      <td>472.0</td>\n",
       "      <td>52</td>\n",
       "    </tr>\n",
       "    <tr>\n",
       "      <th>249073</th>\n",
       "      <td>36491695-L</td>\n",
       "      <td>2018-05-31</td>\n",
       "      <td>70096</td>\n",
       "      <td>100</td>\n",
       "      <td>R-5455F1D3</td>\n",
       "      <td>2018-05-31 17:02:12-04:00</td>\n",
       "      <td>Red</td>\n",
       "      <td>1</td>\n",
       "      <td>JFK/UMASS Braintree - Inbound</td>\n",
       "      <td>1079.0</td>\n",
       "      <td>53</td>\n",
       "    </tr>\n",
       "    <tr>\n",
       "      <th>249074</th>\n",
       "      <td>36491696-L</td>\n",
       "      <td>2018-05-31</td>\n",
       "      <td>70096</td>\n",
       "      <td>100</td>\n",
       "      <td>R-5455F103</td>\n",
       "      <td>2018-05-31 17:13:35-04:00</td>\n",
       "      <td>Red</td>\n",
       "      <td>1</td>\n",
       "      <td>JFK/UMASS Braintree - Inbound</td>\n",
       "      <td>683.0</td>\n",
       "      <td>54</td>\n",
       "    </tr>\n",
       "    <tr>\n",
       "      <th>249075</th>\n",
       "      <td>36491697-L</td>\n",
       "      <td>2018-05-31</td>\n",
       "      <td>70096</td>\n",
       "      <td>100</td>\n",
       "      <td>R-5455DD44</td>\n",
       "      <td>2018-05-31 17:25:32-04:00</td>\n",
       "      <td>Red</td>\n",
       "      <td>1</td>\n",
       "      <td>JFK/UMASS Braintree - Inbound</td>\n",
       "      <td>717.0</td>\n",
       "      <td>55</td>\n",
       "    </tr>\n",
       "    <tr>\n",
       "      <th>249076</th>\n",
       "      <td>36491698-L</td>\n",
       "      <td>2018-05-31</td>\n",
       "      <td>70096</td>\n",
       "      <td>100</td>\n",
       "      <td>R-5455E1C8</td>\n",
       "      <td>2018-05-31 17:32:45-04:00</td>\n",
       "      <td>Red</td>\n",
       "      <td>1</td>\n",
       "      <td>JFK/UMASS Braintree - Inbound</td>\n",
       "      <td>433.0</td>\n",
       "      <td>56</td>\n",
       "    </tr>\n",
       "    <tr>\n",
       "      <th>249077</th>\n",
       "      <td>36491699-L</td>\n",
       "      <td>2018-05-31</td>\n",
       "      <td>70096</td>\n",
       "      <td>100</td>\n",
       "      <td>R-5455E5E4</td>\n",
       "      <td>2018-05-31 17:41:01-04:00</td>\n",
       "      <td>Red</td>\n",
       "      <td>1</td>\n",
       "      <td>JFK/UMASS Braintree - Inbound</td>\n",
       "      <td>496.0</td>\n",
       "      <td>57</td>\n",
       "    </tr>\n",
       "    <tr>\n",
       "      <th>249078</th>\n",
       "      <td>36491700-L</td>\n",
       "      <td>2018-05-31</td>\n",
       "      <td>70096</td>\n",
       "      <td>100</td>\n",
       "      <td>R-5455EB91</td>\n",
       "      <td>2018-05-31 17:46:50-04:00</td>\n",
       "      <td>Red</td>\n",
       "      <td>1</td>\n",
       "      <td>JFK/UMASS Braintree - Inbound</td>\n",
       "      <td>349.0</td>\n",
       "      <td>58</td>\n",
       "    </tr>\n",
       "    <tr>\n",
       "      <th>249079</th>\n",
       "      <td>36491701-L</td>\n",
       "      <td>2018-05-31</td>\n",
       "      <td>70096</td>\n",
       "      <td>100</td>\n",
       "      <td>R-5455F12E</td>\n",
       "      <td>2018-05-31 18:01:33-04:00</td>\n",
       "      <td>Red</td>\n",
       "      <td>1</td>\n",
       "      <td>JFK/UMASS Braintree - Inbound</td>\n",
       "      <td>883.0</td>\n",
       "      <td>59</td>\n",
       "    </tr>\n",
       "    <tr>\n",
       "      <th>249080</th>\n",
       "      <td>36491702-L</td>\n",
       "      <td>2018-05-31</td>\n",
       "      <td>70096</td>\n",
       "      <td>100</td>\n",
       "      <td>R-5455F00A</td>\n",
       "      <td>2018-05-31 18:13:23-04:00</td>\n",
       "      <td>Red</td>\n",
       "      <td>1</td>\n",
       "      <td>JFK/UMASS Braintree - Inbound</td>\n",
       "      <td>710.0</td>\n",
       "      <td>60</td>\n",
       "    </tr>\n",
       "    <tr>\n",
       "      <th>249081</th>\n",
       "      <td>36491703-L</td>\n",
       "      <td>2018-05-31</td>\n",
       "      <td>70096</td>\n",
       "      <td>100</td>\n",
       "      <td>R-5455F125</td>\n",
       "      <td>2018-05-31 18:18:49-04:00</td>\n",
       "      <td>Red</td>\n",
       "      <td>1</td>\n",
       "      <td>JFK/UMASS Braintree - Inbound</td>\n",
       "      <td>326.0</td>\n",
       "      <td>61</td>\n",
       "    </tr>\n",
       "    <tr>\n",
       "      <th>249082</th>\n",
       "      <td>36491705-L</td>\n",
       "      <td>2018-05-31</td>\n",
       "      <td>70096</td>\n",
       "      <td>100</td>\n",
       "      <td>R-5455F126</td>\n",
       "      <td>2018-05-31 18:26:23-04:00</td>\n",
       "      <td>Red</td>\n",
       "      <td>1</td>\n",
       "      <td>JFK/UMASS Braintree - Inbound</td>\n",
       "      <td>454.0</td>\n",
       "      <td>62</td>\n",
       "    </tr>\n",
       "    <tr>\n",
       "      <th>249083</th>\n",
       "      <td>36491706-L</td>\n",
       "      <td>2018-05-31</td>\n",
       "      <td>70096</td>\n",
       "      <td>100</td>\n",
       "      <td>R-5455F40A</td>\n",
       "      <td>2018-05-31 18:35:13-04:00</td>\n",
       "      <td>Red</td>\n",
       "      <td>1</td>\n",
       "      <td>JFK/UMASS Braintree - Inbound</td>\n",
       "      <td>530.0</td>\n",
       "      <td>63</td>\n",
       "    </tr>\n",
       "    <tr>\n",
       "      <th>249084</th>\n",
       "      <td>36491707-L</td>\n",
       "      <td>2018-05-31</td>\n",
       "      <td>70096</td>\n",
       "      <td>100</td>\n",
       "      <td>R-5455F135</td>\n",
       "      <td>2018-05-31 18:43:15-04:00</td>\n",
       "      <td>Red</td>\n",
       "      <td>1</td>\n",
       "      <td>JFK/UMASS Braintree - Inbound</td>\n",
       "      <td>482.0</td>\n",
       "      <td>64</td>\n",
       "    </tr>\n",
       "    <tr>\n",
       "      <th>249085</th>\n",
       "      <td>36491708-L</td>\n",
       "      <td>2018-05-31</td>\n",
       "      <td>70096</td>\n",
       "      <td>100</td>\n",
       "      <td>R-5455F2AD</td>\n",
       "      <td>2018-05-31 18:54:56-04:00</td>\n",
       "      <td>Red</td>\n",
       "      <td>1</td>\n",
       "      <td>JFK/UMASS Braintree - Inbound</td>\n",
       "      <td>701.0</td>\n",
       "      <td>65</td>\n",
       "    </tr>\n",
       "    <tr>\n",
       "      <th>249086</th>\n",
       "      <td>36491709-L</td>\n",
       "      <td>2018-05-31</td>\n",
       "      <td>70096</td>\n",
       "      <td>100</td>\n",
       "      <td>R-5455F449</td>\n",
       "      <td>2018-05-31 19:08:50-04:00</td>\n",
       "      <td>Red</td>\n",
       "      <td>1</td>\n",
       "      <td>JFK/UMASS Braintree - Inbound</td>\n",
       "      <td>834.0</td>\n",
       "      <td>66</td>\n",
       "    </tr>\n",
       "    <tr>\n",
       "      <th>249087</th>\n",
       "      <td>36491833-L</td>\n",
       "      <td>2018-05-31</td>\n",
       "      <td>70096</td>\n",
       "      <td>100</td>\n",
       "      <td>R-5455F1D3</td>\n",
       "      <td>2018-05-31 19:16:18-04:00</td>\n",
       "      <td>Red</td>\n",
       "      <td>1</td>\n",
       "      <td>JFK/UMASS Braintree - Inbound</td>\n",
       "      <td>448.0</td>\n",
       "      <td>67</td>\n",
       "    </tr>\n",
       "    <tr>\n",
       "      <th>249088</th>\n",
       "      <td>36491839-L</td>\n",
       "      <td>2018-05-31</td>\n",
       "      <td>70096</td>\n",
       "      <td>100</td>\n",
       "      <td>R-5455F103</td>\n",
       "      <td>2018-05-31 19:30:22-04:00</td>\n",
       "      <td>Red</td>\n",
       "      <td>1</td>\n",
       "      <td>JFK/UMASS Braintree - Inbound</td>\n",
       "      <td>844.0</td>\n",
       "      <td>68</td>\n",
       "    </tr>\n",
       "    <tr>\n",
       "      <th>249089</th>\n",
       "      <td>36491845-L</td>\n",
       "      <td>2018-05-31</td>\n",
       "      <td>70096</td>\n",
       "      <td>100</td>\n",
       "      <td>R-5455E1C8</td>\n",
       "      <td>2018-05-31 19:47:15-04:00</td>\n",
       "      <td>Red</td>\n",
       "      <td>1</td>\n",
       "      <td>JFK/UMASS Braintree - Inbound</td>\n",
       "      <td>1013.0</td>\n",
       "      <td>69</td>\n",
       "    </tr>\n",
       "    <tr>\n",
       "      <th>249090</th>\n",
       "      <td>36491849-L</td>\n",
       "      <td>2018-05-31</td>\n",
       "      <td>70096</td>\n",
       "      <td>100</td>\n",
       "      <td>R-5455EB91</td>\n",
       "      <td>2018-05-31 19:52:58-04:00</td>\n",
       "      <td>Red</td>\n",
       "      <td>1</td>\n",
       "      <td>JFK/UMASS Braintree - Inbound</td>\n",
       "      <td>343.0</td>\n",
       "      <td>70</td>\n",
       "    </tr>\n",
       "    <tr>\n",
       "      <th>249091</th>\n",
       "      <td>36491855-L</td>\n",
       "      <td>2018-05-31</td>\n",
       "      <td>70096</td>\n",
       "      <td>100</td>\n",
       "      <td>R-5455E8B5</td>\n",
       "      <td>2018-05-31 20:03:57-04:00</td>\n",
       "      <td>Red</td>\n",
       "      <td>1</td>\n",
       "      <td>JFK/UMASS Braintree - Inbound</td>\n",
       "      <td>659.0</td>\n",
       "      <td>71</td>\n",
       "    </tr>\n",
       "    <tr>\n",
       "      <th>249092</th>\n",
       "      <td>36491861-L</td>\n",
       "      <td>2018-05-31</td>\n",
       "      <td>70096</td>\n",
       "      <td>100</td>\n",
       "      <td>R-5455F00A</td>\n",
       "      <td>2018-05-31 20:30:09-04:00</td>\n",
       "      <td>Red</td>\n",
       "      <td>1</td>\n",
       "      <td>JFK/UMASS Braintree - Inbound</td>\n",
       "      <td>1572.0</td>\n",
       "      <td>72</td>\n",
       "    </tr>\n",
       "    <tr>\n",
       "      <th>249093</th>\n",
       "      <td>36491866-L</td>\n",
       "      <td>2018-05-31</td>\n",
       "      <td>70096</td>\n",
       "      <td>100</td>\n",
       "      <td>R-5455F12E</td>\n",
       "      <td>2018-05-31 20:39:59-04:00</td>\n",
       "      <td>Red</td>\n",
       "      <td>1</td>\n",
       "      <td>JFK/UMASS Braintree - Inbound</td>\n",
       "      <td>590.0</td>\n",
       "      <td>73</td>\n",
       "    </tr>\n",
       "    <tr>\n",
       "      <th>249094</th>\n",
       "      <td>36491824-L</td>\n",
       "      <td>2018-05-31</td>\n",
       "      <td>70096</td>\n",
       "      <td>100</td>\n",
       "      <td>R-5455F126</td>\n",
       "      <td>2018-05-31 20:48:18-04:00</td>\n",
       "      <td>Red</td>\n",
       "      <td>1</td>\n",
       "      <td>JFK/UMASS Braintree - Inbound</td>\n",
       "      <td>499.0</td>\n",
       "      <td>74</td>\n",
       "    </tr>\n",
       "    <tr>\n",
       "      <th>249095</th>\n",
       "      <td>36491831-L</td>\n",
       "      <td>2018-05-31</td>\n",
       "      <td>70096</td>\n",
       "      <td>100</td>\n",
       "      <td>R-5455F135</td>\n",
       "      <td>2018-05-31 21:04:53-04:00</td>\n",
       "      <td>Red</td>\n",
       "      <td>1</td>\n",
       "      <td>JFK/UMASS Braintree - Inbound</td>\n",
       "      <td>995.0</td>\n",
       "      <td>75</td>\n",
       "    </tr>\n",
       "    <tr>\n",
       "      <th>249096</th>\n",
       "      <td>36491837-L</td>\n",
       "      <td>2018-05-31</td>\n",
       "      <td>70096</td>\n",
       "      <td>100</td>\n",
       "      <td>R-5455F2AD</td>\n",
       "      <td>2018-05-31 21:16:29-04:00</td>\n",
       "      <td>Red</td>\n",
       "      <td>1</td>\n",
       "      <td>JFK/UMASS Braintree - Inbound</td>\n",
       "      <td>696.0</td>\n",
       "      <td>76</td>\n",
       "    </tr>\n",
       "    <tr>\n",
       "      <th>249097</th>\n",
       "      <td>36491843-L</td>\n",
       "      <td>2018-05-31</td>\n",
       "      <td>70096</td>\n",
       "      <td>100</td>\n",
       "      <td>R-5455F449</td>\n",
       "      <td>2018-05-31 21:31:42-04:00</td>\n",
       "      <td>Red</td>\n",
       "      <td>1</td>\n",
       "      <td>JFK/UMASS Braintree - Inbound</td>\n",
       "      <td>913.0</td>\n",
       "      <td>77</td>\n",
       "    </tr>\n",
       "    <tr>\n",
       "      <th>249098</th>\n",
       "      <td>36491853-L</td>\n",
       "      <td>2018-05-31</td>\n",
       "      <td>70096</td>\n",
       "      <td>100</td>\n",
       "      <td>R-5455F1D3</td>\n",
       "      <td>2018-05-31 21:41:27-04:00</td>\n",
       "      <td>Red</td>\n",
       "      <td>1</td>\n",
       "      <td>JFK/UMASS Braintree - Inbound</td>\n",
       "      <td>585.0</td>\n",
       "      <td>78</td>\n",
       "    </tr>\n",
       "    <tr>\n",
       "      <th>249099</th>\n",
       "      <td>36491859-L</td>\n",
       "      <td>2018-05-31</td>\n",
       "      <td>70096</td>\n",
       "      <td>100</td>\n",
       "      <td>R-5455F103</td>\n",
       "      <td>2018-05-31 21:52:15-04:00</td>\n",
       "      <td>Red</td>\n",
       "      <td>1</td>\n",
       "      <td>JFK/UMASS Braintree - Inbound</td>\n",
       "      <td>648.0</td>\n",
       "      <td>79</td>\n",
       "    </tr>\n",
       "  </tbody>\n",
       "</table>\n",
       "<p>82 rows × 11 columns</p>\n",
       "</div>"
      ],
      "text/plain": [
       "           trip_id  trip_start stop_id  stop_sequence  vehicle_id  \\\n",
       "249018  36491711-L  2018-05-31   70096            100  R-5455DD44   \n",
       "249019  36491715-L  2018-05-31   70096            100  R-5455E5E4   \n",
       "249020  36491713-L  2018-05-31   70096            100  R-5455E1C8   \n",
       "249021  36491717-L  2018-05-31   70096            100  R-5455F126   \n",
       "249022  36491724-L  2018-05-31   70096            100  R-5455EB92   \n",
       "249023  36491880-L  2018-05-31   70096            100  R-5455F12E   \n",
       "249024  36491738-L  2018-05-31   70096            100  R-5455F135   \n",
       "249025  36491720-L  2018-05-31   70096            100  R-5455F103   \n",
       "249026  36491722-L  2018-05-31   70096            100  R-5455E8B5   \n",
       "249027  36754130-L  2018-05-31   70096            100  R-5455EB15   \n",
       "249028  36491660-L  2018-05-31   70096            100  R-5455E5CA   \n",
       "249029  36491661-L  2018-05-31   70096            100  R-5455E7F3   \n",
       "249030  36491663-L  2018-05-31   70096            100  R-5455F00A   \n",
       "249031  36491664-L  2018-05-31   70096            100  R-5455F125   \n",
       "249032  36491665-L  2018-05-31   70096            100  R-5455DD44   \n",
       "249033  36491666-L  2018-05-31   70096            100  R-5455E5E4   \n",
       "249034  36491667-L  2018-05-31   70096            100  R-5455E1C8   \n",
       "249035  36492011-L  2018-05-31   70096            100  R-5455F1D3   \n",
       "249036  36491668-L  2018-05-31   70096            100  R-5455F126   \n",
       "249037  36491669-L  2018-05-31   70096            100  R-5455EB92   \n",
       "249038  36491670-L  2018-05-31   70096            100  R-5455F12E   \n",
       "249039  36491671-L  2018-05-31   70096            100  R-5455F135   \n",
       "249040  36491672-L  2018-05-31   70096            100  R-5455F103   \n",
       "249041  36491673-L  2018-05-31   70096            100  R-5455E8B5   \n",
       "249042  36754131-L  2018-05-31   70096            100  R-5455EB15   \n",
       "249043  36491675-L  2018-05-31   70096            100  R-5455E5CA   \n",
       "249044  36491677-L  2018-05-31   70096            100  R-5455F00A   \n",
       "249045  36491678-L  2018-05-31   70096            100  R-5455F125   \n",
       "249046  36491679-L  2018-05-31   70096            100  R-5455DD44   \n",
       "249047  36491681-L  2018-05-31   70096            100  R-5455E1C8   \n",
       "...            ...         ...     ...            ...         ...   \n",
       "249070  36491692-L  2018-05-31   70096            100  R-5455F135   \n",
       "249071  36491694-L  2018-05-31   70096            100  R-5455E8B5   \n",
       "249072  36491693-L  2018-05-31   70096            100  R-5455F2AD   \n",
       "249073  36491695-L  2018-05-31   70096            100  R-5455F1D3   \n",
       "249074  36491696-L  2018-05-31   70096            100  R-5455F103   \n",
       "249075  36491697-L  2018-05-31   70096            100  R-5455DD44   \n",
       "249076  36491698-L  2018-05-31   70096            100  R-5455E1C8   \n",
       "249077  36491699-L  2018-05-31   70096            100  R-5455E5E4   \n",
       "249078  36491700-L  2018-05-31   70096            100  R-5455EB91   \n",
       "249079  36491701-L  2018-05-31   70096            100  R-5455F12E   \n",
       "249080  36491702-L  2018-05-31   70096            100  R-5455F00A   \n",
       "249081  36491703-L  2018-05-31   70096            100  R-5455F125   \n",
       "249082  36491705-L  2018-05-31   70096            100  R-5455F126   \n",
       "249083  36491706-L  2018-05-31   70096            100  R-5455F40A   \n",
       "249084  36491707-L  2018-05-31   70096            100  R-5455F135   \n",
       "249085  36491708-L  2018-05-31   70096            100  R-5455F2AD   \n",
       "249086  36491709-L  2018-05-31   70096            100  R-5455F449   \n",
       "249087  36491833-L  2018-05-31   70096            100  R-5455F1D3   \n",
       "249088  36491839-L  2018-05-31   70096            100  R-5455F103   \n",
       "249089  36491845-L  2018-05-31   70096            100  R-5455E1C8   \n",
       "249090  36491849-L  2018-05-31   70096            100  R-5455EB91   \n",
       "249091  36491855-L  2018-05-31   70096            100  R-5455E8B5   \n",
       "249092  36491861-L  2018-05-31   70096            100  R-5455F00A   \n",
       "249093  36491866-L  2018-05-31   70096            100  R-5455F12E   \n",
       "249094  36491824-L  2018-05-31   70096            100  R-5455F126   \n",
       "249095  36491831-L  2018-05-31   70096            100  R-5455F135   \n",
       "249096  36491837-L  2018-05-31   70096            100  R-5455F2AD   \n",
       "249097  36491843-L  2018-05-31   70096            100  R-5455F449   \n",
       "249098  36491853-L  2018-05-31   70096            100  R-5455F1D3   \n",
       "249099  36491859-L  2018-05-31   70096            100  R-5455F103   \n",
       "\n",
       "                 local_timestamp route_id direction_id  \\\n",
       "249018 2018-05-31 05:39:02-04:00      Red            1   \n",
       "249019 2018-05-31 05:47:02-04:00      Red            1   \n",
       "249020 2018-05-31 05:55:26-04:00      Red            1   \n",
       "249021 2018-05-31 06:16:48-04:00      Red            1   \n",
       "249022 2018-05-31 06:23:38-04:00      Red            1   \n",
       "249023 2018-05-31 06:30:55-04:00      Red            1   \n",
       "249024 2018-05-31 06:39:26-04:00      Red            1   \n",
       "249025 2018-05-31 06:47:10-04:00      Red            1   \n",
       "249026 2018-05-31 06:50:42-04:00      Red            1   \n",
       "249027 2018-05-31 06:57:30-04:00      Red            1   \n",
       "249028 2018-05-31 07:06:54-04:00      Red            1   \n",
       "249029 2018-05-31 07:13:17-04:00      Red            1   \n",
       "249030 2018-05-31 07:23:50-04:00      Red            1   \n",
       "249031 2018-05-31 07:30:57-04:00      Red            1   \n",
       "249032 2018-05-31 07:40:07-04:00      Red            1   \n",
       "249033 2018-05-31 07:51:43-04:00      Red            1   \n",
       "249034 2018-05-31 08:01:30-04:00      Red            1   \n",
       "249035 2018-05-31 08:08:01-04:00      Red            1   \n",
       "249036 2018-05-31 08:22:44-04:00      Red            1   \n",
       "249037 2018-05-31 08:30:40-04:00      Red            1   \n",
       "249038 2018-05-31 08:43:22-04:00      Red            1   \n",
       "249039 2018-05-31 08:47:33-04:00      Red            1   \n",
       "249040 2018-05-31 08:58:32-04:00      Red            1   \n",
       "249041 2018-05-31 09:06:35-04:00      Red            1   \n",
       "249042 2018-05-31 09:14:46-04:00      Red            1   \n",
       "249043 2018-05-31 09:23:43-04:00      Red            1   \n",
       "249044 2018-05-31 09:34:14-04:00      Red            1   \n",
       "249045 2018-05-31 09:42:48-04:00      Red            1   \n",
       "249046 2018-05-31 09:56:56-04:00      Red            1   \n",
       "249047 2018-05-31 10:12:18-04:00      Red            1   \n",
       "...                          ...      ...          ...   \n",
       "249070 2018-05-31 16:28:14-04:00      Red            1   \n",
       "249071 2018-05-31 16:36:21-04:00      Red            1   \n",
       "249072 2018-05-31 16:44:13-04:00      Red            1   \n",
       "249073 2018-05-31 17:02:12-04:00      Red            1   \n",
       "249074 2018-05-31 17:13:35-04:00      Red            1   \n",
       "249075 2018-05-31 17:25:32-04:00      Red            1   \n",
       "249076 2018-05-31 17:32:45-04:00      Red            1   \n",
       "249077 2018-05-31 17:41:01-04:00      Red            1   \n",
       "249078 2018-05-31 17:46:50-04:00      Red            1   \n",
       "249079 2018-05-31 18:01:33-04:00      Red            1   \n",
       "249080 2018-05-31 18:13:23-04:00      Red            1   \n",
       "249081 2018-05-31 18:18:49-04:00      Red            1   \n",
       "249082 2018-05-31 18:26:23-04:00      Red            1   \n",
       "249083 2018-05-31 18:35:13-04:00      Red            1   \n",
       "249084 2018-05-31 18:43:15-04:00      Red            1   \n",
       "249085 2018-05-31 18:54:56-04:00      Red            1   \n",
       "249086 2018-05-31 19:08:50-04:00      Red            1   \n",
       "249087 2018-05-31 19:16:18-04:00      Red            1   \n",
       "249088 2018-05-31 19:30:22-04:00      Red            1   \n",
       "249089 2018-05-31 19:47:15-04:00      Red            1   \n",
       "249090 2018-05-31 19:52:58-04:00      Red            1   \n",
       "249091 2018-05-31 20:03:57-04:00      Red            1   \n",
       "249092 2018-05-31 20:30:09-04:00      Red            1   \n",
       "249093 2018-05-31 20:39:59-04:00      Red            1   \n",
       "249094 2018-05-31 20:48:18-04:00      Red            1   \n",
       "249095 2018-05-31 21:04:53-04:00      Red            1   \n",
       "249096 2018-05-31 21:16:29-04:00      Red            1   \n",
       "249097 2018-05-31 21:31:42-04:00      Red            1   \n",
       "249098 2018-05-31 21:41:27-04:00      Red            1   \n",
       "249099 2018-05-31 21:52:15-04:00      Red            1   \n",
       "\n",
       "                            stop_name  headway  cluster  \n",
       "249018  JFK/UMASS Braintree - Inbound      NaN        0  \n",
       "249019  JFK/UMASS Braintree - Inbound    480.0        1  \n",
       "249020  JFK/UMASS Braintree - Inbound    504.0        2  \n",
       "249021  JFK/UMASS Braintree - Inbound   1282.0        3  \n",
       "249022  JFK/UMASS Braintree - Inbound    410.0        4  \n",
       "249023  JFK/UMASS Braintree - Inbound    437.0        5  \n",
       "249024  JFK/UMASS Braintree - Inbound    511.0        6  \n",
       "249025  JFK/UMASS Braintree - Inbound    464.0        7  \n",
       "249026  JFK/UMASS Braintree - Inbound    212.0        7  \n",
       "249027  JFK/UMASS Braintree - Inbound    408.0        8  \n",
       "249028  JFK/UMASS Braintree - Inbound    564.0        9  \n",
       "249029  JFK/UMASS Braintree - Inbound    383.0       10  \n",
       "249030  JFK/UMASS Braintree - Inbound    633.0       11  \n",
       "249031  JFK/UMASS Braintree - Inbound    427.0       12  \n",
       "249032  JFK/UMASS Braintree - Inbound    550.0       13  \n",
       "249033  JFK/UMASS Braintree - Inbound    696.0       14  \n",
       "249034  JFK/UMASS Braintree - Inbound    587.0       15  \n",
       "249035  JFK/UMASS Braintree - Inbound    391.0       16  \n",
       "249036  JFK/UMASS Braintree - Inbound    883.0       17  \n",
       "249037  JFK/UMASS Braintree - Inbound    476.0       18  \n",
       "249038  JFK/UMASS Braintree - Inbound    762.0       19  \n",
       "249039  JFK/UMASS Braintree - Inbound    251.0       19  \n",
       "249040  JFK/UMASS Braintree - Inbound    659.0       20  \n",
       "249041  JFK/UMASS Braintree - Inbound    483.0       21  \n",
       "249042  JFK/UMASS Braintree - Inbound    491.0       22  \n",
       "249043  JFK/UMASS Braintree - Inbound    537.0       23  \n",
       "249044  JFK/UMASS Braintree - Inbound    631.0       24  \n",
       "249045  JFK/UMASS Braintree - Inbound    514.0       25  \n",
       "249046  JFK/UMASS Braintree - Inbound    848.0       26  \n",
       "249047  JFK/UMASS Braintree - Inbound    922.0       27  \n",
       "...                               ...      ...      ...  \n",
       "249070  JFK/UMASS Braintree - Inbound    453.0       50  \n",
       "249071  JFK/UMASS Braintree - Inbound    487.0       51  \n",
       "249072  JFK/UMASS Braintree - Inbound    472.0       52  \n",
       "249073  JFK/UMASS Braintree - Inbound   1079.0       53  \n",
       "249074  JFK/UMASS Braintree - Inbound    683.0       54  \n",
       "249075  JFK/UMASS Braintree - Inbound    717.0       55  \n",
       "249076  JFK/UMASS Braintree - Inbound    433.0       56  \n",
       "249077  JFK/UMASS Braintree - Inbound    496.0       57  \n",
       "249078  JFK/UMASS Braintree - Inbound    349.0       58  \n",
       "249079  JFK/UMASS Braintree - Inbound    883.0       59  \n",
       "249080  JFK/UMASS Braintree - Inbound    710.0       60  \n",
       "249081  JFK/UMASS Braintree - Inbound    326.0       61  \n",
       "249082  JFK/UMASS Braintree - Inbound    454.0       62  \n",
       "249083  JFK/UMASS Braintree - Inbound    530.0       63  \n",
       "249084  JFK/UMASS Braintree - Inbound    482.0       64  \n",
       "249085  JFK/UMASS Braintree - Inbound    701.0       65  \n",
       "249086  JFK/UMASS Braintree - Inbound    834.0       66  \n",
       "249087  JFK/UMASS Braintree - Inbound    448.0       67  \n",
       "249088  JFK/UMASS Braintree - Inbound    844.0       68  \n",
       "249089  JFK/UMASS Braintree - Inbound   1013.0       69  \n",
       "249090  JFK/UMASS Braintree - Inbound    343.0       70  \n",
       "249091  JFK/UMASS Braintree - Inbound    659.0       71  \n",
       "249092  JFK/UMASS Braintree - Inbound   1572.0       72  \n",
       "249093  JFK/UMASS Braintree - Inbound    590.0       73  \n",
       "249094  JFK/UMASS Braintree - Inbound    499.0       74  \n",
       "249095  JFK/UMASS Braintree - Inbound    995.0       75  \n",
       "249096  JFK/UMASS Braintree - Inbound    696.0       76  \n",
       "249097  JFK/UMASS Braintree - Inbound    913.0       77  \n",
       "249098  JFK/UMASS Braintree - Inbound    585.0       78  \n",
       "249099  JFK/UMASS Braintree - Inbound    648.0       79  \n",
       "\n",
       "[82 rows x 11 columns]"
      ]
     },
     "execution_count": 57,
     "metadata": {},
     "output_type": "execute_result"
    }
   ],
   "source": [
    "one_stop[\"cluster\"] = (one_stop.headway >= 300).cumsum()\n",
    "one_stop"
   ]
  },
  {
   "cell_type": "markdown",
   "metadata": {
    "colab_type": "text",
    "id": "xcw1ceb4euK1"
   },
   "source": [
    "How many clusters do we have?"
   ]
  },
  {
   "cell_type": "code",
   "execution_count": 58,
   "metadata": {
    "colab": {
     "autoexec": {
      "startup": false,
      "wait_interval": 0
     },
     "base_uri": "https://localhost:8080/",
     "height": 51
    },
    "colab_type": "code",
    "executionInfo": {
     "elapsed": 322,
     "status": "ok",
     "timestamp": 1527794991957,
     "user": {
      "displayName": "Brian Sanders",
      "photoUrl": "https://lh3.googleusercontent.com/a/default-user=s128",
      "userId": "117372068364006546394"
     },
     "user_tz": 240
    },
    "id": "Y2cE-R9gbEt_",
    "outputId": "d3b24a44-9ee8-4fd0-95df-9d568e1b16dc"
   },
   "outputs": [
    {
     "name": "stdout",
     "output_type": "stream",
     "text": [
      "Total: 82\n",
      "Clusters: 80\n"
     ]
    }
   ],
   "source": [
    "print(\"Total:\", len(one_stop))\n",
    "print(\"Clusters:\", one_stop.cluster.nunique())"
   ]
  },
  {
   "cell_type": "markdown",
   "metadata": {
    "colab_type": "text",
    "id": "KZ6wyrx1fcBV"
   },
   "source": [
    "In other words, there are only two clusters of two or more vehicles. Pretty boring.\n",
    "\n",
    "We can quickly experiment with some other threshold headways:"
   ]
  },
  {
   "cell_type": "code",
   "execution_count": 67,
   "metadata": {
    "colab": {
     "autoexec": {
      "startup": false,
      "wait_interval": 0
     },
     "base_uri": "https://localhost:8080/",
     "height": 68
    },
    "colab_type": "code",
    "executionInfo": {
     "elapsed": 327,
     "status": "ok",
     "timestamp": 1527795000424,
     "user": {
      "displayName": "Brian Sanders",
      "photoUrl": "https://lh3.googleusercontent.com/a/default-user=s128",
      "userId": "117372068364006546394"
     },
     "user_tz": 240
    },
    "id": "2rDZlynAfi8G",
    "outputId": "3e517bad-dfdb-4585-cd50-e7ed08605c27"
   },
   "outputs": [
    {
     "name": "stdout",
     "output_type": "stream",
     "text": [
      "300 second headway: 2\n",
      "360 second headway: 6\n",
      "420 second headway: 10\n"
     ]
    }
   ],
   "source": [
    "print(\"300 second headway:\", sum(one_stop.headway < 300)) # Note that we invert the condition\n",
    "print(\"360 second headway:\", sum(one_stop.headway < 360))\n",
    "print(\"420 second headway:\", sum(one_stop.headway < 420))"
   ]
  },
  {
   "cell_type": "markdown",
   "metadata": {
    "colab_type": "text",
    "id": "v-ZEW03Cgocp"
   },
   "source": [
    "We can see how many clusters we get at each stop on the red line for a given threshold;"
   ]
  },
  {
   "cell_type": "code",
   "execution_count": 75,
   "metadata": {
    "colab": {
     "autoexec": {
      "startup": false,
      "wait_interval": 0
     },
     "base_uri": "https://localhost:8080/",
     "height": 408
    },
    "colab_type": "code",
    "executionInfo": {
     "elapsed": 291,
     "status": "ok",
     "timestamp": 1527795004867,
     "user": {
      "displayName": "Brian Sanders",
      "photoUrl": "https://lh3.googleusercontent.com/a/default-user=s128",
      "userId": "117372068364006546394"
     },
     "user_tz": 240
    },
    "id": "QNfrzmopgwZO",
    "outputId": "8645ec3b-a0a4-45dc-9c9f-30858c4d42ac"
   },
   "outputs": [
    {
     "data": {
      "text/html": [
       "<div>\n",
       "<style scoped>\n",
       "    .dataframe tbody tr th:only-of-type {\n",
       "        vertical-align: middle;\n",
       "    }\n",
       "\n",
       "    .dataframe tbody tr th {\n",
       "        vertical-align: top;\n",
       "    }\n",
       "\n",
       "    .dataframe thead th {\n",
       "        text-align: right;\n",
       "    }\n",
       "</style>\n",
       "<table border=\"1\" class=\"dataframe\">\n",
       "  <thead>\n",
       "    <tr style=\"text-align: right;\">\n",
       "      <th></th>\n",
       "      <th>clusters</th>\n",
       "      <th>stop_name</th>\n",
       "    </tr>\n",
       "    <tr>\n",
       "      <th>stop_sequence</th>\n",
       "      <th></th>\n",
       "      <th></th>\n",
       "    </tr>\n",
       "  </thead>\n",
       "  <tbody>\n",
       "    <tr>\n",
       "      <th>1</th>\n",
       "      <td>12</td>\n",
       "      <td>Braintree</td>\n",
       "    </tr>\n",
       "    <tr>\n",
       "      <th>10</th>\n",
       "      <td>0</td>\n",
       "      <td>Quincy Adams - Inbound</td>\n",
       "    </tr>\n",
       "    <tr>\n",
       "      <th>20</th>\n",
       "      <td>0</td>\n",
       "      <td>Quincy Center - Inbound</td>\n",
       "    </tr>\n",
       "    <tr>\n",
       "      <th>40</th>\n",
       "      <td>0</td>\n",
       "      <td>North Quincy - Inbound</td>\n",
       "    </tr>\n",
       "    <tr>\n",
       "      <th>50</th>\n",
       "      <td>11</td>\n",
       "      <td>Ashmont - Inbound</td>\n",
       "    </tr>\n",
       "    <tr>\n",
       "      <th>60</th>\n",
       "      <td>0</td>\n",
       "      <td>Shawmut - Inbound</td>\n",
       "    </tr>\n",
       "    <tr>\n",
       "      <th>70</th>\n",
       "      <td>0</td>\n",
       "      <td>Fields Corner - Inbound</td>\n",
       "    </tr>\n",
       "    <tr>\n",
       "      <th>80</th>\n",
       "      <td>0</td>\n",
       "      <td>Savin Hill - Inbound</td>\n",
       "    </tr>\n",
       "    <tr>\n",
       "      <th>90</th>\n",
       "      <td>0</td>\n",
       "      <td>JFK/UMASS Ashmont - Inbound</td>\n",
       "    </tr>\n",
       "    <tr>\n",
       "      <th>100</th>\n",
       "      <td>0</td>\n",
       "      <td>JFK/UMASS Braintree - Inbound</td>\n",
       "    </tr>\n",
       "    <tr>\n",
       "      <th>110</th>\n",
       "      <td>42</td>\n",
       "      <td>Andrew - Inbound</td>\n",
       "    </tr>\n",
       "    <tr>\n",
       "      <th>120</th>\n",
       "      <td>44</td>\n",
       "      <td>Broadway - Inbound</td>\n",
       "    </tr>\n",
       "    <tr>\n",
       "      <th>130</th>\n",
       "      <td>40</td>\n",
       "      <td>South Station - Inbound</td>\n",
       "    </tr>\n",
       "    <tr>\n",
       "      <th>140</th>\n",
       "      <td>34</td>\n",
       "      <td>Downtown Crossing - to Alewife</td>\n",
       "    </tr>\n",
       "    <tr>\n",
       "      <th>150</th>\n",
       "      <td>27</td>\n",
       "      <td>Park Street - to Alewife</td>\n",
       "    </tr>\n",
       "    <tr>\n",
       "      <th>160</th>\n",
       "      <td>24</td>\n",
       "      <td>Charles/MGH - Outbound</td>\n",
       "    </tr>\n",
       "    <tr>\n",
       "      <th>170</th>\n",
       "      <td>39</td>\n",
       "      <td>Kendall/MIT - Outbound</td>\n",
       "    </tr>\n",
       "    <tr>\n",
       "      <th>180</th>\n",
       "      <td>42</td>\n",
       "      <td>Central - Outbound</td>\n",
       "    </tr>\n",
       "    <tr>\n",
       "      <th>190</th>\n",
       "      <td>33</td>\n",
       "      <td>Harvard - Outbound</td>\n",
       "    </tr>\n",
       "    <tr>\n",
       "      <th>200</th>\n",
       "      <td>40</td>\n",
       "      <td>Porter - Outbound</td>\n",
       "    </tr>\n",
       "    <tr>\n",
       "      <th>210</th>\n",
       "      <td>37</td>\n",
       "      <td>Davis - Outbound</td>\n",
       "    </tr>\n",
       "  </tbody>\n",
       "</table>\n",
       "</div>"
      ],
      "text/plain": [
       "               clusters                       stop_name\n",
       "stop_sequence                                          \n",
       "1                    12                       Braintree\n",
       "10                    0          Quincy Adams - Inbound\n",
       "20                    0         Quincy Center - Inbound\n",
       "40                    0          North Quincy - Inbound\n",
       "50                   11               Ashmont - Inbound\n",
       "60                    0               Shawmut - Inbound\n",
       "70                    0         Fields Corner - Inbound\n",
       "80                    0            Savin Hill - Inbound\n",
       "90                    0     JFK/UMASS Ashmont - Inbound\n",
       "100                   0   JFK/UMASS Braintree - Inbound\n",
       "110                  42                Andrew - Inbound\n",
       "120                  44              Broadway - Inbound\n",
       "130                  40         South Station - Inbound\n",
       "140                  34  Downtown Crossing - to Alewife\n",
       "150                  27        Park Street - to Alewife\n",
       "160                  24          Charles/MGH - Outbound\n",
       "170                  39          Kendall/MIT - Outbound\n",
       "180                  42              Central - Outbound\n",
       "190                  33              Harvard - Outbound\n",
       "200                  40               Porter - Outbound\n",
       "210                  37                Davis - Outbound"
      ]
     },
     "execution_count": 75,
     "metadata": {},
     "output_type": "execute_result"
    }
   ],
   "source": [
    "one_direction = rl_with_headway.query(\"direction_id == '1'\")\n",
    "# 3 minute headway:\n",
    "one_direction.groupby(\"stop_sequence\").apply(lambda grp: pd.Series({\"stop_name\": grp.stop_name.iloc[0], \"clusters\": sum(grp.headway < 180)}))"
   ]
  },
  {
   "cell_type": "code",
   "execution_count": 12,
   "metadata": {
    "colab": {
     "autoexec": {
      "startup": false,
      "wait_interval": 0
     },
     "base_uri": "https://localhost:8080/",
     "height": 204
    },
    "colab_type": "code",
    "executionInfo": {
     "elapsed": 366,
     "status": "ok",
     "timestamp": 1527830085975,
     "user": {
      "displayName": "Brian Sanders",
      "photoUrl": "https://lh3.googleusercontent.com/a/default-user=s128",
      "userId": "117372068364006546394"
     },
     "user_tz": 240
    },
    "id": "5G-orYL2wrRz",
    "outputId": "48a60939-bd10-4a2a-b9cf-0cb6cb25ae45"
   },
   "outputs": [
    {
     "data": {
      "text/html": [
       "<div>\n",
       "<style scoped>\n",
       "    .dataframe tbody tr th:only-of-type {\n",
       "        vertical-align: middle;\n",
       "    }\n",
       "\n",
       "    .dataframe tbody tr th {\n",
       "        vertical-align: top;\n",
       "    }\n",
       "\n",
       "    .dataframe thead th {\n",
       "        text-align: right;\n",
       "    }\n",
       "</style>\n",
       "<table border=\"1\" class=\"dataframe\">\n",
       "  <thead>\n",
       "    <tr style=\"text-align: right;\">\n",
       "      <th></th>\n",
       "      <th>a</th>\n",
       "      <th>b</th>\n",
       "      <th>c</th>\n",
       "      <th>d</th>\n",
       "      <th>e</th>\n",
       "      <th>odd</th>\n",
       "    </tr>\n",
       "  </thead>\n",
       "  <tbody>\n",
       "    <tr>\n",
       "      <th>0</th>\n",
       "      <td>51</td>\n",
       "      <td>40</td>\n",
       "      <td>99</td>\n",
       "      <td>97</td>\n",
       "      <td>94</td>\n",
       "      <td>1</td>\n",
       "    </tr>\n",
       "    <tr>\n",
       "      <th>1</th>\n",
       "      <td>10</td>\n",
       "      <td>27</td>\n",
       "      <td>29</td>\n",
       "      <td>76</td>\n",
       "      <td>34</td>\n",
       "      <td>0</td>\n",
       "    </tr>\n",
       "    <tr>\n",
       "      <th>2</th>\n",
       "      <td>62</td>\n",
       "      <td>28</td>\n",
       "      <td>30</td>\n",
       "      <td>58</td>\n",
       "      <td>40</td>\n",
       "      <td>0</td>\n",
       "    </tr>\n",
       "    <tr>\n",
       "      <th>3</th>\n",
       "      <td>23</td>\n",
       "      <td>70</td>\n",
       "      <td>28</td>\n",
       "      <td>12</td>\n",
       "      <td>97</td>\n",
       "      <td>1</td>\n",
       "    </tr>\n",
       "    <tr>\n",
       "      <th>4</th>\n",
       "      <td>19</td>\n",
       "      <td>50</td>\n",
       "      <td>22</td>\n",
       "      <td>87</td>\n",
       "      <td>84</td>\n",
       "      <td>1</td>\n",
       "    </tr>\n",
       "  </tbody>\n",
       "</table>\n",
       "</div>"
      ],
      "text/plain": [
       "    a   b   c   d   e  odd\n",
       "0  51  40  99  97  94    1\n",
       "1  10  27  29  76  34    0\n",
       "2  62  28  30  58  40    0\n",
       "3  23  70  28  12  97    1\n",
       "4  19  50  22  87  84    1"
      ]
     },
     "execution_count": 12,
     "metadata": {
      "tags": []
     },
     "output_type": "execute_result"
    }
   ],
   "source": [
    "n_df[\"odd\"] = (n_df.a % 2)\n",
    "n_df"
   ]
  },
  {
   "cell_type": "code",
   "execution_count": 16,
   "metadata": {
    "colab": {
     "autoexec": {
      "startup": false,
      "wait_interval": 0
     },
     "base_uri": "https://localhost:8080/",
     "height": 85
    },
    "colab_type": "code",
    "executionInfo": {
     "elapsed": 386,
     "status": "ok",
     "timestamp": 1527830180756,
     "user": {
      "displayName": "Brian Sanders",
      "photoUrl": "https://lh3.googleusercontent.com/a/default-user=s128",
      "userId": "117372068364006546394"
     },
     "user_tz": 240
    },
    "id": "UZW7uqLCxMMI",
    "outputId": "1c8e56d5-d252-4a30-b227-8d5bedd604ed"
   },
   "outputs": [
    {
     "data": {
      "text/plain": [
       "odd\n",
       "0    2\n",
       "1    3\n",
       "dtype: int64"
      ]
     },
     "execution_count": 16,
     "metadata": {
      "tags": []
     },
     "output_type": "execute_result"
    }
   ],
   "source": [
    "n_df.groupby(\"odd\").size()\n",
    "# n_df.groupby(\"odd\", as_index=False).size()"
   ]
  },
  {
   "cell_type": "markdown",
   "metadata": {
    "colab_type": "text",
    "id": "17fj3A1f548x"
   },
   "source": [
    "If we want to get a little fancy, we can also look up the maximum timestamp for each `trip_id` and `stop_sequence`. Here, we use a `groupby` operation to create groups where the trip and stop sequence are the same and find the index of the maximum timestamp within each group.\n",
    "\n",
    "The call to `idxmax()`, in conjunction with the groupby, creates a `MultiIndex` that we can then use as a label-based index into the original dataframe.\n",
    "\n",
    "The effect is to select the last update for a stop on a particular trip on the chosen day. Occasionally, vehicles may not send an update with status STOPPED_AT for a particular stop. It's worth considering this as a way to capture more stop times."
   ]
  },
  {
   "cell_type": "code",
   "execution_count": 28,
   "metadata": {
    "colab": {
     "autoexec": {
      "startup": false,
      "wait_interval": 0
     },
     "base_uri": "https://localhost:8080/",
     "height": 308
    },
    "colab_type": "code",
    "executionInfo": {
     "elapsed": 47443,
     "status": "ok",
     "timestamp": 1527641589608,
     "user": {
      "displayName": "Brian Sanders",
      "photoUrl": "https://lh3.googleusercontent.com/a/default-user=s128",
      "userId": "117372068364006546394"
     },
     "user_tz": 240
    },
    "id": "ceZFSFwb548x",
    "outputId": "8618ceba-f319-4786-bb58-b68b31bb9253"
   },
   "outputs": [
    {
     "data": {
      "text/html": [
       "<div>\n",
       "<style scoped>\n",
       "    .dataframe tbody tr th:only-of-type {\n",
       "        vertical-align: middle;\n",
       "    }\n",
       "\n",
       "    .dataframe tbody tr th {\n",
       "        vertical-align: top;\n",
       "    }\n",
       "\n",
       "    .dataframe thead th {\n",
       "        text-align: right;\n",
       "    }\n",
       "</style>\n",
       "<table border=\"1\" class=\"dataframe\">\n",
       "  <thead>\n",
       "    <tr style=\"text-align: right;\">\n",
       "      <th></th>\n",
       "      <th>trip_id</th>\n",
       "      <th>trip_start</th>\n",
       "      <th>stop_id</th>\n",
       "      <th>stop_sequence</th>\n",
       "      <th>vehicle_id</th>\n",
       "      <th>status</th>\n",
       "      <th>timestamp</th>\n",
       "      <th>lat</th>\n",
       "      <th>lon</th>\n",
       "      <th>local_timestamp</th>\n",
       "    </tr>\n",
       "  </thead>\n",
       "  <tbody>\n",
       "    <tr>\n",
       "      <th>127758</th>\n",
       "      <td>36240875</td>\n",
       "      <td>2018-05-25</td>\n",
       "      <td>70038</td>\n",
       "      <td>1</td>\n",
       "      <td>B-5455D328</td>\n",
       "      <td>STOPPED_AT</td>\n",
       "      <td>2018-05-25 09:36:33</td>\n",
       "      <td>42.361148834228516</td>\n",
       "      <td>-71.06208038330078</td>\n",
       "      <td>2018-05-25 05:36:33-04:00</td>\n",
       "    </tr>\n",
       "    <tr>\n",
       "      <th>128741</th>\n",
       "      <td>36240875</td>\n",
       "      <td>2018-05-25</td>\n",
       "      <td>70040</td>\n",
       "      <td>10</td>\n",
       "      <td>B-5455D328</td>\n",
       "      <td>STOPPED_AT</td>\n",
       "      <td>2018-05-25 09:37:23</td>\n",
       "      <td>42.35948944091797</td>\n",
       "      <td>-71.0596923828125</td>\n",
       "      <td>2018-05-25 05:37:23-04:00</td>\n",
       "    </tr>\n",
       "    <tr>\n",
       "      <th>130396</th>\n",
       "      <td>36240875</td>\n",
       "      <td>2018-05-25</td>\n",
       "      <td>70042</td>\n",
       "      <td>20</td>\n",
       "      <td>B-5455D328</td>\n",
       "      <td>STOPPED_AT</td>\n",
       "      <td>2018-05-25 09:38:37</td>\n",
       "      <td>42.35887908935547</td>\n",
       "      <td>-71.05738830566406</td>\n",
       "      <td>2018-05-25 05:38:37-04:00</td>\n",
       "    </tr>\n",
       "    <tr>\n",
       "      <th>132101</th>\n",
       "      <td>36240875</td>\n",
       "      <td>2018-05-25</td>\n",
       "      <td>70044</td>\n",
       "      <td>30</td>\n",
       "      <td>B-5455D328</td>\n",
       "      <td>STOPPED_AT</td>\n",
       "      <td>2018-05-25 09:39:57</td>\n",
       "      <td>42.35955810546875</td>\n",
       "      <td>-71.05162048339844</td>\n",
       "      <td>2018-05-25 05:39:57-04:00</td>\n",
       "    </tr>\n",
       "    <tr>\n",
       "      <th>136020</th>\n",
       "      <td>36240875</td>\n",
       "      <td>2018-05-25</td>\n",
       "      <td>70046</td>\n",
       "      <td>40</td>\n",
       "      <td>B-5455D328</td>\n",
       "      <td>STOPPED_AT</td>\n",
       "      <td>2018-05-25 09:42:36</td>\n",
       "      <td>42.369239807128906</td>\n",
       "      <td>-71.0394287109375</td>\n",
       "      <td>2018-05-25 05:42:36-04:00</td>\n",
       "    </tr>\n",
       "  </tbody>\n",
       "</table>\n",
       "</div>"
      ],
      "text/plain": [
       "         trip_id  trip_start stop_id  stop_sequence  vehicle_id      status  \\\n",
       "127758  36240875  2018-05-25   70038              1  B-5455D328  STOPPED_AT   \n",
       "128741  36240875  2018-05-25   70040             10  B-5455D328  STOPPED_AT   \n",
       "130396  36240875  2018-05-25   70042             20  B-5455D328  STOPPED_AT   \n",
       "132101  36240875  2018-05-25   70044             30  B-5455D328  STOPPED_AT   \n",
       "136020  36240875  2018-05-25   70046             40  B-5455D328  STOPPED_AT   \n",
       "\n",
       "                  timestamp                 lat                 lon  \\\n",
       "127758  2018-05-25 09:36:33  42.361148834228516  -71.06208038330078   \n",
       "128741  2018-05-25 09:37:23   42.35948944091797   -71.0596923828125   \n",
       "130396  2018-05-25 09:38:37   42.35887908935547  -71.05738830566406   \n",
       "132101  2018-05-25 09:39:57   42.35955810546875  -71.05162048339844   \n",
       "136020  2018-05-25 09:42:36  42.369239807128906   -71.0394287109375   \n",
       "\n",
       "                 local_timestamp  \n",
       "127758 2018-05-25 05:36:33-04:00  \n",
       "128741 2018-05-25 05:37:23-04:00  \n",
       "130396 2018-05-25 05:38:37-04:00  \n",
       "132101 2018-05-25 05:39:57-04:00  \n",
       "136020 2018-05-25 05:42:36-04:00  "
      ]
     },
     "execution_count": 28,
     "metadata": {
      "tags": []
     },
     "output_type": "execute_result"
    }
   ],
   "source": [
    "stops = df.loc[df.groupby([\"trip_id\",\"stop_sequence\"])[\"local_timestamp\"].idxmax()]\n",
    "stops.head()"
   ]
  },
  {
   "cell_type": "markdown",
   "metadata": {
    "colab_type": "text",
    "id": "09yGL0KV5482"
   },
   "source": [
    "Remove the commuter rail and ferries:"
   ]
  },
  {
   "cell_type": "markdown",
   "metadata": {
    "colab_type": "text",
    "id": "S2YCc21a54-E"
   },
   "source": [
    "What is the relationship of tweet volume/minute and delays?"
   ]
  },
  {
   "cell_type": "code",
   "execution_count": 41,
   "metadata": {
    "colab": {
     "autoexec": {
      "startup": false,
      "wait_interval": 0
     },
     "base_uri": "https://localhost:8080/",
     "height": 287
    },
    "colab_type": "code",
    "executionInfo": {
     "elapsed": 5093,
     "status": "ok",
     "timestamp": 1520387108538,
     "user": {
      "displayName": "Brian Sanders",
      "photoUrl": "https://lh3.googleusercontent.com/a/default-user=s128",
      "userId": "117372068364006546394"
     },
     "user_tz": 300
    },
    "id": "lPB-gLKv54-E",
    "outputId": "c2f1b2c4-5458-4ded-bffe-6eae7ee2d1ad"
   },
   "outputs": [
    {
     "name": "stdout",
     "output_type": "stream",
     "text": [
      "Collecting TwitterAPI\n",
      "  Downloading TwitterAPI-2.4.9.tar.gz\n",
      "Requirement already satisfied: requests in /usr/local/lib/python3.6/dist-packages (from TwitterAPI)\n",
      "Requirement already satisfied: requests_oauthlib in /usr/local/lib/python3.6/dist-packages (from TwitterAPI)\n",
      "Requirement already satisfied: chardet<3.1.0,>=3.0.2 in /usr/local/lib/python3.6/dist-packages (from requests->TwitterAPI)\n",
      "Requirement already satisfied: idna<2.7,>=2.5 in /usr/local/lib/python3.6/dist-packages (from requests->TwitterAPI)\n",
      "Requirement already satisfied: certifi>=2017.4.17 in /usr/local/lib/python3.6/dist-packages (from requests->TwitterAPI)\n",
      "Requirement already satisfied: urllib3<1.23,>=1.21.1 in /usr/local/lib/python3.6/dist-packages (from requests->TwitterAPI)\n",
      "Requirement already satisfied: oauthlib>=0.6.2 in /usr/local/lib/python3.6/dist-packages (from requests_oauthlib->TwitterAPI)\n",
      "Building wheels for collected packages: TwitterAPI\n",
      "  Running setup.py bdist_wheel for TwitterAPI ... \u001b[?25l-\b \b\\\b \bdone\n",
      "\u001b[?25h  Stored in directory: /content/.cache/pip/wheels/b9/d4/30/5ede07ac4142224dbbb28b9a2eed35554e21c6bd6aa5e76755\n",
      "Successfully built TwitterAPI\n",
      "Installing collected packages: TwitterAPI\n",
      "Successfully installed TwitterAPI-2.4.9\n"
     ]
    }
   ],
   "source": [
    "!pip install TwitterAPI"
   ]
  },
  {
   "cell_type": "code",
   "execution_count": 0,
   "metadata": {
    "colab": {
     "autoexec": {
      "startup": false,
      "wait_interval": 0
     }
    },
    "colab_type": "code",
    "collapsed": true,
    "id": "Lqaby-5u54-G"
   },
   "outputs": [],
   "source": [
    "from TwitterAPI import TwitterAPI, TwitterRestPager\n",
    "consumer_key = \"iJcZc53yULImIO7P0GteQzkdy\"\n",
    "consumer_secret = \"2BHrct9oTKpIQz6cVqoB5xqdA5KlbJ7hXLd5bEt8oKsU9f2tIu\"\n",
    "access_token = \"928752949760872448-5P8U6z5SitlKKD1DJFy7t51a5pR8gKn\"\n",
    "access_token_secret = \"zWf3afpJ1royeAy7jysqAUuEhHjyMqnHCoFh7nmmjbhZA\"\n",
    "api = TwitterAPI(consumer_key, consumer_secret, access_token, access_token_secret)"
   ]
  },
  {
   "cell_type": "code",
   "execution_count": 0,
   "metadata": {
    "colab": {
     "autoexec": {
      "startup": false,
      "wait_interval": 0
     }
    },
    "colab_type": "code",
    "collapsed": true,
    "id": "oNsUUd6K54-H"
   },
   "outputs": [],
   "source": [
    "r = api.request(\"search/tweets\", {\"q\": \"@MBTA\"})"
   ]
  },
  {
   "cell_type": "code",
   "execution_count": 44,
   "metadata": {
    "colab": {
     "autoexec": {
      "startup": false,
      "wait_interval": 0
     },
     "base_uri": "https://localhost:8080/",
     "height": 55
    },
    "colab_type": "code",
    "executionInfo": {
     "elapsed": 248,
     "status": "ok",
     "timestamp": 1520387127902,
     "user": {
      "displayName": "Brian Sanders",
      "photoUrl": "https://lh3.googleusercontent.com/a/default-user=s128",
      "userId": "117372068364006546394"
     },
     "user_tz": 300
    },
    "id": "T9tSlTS854-I",
    "outputId": "1222be34-7f6d-4fe8-b0c2-84930c15093e"
   },
   "outputs": [
    {
     "data": {
      "text/plain": [
       "dict_keys(['created_at', 'id', 'id_str', 'text', 'truncated', 'entities', 'metadata', 'source', 'in_reply_to_status_id', 'in_reply_to_status_id_str', 'in_reply_to_user_id', 'in_reply_to_user_id_str', 'in_reply_to_screen_name', 'user', 'geo', 'coordinates', 'place', 'contributors', 'retweeted_status', 'is_quote_status', 'retweet_count', 'favorite_count', 'favorited', 'retweeted', 'lang'])"
      ]
     },
     "execution_count": 44,
     "metadata": {
      "tags": []
     },
     "output_type": "execute_result"
    }
   ],
   "source": [
    "# [status[\"text\"] for status in r.json()[\"statuses\"]]\n",
    "r.json()[\"statuses\"][0].keys()"
   ]
  },
  {
   "cell_type": "code",
   "execution_count": 45,
   "metadata": {
    "colab": {
     "autoexec": {
      "startup": false,
      "wait_interval": 0
     },
     "base_uri": "https://localhost:8080/",
     "height": 2665
    },
    "colab_type": "code",
    "executionInfo": {
     "elapsed": 256,
     "status": "ok",
     "timestamp": 1520387160862,
     "user": {
      "displayName": "Brian Sanders",
      "photoUrl": "https://lh3.googleusercontent.com/a/default-user=s128",
      "userId": "117372068364006546394"
     },
     "user_tz": 300
    },
    "id": "9DC2B7El54-K",
    "outputId": "a76e5c68-d44d-473d-a664-a7ce0ac0dc26"
   },
   "outputs": [
    {
     "data": {
      "text/plain": [
       "{'contributors': None,\n",
       " 'coordinates': None,\n",
       " 'created_at': 'Wed Mar 07 01:44:24 +0000 2018',\n",
       " 'entities': {'hashtags': [{'indices': [10, 15], 'text': 'MBTA'},\n",
       "   {'indices': [16, 24], 'text': 'RedLine'}],\n",
       "  'symbols': [],\n",
       "  'urls': [],\n",
       "  'user_mentions': [{'id': 150334831,\n",
       "    'id_str': '150334831',\n",
       "    'indices': [3, 8],\n",
       "    'name': 'MBTA',\n",
       "    'screen_name': 'MBTA'}]},\n",
       " 'favorite_count': 0,\n",
       " 'favorited': False,\n",
       " 'geo': None,\n",
       " 'id': 971199857342939137,\n",
       " 'id_str': '971199857342939137',\n",
       " 'in_reply_to_screen_name': None,\n",
       " 'in_reply_to_status_id': None,\n",
       " 'in_reply_to_status_id_str': None,\n",
       " 'in_reply_to_user_id': None,\n",
       " 'in_reply_to_user_id_str': None,\n",
       " 'is_quote_status': False,\n",
       " 'lang': 'en',\n",
       " 'metadata': {'iso_language_code': 'en', 'result_type': 'recent'},\n",
       " 'place': None,\n",
       " 'retweet_count': 1,\n",
       " 'retweeted': False,\n",
       " 'retweeted_status': {'contributors': None,\n",
       "  'coordinates': None,\n",
       "  'created_at': 'Wed Mar 07 01:36:21 +0000 2018',\n",
       "  'entities': {'hashtags': [{'indices': [0, 5], 'text': 'MBTA'},\n",
       "    {'indices': [6, 14], 'text': 'RedLine'}],\n",
       "   'symbols': [],\n",
       "   'urls': [],\n",
       "   'user_mentions': []},\n",
       "  'favorite_count': 0,\n",
       "  'favorited': False,\n",
       "  'geo': None,\n",
       "  'id': 971197832731410432,\n",
       "  'id_str': '971197832731410432',\n",
       "  'in_reply_to_screen_name': None,\n",
       "  'in_reply_to_status_id': None,\n",
       "  'in_reply_to_status_id_str': None,\n",
       "  'in_reply_to_user_id': None,\n",
       "  'in_reply_to_user_id_str': None,\n",
       "  'is_quote_status': False,\n",
       "  'lang': 'en',\n",
       "  'metadata': {'iso_language_code': 'en', 'result_type': 'recent'},\n",
       "  'place': None,\n",
       "  'retweet_count': 1,\n",
       "  'retweeted': False,\n",
       "  'source': '<a href=\"https://about.twitter.com/products/tweetdeck\" rel=\"nofollow\">TweetDeck</a>',\n",
       "  'text': '#MBTA #RedLine: 10 - 15 minute northbound delays from Braintree.',\n",
       "  'truncated': False,\n",
       "  'user': {'contributors_enabled': False,\n",
       "   'created_at': 'Mon May 31 17:36:40 +0000 2010',\n",
       "   'default_profile': False,\n",
       "   'default_profile_image': False,\n",
       "   'description': 'The Official Twitter feed of the Massachusetts Bay Transportation Authority (MBTA). Check out our partners @MBTA_CR and @MBTATransitPD.',\n",
       "   'entities': {'description': {'urls': []},\n",
       "    'url': {'urls': [{'display_url': 'mbta.com',\n",
       "       'expanded_url': 'http://www.mbta.com',\n",
       "       'indices': [0, 22],\n",
       "       'url': 'http://t.co/VFYjwKfjQS'}]}},\n",
       "   'favourites_count': 6795,\n",
       "   'follow_request_sent': False,\n",
       "   'followers_count': 312690,\n",
       "   'following': False,\n",
       "   'friends_count': 11722,\n",
       "   'geo_enabled': True,\n",
       "   'has_extended_profile': False,\n",
       "   'id': 150334831,\n",
       "   'id_str': '150334831',\n",
       "   'is_translation_enabled': False,\n",
       "   'is_translator': False,\n",
       "   'lang': 'en',\n",
       "   'listed_count': 1925,\n",
       "   'location': 'Boston, MA',\n",
       "   'name': 'MBTA',\n",
       "   'notifications': False,\n",
       "   'profile_background_color': 'C0DEED',\n",
       "   'profile_background_image_url': 'http://pbs.twimg.com/profile_background_images/690653957505417216/bfbl1G--.png',\n",
       "   'profile_background_image_url_https': 'https://pbs.twimg.com/profile_background_images/690653957505417216/bfbl1G--.png',\n",
       "   'profile_background_tile': True,\n",
       "   'profile_banner_url': 'https://pbs.twimg.com/profile_banners/150334831/1458741752',\n",
       "   'profile_image_url': 'http://pbs.twimg.com/profile_images/690654661141868544/TiQrBJJ4_normal.png',\n",
       "   'profile_image_url_https': 'https://pbs.twimg.com/profile_images/690654661141868544/TiQrBJJ4_normal.png',\n",
       "   'profile_link_color': '0084B4',\n",
       "   'profile_sidebar_border_color': 'C0DEED',\n",
       "   'profile_sidebar_fill_color': 'DDEEF6',\n",
       "   'profile_text_color': '333333',\n",
       "   'profile_use_background_image': True,\n",
       "   'protected': False,\n",
       "   'screen_name': 'MBTA',\n",
       "   'statuses_count': 108511,\n",
       "   'time_zone': 'Atlantic Time (Canada)',\n",
       "   'translator_type': 'regular',\n",
       "   'url': 'http://t.co/VFYjwKfjQS',\n",
       "   'utc_offset': -14400,\n",
       "   'verified': True}},\n",
       " 'source': '<a href=\"http://twitter.com/download/iphone\" rel=\"nofollow\">Twitter for iPhone</a>',\n",
       " 'text': 'RT @MBTA: #MBTA #RedLine: 10 - 15 minute northbound delays from Braintree.',\n",
       " 'truncated': False,\n",
       " 'user': {'contributors_enabled': False,\n",
       "  'created_at': 'Thu Feb 24 02:35:28 +0000 2011',\n",
       "  'default_profile': False,\n",
       "  'default_profile_image': False,\n",
       "  'description': 'Attorney & Adjunct Law Professor - Dedicated to social justice. Former Chemist; XULA - Smith College - NDLS',\n",
       "  'entities': {'description': {'urls': []}},\n",
       "  'favourites_count': 8400,\n",
       "  'follow_request_sent': False,\n",
       "  'followers_count': 496,\n",
       "  'following': False,\n",
       "  'friends_count': 920,\n",
       "  'geo_enabled': True,\n",
       "  'has_extended_profile': False,\n",
       "  'id': 256791527,\n",
       "  'id_str': '256791527',\n",
       "  'is_translation_enabled': False,\n",
       "  'is_translator': False,\n",
       "  'lang': 'en',\n",
       "  'listed_count': 17,\n",
       "  'location': 'Boston, MA',\n",
       "  'name': 'Caitlin Gossett',\n",
       "  'notifications': False,\n",
       "  'profile_background_color': '9AE4E8',\n",
       "  'profile_background_image_url': 'http://pbs.twimg.com/profile_background_images/812400015/a78166b95407cea0411efc4529bbe66b.jpeg',\n",
       "  'profile_background_image_url_https': 'https://pbs.twimg.com/profile_background_images/812400015/a78166b95407cea0411efc4529bbe66b.jpeg',\n",
       "  'profile_background_tile': True,\n",
       "  'profile_banner_url': 'https://pbs.twimg.com/profile_banners/256791527/1413165913',\n",
       "  'profile_image_url': 'http://pbs.twimg.com/profile_images/3025550216/375de8ec0a36ccf84db329b30685eb0e_normal.jpeg',\n",
       "  'profile_image_url_https': 'https://pbs.twimg.com/profile_images/3025550216/375de8ec0a36ccf84db329b30685eb0e_normal.jpeg',\n",
       "  'profile_link_color': '0084B4',\n",
       "  'profile_sidebar_border_color': '000000',\n",
       "  'profile_sidebar_fill_color': 'DDFFCC',\n",
       "  'profile_text_color': '333333',\n",
       "  'profile_use_background_image': True,\n",
       "  'protected': False,\n",
       "  'screen_name': 'cegossett',\n",
       "  'statuses_count': 4640,\n",
       "  'time_zone': 'Eastern Time (US & Canada)',\n",
       "  'translator_type': 'none',\n",
       "  'url': None,\n",
       "  'utc_offset': -18000,\n",
       "  'verified': False}}"
      ]
     },
     "execution_count": 45,
     "metadata": {
      "tags": []
     },
     "output_type": "execute_result"
    }
   ],
   "source": [
    "r.json()[\"statuses\"][0]"
   ]
  },
  {
   "cell_type": "code",
   "execution_count": 0,
   "metadata": {
    "colab": {
     "autoexec": {
      "startup": false,
      "wait_interval": 0
     }
    },
    "colab_type": "code",
    "id": "rrTSPIlz54-M",
    "outputId": "c40259dd-ea38-4286-bffa-87ca0c09d743"
   },
   "outputs": [
    {
     "ename": "TypeError",
     "evalue": "strptime() takes exactly 2 arguments (1 given)",
     "output_type": "error",
     "traceback": [
      "\u001b[0;31m---------------------------------------------------------------------------\u001b[0m",
      "\u001b[0;31mTypeError\u001b[0m                                 Traceback (most recent call last)",
      "\u001b[0;32m<ipython-input-30-789f79d548c5>\u001b[0m in \u001b[0;36m<module>\u001b[0;34m()\u001b[0m\n\u001b[1;32m      1\u001b[0m \u001b[0;32mfrom\u001b[0m \u001b[0mdatetime\u001b[0m \u001b[0;32mimport\u001b[0m \u001b[0mdatetime\u001b[0m\u001b[0;34m\u001b[0m\u001b[0m\n\u001b[0;32m----> 2\u001b[0;31m \u001b[0mdatetime\u001b[0m\u001b[0;34m.\u001b[0m\u001b[0mstrptime\u001b[0m\u001b[0;34m(\u001b[0m\u001b[0;34m\"\"\u001b[0m\u001b[0;34m)\u001b[0m\u001b[0;34m\u001b[0m\u001b[0m\n\u001b[0m\u001b[1;32m      3\u001b[0m \u001b[0mr\u001b[0m\u001b[0;34m.\u001b[0m\u001b[0mjson\u001b[0m\u001b[0;34m(\u001b[0m\u001b[0;34m)\u001b[0m\u001b[0;34m[\u001b[0m\u001b[0;34m\"statuses\"\u001b[0m\u001b[0;34m]\u001b[0m\u001b[0;34m[\u001b[0m\u001b[0;36m0\u001b[0m\u001b[0;34m]\u001b[0m\u001b[0;34m[\u001b[0m\u001b[0;34m\"created_at\"\u001b[0m\u001b[0;34m]\u001b[0m\u001b[0;34m\u001b[0m\u001b[0m\n",
      "\u001b[0;31mTypeError\u001b[0m: strptime() takes exactly 2 arguments (1 given)"
     ]
    }
   ],
   "source": [
    "from datetime import datetime\n",
    "datetime.strptime(\"\")\n",
    "r.json()[\"statuses\"][0][\"created_at\"]"
   ]
  },
  {
   "cell_type": "code",
   "execution_count": 0,
   "metadata": {
    "colab": {
     "autoexec": {
      "startup": false,
      "wait_interval": 0
     }
    },
    "colab_type": "code",
    "id": "u21nioB654-O",
    "outputId": "4bf24146-e35d-4ba3-f67d-409510a71391"
   },
   "outputs": [
    {
     "name": "stdout",
     "output_type": "stream",
     "text": [
      "{'created_at': 'Thu Nov 09 22:42:25 +0000 2017', 'id': 928754676799033346, 'id_str': '928754676799033346', 'text': 'Adding buses to the traffic does nothing positive! Build a train! Silver line sucks @MBTA https://t.co/4MY8CPiq5D', 'truncated': False, 'entities': {'hashtags': [], 'symbols': [], 'user_mentions': [{'screen_name': 'MBTA', 'name': 'MBTA', 'id': 150334831, 'id_str': '150334831', 'indices': [84, 89]}], 'urls': [], 'media': [{'id': 928754670973177856, 'id_str': '928754670973177856', 'indices': [90, 113], 'media_url': 'http://pbs.twimg.com/media/DOOZc9bXUAARxy3.jpg', 'media_url_https': 'https://pbs.twimg.com/media/DOOZc9bXUAARxy3.jpg', 'url': 'https://t.co/4MY8CPiq5D', 'display_url': 'pic.twitter.com/4MY8CPiq5D', 'expanded_url': 'https://twitter.com/MattSheehan1985/status/928754676799033346/photo/1', 'type': 'photo', 'sizes': {'large': {'w': 575, 'h': 1024, 'resize': 'fit'}, 'medium': {'w': 575, 'h': 1024, 'resize': 'fit'}, 'thumb': {'w': 150, 'h': 150, 'resize': 'crop'}, 'small': {'w': 382, 'h': 680, 'resize': 'fit'}}}]}, 'extended_entities': {'media': [{'id': 928754670973177856, 'id_str': '928754670973177856', 'indices': [90, 113], 'media_url': 'http://pbs.twimg.com/media/DOOZc9bXUAARxy3.jpg', 'media_url_https': 'https://pbs.twimg.com/media/DOOZc9bXUAARxy3.jpg', 'url': 'https://t.co/4MY8CPiq5D', 'display_url': 'pic.twitter.com/4MY8CPiq5D', 'expanded_url': 'https://twitter.com/MattSheehan1985/status/928754676799033346/photo/1', 'type': 'photo', 'sizes': {'large': {'w': 575, 'h': 1024, 'resize': 'fit'}, 'medium': {'w': 575, 'h': 1024, 'resize': 'fit'}, 'thumb': {'w': 150, 'h': 150, 'resize': 'crop'}, 'small': {'w': 382, 'h': 680, 'resize': 'fit'}}}]}, 'metadata': {'iso_language_code': 'en', 'result_type': 'recent'}, 'source': '<a href=\"http://twitter.com/download/iphone\" rel=\"nofollow\">Twitter for iPhone</a>', 'in_reply_to_status_id': None, 'in_reply_to_status_id_str': None, 'in_reply_to_user_id': None, 'in_reply_to_user_id_str': None, 'in_reply_to_screen_name': None, 'user': {'id': 829497499060727809, 'id_str': '829497499060727809', 'name': 'Matt Sheehan', 'screen_name': 'MattSheehan1985', 'location': 'Boston, MA', 'description': 'Boston area born and raised. Pilot, Brother, Son, Guncle, cousin, friend. love all kinds of music, hiking, the outdoors, Boston sports and being social.', 'url': None, 'entities': {'description': {'urls': []}}, 'protected': False, 'followers_count': 20, 'friends_count': 83, 'listed_count': 0, 'created_at': 'Thu Feb 09 01:09:49 +0000 2017', 'favourites_count': 214, 'utc_offset': None, 'time_zone': None, 'geo_enabled': False, 'verified': False, 'statuses_count': 70, 'lang': 'en', 'contributors_enabled': False, 'is_translator': False, 'is_translation_enabled': False, 'profile_background_color': 'F5F8FA', 'profile_background_image_url': None, 'profile_background_image_url_https': None, 'profile_background_tile': False, 'profile_image_url': 'http://pbs.twimg.com/profile_images/829499876488704000/m9vxgSO6_normal.jpg', 'profile_image_url_https': 'https://pbs.twimg.com/profile_images/829499876488704000/m9vxgSO6_normal.jpg', 'profile_banner_url': 'https://pbs.twimg.com/profile_banners/829497499060727809/1486603816', 'profile_link_color': '1DA1F2', 'profile_sidebar_border_color': 'C0DEED', 'profile_sidebar_fill_color': 'DDEEF6', 'profile_text_color': '333333', 'profile_use_background_image': True, 'has_extended_profile': True, 'default_profile': True, 'default_profile_image': False, 'following': False, 'follow_request_sent': False, 'notifications': False, 'translator_type': 'none'}, 'geo': None, 'coordinates': None, 'place': None, 'contributors': None, 'is_quote_status': False, 'retweet_count': 0, 'favorite_count': 0, 'favorited': False, 'retweeted': False, 'possibly_sensitive': False, 'lang': 'en'}\n",
      "{'created_at': 'Thu Nov 09 22:42:23 +0000 2017', 'id': 928754669018632192, 'id_str': '928754669018632192', 'text': 'RT @MattSheehan1985: This silver line ride to south station from Logan takes longEr than my flight did. Build a train @MBTA', 'truncated': False, 'entities': {'hashtags': [], 'symbols': [], 'user_mentions': [{'screen_name': 'MattSheehan1985', 'name': 'Matt Sheehan', 'id': 829497499060727809, 'id_str': '829497499060727809', 'indices': [3, 19]}, {'screen_name': 'MBTA', 'name': 'MBTA', 'id': 150334831, 'id_str': '150334831', 'indices': [118, 123]}], 'urls': []}, 'metadata': {'iso_language_code': 'en', 'result_type': 'recent'}, 'source': '<a href=\"http://twitter.com/download/iphone\" rel=\"nofollow\">Twitter for iPhone</a>', 'in_reply_to_status_id': None, 'in_reply_to_status_id_str': None, 'in_reply_to_user_id': None, 'in_reply_to_user_id_str': None, 'in_reply_to_screen_name': None, 'user': {'id': 909788702376939520, 'id_str': '909788702376939520', 'name': 'Crying MBTA', 'screen_name': 'crying_mbta', 'location': 'Boston, MA', 'description': 'Just like every other Boston commuter, we deal with the #MBTA daily. Share your experience!', 'url': None, 'entities': {'description': {'urls': []}}, 'protected': False, 'followers_count': 77, 'friends_count': 53, 'listed_count': 0, 'created_at': 'Mon Sep 18 14:38:24 +0000 2017', 'favourites_count': 541, 'utc_offset': -18000, 'time_zone': 'Eastern Time (US & Canada)', 'geo_enabled': False, 'verified': False, 'statuses_count': 280, 'lang': 'en', 'contributors_enabled': False, 'is_translator': False, 'is_translation_enabled': False, 'profile_background_color': 'F5F8FA', 'profile_background_image_url': None, 'profile_background_image_url_https': None, 'profile_background_tile': False, 'profile_image_url': 'http://pbs.twimg.com/profile_images/910922446370418688/BSa7S2Nd_normal.jpg', 'profile_image_url_https': 'https://pbs.twimg.com/profile_images/910922446370418688/BSa7S2Nd_normal.jpg', 'profile_link_color': '1DA1F2', 'profile_sidebar_border_color': 'C0DEED', 'profile_sidebar_fill_color': 'DDEEF6', 'profile_text_color': '333333', 'profile_use_background_image': True, 'has_extended_profile': False, 'default_profile': True, 'default_profile_image': False, 'following': False, 'follow_request_sent': False, 'notifications': False, 'translator_type': 'none'}, 'geo': None, 'coordinates': None, 'place': None, 'contributors': None, 'retweeted_status': {'created_at': 'Thu Nov 09 22:36:54 +0000 2017', 'id': 928753289406988288, 'id_str': '928753289406988288', 'text': 'This silver line ride to south station from Logan takes longEr than my flight did. Build a train @MBTA', 'truncated': False, 'entities': {'hashtags': [], 'symbols': [], 'user_mentions': [{'screen_name': 'MBTA', 'name': 'MBTA', 'id': 150334831, 'id_str': '150334831', 'indices': [97, 102]}], 'urls': []}, 'metadata': {'iso_language_code': 'en', 'result_type': 'recent'}, 'source': '<a href=\"http://twitter.com/download/iphone\" rel=\"nofollow\">Twitter for iPhone</a>', 'in_reply_to_status_id': None, 'in_reply_to_status_id_str': None, 'in_reply_to_user_id': None, 'in_reply_to_user_id_str': None, 'in_reply_to_screen_name': None, 'user': {'id': 829497499060727809, 'id_str': '829497499060727809', 'name': 'Matt Sheehan', 'screen_name': 'MattSheehan1985', 'location': 'Boston, MA', 'description': 'Boston area born and raised. Pilot, Brother, Son, Guncle, cousin, friend. love all kinds of music, hiking, the outdoors, Boston sports and being social.', 'url': None, 'entities': {'description': {'urls': []}}, 'protected': False, 'followers_count': 20, 'friends_count': 83, 'listed_count': 0, 'created_at': 'Thu Feb 09 01:09:49 +0000 2017', 'favourites_count': 214, 'utc_offset': None, 'time_zone': None, 'geo_enabled': False, 'verified': False, 'statuses_count': 70, 'lang': 'en', 'contributors_enabled': False, 'is_translator': False, 'is_translation_enabled': False, 'profile_background_color': 'F5F8FA', 'profile_background_image_url': None, 'profile_background_image_url_https': None, 'profile_background_tile': False, 'profile_image_url': 'http://pbs.twimg.com/profile_images/829499876488704000/m9vxgSO6_normal.jpg', 'profile_image_url_https': 'https://pbs.twimg.com/profile_images/829499876488704000/m9vxgSO6_normal.jpg', 'profile_banner_url': 'https://pbs.twimg.com/profile_banners/829497499060727809/1486603816', 'profile_link_color': '1DA1F2', 'profile_sidebar_border_color': 'C0DEED', 'profile_sidebar_fill_color': 'DDEEF6', 'profile_text_color': '333333', 'profile_use_background_image': True, 'has_extended_profile': True, 'default_profile': True, 'default_profile_image': False, 'following': False, 'follow_request_sent': False, 'notifications': False, 'translator_type': 'none'}, 'geo': None, 'coordinates': None, 'place': None, 'contributors': None, 'is_quote_status': False, 'retweet_count': 2, 'favorite_count': 2, 'favorited': False, 'retweeted': False, 'lang': 'en'}, 'is_quote_status': False, 'retweet_count': 2, 'favorite_count': 0, 'favorited': False, 'retweeted': False, 'lang': 'en'}\n",
      "{'created_at': 'Thu Nov 09 22:39:36 +0000 2017', 'id': 928753971711430657, 'id_str': '928753971711430657', 'text': '@MBTA Why is this almost daily, during peak times?  Regularly scheduled T service is actually whenever the hell a n… https://t.co/PreParSiKT', 'truncated': True, 'entities': {'hashtags': [], 'symbols': [], 'user_mentions': [{'screen_name': 'MBTA', 'name': 'MBTA', 'id': 150334831, 'id_str': '150334831', 'indices': [0, 5]}], 'urls': [{'url': 'https://t.co/PreParSiKT', 'expanded_url': 'https://twitter.com/i/web/status/928753971711430657', 'display_url': 'twitter.com/i/web/status/9…', 'indices': [117, 140]}]}, 'metadata': {'iso_language_code': 'en', 'result_type': 'recent'}, 'source': '<a href=\"https://mobile.twitter.com\" rel=\"nofollow\">Twitter Lite</a>', 'in_reply_to_status_id': 928746784633081856, 'in_reply_to_status_id_str': '928746784633081856', 'in_reply_to_user_id': 150334831, 'in_reply_to_user_id_str': '150334831', 'in_reply_to_screen_name': 'MBTA', 'user': {'id': 3030691511, 'id_str': '3030691511', 'name': 'Stuck on the T', 'screen_name': 'IneedTupdates', 'location': '', 'description': 'Forever waiting for a train, cheese lover who never learned how to whistle.', 'url': None, 'entities': {'description': {'urls': []}}, 'protected': False, 'followers_count': 133, 'friends_count': 504, 'listed_count': 5, 'created_at': 'Wed Feb 11 16:37:50 +0000 2015', 'favourites_count': 308, 'utc_offset': None, 'time_zone': None, 'geo_enabled': False, 'verified': False, 'statuses_count': 12665, 'lang': 'en', 'contributors_enabled': False, 'is_translator': False, 'is_translation_enabled': False, 'profile_background_color': 'C0DEED', 'profile_background_image_url': 'http://abs.twimg.com/images/themes/theme1/bg.png', 'profile_background_image_url_https': 'https://abs.twimg.com/images/themes/theme1/bg.png', 'profile_background_tile': False, 'profile_image_url': 'http://abs.twimg.com/sticky/default_profile_images/default_profile_normal.png', 'profile_image_url_https': 'https://abs.twimg.com/sticky/default_profile_images/default_profile_normal.png', 'profile_link_color': '1DA1F2', 'profile_sidebar_border_color': 'C0DEED', 'profile_sidebar_fill_color': 'DDEEF6', 'profile_text_color': '333333', 'profile_use_background_image': True, 'has_extended_profile': False, 'default_profile': True, 'default_profile_image': True, 'following': False, 'follow_request_sent': False, 'notifications': False, 'translator_type': 'none'}, 'geo': None, 'coordinates': None, 'place': None, 'contributors': None, 'is_quote_status': False, 'retweet_count': 0, 'favorite_count': 3, 'favorited': False, 'retweeted': False, 'lang': 'en'}\n",
      "{'created_at': 'Thu Nov 09 22:37:22 +0000 2017', 'id': 928753408714174464, 'id_str': '928753408714174464', 'text': 'RT @MattSheehan1985: This silver line ride to south station from Logan takes longEr than my flight did. Build a train @MBTA', 'truncated': False, 'entities': {'hashtags': [], 'symbols': [], 'user_mentions': [{'screen_name': 'MattSheehan1985', 'name': 'Matt Sheehan', 'id': 829497499060727809, 'id_str': '829497499060727809', 'indices': [3, 19]}, {'screen_name': 'MBTA', 'name': 'MBTA', 'id': 150334831, 'id_str': '150334831', 'indices': [118, 123]}], 'urls': []}, 'metadata': {'iso_language_code': 'en', 'result_type': 'recent'}, 'source': '<a href=\"https://mobile.twitter.com\" rel=\"nofollow\">Twitter Lite</a>', 'in_reply_to_status_id': None, 'in_reply_to_status_id_str': None, 'in_reply_to_user_id': None, 'in_reply_to_user_id_str': None, 'in_reply_to_screen_name': None, 'user': {'id': 3030691511, 'id_str': '3030691511', 'name': 'Stuck on the T', 'screen_name': 'IneedTupdates', 'location': '', 'description': 'Forever waiting for a train, cheese lover who never learned how to whistle.', 'url': None, 'entities': {'description': {'urls': []}}, 'protected': False, 'followers_count': 133, 'friends_count': 504, 'listed_count': 5, 'created_at': 'Wed Feb 11 16:37:50 +0000 2015', 'favourites_count': 308, 'utc_offset': None, 'time_zone': None, 'geo_enabled': False, 'verified': False, 'statuses_count': 12665, 'lang': 'en', 'contributors_enabled': False, 'is_translator': False, 'is_translation_enabled': False, 'profile_background_color': 'C0DEED', 'profile_background_image_url': 'http://abs.twimg.com/images/themes/theme1/bg.png', 'profile_background_image_url_https': 'https://abs.twimg.com/images/themes/theme1/bg.png', 'profile_background_tile': False, 'profile_image_url': 'http://abs.twimg.com/sticky/default_profile_images/default_profile_normal.png', 'profile_image_url_https': 'https://abs.twimg.com/sticky/default_profile_images/default_profile_normal.png', 'profile_link_color': '1DA1F2', 'profile_sidebar_border_color': 'C0DEED', 'profile_sidebar_fill_color': 'DDEEF6', 'profile_text_color': '333333', 'profile_use_background_image': True, 'has_extended_profile': False, 'default_profile': True, 'default_profile_image': True, 'following': False, 'follow_request_sent': False, 'notifications': False, 'translator_type': 'none'}, 'geo': None, 'coordinates': None, 'place': None, 'contributors': None, 'retweeted_status': {'created_at': 'Thu Nov 09 22:36:54 +0000 2017', 'id': 928753289406988288, 'id_str': '928753289406988288', 'text': 'This silver line ride to south station from Logan takes longEr than my flight did. Build a train @MBTA', 'truncated': False, 'entities': {'hashtags': [], 'symbols': [], 'user_mentions': [{'screen_name': 'MBTA', 'name': 'MBTA', 'id': 150334831, 'id_str': '150334831', 'indices': [97, 102]}], 'urls': []}, 'metadata': {'iso_language_code': 'en', 'result_type': 'recent'}, 'source': '<a href=\"http://twitter.com/download/iphone\" rel=\"nofollow\">Twitter for iPhone</a>', 'in_reply_to_status_id': None, 'in_reply_to_status_id_str': None, 'in_reply_to_user_id': None, 'in_reply_to_user_id_str': None, 'in_reply_to_screen_name': None, 'user': {'id': 829497499060727809, 'id_str': '829497499060727809', 'name': 'Matt Sheehan', 'screen_name': 'MattSheehan1985', 'location': 'Boston, MA', 'description': 'Boston area born and raised. Pilot, Brother, Son, Guncle, cousin, friend. love all kinds of music, hiking, the outdoors, Boston sports and being social.', 'url': None, 'entities': {'description': {'urls': []}}, 'protected': False, 'followers_count': 20, 'friends_count': 83, 'listed_count': 0, 'created_at': 'Thu Feb 09 01:09:49 +0000 2017', 'favourites_count': 214, 'utc_offset': None, 'time_zone': None, 'geo_enabled': False, 'verified': False, 'statuses_count': 70, 'lang': 'en', 'contributors_enabled': False, 'is_translator': False, 'is_translation_enabled': False, 'profile_background_color': 'F5F8FA', 'profile_background_image_url': None, 'profile_background_image_url_https': None, 'profile_background_tile': False, 'profile_image_url': 'http://pbs.twimg.com/profile_images/829499876488704000/m9vxgSO6_normal.jpg', 'profile_image_url_https': 'https://pbs.twimg.com/profile_images/829499876488704000/m9vxgSO6_normal.jpg', 'profile_banner_url': 'https://pbs.twimg.com/profile_banners/829497499060727809/1486603816', 'profile_link_color': '1DA1F2', 'profile_sidebar_border_color': 'C0DEED', 'profile_sidebar_fill_color': 'DDEEF6', 'profile_text_color': '333333', 'profile_use_background_image': True, 'has_extended_profile': True, 'default_profile': True, 'default_profile_image': False, 'following': False, 'follow_request_sent': False, 'notifications': False, 'translator_type': 'none'}, 'geo': None, 'coordinates': None, 'place': None, 'contributors': None, 'is_quote_status': False, 'retweet_count': 2, 'favorite_count': 2, 'favorited': False, 'retweeted': False, 'lang': 'en'}, 'is_quote_status': False, 'retweet_count': 2, 'favorite_count': 0, 'favorited': False, 'retweeted': False, 'lang': 'en'}\n",
      "{'created_at': 'Thu Nov 09 22:36:54 +0000 2017', 'id': 928753289406988288, 'id_str': '928753289406988288', 'text': 'This silver line ride to south station from Logan takes longEr than my flight did. Build a train @MBTA', 'truncated': False, 'entities': {'hashtags': [], 'symbols': [], 'user_mentions': [{'screen_name': 'MBTA', 'name': 'MBTA', 'id': 150334831, 'id_str': '150334831', 'indices': [97, 102]}], 'urls': []}, 'metadata': {'iso_language_code': 'en', 'result_type': 'recent'}, 'source': '<a href=\"http://twitter.com/download/iphone\" rel=\"nofollow\">Twitter for iPhone</a>', 'in_reply_to_status_id': None, 'in_reply_to_status_id_str': None, 'in_reply_to_user_id': None, 'in_reply_to_user_id_str': None, 'in_reply_to_screen_name': None, 'user': {'id': 829497499060727809, 'id_str': '829497499060727809', 'name': 'Matt Sheehan', 'screen_name': 'MattSheehan1985', 'location': 'Boston, MA', 'description': 'Boston area born and raised. Pilot, Brother, Son, Guncle, cousin, friend. love all kinds of music, hiking, the outdoors, Boston sports and being social.', 'url': None, 'entities': {'description': {'urls': []}}, 'protected': False, 'followers_count': 20, 'friends_count': 83, 'listed_count': 0, 'created_at': 'Thu Feb 09 01:09:49 +0000 2017', 'favourites_count': 214, 'utc_offset': None, 'time_zone': None, 'geo_enabled': False, 'verified': False, 'statuses_count': 70, 'lang': 'en', 'contributors_enabled': False, 'is_translator': False, 'is_translation_enabled': False, 'profile_background_color': 'F5F8FA', 'profile_background_image_url': None, 'profile_background_image_url_https': None, 'profile_background_tile': False, 'profile_image_url': 'http://pbs.twimg.com/profile_images/829499876488704000/m9vxgSO6_normal.jpg', 'profile_image_url_https': 'https://pbs.twimg.com/profile_images/829499876488704000/m9vxgSO6_normal.jpg', 'profile_banner_url': 'https://pbs.twimg.com/profile_banners/829497499060727809/1486603816', 'profile_link_color': '1DA1F2', 'profile_sidebar_border_color': 'C0DEED', 'profile_sidebar_fill_color': 'DDEEF6', 'profile_text_color': '333333', 'profile_use_background_image': True, 'has_extended_profile': True, 'default_profile': True, 'default_profile_image': False, 'following': False, 'follow_request_sent': False, 'notifications': False, 'translator_type': 'none'}, 'geo': None, 'coordinates': None, 'place': None, 'contributors': None, 'is_quote_status': False, 'retweet_count': 2, 'favorite_count': 2, 'favorited': False, 'retweeted': False, 'lang': 'en'}\n",
      "{'created_at': 'Thu Nov 09 22:35:16 +0000 2017', 'id': 928752879162114048, 'id_str': '928752879162114048', 'text': '@DanKeshet @dt_joyce @theoverheadwire @ABQRapidTransit @MBTA And Philly!\\n\\nhttps://t.co/siRyFb5IZ7', 'truncated': False, 'entities': {'hashtags': [], 'symbols': [], 'user_mentions': [{'screen_name': 'DanKeshet', 'name': 'Dan Keshet🚶', 'id': 1069116314, 'id_str': '1069116314', 'indices': [0, 10]}, {'screen_name': 'dt_joyce', 'name': 'Dustin Tyler Joyce', 'id': 275074586, 'id_str': '275074586', 'indices': [11, 20]}, {'screen_name': 'theoverheadwire', 'name': 'The Overhead Wire', 'id': 14174793, 'id_str': '14174793', 'indices': [21, 37]}, {'screen_name': 'ABQRapidTransit', 'name': 'ABQRapidTransit', 'id': 4883917932, 'id_str': '4883917932', 'indices': [38, 54]}, {'screen_name': 'MBTA', 'name': 'MBTA', 'id': 150334831, 'id_str': '150334831', 'indices': [55, 60]}], 'urls': [{'url': 'https://t.co/siRyFb5IZ7', 'expanded_url': 'https://en.wikipedia.org/wiki/List_of_trolleybus_systems_in_the_United_States', 'display_url': 'en.wikipedia.org/wiki/List_of_t…', 'indices': [74, 97]}]}, 'metadata': {'iso_language_code': 'en', 'result_type': 'recent'}, 'source': '<a href=\"http://twitter.com\" rel=\"nofollow\">Twitter Web Client</a>', 'in_reply_to_status_id': 928420407903956996, 'in_reply_to_status_id_str': '928420407903956996', 'in_reply_to_user_id': 1069116314, 'in_reply_to_user_id_str': '1069116314', 'in_reply_to_screen_name': 'DanKeshet', 'user': {'id': 620033039, 'id_str': '620033039', 'name': 'Erik Griswold', 'screen_name': 'erik_griswold', 'location': 'Southern Calif.', 'description': '\"As Long as There Is Death, There Is Hope\"-Brother Theodore', 'url': 'https://t.co/hr6TDrXx1Z', 'entities': {'url': {'urls': [{'url': 'https://t.co/hr6TDrXx1Z', 'expanded_url': 'http://www.copenhagenize.com/search/label/erik%20griswold', 'display_url': 'copenhagenize.com/search/label/e…', 'indices': [0, 23]}]}, 'description': {'urls': []}}, 'protected': False, 'followers_count': 2457, 'friends_count': 4102, 'listed_count': 285, 'created_at': 'Wed Jun 27 14:18:24 +0000 2012', 'favourites_count': 45409, 'utc_offset': -28800, 'time_zone': 'Pacific Time (US & Canada)', 'geo_enabled': True, 'verified': False, 'statuses_count': 78370, 'lang': 'en', 'contributors_enabled': False, 'is_translator': False, 'is_translation_enabled': False, 'profile_background_color': 'F00C32', 'profile_background_image_url': 'http://pbs.twimg.com/profile_background_images/807314236/39858c9043d01586dcbebf820c7f02a6.png', 'profile_background_image_url_https': 'https://pbs.twimg.com/profile_background_images/807314236/39858c9043d01586dcbebf820c7f02a6.png', 'profile_background_tile': True, 'profile_image_url': 'http://pbs.twimg.com/profile_images/883101844360151042/ovjwT_Uu_normal.jpg', 'profile_image_url_https': 'https://pbs.twimg.com/profile_images/883101844360151042/ovjwT_Uu_normal.jpg', 'profile_banner_url': 'https://pbs.twimg.com/profile_banners/620033039/1428644407', 'profile_link_color': '150EE6', 'profile_sidebar_border_color': 'FFFFFF', 'profile_sidebar_fill_color': 'DDEEF6', 'profile_text_color': '333333', 'profile_use_background_image': True, 'has_extended_profile': False, 'default_profile': False, 'default_profile_image': False, 'following': False, 'follow_request_sent': False, 'notifications': False, 'translator_type': 'none'}, 'geo': None, 'coordinates': None, 'place': None, 'contributors': None, 'is_quote_status': False, 'retweet_count': 0, 'favorite_count': 0, 'favorited': False, 'retweeted': False, 'possibly_sensitive': False, 'lang': 'en'}\n",
      "{'created_at': 'Thu Nov 09 22:32:33 +0000 2017', 'id': 928752194291159040, 'id_str': '928752194291159040', 'text': 'RT @dramaticle: @MBTA, can you pls RT? Found: what looks to be very important legal files on the MBTA, outbound Ashmont train @ 8:30am on 1…', 'truncated': False, 'entities': {'hashtags': [], 'symbols': [], 'user_mentions': [{'screen_name': 'dramaticle', 'name': 'Lindsay Eagle', 'id': 17348612, 'id_str': '17348612', 'indices': [3, 14]}, {'screen_name': 'MBTA', 'name': 'MBTA', 'id': 150334831, 'id_str': '150334831', 'indices': [16, 21]}], 'urls': []}, 'metadata': {'iso_language_code': 'en', 'result_type': 'recent'}, 'source': '<a href=\"http://twitter.com/download/iphone\" rel=\"nofollow\">Twitter for iPhone</a>', 'in_reply_to_status_id': None, 'in_reply_to_status_id_str': None, 'in_reply_to_user_id': None, 'in_reply_to_user_id_str': None, 'in_reply_to_screen_name': None, 'user': {'id': 909788702376939520, 'id_str': '909788702376939520', 'name': 'Crying MBTA', 'screen_name': 'crying_mbta', 'location': 'Boston, MA', 'description': 'Just like every other Boston commuter, we deal with the #MBTA daily. Share your experience!', 'url': None, 'entities': {'description': {'urls': []}}, 'protected': False, 'followers_count': 77, 'friends_count': 53, 'listed_count': 0, 'created_at': 'Mon Sep 18 14:38:24 +0000 2017', 'favourites_count': 541, 'utc_offset': -18000, 'time_zone': 'Eastern Time (US & Canada)', 'geo_enabled': False, 'verified': False, 'statuses_count': 280, 'lang': 'en', 'contributors_enabled': False, 'is_translator': False, 'is_translation_enabled': False, 'profile_background_color': 'F5F8FA', 'profile_background_image_url': None, 'profile_background_image_url_https': None, 'profile_background_tile': False, 'profile_image_url': 'http://pbs.twimg.com/profile_images/910922446370418688/BSa7S2Nd_normal.jpg', 'profile_image_url_https': 'https://pbs.twimg.com/profile_images/910922446370418688/BSa7S2Nd_normal.jpg', 'profile_link_color': '1DA1F2', 'profile_sidebar_border_color': 'C0DEED', 'profile_sidebar_fill_color': 'DDEEF6', 'profile_text_color': '333333', 'profile_use_background_image': True, 'has_extended_profile': False, 'default_profile': True, 'default_profile_image': False, 'following': False, 'follow_request_sent': False, 'notifications': False, 'translator_type': 'none'}, 'geo': None, 'coordinates': None, 'place': None, 'contributors': None, 'retweeted_status': {'created_at': 'Thu Nov 09 13:42:40 +0000 2017', 'id': 928618848227659777, 'id_str': '928618848227659777', 'text': '@MBTA, can you pls RT? Found: what looks to be very important legal files on the MBTA, outbound Ashmont train @ 8:3… https://t.co/snxrjgKPDT', 'truncated': True, 'entities': {'hashtags': [], 'symbols': [], 'user_mentions': [{'screen_name': 'MBTA', 'name': 'MBTA', 'id': 150334831, 'id_str': '150334831', 'indices': [0, 5]}], 'urls': [{'url': 'https://t.co/snxrjgKPDT', 'expanded_url': 'https://twitter.com/i/web/status/928618848227659777', 'display_url': 'twitter.com/i/web/status/9…', 'indices': [117, 140]}]}, 'metadata': {'iso_language_code': 'en', 'result_type': 'recent'}, 'source': '<a href=\"https://mobile.twitter.com\" rel=\"nofollow\">Twitter Lite</a>', 'in_reply_to_status_id': None, 'in_reply_to_status_id_str': None, 'in_reply_to_user_id': 150334831, 'in_reply_to_user_id_str': '150334831', 'in_reply_to_screen_name': 'MBTA', 'user': {'id': 17348612, 'id_str': '17348612', 'name': 'Lindsay Eagle', 'screen_name': 'dramaticle', 'location': 'Boston, MA', 'description': 'Boston-area actor/director, company member at @FE_Theatre. Theatre/arts, body positivity, health/wellness, feminism, social justice, music, videogames, RPGs.', 'url': 'http://t.co/00EbWrny0A', 'entities': {'url': {'urls': [{'url': 'http://t.co/00EbWrny0A', 'expanded_url': 'http://www.lindsayeagle.com', 'display_url': 'lindsayeagle.com', 'indices': [0, 22]}]}, 'description': {'urls': []}}, 'protected': False, 'followers_count': 391, 'friends_count': 373, 'listed_count': 22, 'created_at': 'Wed Nov 12 20:59:08 +0000 2008', 'favourites_count': 113, 'utc_offset': -18000, 'time_zone': 'Eastern Time (US & Canada)', 'geo_enabled': True, 'verified': False, 'statuses_count': 1710, 'lang': 'en', 'contributors_enabled': False, 'is_translator': False, 'is_translation_enabled': False, 'profile_background_color': 'C0E8B0', 'profile_background_image_url': 'http://pbs.twimg.com/profile_background_images/378800000162128738/Dhnv6H_N.png', 'profile_background_image_url_https': 'https://pbs.twimg.com/profile_background_images/378800000162128738/Dhnv6H_N.png', 'profile_background_tile': True, 'profile_image_url': 'http://pbs.twimg.com/profile_images/627476649060098048/19QlxqEI_normal.jpg', 'profile_image_url_https': 'https://pbs.twimg.com/profile_images/627476649060098048/19QlxqEI_normal.jpg', 'profile_banner_url': 'https://pbs.twimg.com/profile_banners/17348612/1438437138', 'profile_link_color': '847A85', 'profile_sidebar_border_color': '93D9B8', 'profile_sidebar_fill_color': 'FAFCB6', 'profile_text_color': '605B6E', 'profile_use_background_image': True, 'has_extended_profile': False, 'default_profile': False, 'default_profile_image': False, 'following': False, 'follow_request_sent': False, 'notifications': False, 'translator_type': 'none'}, 'geo': None, 'coordinates': None, 'place': None, 'contributors': None, 'is_quote_status': False, 'retweet_count': 59, 'favorite_count': 25, 'favorited': False, 'retweeted': False, 'possibly_sensitive': False, 'lang': 'en'}, 'is_quote_status': False, 'retweet_count': 59, 'favorite_count': 0, 'favorited': False, 'retweeted': False, 'lang': 'en'}\n",
      "{'created_at': 'Thu Nov 09 22:32:06 +0000 2017', 'id': 928752080852004864, 'id_str': '928752080852004864', 'text': 'Hey @mbta can u run me over w a bus', 'truncated': False, 'entities': {'hashtags': [], 'symbols': [], 'user_mentions': [{'screen_name': 'MBTA', 'name': 'MBTA', 'id': 150334831, 'id_str': '150334831', 'indices': [4, 9]}], 'urls': []}, 'metadata': {'iso_language_code': 'en', 'result_type': 'recent'}, 'source': '<a href=\"http://twitter.com/download/iphone\" rel=\"nofollow\">Twitter for iPhone</a>', 'in_reply_to_status_id': None, 'in_reply_to_status_id_str': None, 'in_reply_to_user_id': None, 'in_reply_to_user_id_str': None, 'in_reply_to_screen_name': None, 'user': {'id': 19371574, 'id_str': '19371574', 'name': 'normie colin', 'screen_name': 'domigan', 'location': 'SW 1886-7296-4493', 'description': 'normal boston dj - #nanodisco dad - buddy list LP out on @coverymusic - pls buy: https://t.co/HeSNhCfBqO - mgmt: @ggooooddddoogg', 'url': 'https://t.co/64UpaVlgjp', 'entities': {'url': {'urls': [{'url': 'https://t.co/64UpaVlgjp', 'expanded_url': 'http://www.domigan.co/lin', 'display_url': 'domigan.co/lin', 'indices': [0, 23]}]}, 'description': {'urls': [{'url': 'https://t.co/HeSNhCfBqO', 'expanded_url': 'https://qrates.com/artists/colindomigan/items/13408', 'display_url': 'qrates.com/artists/colind…', 'indices': [81, 104]}]}}, 'protected': False, 'followers_count': 1267, 'friends_count': 1988, 'listed_count': 42, 'created_at': 'Fri Jan 23 00:14:23 +0000 2009', 'favourites_count': 15804, 'utc_offset': -18000, 'time_zone': 'Eastern Time (US & Canada)', 'geo_enabled': True, 'verified': False, 'statuses_count': 38177, 'lang': 'en', 'contributors_enabled': False, 'is_translator': False, 'is_translation_enabled': False, 'profile_background_color': '000000', 'profile_background_image_url': 'http://abs.twimg.com/images/themes/theme14/bg.gif', 'profile_background_image_url_https': 'https://abs.twimg.com/images/themes/theme14/bg.gif', 'profile_background_tile': False, 'profile_image_url': 'http://pbs.twimg.com/profile_images/918093480643235840/UX5LiG4N_normal.jpg', 'profile_image_url_https': 'https://pbs.twimg.com/profile_images/918093480643235840/UX5LiG4N_normal.jpg', 'profile_banner_url': 'https://pbs.twimg.com/profile_banners/19371574/1507222021', 'profile_link_color': 'CC0000', 'profile_sidebar_border_color': '000000', 'profile_sidebar_fill_color': '000000', 'profile_text_color': '000000', 'profile_use_background_image': False, 'has_extended_profile': True, 'default_profile': False, 'default_profile_image': False, 'following': False, 'follow_request_sent': False, 'notifications': False, 'translator_type': 'none'}, 'geo': None, 'coordinates': None, 'place': {'id': '8193d87541f11dfb', 'url': 'https://api.twitter.com/1.1/geo/id/8193d87541f11dfb.json', 'place_type': 'city', 'name': 'Cambridge', 'full_name': 'Cambridge, MA', 'country_code': 'US', 'country': 'United States', 'contained_within': [], 'bounding_box': {'type': 'Polygon', 'coordinates': [[[-71.160356, 42.352429], [-71.064398, 42.352429], [-71.064398, 42.4039663], [-71.160356, 42.4039663]]]}, 'attributes': {}}, 'contributors': None, 'is_quote_status': False, 'retweet_count': 0, 'favorite_count': 1, 'favorited': False, 'retweeted': False, 'lang': 'en'}\n",
      "{'created_at': 'Thu Nov 09 22:30:49 +0000 2017', 'id': 928751758217793536, 'id_str': '928751758217793536', 'text': \"@EvanTJudd @MBTA_ADVOCATE @MBTA You'd be shocked how little tracking is available. Even subway conductors don't hav… https://t.co/JpzqYktQLp\", 'truncated': True, 'entities': {'hashtags': [], 'symbols': [], 'user_mentions': [{'screen_name': 'EvanTJudd', 'name': 'Evan Judd', 'id': 49034863, 'id_str': '49034863', 'indices': [0, 10]}, {'screen_name': 'MBTA_ADVOCATE', 'name': 'MBTA ADVOCATE', 'id': 1089664446, 'id_str': '1089664446', 'indices': [11, 25]}, {'screen_name': 'MBTA', 'name': 'MBTA', 'id': 150334831, 'id_str': '150334831', 'indices': [26, 31]}], 'urls': [{'url': 'https://t.co/JpzqYktQLp', 'expanded_url': 'https://twitter.com/i/web/status/928751758217793536', 'display_url': 'twitter.com/i/web/status/9…', 'indices': [117, 140]}]}, 'metadata': {'iso_language_code': 'en', 'result_type': 'recent'}, 'source': '<a href=\"http://twitter.com/download/iphone\" rel=\"nofollow\">Twitter for iPhone</a>', 'in_reply_to_status_id': 928744008628822018, 'in_reply_to_status_id_str': '928744008628822018', 'in_reply_to_user_id': 49034863, 'in_reply_to_user_id_str': '49034863', 'in_reply_to_screen_name': 'EvanTJudd', 'user': {'id': 3890884589, 'id_str': '3890884589', 'name': 'FixTheMBTAnow', 'screen_name': 'FixTheMBTAnow', 'location': '', 'description': \"whoever's accountable for one of the largest transit systems in the world's wealthiest, most powerful nation is doing an embarrassingly bad job\", 'url': None, 'entities': {'description': {'urls': []}}, 'protected': False, 'followers_count': 469, 'friends_count': 22, 'listed_count': 13, 'created_at': 'Wed Oct 07 14:50:56 +0000 2015', 'favourites_count': 1786, 'utc_offset': None, 'time_zone': None, 'geo_enabled': True, 'verified': False, 'statuses_count': 2564, 'lang': 'en', 'contributors_enabled': False, 'is_translator': False, 'is_translation_enabled': False, 'profile_background_color': 'C0DEED', 'profile_background_image_url': 'http://abs.twimg.com/images/themes/theme1/bg.png', 'profile_background_image_url_https': 'https://abs.twimg.com/images/themes/theme1/bg.png', 'profile_background_tile': False, 'profile_image_url': 'http://pbs.twimg.com/profile_images/652330434576154624/6daRMCZX_normal.jpg', 'profile_image_url_https': 'https://pbs.twimg.com/profile_images/652330434576154624/6daRMCZX_normal.jpg', 'profile_link_color': '1DA1F2', 'profile_sidebar_border_color': 'C0DEED', 'profile_sidebar_fill_color': 'DDEEF6', 'profile_text_color': '333333', 'profile_use_background_image': True, 'has_extended_profile': False, 'default_profile': True, 'default_profile_image': False, 'following': False, 'follow_request_sent': False, 'notifications': False, 'translator_type': 'none'}, 'geo': None, 'coordinates': None, 'place': {'id': '67b98f17fdcf20be', 'url': 'https://api.twitter.com/1.1/geo/id/67b98f17fdcf20be.json', 'place_type': 'city', 'name': 'Boston', 'full_name': 'Boston, MA', 'country_code': 'US', 'country': 'United States', 'contained_within': [], 'bounding_box': {'type': 'Polygon', 'coordinates': [[[-71.191421, 42.227797], [-70.986004, 42.227797], [-70.986004, 42.399542], [-71.191421, 42.399542]]]}, 'attributes': {}}, 'contributors': None, 'is_quote_status': False, 'retweet_count': 0, 'favorite_count': 0, 'favorited': False, 'retweeted': False, 'lang': 'en'}\n",
      "{'created_at': 'Thu Nov 09 22:30:23 +0000 2017', 'id': 928751651254669313, 'id_str': '928751651254669313', 'text': '@MBTA driver on bus 0819 needs an education in how to drive. I have never been tossed around as much on a bus as I… https://t.co/zmV6WPOgqA', 'truncated': True, 'entities': {'hashtags': [], 'symbols': [], 'user_mentions': [{'screen_name': 'MBTA', 'name': 'MBTA', 'id': 150334831, 'id_str': '150334831', 'indices': [0, 5]}], 'urls': [{'url': 'https://t.co/zmV6WPOgqA', 'expanded_url': 'https://twitter.com/i/web/status/928751651254669313', 'display_url': 'twitter.com/i/web/status/9…', 'indices': [116, 139]}]}, 'metadata': {'iso_language_code': 'en', 'result_type': 'recent'}, 'source': '<a href=\"http://twitter.com/download/iphone\" rel=\"nofollow\">Twitter for iPhone</a>', 'in_reply_to_status_id': None, 'in_reply_to_status_id_str': None, 'in_reply_to_user_id': 150334831, 'in_reply_to_user_id_str': '150334831', 'in_reply_to_screen_name': 'MBTA', 'user': {'id': 17569215, 'id_str': '17569215', 'name': 'Elena Kelley', 'screen_name': '_basia', 'location': 'Bostonish ', 'description': 'College student, activist, SVU fan, tarot card reader.', 'url': None, 'entities': {'description': {'urls': []}}, 'protected': False, 'followers_count': 116, 'friends_count': 461, 'listed_count': 6, 'created_at': 'Sun Nov 23 05:02:49 +0000 2008', 'favourites_count': 171, 'utc_offset': -21600, 'time_zone': 'Central Time (US & Canada)', 'geo_enabled': False, 'verified': False, 'statuses_count': 5565, 'lang': 'en', 'contributors_enabled': False, 'is_translator': False, 'is_translation_enabled': False, 'profile_background_color': '642D8B', 'profile_background_image_url': 'http://pbs.twimg.com/profile_background_images/750697019/3922897f8110bf0e003f3e3239536b97.jpeg', 'profile_background_image_url_https': 'https://pbs.twimg.com/profile_background_images/750697019/3922897f8110bf0e003f3e3239536b97.jpeg', 'profile_background_tile': True, 'profile_image_url': 'http://pbs.twimg.com/profile_images/927515416372621312/S1JmJaVp_normal.jpg', 'profile_image_url_https': 'https://pbs.twimg.com/profile_images/927515416372621312/S1JmJaVp_normal.jpg', 'profile_banner_url': 'https://pbs.twimg.com/profile_banners/17569215/1509971883', 'profile_link_color': 'FF0000', 'profile_sidebar_border_color': 'FFFFFF', 'profile_sidebar_fill_color': '7AC3EE', 'profile_text_color': '3D1957', 'profile_use_background_image': True, 'has_extended_profile': True, 'default_profile': False, 'default_profile_image': False, 'following': False, 'follow_request_sent': False, 'notifications': False, 'translator_type': 'none'}, 'geo': None, 'coordinates': None, 'place': None, 'contributors': None, 'is_quote_status': False, 'retweet_count': 0, 'favorite_count': 0, 'favorited': False, 'retweeted': False, 'lang': 'en'}\n",
      "{'created_at': 'Thu Nov 09 22:29:57 +0000 2017', 'id': 928751543465185280, 'id_str': '928751543465185280', 'text': \"@EvanTJudd @MBTA_ADVOCATE @MBTA That's what I want to know! The lack of details from @mbta means either they don't… https://t.co/omluecEMKW\", 'truncated': True, 'entities': {'hashtags': [], 'symbols': [], 'user_mentions': [{'screen_name': 'EvanTJudd', 'name': 'Evan Judd', 'id': 49034863, 'id_str': '49034863', 'indices': [0, 10]}, {'screen_name': 'MBTA_ADVOCATE', 'name': 'MBTA ADVOCATE', 'id': 1089664446, 'id_str': '1089664446', 'indices': [11, 25]}, {'screen_name': 'MBTA', 'name': 'MBTA', 'id': 150334831, 'id_str': '150334831', 'indices': [26, 31]}, {'screen_name': 'MBTA', 'name': 'MBTA', 'id': 150334831, 'id_str': '150334831', 'indices': [85, 90]}], 'urls': [{'url': 'https://t.co/omluecEMKW', 'expanded_url': 'https://twitter.com/i/web/status/928751543465185280', 'display_url': 'twitter.com/i/web/status/9…', 'indices': [116, 139]}]}, 'metadata': {'iso_language_code': 'en', 'result_type': 'recent'}, 'source': '<a href=\"http://twitter.com/download/iphone\" rel=\"nofollow\">Twitter for iPhone</a>', 'in_reply_to_status_id': 928744008628822018, 'in_reply_to_status_id_str': '928744008628822018', 'in_reply_to_user_id': 49034863, 'in_reply_to_user_id_str': '49034863', 'in_reply_to_screen_name': 'EvanTJudd', 'user': {'id': 3890884589, 'id_str': '3890884589', 'name': 'FixTheMBTAnow', 'screen_name': 'FixTheMBTAnow', 'location': '', 'description': \"whoever's accountable for one of the largest transit systems in the world's wealthiest, most powerful nation is doing an embarrassingly bad job\", 'url': None, 'entities': {'description': {'urls': []}}, 'protected': False, 'followers_count': 469, 'friends_count': 22, 'listed_count': 13, 'created_at': 'Wed Oct 07 14:50:56 +0000 2015', 'favourites_count': 1786, 'utc_offset': None, 'time_zone': None, 'geo_enabled': True, 'verified': False, 'statuses_count': 2564, 'lang': 'en', 'contributors_enabled': False, 'is_translator': False, 'is_translation_enabled': False, 'profile_background_color': 'C0DEED', 'profile_background_image_url': 'http://abs.twimg.com/images/themes/theme1/bg.png', 'profile_background_image_url_https': 'https://abs.twimg.com/images/themes/theme1/bg.png', 'profile_background_tile': False, 'profile_image_url': 'http://pbs.twimg.com/profile_images/652330434576154624/6daRMCZX_normal.jpg', 'profile_image_url_https': 'https://pbs.twimg.com/profile_images/652330434576154624/6daRMCZX_normal.jpg', 'profile_link_color': '1DA1F2', 'profile_sidebar_border_color': 'C0DEED', 'profile_sidebar_fill_color': 'DDEEF6', 'profile_text_color': '333333', 'profile_use_background_image': True, 'has_extended_profile': False, 'default_profile': True, 'default_profile_image': False, 'following': False, 'follow_request_sent': False, 'notifications': False, 'translator_type': 'none'}, 'geo': None, 'coordinates': None, 'place': None, 'contributors': None, 'is_quote_status': False, 'retweet_count': 0, 'favorite_count': 0, 'favorited': False, 'retweeted': False, 'lang': 'en'}\n",
      "{'created_at': 'Thu Nov 09 22:28:45 +0000 2017', 'id': 928751240594501638, 'id_str': '928751240594501638', 'text': 'The silver line is a joke! Trash this POs and build a real train!!!! You should be paying people to take it! @MBTA', 'truncated': False, 'entities': {'hashtags': [], 'symbols': [], 'user_mentions': [{'screen_name': 'MBTA', 'name': 'MBTA', 'id': 150334831, 'id_str': '150334831', 'indices': [109, 114]}], 'urls': []}, 'metadata': {'iso_language_code': 'en', 'result_type': 'recent'}, 'source': '<a href=\"http://twitter.com/download/iphone\" rel=\"nofollow\">Twitter for iPhone</a>', 'in_reply_to_status_id': None, 'in_reply_to_status_id_str': None, 'in_reply_to_user_id': None, 'in_reply_to_user_id_str': None, 'in_reply_to_screen_name': None, 'user': {'id': 829497499060727809, 'id_str': '829497499060727809', 'name': 'Matt Sheehan', 'screen_name': 'MattSheehan1985', 'location': 'Boston, MA', 'description': 'Boston area born and raised. Pilot, Brother, Son, Guncle, cousin, friend. love all kinds of music, hiking, the outdoors, Boston sports and being social.', 'url': None, 'entities': {'description': {'urls': []}}, 'protected': False, 'followers_count': 20, 'friends_count': 83, 'listed_count': 0, 'created_at': 'Thu Feb 09 01:09:49 +0000 2017', 'favourites_count': 214, 'utc_offset': None, 'time_zone': None, 'geo_enabled': False, 'verified': False, 'statuses_count': 70, 'lang': 'en', 'contributors_enabled': False, 'is_translator': False, 'is_translation_enabled': False, 'profile_background_color': 'F5F8FA', 'profile_background_image_url': None, 'profile_background_image_url_https': None, 'profile_background_tile': False, 'profile_image_url': 'http://pbs.twimg.com/profile_images/829499876488704000/m9vxgSO6_normal.jpg', 'profile_image_url_https': 'https://pbs.twimg.com/profile_images/829499876488704000/m9vxgSO6_normal.jpg', 'profile_banner_url': 'https://pbs.twimg.com/profile_banners/829497499060727809/1486603816', 'profile_link_color': '1DA1F2', 'profile_sidebar_border_color': 'C0DEED', 'profile_sidebar_fill_color': 'DDEEF6', 'profile_text_color': '333333', 'profile_use_background_image': True, 'has_extended_profile': True, 'default_profile': True, 'default_profile_image': False, 'following': False, 'follow_request_sent': False, 'notifications': False, 'translator_type': 'none'}, 'geo': None, 'coordinates': None, 'place': None, 'contributors': None, 'is_quote_status': False, 'retweet_count': 0, 'favorite_count': 1, 'favorited': False, 'retweeted': False, 'lang': 'en'}\n",
      "{'created_at': 'Thu Nov 09 22:25:52 +0000 2017', 'id': 928750513373569025, 'id_str': '928750513373569025', 'text': '@MBTA what type of schedule are you doing tomorrow? is it all weekday services on all modes? or is it some weekday… https://t.co/M8lVMHku0t', 'truncated': True, 'entities': {'hashtags': [], 'symbols': [], 'user_mentions': [{'screen_name': 'MBTA', 'name': 'MBTA', 'id': 150334831, 'id_str': '150334831', 'indices': [0, 5]}], 'urls': [{'url': 'https://t.co/M8lVMHku0t', 'expanded_url': 'https://twitter.com/i/web/status/928750513373569025', 'display_url': 'twitter.com/i/web/status/9…', 'indices': [116, 139]}]}, 'metadata': {'iso_language_code': 'en', 'result_type': 'recent'}, 'source': '<a href=\"http://twitter.com\" rel=\"nofollow\">Twitter Web Client</a>', 'in_reply_to_status_id': None, 'in_reply_to_status_id_str': None, 'in_reply_to_user_id': 150334831, 'in_reply_to_user_id_str': '150334831', 'in_reply_to_screen_name': 'MBTA', 'user': {'id': 38694919, 'id_str': '38694919', 'name': 'andrw🌈', 'screen_name': 'andr_w', 'location': 'union. somerville. mass. usa', 'description': 'transport. urbanism. food. travel. IG @andr_w & @tripledeckersofnewengland Grad @sokauniv & @ucirvine RT=/=endorsements. On the board of @sua_alumni', 'url': 'https://t.co/NuFFMvBuqN', 'entities': {'url': {'urls': [{'url': 'https://t.co/NuFFMvBuqN', 'expanded_url': 'http://andr3vv.wordpress.com/', 'display_url': 'andr3vv.wordpress.com', 'indices': [0, 23]}]}, 'description': {'urls': []}}, 'protected': False, 'followers_count': 804, 'friends_count': 1187, 'listed_count': 73, 'created_at': 'Fri May 08 16:24:53 +0000 2009', 'favourites_count': 37684, 'utc_offset': -18000, 'time_zone': 'Eastern Time (US & Canada)', 'geo_enabled': True, 'verified': False, 'statuses_count': 14598, 'lang': 'en', 'contributors_enabled': False, 'is_translator': False, 'is_translation_enabled': False, 'profile_background_color': '000000', 'profile_background_image_url': 'http://abs.twimg.com/images/themes/theme3/bg.gif', 'profile_background_image_url_https': 'https://abs.twimg.com/images/themes/theme3/bg.gif', 'profile_background_tile': False, 'profile_image_url': 'http://pbs.twimg.com/profile_images/920772367235903488/Qak8Tk6h_normal.jpg', 'profile_image_url_https': 'https://pbs.twimg.com/profile_images/920772367235903488/Qak8Tk6h_normal.jpg', 'profile_banner_url': 'https://pbs.twimg.com/profile_banners/38694919/1402579222', 'profile_link_color': 'ABB8C2', 'profile_sidebar_border_color': '000000', 'profile_sidebar_fill_color': '000000', 'profile_text_color': '000000', 'profile_use_background_image': False, 'has_extended_profile': True, 'default_profile': False, 'default_profile_image': False, 'following': False, 'follow_request_sent': False, 'notifications': False, 'translator_type': 'none'}, 'geo': None, 'coordinates': None, 'place': {'id': 'b2e4e65d7b80d2c1', 'url': 'https://api.twitter.com/1.1/geo/id/b2e4e65d7b80d2c1.json', 'place_type': 'city', 'name': 'Fort Collins', 'full_name': 'Fort Collins, CO', 'country_code': 'US', 'country': 'United States', 'contained_within': [], 'bounding_box': {'type': 'Polygon', 'coordinates': [[[-105.148074, 40.47168], [-104.979811, 40.47168], [-104.979811, 40.656701], [-105.148074, 40.656701]]]}, 'attributes': {}}, 'contributors': None, 'is_quote_status': False, 'retweet_count': 0, 'favorite_count': 0, 'favorited': False, 'retweeted': False, 'lang': 'en'}\n",
      "{'created_at': 'Thu Nov 09 22:24:32 +0000 2017', 'id': 928750177585950721, 'id_str': '928750177585950721', 'text': 'RT @MBTA: #MBTA #RedLine: Shuttle buses replace train service between North Quincy &amp; Braintree, Sunday – Thursday nights (9:00 PM - end of…', 'truncated': False, 'entities': {'hashtags': [{'text': 'MBTA', 'indices': [10, 15]}, {'text': 'RedLine', 'indices': [16, 24]}], 'symbols': [], 'user_mentions': [{'screen_name': 'MBTA', 'name': 'MBTA', 'id': 150334831, 'id_str': '150334831', 'indices': [3, 8]}], 'urls': []}, 'metadata': {'iso_language_code': 'en', 'result_type': 'recent'}, 'source': '<a href=\"http://twitter.com/download/iphone\" rel=\"nofollow\">Twitter for iPhone</a>', 'in_reply_to_status_id': None, 'in_reply_to_status_id_str': None, 'in_reply_to_user_id': None, 'in_reply_to_user_id_str': None, 'in_reply_to_screen_name': None, 'user': {'id': 337798064, 'id_str': '337798064', 'name': 'John F. Keenan', 'screen_name': 'SenJohnFKeenan', 'location': '', 'description': 'Massachusetts State Senator - Norfolk and Plymouth District. Chairman of Senate Committee on Bonding and Capital Assets', 'url': 'http://t.co/YrBpiSImzv', 'entities': {'url': {'urls': [{'url': 'http://t.co/YrBpiSImzv', 'expanded_url': 'http://www.senatorjohnkeenan.com', 'display_url': 'senatorjohnkeenan.com', 'indices': [0, 22]}]}, 'description': {'urls': []}}, 'protected': False, 'followers_count': 3209, 'friends_count': 378, 'listed_count': 97, 'created_at': 'Mon Jul 18 16:02:31 +0000 2011', 'favourites_count': 119, 'utc_offset': -18000, 'time_zone': 'Eastern Time (US & Canada)', 'geo_enabled': True, 'verified': False, 'statuses_count': 1721, 'lang': 'en', 'contributors_enabled': False, 'is_translator': False, 'is_translation_enabled': False, 'profile_background_color': 'C2E1F0', 'profile_background_image_url': 'http://abs.twimg.com/images/themes/theme1/bg.png', 'profile_background_image_url_https': 'https://abs.twimg.com/images/themes/theme1/bg.png', 'profile_background_tile': False, 'profile_image_url': 'http://pbs.twimg.com/profile_images/560817768203681792/bxOLi-81_normal.jpeg', 'profile_image_url_https': 'https://pbs.twimg.com/profile_images/560817768203681792/bxOLi-81_normal.jpeg', 'profile_banner_url': 'https://pbs.twimg.com/profile_banners/337798064/1422844280', 'profile_link_color': 'C2E1F0', 'profile_sidebar_border_color': 'FFFFFF', 'profile_sidebar_fill_color': 'DDEEF6', 'profile_text_color': '333333', 'profile_use_background_image': True, 'has_extended_profile': False, 'default_profile': False, 'default_profile_image': False, 'following': False, 'follow_request_sent': False, 'notifications': False, 'translator_type': 'none'}, 'geo': None, 'coordinates': None, 'place': None, 'contributors': None, 'retweeted_status': {'created_at': 'Thu Nov 09 03:56:31 +0000 2017', 'id': 928471336527302656, 'id_str': '928471336527302656', 'text': '#MBTA #RedLine: Shuttle buses replace train service between North Quincy &amp; Braintree, Sunday – Thursday nights (9:0… https://t.co/onhCBQClu0', 'truncated': True, 'entities': {'hashtags': [{'text': 'MBTA', 'indices': [0, 5]}, {'text': 'RedLine', 'indices': [6, 14]}], 'symbols': [], 'user_mentions': [], 'urls': [{'url': 'https://t.co/onhCBQClu0', 'expanded_url': 'https://twitter.com/i/web/status/928471336527302656', 'display_url': 'twitter.com/i/web/status/9…', 'indices': [121, 144]}]}, 'metadata': {'iso_language_code': 'en', 'result_type': 'recent'}, 'source': '<a href=\"https://about.twitter.com/products/tweetdeck\" rel=\"nofollow\">TweetDeck</a>', 'in_reply_to_status_id': None, 'in_reply_to_status_id_str': None, 'in_reply_to_user_id': None, 'in_reply_to_user_id_str': None, 'in_reply_to_screen_name': None, 'user': {'id': 150334831, 'id_str': '150334831', 'name': 'MBTA', 'screen_name': 'MBTA', 'location': 'Boston, MA', 'description': 'The Official Twitter feed of the Massachusetts Bay Transportation Authority (MBTA). Check out our partners @MBTA_CR and @MBTATransitPD.', 'url': 'http://t.co/VFYjwKfjQS', 'entities': {'url': {'urls': [{'url': 'http://t.co/VFYjwKfjQS', 'expanded_url': 'http://www.mbta.com', 'display_url': 'mbta.com', 'indices': [0, 22]}]}, 'description': {'urls': []}}, 'protected': False, 'followers_count': 293185, 'friends_count': 11708, 'listed_count': 1875, 'created_at': 'Mon May 31 17:36:40 +0000 2010', 'favourites_count': 6353, 'utc_offset': -14400, 'time_zone': 'Atlantic Time (Canada)', 'geo_enabled': True, 'verified': True, 'statuses_count': 98811, 'lang': 'en', 'contributors_enabled': False, 'is_translator': False, 'is_translation_enabled': False, 'profile_background_color': 'C0DEED', 'profile_background_image_url': 'http://pbs.twimg.com/profile_background_images/690653957505417216/bfbl1G--.png', 'profile_background_image_url_https': 'https://pbs.twimg.com/profile_background_images/690653957505417216/bfbl1G--.png', 'profile_background_tile': True, 'profile_image_url': 'http://pbs.twimg.com/profile_images/690654661141868544/TiQrBJJ4_normal.png', 'profile_image_url_https': 'https://pbs.twimg.com/profile_images/690654661141868544/TiQrBJJ4_normal.png', 'profile_banner_url': 'https://pbs.twimg.com/profile_banners/150334831/1458741752', 'profile_link_color': '0084B4', 'profile_sidebar_border_color': 'C0DEED', 'profile_sidebar_fill_color': 'DDEEF6', 'profile_text_color': '333333', 'profile_use_background_image': True, 'has_extended_profile': False, 'default_profile': False, 'default_profile_image': False, 'following': False, 'follow_request_sent': False, 'notifications': False, 'translator_type': 'regular'}, 'geo': None, 'coordinates': None, 'place': None, 'contributors': None, 'is_quote_status': False, 'retweet_count': 6, 'favorite_count': 3, 'favorited': False, 'retweeted': False, 'possibly_sensitive': False, 'lang': 'en'}, 'is_quote_status': False, 'retweet_count': 6, 'favorite_count': 0, 'favorited': False, 'retweeted': False, 'lang': 'en'}\n",
      "{'created_at': 'Thu Nov 09 22:24:27 +0000 2017', 'id': 928750156568285185, 'id_str': '928750156568285185', 'text': '@MBTA No. It was packed', 'truncated': False, 'entities': {'hashtags': [], 'symbols': [], 'user_mentions': [{'screen_name': 'MBTA', 'name': 'MBTA', 'id': 150334831, 'id_str': '150334831', 'indices': [0, 5]}], 'urls': []}, 'metadata': {'iso_language_code': 'en', 'result_type': 'recent'}, 'source': '<a href=\"http://twitter.com/download/android\" rel=\"nofollow\">Twitter for Android</a>', 'in_reply_to_status_id': 928744277982793733, 'in_reply_to_status_id_str': '928744277982793733', 'in_reply_to_user_id': 150334831, 'in_reply_to_user_id_str': '150334831', 'in_reply_to_screen_name': 'MBTA', 'user': {'id': 3027580066, 'id_str': '3027580066', 'name': 'Em', 'screen_name': 'eantunes17', 'location': '', 'description': \"BU '21\", 'url': 'https://t.co/YShKbIID7b', 'entities': {'url': {'urls': [{'url': 'https://t.co/YShKbIID7b', 'expanded_url': 'http://vsco.co/eantunes782', 'display_url': 'vsco.co/eantunes782', 'indices': [0, 23]}]}, 'description': {'urls': []}}, 'protected': False, 'followers_count': 96, 'friends_count': 122, 'listed_count': 0, 'created_at': 'Tue Feb 10 02:34:31 +0000 2015', 'favourites_count': 248, 'utc_offset': None, 'time_zone': None, 'geo_enabled': False, 'verified': False, 'statuses_count': 836, 'lang': 'en', 'contributors_enabled': False, 'is_translator': False, 'is_translation_enabled': False, 'profile_background_color': 'C0DEED', 'profile_background_image_url': 'http://abs.twimg.com/images/themes/theme1/bg.png', 'profile_background_image_url_https': 'https://abs.twimg.com/images/themes/theme1/bg.png', 'profile_background_tile': False, 'profile_image_url': 'http://pbs.twimg.com/profile_images/833768052680306688/nbH_SOf7_normal.jpg', 'profile_image_url_https': 'https://pbs.twimg.com/profile_images/833768052680306688/nbH_SOf7_normal.jpg', 'profile_banner_url': 'https://pbs.twimg.com/profile_banners/3027580066/1436918013', 'profile_link_color': '1DA1F2', 'profile_sidebar_border_color': 'C0DEED', 'profile_sidebar_fill_color': 'DDEEF6', 'profile_text_color': '333333', 'profile_use_background_image': True, 'has_extended_profile': True, 'default_profile': True, 'default_profile_image': False, 'following': False, 'follow_request_sent': False, 'notifications': False, 'translator_type': 'none'}, 'geo': None, 'coordinates': None, 'place': None, 'contributors': None, 'is_quote_status': False, 'retweet_count': 0, 'favorite_count': 0, 'favorited': False, 'retweeted': False, 'lang': 'en'}\n"
     ]
    }
   ],
   "source": [
    "\"%a %b %d %H:%M:%S %z %Y\"\n",
    "\n",
    "api.request(\"statuses/filter\", {\"track\": \"@MBTA\"})\n",
    "for item in r:\n",
    "    print(item)"
   ]
  },
  {
   "cell_type": "code",
   "execution_count": 0,
   "metadata": {
    "colab": {
     "autoexec": {
      "startup": false,
      "wait_interval": 0
     }
    },
    "colab_type": "code",
    "id": "TiJ1Goa354-Q",
    "outputId": "01fa1b21-7d59-4482-a719-496376efe25a"
   },
   "outputs": [
    {
     "data": {
      "text/plain": [
       "datetime.datetime(2017, 11, 9, 22, 42, 25, tzinfo=datetime.timezone.utc)"
      ]
     },
     "execution_count": 38,
     "metadata": {
      "tags": []
     },
     "output_type": "execute_result"
    }
   ],
   "source": [
    "datetime.strptime(\"Thu Nov 09 22:42:25 -0000 2017\", \"%a %b %d %H:%M:%S %z %Y\"\n",
    "                 )"
   ]
  },
  {
   "cell_type": "code",
   "execution_count": 0,
   "metadata": {
    "colab": {
     "autoexec": {
      "startup": false,
      "wait_interval": 0
     }
    },
    "colab_type": "code",
    "id": "ElNfh8ZB54-S",
    "outputId": "00097275-f167-4cee-fe5c-e3dc40b641e3"
   },
   "outputs": [
    {
     "name": "stdout",
     "output_type": "stream",
     "text": [
      "Help on package pytz:\n",
      "\n",
      "NAME\n",
      "    pytz\n",
      "\n",
      "DESCRIPTION\n",
      "    datetime.tzinfo timezone definitions generated from the\n",
      "    Olson timezone database:\n",
      "    \n",
      "        ftp://elsie.nci.nih.gov/pub/tz*.tar.gz\n",
      "    \n",
      "    See the datetime section of the Python Library Reference for information\n",
      "    on how to use these modules.\n",
      "\n",
      "PACKAGE CONTENTS\n",
      "    exceptions\n",
      "    lazy\n",
      "    reference\n",
      "    tzfile\n",
      "    tzinfo\n",
      "\n",
      "CLASSES\n",
      "    builtins.Exception(builtins.BaseException)\n",
      "        pytz.exceptions.InvalidTimeError\n",
      "            pytz.exceptions.AmbiguousTimeError\n",
      "            pytz.exceptions.NonExistentTimeError\n",
      "    builtins.KeyError(builtins.LookupError)\n",
      "        pytz.exceptions.UnknownTimeZoneError\n",
      "    \n",
      "    class AmbiguousTimeError(InvalidTimeError)\n",
      "     |  Exception raised when attempting to create an ambiguous wallclock time.\n",
      "     |  \n",
      "     |  At the end of a DST transition period, a particular wallclock time will\n",
      "     |  occur twice (once before the clocks are set back, once after). Both\n",
      "     |  possibilities may be correct, unless further information is supplied.\n",
      "     |  \n",
      "     |  See DstTzInfo.normalize() for more info\n",
      "     |  \n",
      "     |  Method resolution order:\n",
      "     |      AmbiguousTimeError\n",
      "     |      InvalidTimeError\n",
      "     |      builtins.Exception\n",
      "     |      builtins.BaseException\n",
      "     |      builtins.object\n",
      "     |  \n",
      "     |  Data descriptors inherited from InvalidTimeError:\n",
      "     |  \n",
      "     |  __weakref__\n",
      "     |      list of weak references to the object (if defined)\n",
      "     |  \n",
      "     |  ----------------------------------------------------------------------\n",
      "     |  Methods inherited from builtins.Exception:\n",
      "     |  \n",
      "     |  __init__(self, /, *args, **kwargs)\n",
      "     |      Initialize self.  See help(type(self)) for accurate signature.\n",
      "     |  \n",
      "     |  __new__(*args, **kwargs) from builtins.type\n",
      "     |      Create and return a new object.  See help(type) for accurate signature.\n",
      "     |  \n",
      "     |  ----------------------------------------------------------------------\n",
      "     |  Methods inherited from builtins.BaseException:\n",
      "     |  \n",
      "     |  __delattr__(self, name, /)\n",
      "     |      Implement delattr(self, name).\n",
      "     |  \n",
      "     |  __getattribute__(self, name, /)\n",
      "     |      Return getattr(self, name).\n",
      "     |  \n",
      "     |  __reduce__(...)\n",
      "     |      helper for pickle\n",
      "     |  \n",
      "     |  __repr__(self, /)\n",
      "     |      Return repr(self).\n",
      "     |  \n",
      "     |  __setattr__(self, name, value, /)\n",
      "     |      Implement setattr(self, name, value).\n",
      "     |  \n",
      "     |  __setstate__(...)\n",
      "     |  \n",
      "     |  __str__(self, /)\n",
      "     |      Return str(self).\n",
      "     |  \n",
      "     |  with_traceback(...)\n",
      "     |      Exception.with_traceback(tb) --\n",
      "     |      set self.__traceback__ to tb and return self.\n",
      "     |  \n",
      "     |  ----------------------------------------------------------------------\n",
      "     |  Data descriptors inherited from builtins.BaseException:\n",
      "     |  \n",
      "     |  __cause__\n",
      "     |      exception cause\n",
      "     |  \n",
      "     |  __context__\n",
      "     |      exception context\n",
      "     |  \n",
      "     |  __dict__\n",
      "     |  \n",
      "     |  __suppress_context__\n",
      "     |  \n",
      "     |  __traceback__\n",
      "     |  \n",
      "     |  args\n",
      "    \n",
      "    class InvalidTimeError(builtins.Exception)\n",
      "     |  Base class for invalid time exceptions.\n",
      "     |  \n",
      "     |  Method resolution order:\n",
      "     |      InvalidTimeError\n",
      "     |      builtins.Exception\n",
      "     |      builtins.BaseException\n",
      "     |      builtins.object\n",
      "     |  \n",
      "     |  Data descriptors defined here:\n",
      "     |  \n",
      "     |  __weakref__\n",
      "     |      list of weak references to the object (if defined)\n",
      "     |  \n",
      "     |  ----------------------------------------------------------------------\n",
      "     |  Methods inherited from builtins.Exception:\n",
      "     |  \n",
      "     |  __init__(self, /, *args, **kwargs)\n",
      "     |      Initialize self.  See help(type(self)) for accurate signature.\n",
      "     |  \n",
      "     |  __new__(*args, **kwargs) from builtins.type\n",
      "     |      Create and return a new object.  See help(type) for accurate signature.\n",
      "     |  \n",
      "     |  ----------------------------------------------------------------------\n",
      "     |  Methods inherited from builtins.BaseException:\n",
      "     |  \n",
      "     |  __delattr__(self, name, /)\n",
      "     |      Implement delattr(self, name).\n",
      "     |  \n",
      "     |  __getattribute__(self, name, /)\n",
      "     |      Return getattr(self, name).\n",
      "     |  \n",
      "     |  __reduce__(...)\n",
      "     |      helper for pickle\n",
      "     |  \n",
      "     |  __repr__(self, /)\n",
      "     |      Return repr(self).\n",
      "     |  \n",
      "     |  __setattr__(self, name, value, /)\n",
      "     |      Implement setattr(self, name, value).\n",
      "     |  \n",
      "     |  __setstate__(...)\n",
      "     |  \n",
      "     |  __str__(self, /)\n",
      "     |      Return str(self).\n",
      "     |  \n",
      "     |  with_traceback(...)\n",
      "     |      Exception.with_traceback(tb) --\n",
      "     |      set self.__traceback__ to tb and return self.\n",
      "     |  \n",
      "     |  ----------------------------------------------------------------------\n",
      "     |  Data descriptors inherited from builtins.BaseException:\n",
      "     |  \n",
      "     |  __cause__\n",
      "     |      exception cause\n",
      "     |  \n",
      "     |  __context__\n",
      "     |      exception context\n",
      "     |  \n",
      "     |  __dict__\n",
      "     |  \n",
      "     |  __suppress_context__\n",
      "     |  \n",
      "     |  __traceback__\n",
      "     |  \n",
      "     |  args\n",
      "    \n",
      "    class NonExistentTimeError(InvalidTimeError)\n",
      "     |  Exception raised when attempting to create a wallclock time that\n",
      "     |  cannot exist.\n",
      "     |  \n",
      "     |  At the start of a DST transition period, the wallclock time jumps forward.\n",
      "     |  The instants jumped over never occur.\n",
      "     |  \n",
      "     |  Method resolution order:\n",
      "     |      NonExistentTimeError\n",
      "     |      InvalidTimeError\n",
      "     |      builtins.Exception\n",
      "     |      builtins.BaseException\n",
      "     |      builtins.object\n",
      "     |  \n",
      "     |  Data descriptors inherited from InvalidTimeError:\n",
      "     |  \n",
      "     |  __weakref__\n",
      "     |      list of weak references to the object (if defined)\n",
      "     |  \n",
      "     |  ----------------------------------------------------------------------\n",
      "     |  Methods inherited from builtins.Exception:\n",
      "     |  \n",
      "     |  __init__(self, /, *args, **kwargs)\n",
      "     |      Initialize self.  See help(type(self)) for accurate signature.\n",
      "     |  \n",
      "     |  __new__(*args, **kwargs) from builtins.type\n",
      "     |      Create and return a new object.  See help(type) for accurate signature.\n",
      "     |  \n",
      "     |  ----------------------------------------------------------------------\n",
      "     |  Methods inherited from builtins.BaseException:\n",
      "     |  \n",
      "     |  __delattr__(self, name, /)\n",
      "     |      Implement delattr(self, name).\n",
      "     |  \n",
      "     |  __getattribute__(self, name, /)\n",
      "     |      Return getattr(self, name).\n",
      "     |  \n",
      "     |  __reduce__(...)\n",
      "     |      helper for pickle\n",
      "     |  \n",
      "     |  __repr__(self, /)\n",
      "     |      Return repr(self).\n",
      "     |  \n",
      "     |  __setattr__(self, name, value, /)\n",
      "     |      Implement setattr(self, name, value).\n",
      "     |  \n",
      "     |  __setstate__(...)\n",
      "     |  \n",
      "     |  __str__(self, /)\n",
      "     |      Return str(self).\n",
      "     |  \n",
      "     |  with_traceback(...)\n",
      "     |      Exception.with_traceback(tb) --\n",
      "     |      set self.__traceback__ to tb and return self.\n",
      "     |  \n",
      "     |  ----------------------------------------------------------------------\n",
      "     |  Data descriptors inherited from builtins.BaseException:\n",
      "     |  \n",
      "     |  __cause__\n",
      "     |      exception cause\n",
      "     |  \n",
      "     |  __context__\n",
      "     |      exception context\n",
      "     |  \n",
      "     |  __dict__\n",
      "     |  \n",
      "     |  __suppress_context__\n",
      "     |  \n",
      "     |  __traceback__\n",
      "     |  \n",
      "     |  args\n",
      "    \n",
      "    class UnknownTimeZoneError(builtins.KeyError)\n",
      "     |  Exception raised when pytz is passed an unknown timezone.\n",
      "     |  \n",
      "     |  >>> isinstance(UnknownTimeZoneError(), LookupError)\n",
      "     |  True\n",
      "     |  \n",
      "     |  This class is actually a subclass of KeyError to provide backwards\n",
      "     |  compatibility with code relying on the undocumented behavior of earlier\n",
      "     |  pytz releases.\n",
      "     |  \n",
      "     |  >>> isinstance(UnknownTimeZoneError(), KeyError)\n",
      "     |  True\n",
      "     |  \n",
      "     |  Method resolution order:\n",
      "     |      UnknownTimeZoneError\n",
      "     |      builtins.KeyError\n",
      "     |      builtins.LookupError\n",
      "     |      builtins.Exception\n",
      "     |      builtins.BaseException\n",
      "     |      builtins.object\n",
      "     |  \n",
      "     |  Data descriptors defined here:\n",
      "     |  \n",
      "     |  __weakref__\n",
      "     |      list of weak references to the object (if defined)\n",
      "     |  \n",
      "     |  ----------------------------------------------------------------------\n",
      "     |  Methods inherited from builtins.KeyError:\n",
      "     |  \n",
      "     |  __init__(self, /, *args, **kwargs)\n",
      "     |      Initialize self.  See help(type(self)) for accurate signature.\n",
      "     |  \n",
      "     |  __str__(self, /)\n",
      "     |      Return str(self).\n",
      "     |  \n",
      "     |  ----------------------------------------------------------------------\n",
      "     |  Methods inherited from builtins.LookupError:\n",
      "     |  \n",
      "     |  __new__(*args, **kwargs) from builtins.type\n",
      "     |      Create and return a new object.  See help(type) for accurate signature.\n",
      "     |  \n",
      "     |  ----------------------------------------------------------------------\n",
      "     |  Methods inherited from builtins.BaseException:\n",
      "     |  \n",
      "     |  __delattr__(self, name, /)\n",
      "     |      Implement delattr(self, name).\n",
      "     |  \n",
      "     |  __getattribute__(self, name, /)\n",
      "     |      Return getattr(self, name).\n",
      "     |  \n",
      "     |  __reduce__(...)\n",
      "     |      helper for pickle\n",
      "     |  \n",
      "     |  __repr__(self, /)\n",
      "     |      Return repr(self).\n",
      "     |  \n",
      "     |  __setattr__(self, name, value, /)\n",
      "     |      Implement setattr(self, name, value).\n",
      "     |  \n",
      "     |  __setstate__(...)\n",
      "     |  \n",
      "     |  with_traceback(...)\n",
      "     |      Exception.with_traceback(tb) --\n",
      "     |      set self.__traceback__ to tb and return self.\n",
      "     |  \n",
      "     |  ----------------------------------------------------------------------\n",
      "     |  Data descriptors inherited from builtins.BaseException:\n",
      "     |  \n",
      "     |  __cause__\n",
      "     |      exception cause\n",
      "     |  \n",
      "     |  __context__\n",
      "     |      exception context\n",
      "     |  \n",
      "     |  __dict__\n",
      "     |  \n",
      "     |  __suppress_context__\n",
      "     |  \n",
      "     |  __traceback__\n",
      "     |  \n",
      "     |  args\n",
      "\n",
      "FUNCTIONS\n",
      "    timezone(zone)\n",
      "        Return a datetime.tzinfo implementation for the given timezone\n",
      "        \n",
      "        >>> from datetime import datetime, timedelta\n",
      "        >>> utc = timezone('UTC')\n",
      "        >>> eastern = timezone('US/Eastern')\n",
      "        >>> eastern.zone\n",
      "        'US/Eastern'\n",
      "        >>> timezone(unicode('US/Eastern')) is eastern\n",
      "        True\n",
      "        >>> utc_dt = datetime(2002, 10, 27, 6, 0, 0, tzinfo=utc)\n",
      "        >>> loc_dt = utc_dt.astimezone(eastern)\n",
      "        >>> fmt = '%Y-%m-%d %H:%M:%S %Z (%z)'\n",
      "        >>> loc_dt.strftime(fmt)\n",
      "        '2002-10-27 01:00:00 EST (-0500)'\n",
      "        >>> (loc_dt - timedelta(minutes=10)).strftime(fmt)\n",
      "        '2002-10-27 00:50:00 EST (-0500)'\n",
      "        >>> eastern.normalize(loc_dt - timedelta(minutes=10)).strftime(fmt)\n",
      "        '2002-10-27 01:50:00 EDT (-0400)'\n",
      "        >>> (loc_dt + timedelta(minutes=10)).strftime(fmt)\n",
      "        '2002-10-27 01:10:00 EST (-0500)'\n",
      "        \n",
      "        Raises UnknownTimeZoneError if passed an unknown zone.\n",
      "        \n",
      "        >>> try:\n",
      "        ...     timezone('Asia/Shangri-La')\n",
      "        ... except UnknownTimeZoneError:\n",
      "        ...     print('Unknown')\n",
      "        Unknown\n",
      "        \n",
      "        >>> try:\n",
      "        ...     timezone(unicode('\\N{TRADE MARK SIGN}'))\n",
      "        ... except UnknownTimeZoneError:\n",
      "        ...     print('Unknown')\n",
      "        Unknown\n",
      "\n",
      "DATA\n",
      "    __all__ = ['timezone', 'utc', 'country_timezones', 'country_names', 'A...\n",
      "    all_timezones = ['Africa/Abidjan', 'Africa/Accra', 'Africa/Addis...amo...\n",
      "    all_timezones_set = LazySet({'Atlantic/Faroe', 'Asia/Qatar', 'Africa.....\n",
      "    common_timezones = ['Africa/Abidjan', 'Africa/Accra', 'Africa/Addis......\n",
      "    common_timezones_set = LazySet({'Atlantic/Faroe', 'Asia/Qatar', 'Afric...\n",
      "    country_names = <pytz._CountryNameDict object>\n",
      "    country_timezones = <pytz._CountryTimezoneDict object>\n",
      "    utc = <UTC>\n",
      "\n",
      "VERSION\n",
      "    2017.2\n",
      "\n",
      "FILE\n",
      "    /Users/brian/anaconda/lib/python3.6/site-packages/pytz/__init__.py\n",
      "\n",
      "\n"
     ]
    }
   ],
   "source": [
    "import pytz\n",
    "help(pytz)"
   ]
  }
 ],
 "metadata": {
  "colab": {
   "collapsed_sections": [],
   "default_view": {},
   "name": "MBTA Data.ipynb",
   "provenance": [],
   "version": "0.3.2",
   "views": {}
  },
  "kernelspec": {
   "display_name": "Python 3",
   "language": "python",
   "name": "python3"
  },
  "language_info": {
   "codemirror_mode": {
    "name": "ipython",
    "version": 3
   },
   "file_extension": ".py",
   "mimetype": "text/x-python",
   "name": "python",
   "nbconvert_exporter": "python",
   "pygments_lexer": "ipython3",
   "version": "3.6.3"
  }
 },
 "nbformat": 4,
 "nbformat_minor": 1
}
